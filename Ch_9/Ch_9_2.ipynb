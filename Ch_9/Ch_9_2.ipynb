{
 "cells": [
  {
   "cell_type": "code",
   "execution_count": 1,
   "metadata": {},
   "outputs": [],
   "source": [
    "import numpy as np\n",
    "from scipy.linalg import lu\n",
    "from random import random"
   ]
  },
  {
   "cell_type": "code",
   "execution_count": 2,
   "metadata": {},
   "outputs": [],
   "source": [
    "pi = np.pi\n",
    "arcsin = np.arcsin"
   ]
  },
  {
   "cell_type": "markdown",
   "metadata": {},
   "source": [
    "# Chapter 9<br>Random Numbers and Applications"
   ]
  },
  {
   "cell_type": "markdown",
   "metadata": {},
   "source": [
    "## 9.2 Monte Carlo Simulation"
   ]
  },
  {
   "cell_type": "code",
   "execution_count": 3,
   "metadata": {},
   "outputs": [],
   "source": [
    "def halton(p, n):\n",
    "    num = 0\n",
    "    i = 1\n",
    "    while n > 0:\n",
    "        num += (n % p)/p**i\n",
    "        n //= p\n",
    "        i += 1\n",
    "    \n",
    "    return num"
   ]
  },
  {
   "cell_type": "markdown",
   "metadata": {},
   "source": [
    "### Q. 1"
   ]
  },
  {
   "cell_type": "code",
   "execution_count": 4,
   "metadata": {},
   "outputs": [],
   "source": [
    "# (a)"
   ]
  },
  {
   "cell_type": "markdown",
   "metadata": {},
   "source": [
    "Exact area $: \\frac{1}{3}$."
   ]
  },
  {
   "cell_type": "code",
   "execution_count": 5,
   "metadata": {},
   "outputs": [
    {
     "name": "stdout",
     "output_type": "stream",
     "text": [
      "n = 10**2 / Area: 0.3328857422\n",
      "n = 10**3 / Area: 0.3333457489\n",
      "n = 10**4 / Area: 0.3333319515\n",
      "n = 10**5 / Area: 0.3333333147\n"
     ]
    }
   ],
   "source": [
    "# (b)\n",
    "for k in range(2, 6):\n",
    "    n = 10**k\n",
    "    area = 0\n",
    "    \n",
    "    for i in range(n):\n",
    "        x = halton(2, i)\n",
    "        area += -2*x**2 + 2*x\n",
    "    area /= n\n",
    "    \n",
    "    print(\"n = 10**%d / Area: %.10f\" % (k, area))"
   ]
  },
  {
   "cell_type": "code",
   "execution_count": 6,
   "metadata": {
    "scrolled": true
   },
   "outputs": [
    {
     "name": "stdout",
     "output_type": "stream",
     "text": [
      "n = 10**2 / Area: 0.3400000000\n",
      "n = 10**3 / Area: 0.3330000000\n",
      "n = 10**4 / Area: 0.3339000000\n",
      "n = 10**5 / Area: 0.3333800000\n"
     ]
    }
   ],
   "source": [
    "# (c)\n",
    "for k in range(2, 6):\n",
    "    n = 10**k\n",
    "    area = 0\n",
    "\n",
    "    for i in range(n):\n",
    "        x = halton(2, i)\n",
    "        y = halton(3, i)\n",
    "\n",
    "        if x**2 - x + 1/2 < y and -x**2 + x + 1/2 > y:\n",
    "            area += 1\n",
    "    area /= n\n",
    "    \n",
    "    print(\"n = 10**%d / Area: %.10f\" % (k, area))"
   ]
  },
  {
   "cell_type": "markdown",
   "metadata": {},
   "source": [
    "Type 1 Monte Carlo converges slightly faster than Type 2. Moreover Type 1 begins with more accurate estimate."
   ]
  },
  {
   "cell_type": "markdown",
   "metadata": {},
   "source": [
    "### Q. 2"
   ]
  },
  {
   "cell_type": "code",
   "execution_count": 7,
   "metadata": {},
   "outputs": [],
   "source": [
    "# (a)"
   ]
  },
  {
   "cell_type": "markdown",
   "metadata": {},
   "source": [
    "Exact area $: \\frac{5}{12}$."
   ]
  },
  {
   "cell_type": "code",
   "execution_count": 8,
   "metadata": {},
   "outputs": [
    {
     "name": "stdout",
     "output_type": "stream",
     "text": [
      "n = 10**2 / Area: 0.4160851479\n",
      "n = 10**3 / Area: 0.4166814329\n",
      "n = 10**4 / Area: 0.4166649302\n",
      "n = 10**5 / Area: 0.4166666428\n"
     ]
    }
   ],
   "source": [
    "# (b)\n",
    "for k in range(2, 6):\n",
    "    n = 10**k\n",
    "    area = 0\n",
    "    \n",
    "    for i in range(n):\n",
    "        x = halton(2, i)\n",
    "        area += 2*x - x**2 - x**3\n",
    "    area /= n\n",
    "    \n",
    "    print(\"n = 10**%d / Area: %.10f\" % (k, area))"
   ]
  },
  {
   "cell_type": "code",
   "execution_count": 9,
   "metadata": {
    "scrolled": false
   },
   "outputs": [
    {
     "name": "stdout",
     "output_type": "stream",
     "text": [
      "n = 10**2 / Area: 0.4200000000\n",
      "n = 10**3 / Area: 0.4160000000\n",
      "n = 10**4 / Area: 0.4166000000\n",
      "n = 10**5 / Area: 0.4163700000\n"
     ]
    }
   ],
   "source": [
    "# (c)\n",
    "for k in range(2, 6):\n",
    "    n = 10**k\n",
    "    area = 0\n",
    "\n",
    "    for i in range(n):\n",
    "        x = halton(2, i)\n",
    "        y = halton(3, i)\n",
    "\n",
    "        if x**3 < y and 2*x - x**2 > y:\n",
    "            area += 1\n",
    "    area /= n\n",
    "    \n",
    "    print(\"n = 10**%d / Area: %.10f\" % (k, area))"
   ]
  },
  {
   "cell_type": "markdown",
   "metadata": {},
   "source": [
    "Type 1 Monte Carlo converges slightly faster than Type 2. Moreover Type 1 begins with more accurate estimate."
   ]
  },
  {
   "cell_type": "markdown",
   "metadata": {},
   "source": [
    "### Q. 3"
   ]
  },
  {
   "cell_type": "code",
   "execution_count": 10,
   "metadata": {},
   "outputs": [
    {
     "name": "stdout",
     "output_type": "stream",
     "text": [
      "n = 10**4 / Area: 0.5232000000 / Error: 0.0003987756\n",
      "n = 10**5 / Area: 0.5239600000 / Error: 0.0003612244\n"
     ]
    }
   ],
   "source": [
    "# (a)\n",
    "exact_area = pi/6\n",
    "\n",
    "for k in range(4, 6):\n",
    "    n = 10**k\n",
    "    area = 0\n",
    "\n",
    "    for i in range(n):\n",
    "        x = 2*halton(2, i) - 1\n",
    "        y = 2*halton(3, i) - 1\n",
    "\n",
    "        if 13*x**2 + 34*x*y + 25*y**2 <= 1:\n",
    "            area += 1\n",
    "    area *= 4/n\n",
    "    \n",
    "    print(\"n = 10**%d / Area: %.10f / Error: %.10f\" % (k, area, abs(area - exact_area)))"
   ]
  },
  {
   "cell_type": "code",
   "execution_count": 11,
   "metadata": {},
   "outputs": [
    {
     "name": "stdout",
     "output_type": "stream",
     "text": [
      "n = 10**4 / Area: 0.1743000000 / Error: 0.0002329252\n",
      "n = 10**5 / Area: 0.1745500000 / Error: 0.0000170748\n"
     ]
    }
   ],
   "source": [
    "# (b)\n",
    "exact_area = pi/18\n",
    "\n",
    "for k in range(4, 6):\n",
    "    n = 10**k\n",
    "    area = 0\n",
    "\n",
    "    for i in range(n):\n",
    "        x = halton(2, i)\n",
    "        y = halton(3, i)\n",
    "\n",
    "        if 40*x**2 + 25*y**2 + y + 9/4 <= 52*x*y + 14*x:\n",
    "            area += 1\n",
    "    area /= n\n",
    "    \n",
    "    print(\"n = 10**%d / Area: %.10f / Error: %.10f\" % (k, area, abs(area - exact_area)))"
   ]
  },
  {
   "cell_type": "markdown",
   "metadata": {},
   "source": [
    "### Q. 4"
   ]
  },
  {
   "cell_type": "code",
   "execution_count": 12,
   "metadata": {},
   "outputs": [
    {
     "name": "stdout",
     "output_type": "stream",
     "text": [
      "n = 10**4 / Area: 0.1317000000 / Error: 0.0008003061\n",
      "n = 10**5 / Area: 0.1309300000 / Error: 0.0000303061\n"
     ]
    }
   ],
   "source": [
    "# (b)\n",
    "exact_area = pi/24\n",
    "\n",
    "for k in range(4, 6):\n",
    "    n = 10**k\n",
    "    area = 0\n",
    "\n",
    "    for i in range(n):\n",
    "        x = halton(2, i)\n",
    "        y = halton(3, i)\n",
    "        z = halton(5, i)\n",
    "\n",
    "        if 2 + 4*x**2 + 4*z**2 + y**2 <= 4*x + 4*z + y:\n",
    "            area += 1\n",
    "    area /= n\n",
    "    \n",
    "    print(\"n = 10**%d / Area: %.10f / Error: %.10f\" % (k, area, abs(area - exact_area)))"
   ]
  },
  {
   "cell_type": "markdown",
   "metadata": {},
   "source": [
    "### Q. 5"
   ]
  },
  {
   "cell_type": "code",
   "execution_count": 13,
   "metadata": {},
   "outputs": [],
   "source": [
    "exact_area = pi**2 / 2\n",
    "n = 10**5"
   ]
  },
  {
   "cell_type": "code",
   "execution_count": 14,
   "metadata": {},
   "outputs": [
    {
     "name": "stdout",
     "output_type": "stream",
     "text": [
      "Monte Carlo\n",
      "n = 10**5 / Area: 4.9454400000 / Error: 0.0106377995\n"
     ]
    }
   ],
   "source": [
    "area = 0\n",
    "\n",
    "for i in range(n):\n",
    "    x = random()\n",
    "    y = random()\n",
    "    z = random()\n",
    "    w = random()\n",
    "    \n",
    "    if x**2 + y**2 + z**2 + w**2 <= 1:\n",
    "        area += 16\n",
    "area /= n\n",
    "\n",
    "print(\"Monte Carlo\")\n",
    "print(\"n = 10**5 / Area: %.10f / Error: %.10f\" % (area, abs(area - exact_area)))"
   ]
  },
  {
   "cell_type": "code",
   "execution_count": 15,
   "metadata": {},
   "outputs": [
    {
     "name": "stdout",
     "output_type": "stream",
     "text": [
      "quasi-Monte Carlo\n",
      "n = 10**5 / Area: 4.9326400000 / Error: 0.0021622005\n"
     ]
    }
   ],
   "source": [
    "area = 0\n",
    "\n",
    "for i in range(n):\n",
    "    x = halton(2, i)\n",
    "    y = halton(3, i)\n",
    "    z = halton(5, i)\n",
    "    w = halton(7, i)\n",
    "    \n",
    "    if x**2 + y**2 + z**2 + w**2 <= 1:\n",
    "        area += 16\n",
    "area /= n\n",
    "\n",
    "print(\"quasi-Monte Carlo\")\n",
    "print(\"n = 10**5 / Area: %.10f / Error: %.10f\" % (area, abs(area - exact_area)))"
   ]
  },
  {
   "cell_type": "markdown",
   "metadata": {},
   "source": [
    "### Q. 6"
   ]
  },
  {
   "cell_type": "code",
   "execution_count": 16,
   "metadata": {},
   "outputs": [],
   "source": [
    "# (a)"
   ]
  },
  {
   "cell_type": "markdown",
   "metadata": {},
   "source": [
    "W.L.O.G, assume the length of the needle is 2. Let's define $d$ be the distance between the needle's midpoint and the nearest edge, and $\\theta$ be the angle with the stripes. Note that $d$ and $\\theta$ are uniformly distributed on $[0, 1)$, and $[0, \\pi)$ respectively.<br>\n",
    "In order for the needle to straddle both colors, the angle $\\theta$ must be in the interval $(\\arcsin d, \\pi - \\arcsin d)$. Therefore, the probability is calculated as follow;<br>\n",
    "$p = \\int_{0}^{1}{\\int_{\\arcsin d}^{\\pi - \\arcsin d}{d\\theta}\\ d\\mathrm{d}}\\ /\\ \\pi = \\frac{2}{\\pi}$"
   ]
  },
  {
   "cell_type": "code",
   "execution_count": 17,
   "metadata": {},
   "outputs": [
    {
     "name": "stdout",
     "output_type": "stream",
     "text": [
      "Probability: 0.636589\n"
     ]
    }
   ],
   "source": [
    "# (b)\n",
    "prob = 0\n",
    "n = 10**6\n",
    "\n",
    "for i in range(n):\n",
    "    d = halton(2, i)\n",
    "    theta = pi*halton(3, i)\n",
    "    \n",
    "    if arcsin(d) <= theta and theta <= pi - arcsin(d):\n",
    "        prob += 1\n",
    "prob /= n\n",
    "\n",
    "print(\"Probability: %f\" % prob)"
   ]
  },
  {
   "cell_type": "markdown",
   "metadata": {},
   "source": [
    "### Q. 7"
   ]
  },
  {
   "cell_type": "code",
   "execution_count": 18,
   "metadata": {},
   "outputs": [
    {
     "name": "stdout",
     "output_type": "stream",
     "text": [
      "Exact value: 0.500000\n",
      "Proportion: 0.499987\n"
     ]
    }
   ],
   "source": [
    "# (a)\n",
    "exact_value = 0.5\n",
    "\n",
    "proportion = 0\n",
    "n = 10**6\n",
    "for i in range(n):\n",
    "    a = halton(2, i)\n",
    "    b = halton(3, i)\n",
    "    c = halton(5, i)\n",
    "    d = halton(7, i)\n",
    "    \n",
    "    if a*d - b*c > 0:\n",
    "        proportion += 1\n",
    "proportion /= n\n",
    "\n",
    "print(\"Exact value: %f\" % exact_value)\n",
    "print(\"Proportion: %f\" % proportion)"
   ]
  },
  {
   "cell_type": "code",
   "execution_count": 19,
   "metadata": {},
   "outputs": [
    {
     "name": "stdout",
     "output_type": "stream",
     "text": [
      "Exact value: 0.444444\n",
      "Proportion: 0.444391\n"
     ]
    }
   ],
   "source": [
    "# (b)\n",
    "exact_value = 4/9\n",
    "\n",
    "proportion = 0\n",
    "n = 10**6\n",
    "for i in range(n):\n",
    "    a = halton(2, i)\n",
    "    b = halton(3, i)\n",
    "    c = halton(5, i)\n",
    "    \n",
    "    if a*c - b**2 > 0:\n",
    "        proportion += 1\n",
    "proportion /= n\n",
    "\n",
    "print(\"Exact value: %f\" % exact_value)\n",
    "print(\"Proportion: %f\" % proportion)"
   ]
  },
  {
   "cell_type": "markdown",
   "metadata": {},
   "source": [
    "### Q. 8"
   ]
  },
  {
   "cell_type": "code",
   "execution_count": 20,
   "metadata": {},
   "outputs": [
    {
     "name": "stdout",
     "output_type": "stream",
     "text": [
      "Proportion: 0.680581\n"
     ]
    }
   ],
   "source": [
    "proportion = 0\n",
    "n = 10**6\n",
    "\n",
    "for i in range(n):\n",
    "    a = 2*halton(2, i) - 1\n",
    "    b = 2*halton(3, i) - 1\n",
    "    c = 2*halton(5, i) - 1\n",
    "    d = 2*halton(7, i) - 1\n",
    "    \n",
    "    if a**2 - 2*a*d + d**2 + 4*b*c >= 0:\n",
    "        proportion += 1\n",
    "proportion /= n\n",
    "\n",
    "print(\"Proportion: %f\" % proportion)"
   ]
  },
  {
   "cell_type": "markdown",
   "metadata": {},
   "source": [
    "### Q. 9"
   ]
  },
  {
   "cell_type": "code",
   "execution_count": 21,
   "metadata": {},
   "outputs": [
    {
     "name": "stdout",
     "output_type": "stream",
     "text": [
      "Proportion: 0.041634\n"
     ]
    }
   ],
   "source": [
    "proportion = 0\n",
    "n = 10**6\n",
    "I_4 = np.identity(4)\n",
    "\n",
    "for i in range(n):\n",
    "    M = np.array([[halton(2, i), halton(3, i), halton(5, i), halton(7, i)], \n",
    "                  [halton(11, i), halton(13, i), halton(17, i), halton(19, i)], \n",
    "                  [halton(23, i), halton(29, i), halton(31, i), halton(37, i)], \n",
    "                  [halton(41, i), halton(43, i), halton(47, i), halton(53, i)]])\n",
    "    P, _, _ = lu(M)\n",
    "\n",
    "    if (P == I_4).all():\n",
    "        proportion += 1\n",
    "proportion /= n\n",
    "\n",
    "print(\"Proportion: %f\" % proportion)"
   ]
  }
 ],
 "metadata": {
  "kernelspec": {
   "display_name": "Python 3",
   "language": "python",
   "name": "python3"
  },
  "language_info": {
   "codemirror_mode": {
    "name": "ipython",
    "version": 3
   },
   "file_extension": ".py",
   "mimetype": "text/x-python",
   "name": "python",
   "nbconvert_exporter": "python",
   "pygments_lexer": "ipython3",
   "version": "3.6.4"
  }
 },
 "nbformat": 4,
 "nbformat_minor": 2
}

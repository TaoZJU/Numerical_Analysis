{
 "cells": [
  {
   "cell_type": "markdown",
   "metadata": {},
   "source": [
    "# Chapter 9<br>Random Numbers and Applications"
   ]
  },
  {
   "cell_type": "markdown",
   "metadata": {},
   "source": [
    "## 9.3 Discrete and Continuous Brownian Motion"
   ]
  },
  {
   "cell_type": "code",
   "execution_count": 1,
   "metadata": {
    "collapsed": true
   },
   "outputs": [],
   "source": [
    "import numpy as np\n",
    "from numpy import pi, arcsin, sqrt"
   ]
  },
  {
   "cell_type": "markdown",
   "metadata": {},
   "source": [
    "### Q. 1"
   ]
  },
  {
   "cell_type": "code",
   "execution_count": 2,
   "metadata": {
    "collapsed": true
   },
   "outputs": [],
   "source": [
    "n = 10000"
   ]
  },
  {
   "cell_type": "code",
   "execution_count": 3,
   "metadata": {},
   "outputs": [
    {
     "name": "stdout",
     "output_type": "stream",
     "text": [
      "Correct Answer: 0.285714 / Estimate: 0.286900 / Error: 0.001186\n"
     ]
    }
   ],
   "source": [
    "# (a)\n",
    "interval = [-2, 5]\n",
    "b = -interval[0]\n",
    "a = interval[1]\n",
    "correct_ans = b / (a+b)\n",
    "count_top = 0\n",
    "\n",
    "for _ in range(n):\n",
    "    W_t = 0\n",
    "    while (W_t < a) & (W_t > -b):\n",
    "        s_i = np.random.choice((-1, 1))\n",
    "        W_t += s_i\n",
    "    \n",
    "    if W_t == a:\n",
    "        count_top += 1\n",
    "        \n",
    "estimate = count_top / n\n",
    "error = abs(estimate - correct_ans)\n",
    "\n",
    "print(\"Correct Answer: %f / Estimate: %f / Error: %f\" % (correct_ans, estimate, error))"
   ]
  },
  {
   "cell_type": "code",
   "execution_count": 4,
   "metadata": {},
   "outputs": [
    {
     "name": "stdout",
     "output_type": "stream",
     "text": [
      "Correct Answer: 0.625000 / Estimate: 0.623700 / Error: 0.001300\n"
     ]
    }
   ],
   "source": [
    "# (b)\n",
    "interval = [-5, 3]\n",
    "b = -interval[0]\n",
    "a = interval[1]\n",
    "correct_ans = b / (a+b)\n",
    "count_top = 0\n",
    "\n",
    "for _ in range(n):\n",
    "    W_t = 0\n",
    "    while (W_t < a) & (W_t > -b):\n",
    "        s_i = np.random.choice((-1, 1))\n",
    "        W_t += s_i\n",
    "    \n",
    "    if W_t == a:\n",
    "        count_top += 1\n",
    "        \n",
    "estimate = count_top / n\n",
    "error = abs(estimate - correct_ans)\n",
    "\n",
    "print(\"Correct Answer: %f / Estimate: %f / Error: %f\" % (correct_ans, estimate, error))"
   ]
  },
  {
   "cell_type": "code",
   "execution_count": 5,
   "metadata": {},
   "outputs": [
    {
     "name": "stdout",
     "output_type": "stream",
     "text": [
      "Correct Answer: 0.727273 / Estimate: 0.724700 / Error: 0.002573\n"
     ]
    }
   ],
   "source": [
    "# (c)\n",
    "interval = [-8, 3]\n",
    "b = -interval[0]\n",
    "a = interval[1]\n",
    "correct_ans = b / (a+b)\n",
    "count_top = 0\n",
    "\n",
    "for _ in range(n):\n",
    "    W_t = 0\n",
    "    while (W_t < a) & (W_t > -b):\n",
    "        s_i = np.random.choice((-1, 1))\n",
    "        W_t += s_i\n",
    "    \n",
    "    if W_t == a:\n",
    "        count_top += 1\n",
    "        \n",
    "estimate = count_top / n\n",
    "error = abs(estimate - correct_ans)\n",
    "\n",
    "print(\"Correct Answer: %f / Estimate: %f / Error: %f\" % (correct_ans, estimate, error))"
   ]
  },
  {
   "cell_type": "markdown",
   "metadata": {},
   "source": [
    "### Q. 2"
   ]
  },
  {
   "cell_type": "code",
   "execution_count": 6,
   "metadata": {
    "collapsed": true
   },
   "outputs": [],
   "source": [
    "n = 10000"
   ]
  },
  {
   "cell_type": "code",
   "execution_count": 7,
   "metadata": {},
   "outputs": [
    {
     "name": "stdout",
     "output_type": "stream",
     "text": [
      "Correct Answer: 10.000000 / Estimate: 9.985900 / Error: 0.014100\n"
     ]
    }
   ],
   "source": [
    "# (a)\n",
    "interval = [-2, 5]\n",
    "b = -interval[0]\n",
    "a = interval[1]\n",
    "correct_ans = a*b\n",
    "count_time = 0\n",
    "\n",
    "for _ in range(n):\n",
    "    W_t = 0\n",
    "    while (W_t < a) & (W_t > -b):\n",
    "        s_i = np.random.choice((-1, 1))\n",
    "        W_t += s_i\n",
    "        count_time += 1\n",
    "        \n",
    "estimate = count_time / n\n",
    "error = abs(estimate - correct_ans)\n",
    "\n",
    "print(\"Correct Answer: %f / Estimate: %f / Error: %f\" % (correct_ans, estimate, error))"
   ]
  },
  {
   "cell_type": "code",
   "execution_count": 8,
   "metadata": {},
   "outputs": [
    {
     "name": "stdout",
     "output_type": "stream",
     "text": [
      "Correct Answer: 15.000000 / Estimate: 14.989000 / Error: 0.011000\n"
     ]
    }
   ],
   "source": [
    "# (b)\n",
    "interval = [-5, 3]\n",
    "b = -interval[0]\n",
    "a = interval[1]\n",
    "correct_ans = a*b\n",
    "count_time = 0\n",
    "\n",
    "for _ in range(n):\n",
    "    W_t = 0\n",
    "    while (W_t < a) & (W_t > -b):\n",
    "        s_i = np.random.choice((-1, 1))\n",
    "        W_t += s_i\n",
    "        count_time += 1\n",
    "        \n",
    "estimate = count_time / n\n",
    "error = abs(estimate - correct_ans)\n",
    "\n",
    "print(\"Correct Answer: %f / Estimate: %f / Error: %f\" % (correct_ans, estimate, error))"
   ]
  },
  {
   "cell_type": "code",
   "execution_count": 9,
   "metadata": {},
   "outputs": [
    {
     "name": "stdout",
     "output_type": "stream",
     "text": [
      "Correct Answer: 24.000000 / Estimate: 24.313900 / Error: 0.313900\n"
     ]
    }
   ],
   "source": [
    "# (c)\n",
    "interval = [-8, 3]\n",
    "b = -interval[0]\n",
    "a = interval[1]\n",
    "correct_ans = a*b\n",
    "count_time = 0\n",
    "\n",
    "for _ in range(n):\n",
    "    W_t = 0\n",
    "    while (W_t < a) & (W_t > -b):\n",
    "        s_i = np.random.choice((-1, 1))\n",
    "        W_t += s_i\n",
    "        count_time += 1\n",
    "        \n",
    "estimate = count_time / n\n",
    "error = abs(estimate - correct_ans)\n",
    "\n",
    "print(\"Correct Answer: %f / Estimate: %f / Error: %f\" % (correct_ans, estimate, error))"
   ]
  },
  {
   "cell_type": "markdown",
   "metadata": {},
   "source": [
    "### Q. 3"
   ]
  },
  {
   "cell_type": "code",
   "execution_count": 10,
   "metadata": {
    "collapsed": true
   },
   "outputs": [],
   "source": [
    "n = 10000\n",
    "p = 0.7\n",
    "q = 1 - p"
   ]
  },
  {
   "cell_type": "code",
   "execution_count": 11,
   "metadata": {},
   "outputs": [
    {
     "name": "stdout",
     "output_type": "stream",
     "text": [
      "Correct Answer: 0.818500 / Estimate: 0.815900 / Error: 0.002600\n"
     ]
    }
   ],
   "source": [
    "# (a)\n",
    "interval = [-2, 5]\n",
    "b = -interval[0]\n",
    "a = interval[1]\n",
    "correct_ans = ((q/p)**b - 1) / ((q/p)**(a+b) - 1)\n",
    "count_top = 0\n",
    "\n",
    "for _ in range(n):\n",
    "    W_t = 0\n",
    "    while (W_t < a) & (W_t > -b):\n",
    "        s_i = np.random.choice((-1, 1), p=(q, p))\n",
    "        W_t += s_i\n",
    "    \n",
    "    if W_t == a:\n",
    "        count_top += 1\n",
    "        \n",
    "estimate = count_top / n\n",
    "error = abs(estimate - correct_ans)\n",
    "\n",
    "print(\"Correct Answer: %f / Estimate: %f / Error: %f\" % (correct_ans, estimate, error))"
   ]
  },
  {
   "cell_type": "code",
   "execution_count": 12,
   "metadata": {},
   "outputs": [
    {
     "name": "stdout",
     "output_type": "stream",
     "text": [
      "Correct Answer: 0.986665 / Estimate: 0.989100 / Error: 0.002435\n"
     ]
    }
   ],
   "source": [
    "# (b)\n",
    "interval = [-5, 3]\n",
    "b = -interval[0]\n",
    "a = interval[1]\n",
    "correct_ans = ((q/p)**b - 1) / ((q/p)**(a+b) - 1)\n",
    "count_top = 0\n",
    "\n",
    "for _ in range(n):\n",
    "    W_t = 0\n",
    "    while (W_t < a) & (W_t > -b):\n",
    "        s_i = np.random.choice((-1, 1), p=(q, p))\n",
    "        W_t += s_i\n",
    "    \n",
    "    if W_t == a:\n",
    "        count_top += 1\n",
    "        \n",
    "estimate = count_top / n\n",
    "error = abs(estimate - correct_ans)\n",
    "\n",
    "print(\"Correct Answer: %f / Estimate: %f / Error: %f\" % (correct_ans, estimate, error))"
   ]
  },
  {
   "cell_type": "code",
   "execution_count": 13,
   "metadata": {},
   "outputs": [
    {
     "name": "stdout",
     "output_type": "stream",
     "text": [
      "Correct Answer: 0.998951 / Estimate: 0.999500 / Error: 0.000549\n"
     ]
    }
   ],
   "source": [
    "# (c)\n",
    "interval = [-8, 3]\n",
    "b = -interval[0]\n",
    "a = interval[1]\n",
    "correct_ans = ((q/p)**b - 1) / ((q/p)**(a+b) - 1)\n",
    "count_top = 0\n",
    "\n",
    "for _ in range(n):\n",
    "    W_t = 0\n",
    "    while (W_t < a) & (W_t > -b):\n",
    "        s_i = np.random.choice((-1, 1), p=(q, p))\n",
    "        W_t += s_i\n",
    "    \n",
    "    if W_t == a:\n",
    "        count_top += 1\n",
    "        \n",
    "estimate = count_top / n\n",
    "error = abs(estimate - correct_ans)\n",
    "\n",
    "print(\"Correct Answer: %f / Estimate: %f / Error: %f\" % (correct_ans, estimate, error))"
   ]
  },
  {
   "cell_type": "markdown",
   "metadata": {},
   "source": [
    "### Q. 4"
   ]
  },
  {
   "cell_type": "code",
   "execution_count": 14,
   "metadata": {
    "collapsed": true
   },
   "outputs": [],
   "source": [
    "n = 10000\n",
    "p = 0.7\n",
    "q = 1 - p"
   ]
  },
  {
   "cell_type": "code",
   "execution_count": 15,
   "metadata": {},
   "outputs": [
    {
     "name": "stdout",
     "output_type": "stream",
     "text": [
      "Correct Answer: 9.323752 / Estimate: 9.212600 / Error: 0.111152\n"
     ]
    }
   ],
   "source": [
    "# (a)\n",
    "interval = [-2, 5]\n",
    "b = -interval[0]\n",
    "a = interval[1]\n",
    "correct_ans = (b - (a+b)*(1 - (q/p)**b) / (1 - (q/p)**(a+b))) / (q-p)\n",
    "count_time = 0\n",
    "\n",
    "for _ in range(n):\n",
    "    W_t = 0\n",
    "    while (W_t < a) & (W_t > -b):\n",
    "        s_i = np.random.choice((-1, 1), p=(q, p))\n",
    "        W_t += s_i\n",
    "        count_time += 1\n",
    "            \n",
    "estimate = count_time / n\n",
    "error = abs(estimate - correct_ans)\n",
    "\n",
    "print(\"Correct Answer: %f / Estimate: %f / Error: %f\" % (correct_ans, estimate, error))"
   ]
  },
  {
   "cell_type": "code",
   "execution_count": 16,
   "metadata": {},
   "outputs": [
    {
     "name": "stdout",
     "output_type": "stream",
     "text": [
      "Correct Answer: 7.233294 / Estimate: 7.298400 / Error: 0.065106\n"
     ]
    }
   ],
   "source": [
    "# (b)\n",
    "interval = [-5, 3]\n",
    "b = -interval[0]\n",
    "a = interval[1]\n",
    "correct_ans = (b - (a+b)*(1 - (q/p)**b) / (1 - (q/p)**(a+b))) / (q-p)\n",
    "count_time = 0\n",
    "\n",
    "for _ in range(n):\n",
    "    W_t = 0\n",
    "    while (W_t < a) & (W_t > -b):\n",
    "        s_i = np.random.choice((-1, 1), p=(q, p))\n",
    "        W_t += s_i\n",
    "        count_time += 1\n",
    "            \n",
    "estimate = count_time / n\n",
    "error = abs(estimate - correct_ans)\n",
    "\n",
    "print(\"Correct Answer: %f / Estimate: %f / Error: %f\" % (correct_ans, estimate, error))"
   ]
  },
  {
   "cell_type": "code",
   "execution_count": 17,
   "metadata": {},
   "outputs": [
    {
     "name": "stdout",
     "output_type": "stream",
     "text": [
      "Correct Answer: 7.471163 / Estimate: 7.527000 / Error: 0.055837\n"
     ]
    }
   ],
   "source": [
    "# (c)\n",
    "interval = [-8, 3]\n",
    "b = -interval[0]\n",
    "a = interval[1]\n",
    "correct_ans = (b - (a+b)*(1 - (q/p)**b) / (1 - (q/p)**(a+b))) / (q-p)\n",
    "count_time = 0\n",
    "\n",
    "for _ in range(n):\n",
    "    W_t = 0\n",
    "    while (W_t < a) & (W_t > -b):\n",
    "        s_i = np.random.choice((-1, 1), p=(q, p))\n",
    "        W_t += s_i\n",
    "        count_time += 1\n",
    "            \n",
    "estimate = count_time / n\n",
    "error = abs(estimate - correct_ans)\n",
    "\n",
    "print(\"Correct Answer: %f / Estimate: %f / Error: %f\" % (correct_ans, estimate, error))"
   ]
  },
  {
   "cell_type": "markdown",
   "metadata": {},
   "source": [
    "### Q. 5"
   ]
  },
  {
   "cell_type": "code",
   "execution_count": 18,
   "metadata": {
    "collapsed": true
   },
   "outputs": [],
   "source": [
    "n = 1000\n",
    "dt = 0.01\n",
    "step_height = 0.1"
   ]
  },
  {
   "cell_type": "code",
   "execution_count": 19,
   "metadata": {},
   "outputs": [
    {
     "name": "stdout",
     "output_type": "stream",
     "text": [
      "Correct Answer: 0.285714 / Estimate: 0.292000 / Error: 0.006286\n"
     ]
    }
   ],
   "source": [
    "# (a)\n",
    "interval = [-2, 5]\n",
    "b = -interval[0]\n",
    "a = interval[1]\n",
    "correct_ans = b / (a + b)\n",
    "count_top = 0\n",
    "\n",
    "for _ in range(n):\n",
    "    W_t = 0\n",
    "    while (W_t < a) & (W_t > -b):\n",
    "        s_i = step_height * np.random.randn()\n",
    "        W_t += s_i\n",
    "    \n",
    "    if W_t >= a:\n",
    "        count_top += 1\n",
    "        \n",
    "estimate = count_top / n\n",
    "error = abs(estimate - correct_ans)\n",
    "\n",
    "print(\"Correct Answer: %f / Estimate: %f / Error: %f\" % (correct_ans, estimate, error))"
   ]
  },
  {
   "cell_type": "code",
   "execution_count": 20,
   "metadata": {},
   "outputs": [
    {
     "name": "stdout",
     "output_type": "stream",
     "text": [
      "Correct Answer: 0.388985 / Estimate: 0.430000 / Error: 0.041015\n"
     ]
    }
   ],
   "source": [
    "# (b)\n",
    "interval = [-2, pi]\n",
    "b = -interval[0]\n",
    "a = interval[1]\n",
    "correct_ans = b / (a + b)\n",
    "count_top = 0\n",
    "\n",
    "for _ in range(n):\n",
    "    W_t = 0\n",
    "    while (W_t < a) & (W_t > -b):\n",
    "        s_i = step_height * np.random.randn()\n",
    "        W_t += s_i\n",
    "    \n",
    "    if W_t >= a:\n",
    "        count_top += 1\n",
    "        \n",
    "estimate = count_top / n\n",
    "error = abs(estimate - correct_ans)\n",
    "\n",
    "print(\"Correct Answer: %f / Estimate: %f / Error: %f\" % (correct_ans, estimate, error))"
   ]
  },
  {
   "cell_type": "code",
   "execution_count": 21,
   "metadata": {},
   "outputs": [
    {
     "name": "stdout",
     "output_type": "stream",
     "text": [
      "Correct Answer: 0.470588 / Estimate: 0.472000 / Error: 0.001412\n"
     ]
    }
   ],
   "source": [
    "# (c)\n",
    "interval = [-8/3, 3]\n",
    "b = -interval[0]\n",
    "a = interval[1]\n",
    "correct_ans = b / (a + b)\n",
    "count_top = 0\n",
    "\n",
    "for _ in range(n):\n",
    "    W_t = 0\n",
    "    while (W_t < a) & (W_t > -b):\n",
    "        s_i = step_height * np.random.randn()\n",
    "        W_t += s_i\n",
    "    \n",
    "    if W_t >= a:\n",
    "        count_top += 1\n",
    "        \n",
    "estimate = count_top / n\n",
    "error = abs(estimate - correct_ans)\n",
    "\n",
    "print(\"Correct Answer: %f / Estimate: %f / Error: %f\" % (correct_ans, estimate, error))"
   ]
  },
  {
   "cell_type": "markdown",
   "metadata": {},
   "source": [
    "### Q. 6"
   ]
  },
  {
   "cell_type": "code",
   "execution_count": 22,
   "metadata": {
    "collapsed": true
   },
   "outputs": [],
   "source": [
    "n = 1000\n",
    "dt = 0.01\n",
    "step_height = 0.1"
   ]
  },
  {
   "cell_type": "code",
   "execution_count": 23,
   "metadata": {},
   "outputs": [
    {
     "name": "stdout",
     "output_type": "stream",
     "text": [
      "Correct Answer: 10.000000 / Estimate: 10.634640 / Error: 0.634640\n"
     ]
    }
   ],
   "source": [
    "# (a)\n",
    "interval = [-2, 5]\n",
    "b = -interval[0]\n",
    "a = interval[1]\n",
    "correct_ans = a*b\n",
    "count_time = 0\n",
    "\n",
    "for _ in range(n):\n",
    "    W_t = 0\n",
    "    while (W_t < a) & (W_t > -b):\n",
    "        s_i = step_height * np.random.randn()\n",
    "        W_t += s_i\n",
    "        count_time += dt\n",
    "    \n",
    "estimate = count_time / n\n",
    "error = abs(estimate - correct_ans)\n",
    "\n",
    "print(\"Correct Answer: %f / Estimate: %f / Error: %f\" % (correct_ans, estimate, error))"
   ]
  },
  {
   "cell_type": "code",
   "execution_count": 24,
   "metadata": {},
   "outputs": [
    {
     "name": "stdout",
     "output_type": "stream",
     "text": [
      "Correct Answer: 6.283185 / Estimate: 6.717150 / Error: 0.433965\n"
     ]
    }
   ],
   "source": [
    "# (b)\n",
    "interval = [-2, pi]\n",
    "b = -interval[0]\n",
    "a = interval[1]\n",
    "correct_ans = a*b\n",
    "count_time = 0\n",
    "\n",
    "for _ in range(n):\n",
    "    W_t = 0\n",
    "    while (W_t < a) & (W_t > -b):\n",
    "        s_i = step_height * np.random.randn()\n",
    "        W_t += s_i\n",
    "        count_time += dt\n",
    "    \n",
    "estimate = count_time / n\n",
    "error = abs(estimate - correct_ans)\n",
    "\n",
    "print(\"Correct Answer: %f / Estimate: %f / Error: %f\" % (correct_ans, estimate, error))"
   ]
  },
  {
   "cell_type": "code",
   "execution_count": 25,
   "metadata": {},
   "outputs": [
    {
     "name": "stdout",
     "output_type": "stream",
     "text": [
      "Correct Answer: 8.000000 / Estimate: 8.508450 / Error: 0.508450\n"
     ]
    }
   ],
   "source": [
    "# (c)\n",
    "interval = [-8/3, 3]\n",
    "b = -interval[0]\n",
    "a = interval[1]\n",
    "correct_ans = a*b\n",
    "count_time = 0\n",
    "\n",
    "for _ in range(n):\n",
    "    W_t = 0\n",
    "    while (W_t < a) & (W_t > -b):\n",
    "        s_i = step_height * np.random.randn()\n",
    "        W_t += s_i\n",
    "        count_time += dt\n",
    "    \n",
    "estimate = count_time / n\n",
    "error = abs(estimate - correct_ans)\n",
    "\n",
    "print(\"Correct Answer: %f / Estimate: %f / Error: %f\" % (correct_ans, estimate, error))"
   ]
  },
  {
   "cell_type": "markdown",
   "metadata": {},
   "source": [
    "### Q. 7"
   ]
  },
  {
   "cell_type": "code",
   "execution_count": 26,
   "metadata": {
    "collapsed": true
   },
   "outputs": [],
   "source": [
    "n = 10000\n",
    "dt = 0.01\n",
    "step_height = 0.1"
   ]
  },
  {
   "cell_type": "code",
   "execution_count": 27,
   "metadata": {},
   "outputs": [
    {
     "name": "stdout",
     "output_type": "stream",
     "text": [
      "Correct Answer: 0.564094 / Estimate: 0.588300 / Error: 0.024206\n"
     ]
    }
   ],
   "source": [
    "# (a)\n",
    "time_interval = [3, 5]\n",
    "t1, t2 = time_interval\n",
    "correct_ans = (2/pi)*arcsin(sqrt(t1/t2))\n",
    "count = 0\n",
    "\n",
    "for _ in range(n):\n",
    "    W_t = 0\n",
    "    time = 0\n",
    "    while (time <= t2):\n",
    "        s_i = step_height * np.random.randn()\n",
    "        \n",
    "        if (t1 <= time) & (time <= t2) & (W_t * (W_t + s_i) < 0):\n",
    "            count += 1\n",
    "            break\n",
    "        time += dt\n",
    "        W_t += s_i\n",
    "\n",
    "estimate = 1 - (count / n)\n",
    "error = abs(estimate - correct_ans)\n",
    "\n",
    "print(\"Correct Answer: %f / Estimate: %f / Error: %f\" % (correct_ans, estimate, error))"
   ]
  },
  {
   "cell_type": "code",
   "execution_count": 28,
   "metadata": {},
   "outputs": [
    {
     "name": "stdout",
     "output_type": "stream",
     "text": [
      "Correct Answer: 0.295167 / Estimate: 0.309200 / Error: 0.014033\n"
     ]
    }
   ],
   "source": [
    "# (b)\n",
    "time_interval = [2, 10]\n",
    "t1, t2 = time_interval\n",
    "correct_ans = (2/pi)*arcsin(sqrt(t1/t2))\n",
    "count = 0\n",
    "\n",
    "for _ in range(n):\n",
    "    W_t = 0\n",
    "    time = 0\n",
    "    while (time <= t2):\n",
    "        s_i = step_height * np.random.randn()\n",
    "        \n",
    "        if (t1 <= time) & (time <= t2) & (W_t * (W_t + s_i) < 0):\n",
    "            count += 1\n",
    "            break\n",
    "        time += dt\n",
    "        W_t += s_i\n",
    "\n",
    "estimate = 1 - (count / n)\n",
    "error = abs(estimate - correct_ans)\n",
    "\n",
    "print(\"Correct Answer: %f / Estimate: %f / Error: %f\" % (correct_ans, estimate, error))"
   ]
  },
  {
   "cell_type": "code",
   "execution_count": 29,
   "metadata": {},
   "outputs": [
    {
     "name": "stdout",
     "output_type": "stream",
     "text": [
      "Correct Answer: 0.704833 / Estimate: 0.720800 / Error: 0.015967\n"
     ]
    }
   ],
   "source": [
    "# (a)\n",
    "time_interval = [8, 10]\n",
    "t1, t2 = time_interval\n",
    "correct_ans = (2/pi)*arcsin(sqrt(t1/t2))\n",
    "count = 0\n",
    "\n",
    "for _ in range(n):\n",
    "    W_t = 0\n",
    "    time = 0\n",
    "    while (time <= t2):\n",
    "        s_i = step_height * np.random.randn()\n",
    "        \n",
    "        if (t1 <= time) & (time <= t2) & (W_t * (W_t + s_i) < 0):\n",
    "            count += 1\n",
    "            break\n",
    "        time += dt\n",
    "        W_t += s_i\n",
    "\n",
    "estimate = 1 - (count / n)\n",
    "error = abs(estimate - correct_ans)\n",
    "\n",
    "print(\"Correct Answer: %f / Estimate: %f / Error: %f\" % (correct_ans, estimate, error))"
   ]
  }
 ],
 "metadata": {
  "kernelspec": {
   "display_name": "Python 3",
   "language": "python",
   "name": "python3"
  },
  "language_info": {
   "codemirror_mode": {
    "name": "ipython",
    "version": 3
   },
   "file_extension": ".py",
   "mimetype": "text/x-python",
   "name": "python",
   "nbconvert_exporter": "python",
   "pygments_lexer": "ipython3",
   "version": "3.6.3"
  }
 },
 "nbformat": 4,
 "nbformat_minor": 2
}

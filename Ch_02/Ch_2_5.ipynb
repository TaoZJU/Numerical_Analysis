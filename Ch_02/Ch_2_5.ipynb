{
 "cells": [
  {
   "cell_type": "code",
   "execution_count": 1,
   "metadata": {},
   "outputs": [],
   "source": [
    "import numpy as np\n",
    "from time import time"
   ]
  },
  {
   "cell_type": "markdown",
   "metadata": {},
   "source": [
    "# Chapter 2<br>Systems of Equations"
   ]
  },
  {
   "cell_type": "markdown",
   "metadata": {},
   "source": [
    "## 2.5 Iterative Methods"
   ]
  },
  {
   "cell_type": "code",
   "execution_count": 2,
   "metadata": {},
   "outputs": [],
   "source": [
    "def Jacobi(A, b, iter_n, initial_guess=0):\n",
    "    n = len(A)\n",
    "    \n",
    "    D = np.diag(A)\n",
    "    R = A - np.diag(D)\n",
    "    x_i = initial_guess * np.ones(n)\n",
    "    \n",
    "    for _ in range(iter_n):\n",
    "        x_i = (b - R.dot(x_i)) / D\n",
    "    \n",
    "    return x_i"
   ]
  },
  {
   "cell_type": "code",
   "execution_count": 3,
   "metadata": {},
   "outputs": [],
   "source": [
    "def Gauss_Seidel(A, b, iter_n, initial_guess=0):\n",
    "    n = len(A)\n",
    "    \n",
    "    D = np.diag(A)\n",
    "    L = np.tril(A) - np.diag(D)\n",
    "    U = np.triu(A) - np.diag(D)\n",
    "    \n",
    "    x_i = initial_guess * np.ones(n)\n",
    "    x_ii = x_i.copy()\n",
    "    \n",
    "    for _ in range(iter_n):\n",
    "        for k in range(n):\n",
    "            x_ii[k] = (b[k] - U[k].dot(x_i) - L[k].dot(x_ii)) / D[k]\n",
    "        x_i = x_ii.copy()\n",
    "        \n",
    "    return x_i"
   ]
  },
  {
   "cell_type": "code",
   "execution_count": 4,
   "metadata": {},
   "outputs": [],
   "source": [
    "def SOR(A, b, w, iter_n, initial_guess=0):\n",
    "    n = len(A)\n",
    "    \n",
    "    D = np.diag(A)\n",
    "    L = np.tril(A) - np.diag(D)\n",
    "    U = np.triu(A) - np.diag(D)\n",
    "    \n",
    "    x_i = initial_guess * np.ones(n)\n",
    "    \n",
    "    for _ in range(iter_n):\n",
    "        x_i = np.linalg.inv(w*L + np.diag(D)).dot((1 - w)*np.diag(D).dot(x_i) - w*U.dot(x_i)) + \\\n",
    "        w*np.linalg.inv(np.diag(D) + w*L).dot(b)\n",
    "        \n",
    "    return x_i"
   ]
  },
  {
   "cell_type": "markdown",
   "metadata": {},
   "source": [
    "### Q. 1"
   ]
  },
  {
   "cell_type": "code",
   "execution_count": 5,
   "metadata": {},
   "outputs": [],
   "source": [
    "def A_ij(n):\n",
    "    A = np.zeros((n, n))\n",
    "    for i in range(n):\n",
    "        A[i, i] = 3\n",
    "        if i < n-1:\n",
    "            A[i, i+1] = -1\n",
    "            A[i+1, i] = -1\n",
    "\n",
    "    return A"
   ]
  },
  {
   "cell_type": "code",
   "execution_count": 6,
   "metadata": {},
   "outputs": [],
   "source": [
    "# n = 100\n",
    "n = 100\n",
    "\n",
    "A = A_ij(n)\n",
    "b = np.ones(n)\n",
    "b[0], b[-1] = 2, 2\n",
    "x_true = np.ones(n)"
   ]
  },
  {
   "cell_type": "code",
   "execution_count": 7,
   "metadata": {},
   "outputs": [],
   "source": [
    "j = 0\n",
    "guess = np.zeros(n)\n",
    "\n",
    "while True:\n",
    "    guess = Jacobi(A, b, 1, guess)\n",
    "    j += 1    \n",
    "    forward_error = abs(guess - x_true).max()\n",
    "    if forward_error < 5e-7:\n",
    "        break\n",
    "\n",
    "backward_error = abs(A.dot(guess) - b).max()"
   ]
  },
  {
   "cell_type": "code",
   "execution_count": 8,
   "metadata": {},
   "outputs": [
    {
     "name": "stdout",
     "output_type": "stream",
     "text": [
      "Number of steps needed: 36\n",
      "Backward error: 0.0000004579\n"
     ]
    }
   ],
   "source": [
    "print(\"Number of steps needed: %d\" % j)\n",
    "print(\"Backward error: %.10f\" % backward_error)"
   ]
  },
  {
   "cell_type": "code",
   "execution_count": 9,
   "metadata": {},
   "outputs": [],
   "source": [
    "# n = 100000\n",
    "n = 100000\n",
    "\n",
    "# Due to Memory Error, directly calculate the equation.\n",
    "# A = A_ij(n)\n",
    "b = np.ones(n)\n",
    "b[0], b[-1] = 2, 2\n",
    "x_true = np.ones(n)"
   ]
  },
  {
   "cell_type": "code",
   "execution_count": 10,
   "metadata": {},
   "outputs": [],
   "source": [
    "j = 0\n",
    "guess = np.zeros(n)\n",
    "\n",
    "while True:\n",
    "#     guess = Jacobi(A, b, 1, guess)\n",
    "    guess = (b + np.concatenate((guess[1:], [0])) + np.concatenate(([0], guess[:-1]))) / 3\n",
    "    j += 1    \n",
    "    forward_error = abs(guess - x_true).max()\n",
    "    if forward_error < 5e-7:\n",
    "        break\n",
    "\n",
    "backward_error = abs((3*guess - np.concatenate((guess[1:], [0])) - np.concatenate(([0], guess[:-1]))) - b).max()"
   ]
  },
  {
   "cell_type": "code",
   "execution_count": 11,
   "metadata": {
    "scrolled": true
   },
   "outputs": [
    {
     "name": "stdout",
     "output_type": "stream",
     "text": [
      "Number of steps needed: 36\n",
      "Backward error: 0.0000004579\n"
     ]
    }
   ],
   "source": [
    "print(\"Number of steps needed: %d\" % j)\n",
    "print(\"Backward error: %.10f\" % backward_error)"
   ]
  },
  {
   "cell_type": "markdown",
   "metadata": {},
   "source": [
    "### Q. 2"
   ]
  },
  {
   "cell_type": "code",
   "execution_count": 12,
   "metadata": {},
   "outputs": [],
   "source": [
    "n = 100\n",
    "A = np.zeros((n, n))\n",
    "for i in range(n):\n",
    "    A[i, i] = 2\n",
    "    if i < n-1:\n",
    "        A[i, i+1] = 1\n",
    "        A[i+1, i] = 1\n",
    "        \n",
    "b = np.zeros(n)\n",
    "b[0], b[-1] = 1, -1\n",
    "x_true = np.ones(n)\n",
    "x_true[1::2] -= 2"
   ]
  },
  {
   "cell_type": "code",
   "execution_count": 13,
   "metadata": {},
   "outputs": [],
   "source": [
    "j = 0\n",
    "guess = np.zeros(n)\n",
    "\n",
    "while True:\n",
    "    guess = Jacobi(A, b, 1, guess)\n",
    "    j += 1    \n",
    "    forward_error = abs(guess - x_true).max()\n",
    "    if forward_error < 5e-4:\n",
    "        break\n",
    "    \n",
    "backward_error = abs(A.dot(guess) - b).max()"
   ]
  },
  {
   "cell_type": "code",
   "execution_count": 14,
   "metadata": {
    "scrolled": true
   },
   "outputs": [
    {
     "name": "stdout",
     "output_type": "stream",
     "text": [
      "Number of steps needed: 16209\n",
      "Backward error: 0.0000004836\n"
     ]
    }
   ],
   "source": [
    "print(\"Number of steps needed: %d\" % j)\n",
    "print(\"Backward error: %.10f\" % backward_error)"
   ]
  },
  {
   "cell_type": "markdown",
   "metadata": {},
   "source": [
    "### Q. 3"
   ]
  },
  {
   "cell_type": "code",
   "execution_count": 15,
   "metadata": {},
   "outputs": [],
   "source": [
    "A = np.zeros((6, 6))\n",
    "for i in range(6):\n",
    "    A[i, 5-i] = 0.5\n",
    "    A[i, i] = 3\n",
    "    if i > 0:\n",
    "        A[i, i-1] = -1\n",
    "        A[i-1, i] = -1\n",
    "b = np.array([2.5, 1.5, 1, 1, 1.5, 2.5])\n",
    "x_true = np.ones(6)"
   ]
  },
  {
   "cell_type": "code",
   "execution_count": 16,
   "metadata": {},
   "outputs": [],
   "source": [
    "guess = np.zeros(6)\n",
    "guess = Gauss_Seidel(A, b, 6, guess)"
   ]
  },
  {
   "cell_type": "code",
   "execution_count": 17,
   "metadata": {
    "scrolled": true
   },
   "outputs": [
    {
     "name": "stdout",
     "output_type": "stream",
     "text": [
      "Gauss-Seidel: [0.995  0.9946 0.9969 0.9996 1.0016 1.0013]\n"
     ]
    }
   ],
   "source": [
    "print(\"Gauss-Seidel:\", np.round(guess, 4))"
   ]
  },
  {
   "cell_type": "markdown",
   "metadata": {},
   "source": [
    "### Q. 4"
   ]
  },
  {
   "cell_type": "code",
   "execution_count": 18,
   "metadata": {},
   "outputs": [],
   "source": [
    "A = np.zeros((6, 6))\n",
    "for i in range(6):\n",
    "    A[i, 5-i] = 0.5\n",
    "    A[i, i] = 3\n",
    "    if i > 0:\n",
    "        A[i, i-1] = -1\n",
    "        A[i-1, i] = -1\n",
    "b = np.array([2.5, 1.5, 1, 1, 1.5, 2.5])\n",
    "x_true = np.ones(6)"
   ]
  },
  {
   "cell_type": "code",
   "execution_count": 19,
   "metadata": {},
   "outputs": [],
   "source": [
    "w = 1.1\n",
    "guess = np.zeros(6)\n",
    "guess = SOR(A, b, w, 6, guess)"
   ]
  },
  {
   "cell_type": "code",
   "execution_count": 20,
   "metadata": {},
   "outputs": [
    {
     "name": "stdout",
     "output_type": "stream",
     "text": [
      "SOR: [0.9989 0.9993 1.0004 1.0009 1.0009 1.0004]\n"
     ]
    }
   ],
   "source": [
    "print(\"SOR:\", np.round(guess, 4))"
   ]
  },
  {
   "cell_type": "markdown",
   "metadata": {},
   "source": [
    "### Q. 5"
   ]
  },
  {
   "cell_type": "code",
   "execution_count": 21,
   "metadata": {},
   "outputs": [],
   "source": [
    "n = 100\n",
    "\n",
    "A = np.zeros((n, n))\n",
    "for i in range(n):\n",
    "    A[i, i] = 3\n",
    "    if i < n-1:\n",
    "        A[i, i+1] = -1\n",
    "        A[i+1, i] = -1\n",
    "\n",
    "b = np.ones(n)\n",
    "b[0], b[-1] = 2, 2\n",
    "x_true = np.ones(n)"
   ]
  },
  {
   "cell_type": "code",
   "execution_count": 22,
   "metadata": {},
   "outputs": [],
   "source": [
    "# (a)\n",
    "j = 0\n",
    "guess = np.zeros(n)\n",
    "\n",
    "while True:\n",
    "    guess = Gauss_Seidel(A, b, 1, guess)\n",
    "    j += 1    \n",
    "    forward_error = abs(guess - x_true).max()\n",
    "    if forward_error < 5e-7:\n",
    "        break\n",
    "\n",
    "backward_error = abs(A.dot(guess) - b).max()"
   ]
  },
  {
   "cell_type": "code",
   "execution_count": 23,
   "metadata": {},
   "outputs": [
    {
     "name": "stdout",
     "output_type": "stream",
     "text": [
      "Gauss-Seidel Method\n",
      "Number of steps needed: 21\n",
      "Backward error: 0.0000004779\n"
     ]
    }
   ],
   "source": [
    "print(\"Gauss-Seidel Method\")\n",
    "print(\"Number of steps needed: %d\" % j)\n",
    "print(\"Backward error: %.10f\" % backward_error)"
   ]
  },
  {
   "cell_type": "code",
   "execution_count": 24,
   "metadata": {},
   "outputs": [],
   "source": [
    "# (b)\n",
    "j = 0\n",
    "w = 1.2\n",
    "guess = np.zeros(n)\n",
    "\n",
    "while True:\n",
    "    guess = SOR(A, b, w, 1, guess)\n",
    "    j += 1    \n",
    "    forward_error = abs(guess - x_true).max()\n",
    "    if forward_error < 5e-7:\n",
    "        break\n",
    "\n",
    "backward_error = abs(A.dot(guess) - b).max()"
   ]
  },
  {
   "cell_type": "code",
   "execution_count": 25,
   "metadata": {},
   "outputs": [
    {
     "name": "stdout",
     "output_type": "stream",
     "text": [
      "SOR Method\n",
      "Number of steps needed: 16\n",
      "Backward error: 0.0000015516\n"
     ]
    }
   ],
   "source": [
    "print(\"SOR Method\")\n",
    "print(\"Number of steps needed: %d\" % j)\n",
    "print(\"Backward error: %.10f\" % backward_error)"
   ]
  },
  {
   "cell_type": "markdown",
   "metadata": {},
   "source": [
    "### Q. 6"
   ]
  },
  {
   "cell_type": "code",
   "execution_count": 26,
   "metadata": {},
   "outputs": [],
   "source": [
    "n = 100\n",
    "A = np.zeros((n, n))\n",
    "for i in range(n):\n",
    "    A[i, i] = 2\n",
    "    if i < n-1:\n",
    "        A[i, i+1] = 1\n",
    "        A[i+1, i] = 1\n",
    "        \n",
    "b = np.zeros(n)\n",
    "b[0], b[-1] = 1, -1\n",
    "x_true = np.ones(n)\n",
    "x_true[1::2] -= 2"
   ]
  },
  {
   "cell_type": "code",
   "execution_count": 27,
   "metadata": {},
   "outputs": [],
   "source": [
    "# (a)\n",
    "j = 0\n",
    "guess = np.zeros(n)\n",
    "\n",
    "while True:\n",
    "    guess = Gauss_Seidel(A, b, 1, guess)\n",
    "    j += 1    \n",
    "    forward_error = abs(guess - x_true).max()\n",
    "    if forward_error < 5e-4:\n",
    "        break\n",
    "    \n",
    "backward_error = abs(A.dot(guess) - b).max()"
   ]
  },
  {
   "cell_type": "code",
   "execution_count": 28,
   "metadata": {
    "scrolled": true
   },
   "outputs": [
    {
     "name": "stdout",
     "output_type": "stream",
     "text": [
      "Gauss-Seidel Method\n",
      "Number of steps needed: 8106\n",
      "Backward error: 0.0000004836\n"
     ]
    }
   ],
   "source": [
    "print(\"Gauss-Seidel Method\")\n",
    "print(\"Number of steps needed: %d\" % j)\n",
    "print(\"Backward error: %.10f\" % backward_error)"
   ]
  },
  {
   "cell_type": "code",
   "execution_count": 29,
   "metadata": {},
   "outputs": [],
   "source": [
    "# (b)\n",
    "j = 0\n",
    "w = 1.5\n",
    "guess = np.zeros(n)\n",
    "\n",
    "while True:\n",
    "    guess = SOR(A, b, w, 1, guess)\n",
    "    j += 1    \n",
    "    forward_error = abs(guess - x_true).max()\n",
    "    if forward_error < 5e-4:\n",
    "        break\n",
    "    \n",
    "backward_error = abs(A.dot(guess) - b).max()"
   ]
  },
  {
   "cell_type": "code",
   "execution_count": 30,
   "metadata": {},
   "outputs": [
    {
     "name": "stdout",
     "output_type": "stream",
     "text": [
      "SOR Method\n",
      "Number of steps needed: 2699\n",
      "Backward error: 0.0000004858\n"
     ]
    }
   ],
   "source": [
    "print(\"SOR Method\")\n",
    "print(\"Number of steps needed: %d\" % j)\n",
    "print(\"Backward error: %.10f\" % backward_error)"
   ]
  },
  {
   "cell_type": "markdown",
   "metadata": {},
   "source": [
    "### Q. 7"
   ]
  },
  {
   "cell_type": "code",
   "execution_count": 31,
   "metadata": {},
   "outputs": [
    {
     "name": "stdout",
     "output_type": "stream",
     "text": [
      "Size:   100 / Forward Error: 0.000000\n",
      "Size:   200 / Forward Error: 0.000000\n",
      "Size:   500 / Forward Error: 0.000000\n",
      "Size:  1000 / Forward Error: 0.000002\n",
      "Size:  2000 / Forward Error: 0.013012\n",
      "Size:  5000 / Forward Error: 0.216520\n",
      "Size: 10000 / Forward Error: 0.472222\n"
     ]
    }
   ],
   "source": [
    "for n in [100, 200, 500, 1000, 2000, 5000, 10000]:\n",
    "    A = np.zeros((n, n))\n",
    "    for i in range(n):\n",
    "        A[i, n-1-i] = 0.5\n",
    "        A[i, i] = 3\n",
    "        if i > 0:\n",
    "            A[i, i-1] = -1\n",
    "            A[i-1, i] = -1\n",
    "\n",
    "    b = 1.5 * np.ones(n)\n",
    "    b[0], b[-1] = 2.5, 2.5\n",
    "    b[n//2], b[n//2 - 1] = 1, 1\n",
    "    x_true = np.ones(n)\n",
    "\n",
    "    guess = np.zeros(n)\n",
    "\n",
    "    tic = time()\n",
    "    while True:\n",
    "        guess = Gauss_Seidel(A, b, 1, guess)\n",
    "        toc = time()\n",
    "        if toc - tic > 1:\n",
    "            break\n",
    "    forward_error = abs(guess - x_true).max()\n",
    "    \n",
    "    print(\"Size: %5d / Forward Error: %f\" % (n, forward_error))"
   ]
  }
 ],
 "metadata": {
  "kernelspec": {
   "display_name": "Python 3",
   "language": "python",
   "name": "python3"
  },
  "language_info": {
   "codemirror_mode": {
    "name": "ipython",
    "version": 3
   },
   "file_extension": ".py",
   "mimetype": "text/x-python",
   "name": "python",
   "nbconvert_exporter": "python",
   "pygments_lexer": "ipython3",
   "version": "3.6.4"
  }
 },
 "nbformat": 4,
 "nbformat_minor": 2
}

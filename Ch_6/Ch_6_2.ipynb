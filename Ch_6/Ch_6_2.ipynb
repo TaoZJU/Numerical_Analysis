{
 "cells": [
  {
   "cell_type": "code",
   "execution_count": 1,
   "metadata": {},
   "outputs": [],
   "source": [
    "import numpy as np\n",
    "from pandas import DataFrame as DF\n",
    "import matplotlib.pyplot as plt\n",
    "\n",
    "%matplotlib inline"
   ]
  },
  {
   "cell_type": "code",
   "execution_count": 2,
   "metadata": {},
   "outputs": [],
   "source": [
    "pi = np.pi\n",
    "log = np.log\n",
    "exp = np.exp\n",
    "sin = np.sin\n",
    "sinh = np.sinh\n",
    "tan = np.tan\n",
    "tanh = np.tanh\n",
    "arctan = np.arctan\n",
    "arctanh = np.arctanh"
   ]
  },
  {
   "cell_type": "markdown",
   "metadata": {},
   "source": [
    "# Chapter 6<br>Ordinary Differential Equations"
   ]
  },
  {
   "cell_type": "markdown",
   "metadata": {},
   "source": [
    "## 6.2 Analysis of IVP Solvers"
   ]
  },
  {
   "cell_type": "code",
   "execution_count": 3,
   "metadata": {},
   "outputs": [],
   "source": [
    "def Euler_method(f, a, b, h, y_0):\n",
    "    n = int((b - a)/h)\n",
    "    t = np.linspace(a, b, n+1)\n",
    "    w = np.zeros(n+1)\n",
    "    w[0] = y_0\n",
    "    \n",
    "    for i in range(n):\n",
    "        w[i+1] = w[i] + h*f(t[i], w[i])\n",
    "        \n",
    "    return t, w"
   ]
  },
  {
   "cell_type": "code",
   "execution_count": 4,
   "metadata": {},
   "outputs": [],
   "source": [
    "def Explicit_trapezoid_method(f, a, b, h, y_0):\n",
    "    n = int((b - a)/h)\n",
    "    t = np.linspace(a, b, n+1)\n",
    "    w = np.zeros(n+1)\n",
    "    w[0] = y_0\n",
    "    \n",
    "    for i in range(n):\n",
    "        w[i+1] = w[i] + (f(t[i], w[i]) + f(t[i] + h, w[i] + h*f(t[i], w[i])))*(h/2)\n",
    "        \n",
    "    return t, w"
   ]
  },
  {
   "cell_type": "code",
   "execution_count": 5,
   "metadata": {},
   "outputs": [],
   "source": [
    "def Taylor_method_2_order(f, f_diff_1, a, b, h, y_0):\n",
    "    n = int((b - a)/h)\n",
    "    t = np.linspace(a, b, n+1)\n",
    "    w = np.zeros(n+1)\n",
    "    w[0] = y_0\n",
    "    \n",
    "    for i in range(n):\n",
    "        w[i+1] = w[i] + h*f(t[i], w[i]) + (0.5 * h**2)*f_diff_1(t[i], w[i])\n",
    "        \n",
    "    return t, w"
   ]
  },
  {
   "cell_type": "markdown",
   "metadata": {},
   "source": [
    "### Q. 1"
   ]
  },
  {
   "cell_type": "code",
   "execution_count": 6,
   "metadata": {},
   "outputs": [],
   "source": [
    "a, b = 0, 1\n",
    "h = 0.1\n",
    "t_list = np.linspace(0, 1, 11)\n",
    "y_0 = 1"
   ]
  },
  {
   "cell_type": "code",
   "execution_count": 7,
   "metadata": {},
   "outputs": [],
   "source": [
    "# (a)\n",
    "def f(t, y):\n",
    "    return t\n",
    "\n",
    "def exact_sol(t):\n",
    "    return (t**2)/2 + 1"
   ]
  },
  {
   "cell_type": "code",
   "execution_count": 8,
   "metadata": {
    "scrolled": false
   },
   "outputs": [
    {
     "data": {
      "text/html": [
       "<div>\n",
       "<style scoped>\n",
       "    .dataframe tbody tr th:only-of-type {\n",
       "        vertical-align: middle;\n",
       "    }\n",
       "\n",
       "    .dataframe tbody tr th {\n",
       "        vertical-align: top;\n",
       "    }\n",
       "\n",
       "    .dataframe thead th {\n",
       "        text-align: right;\n",
       "    }\n",
       "</style>\n",
       "<table border=\"1\" class=\"dataframe\">\n",
       "  <thead>\n",
       "    <tr style=\"text-align: right;\">\n",
       "      <th></th>\n",
       "      <th>Approximations</th>\n",
       "      <th>Global truncation error</th>\n",
       "    </tr>\n",
       "    <tr>\n",
       "      <th>t =</th>\n",
       "      <th></th>\n",
       "      <th></th>\n",
       "    </tr>\n",
       "  </thead>\n",
       "  <tbody>\n",
       "    <tr>\n",
       "      <th>0.0</th>\n",
       "      <td>1.000</td>\n",
       "      <td>0.000000e+00</td>\n",
       "    </tr>\n",
       "    <tr>\n",
       "      <th>0.1</th>\n",
       "      <td>1.005</td>\n",
       "      <td>0.000000e+00</td>\n",
       "    </tr>\n",
       "    <tr>\n",
       "      <th>0.2</th>\n",
       "      <td>1.020</td>\n",
       "      <td>2.220446e-16</td>\n",
       "    </tr>\n",
       "    <tr>\n",
       "      <th>0.3</th>\n",
       "      <td>1.045</td>\n",
       "      <td>2.220446e-16</td>\n",
       "    </tr>\n",
       "    <tr>\n",
       "      <th>0.4</th>\n",
       "      <td>1.080</td>\n",
       "      <td>4.440892e-16</td>\n",
       "    </tr>\n",
       "    <tr>\n",
       "      <th>0.5</th>\n",
       "      <td>1.125</td>\n",
       "      <td>4.440892e-16</td>\n",
       "    </tr>\n",
       "    <tr>\n",
       "      <th>0.6</th>\n",
       "      <td>1.180</td>\n",
       "      <td>6.661338e-16</td>\n",
       "    </tr>\n",
       "    <tr>\n",
       "      <th>0.7</th>\n",
       "      <td>1.245</td>\n",
       "      <td>6.661338e-16</td>\n",
       "    </tr>\n",
       "    <tr>\n",
       "      <th>0.8</th>\n",
       "      <td>1.320</td>\n",
       "      <td>6.661338e-16</td>\n",
       "    </tr>\n",
       "    <tr>\n",
       "      <th>0.9</th>\n",
       "      <td>1.405</td>\n",
       "      <td>6.661338e-16</td>\n",
       "    </tr>\n",
       "    <tr>\n",
       "      <th>1.0</th>\n",
       "      <td>1.500</td>\n",
       "      <td>6.661338e-16</td>\n",
       "    </tr>\n",
       "  </tbody>\n",
       "</table>\n",
       "</div>"
      ],
      "text/plain": [
       "     Approximations  Global truncation error\n",
       "t =                                         \n",
       "0.0           1.000             0.000000e+00\n",
       "0.1           1.005             0.000000e+00\n",
       "0.2           1.020             2.220446e-16\n",
       "0.3           1.045             2.220446e-16\n",
       "0.4           1.080             4.440892e-16\n",
       "0.5           1.125             4.440892e-16\n",
       "0.6           1.180             6.661338e-16\n",
       "0.7           1.245             6.661338e-16\n",
       "0.8           1.320             6.661338e-16\n",
       "0.9           1.405             6.661338e-16\n",
       "1.0           1.500             6.661338e-16"
      ]
     },
     "execution_count": 8,
     "metadata": {},
     "output_type": "execute_result"
    }
   ],
   "source": [
    "true_value = exact_sol(t_list)\n",
    "t, w = Explicit_trapezoid_method(f, a, b, h, y_0)\n",
    "global_error = abs(true_value - w)\n",
    "\n",
    "DF({\"Approximations\": w, \"Global truncation error\": global_error, 't =': t}).set_index('t =')"
   ]
  },
  {
   "cell_type": "code",
   "execution_count": 9,
   "metadata": {},
   "outputs": [],
   "source": [
    "# (b)\n",
    "def f(t, y):\n",
    "    return (t**2)*y\n",
    "\n",
    "def exact_sol(t):\n",
    "    return exp((t**3)/3)"
   ]
  },
  {
   "cell_type": "code",
   "execution_count": 10,
   "metadata": {
    "scrolled": false
   },
   "outputs": [
    {
     "data": {
      "text/html": [
       "<div>\n",
       "<style scoped>\n",
       "    .dataframe tbody tr th:only-of-type {\n",
       "        vertical-align: middle;\n",
       "    }\n",
       "\n",
       "    .dataframe tbody tr th {\n",
       "        vertical-align: top;\n",
       "    }\n",
       "\n",
       "    .dataframe thead th {\n",
       "        text-align: right;\n",
       "    }\n",
       "</style>\n",
       "<table border=\"1\" class=\"dataframe\">\n",
       "  <thead>\n",
       "    <tr style=\"text-align: right;\">\n",
       "      <th></th>\n",
       "      <th>Approximations</th>\n",
       "      <th>Global truncation error</th>\n",
       "    </tr>\n",
       "    <tr>\n",
       "      <th>t =</th>\n",
       "      <th></th>\n",
       "      <th></th>\n",
       "    </tr>\n",
       "  </thead>\n",
       "  <tbody>\n",
       "    <tr>\n",
       "      <th>0.0</th>\n",
       "      <td>1.000000</td>\n",
       "      <td>0.000000</td>\n",
       "    </tr>\n",
       "    <tr>\n",
       "      <th>0.1</th>\n",
       "      <td>1.000500</td>\n",
       "      <td>0.000167</td>\n",
       "    </tr>\n",
       "    <tr>\n",
       "      <th>0.2</th>\n",
       "      <td>1.003003</td>\n",
       "      <td>0.000333</td>\n",
       "    </tr>\n",
       "    <tr>\n",
       "      <th>0.3</th>\n",
       "      <td>1.009541</td>\n",
       "      <td>0.000500</td>\n",
       "    </tr>\n",
       "    <tr>\n",
       "      <th>0.4</th>\n",
       "      <td>1.022233</td>\n",
       "      <td>0.000670</td>\n",
       "    </tr>\n",
       "    <tr>\n",
       "      <th>0.5</th>\n",
       "      <td>1.043393</td>\n",
       "      <td>0.000846</td>\n",
       "    </tr>\n",
       "    <tr>\n",
       "      <th>0.6</th>\n",
       "      <td>1.075686</td>\n",
       "      <td>0.001031</td>\n",
       "    </tr>\n",
       "    <tr>\n",
       "      <th>0.7</th>\n",
       "      <td>1.122351</td>\n",
       "      <td>0.001226</td>\n",
       "    </tr>\n",
       "    <tr>\n",
       "      <th>0.8</th>\n",
       "      <td>1.187524</td>\n",
       "      <td>0.001429</td>\n",
       "    </tr>\n",
       "    <tr>\n",
       "      <th>0.9</th>\n",
       "      <td>1.276698</td>\n",
       "      <td>0.001629</td>\n",
       "    </tr>\n",
       "    <tr>\n",
       "      <th>1.0</th>\n",
       "      <td>1.397409</td>\n",
       "      <td>0.001797</td>\n",
       "    </tr>\n",
       "  </tbody>\n",
       "</table>\n",
       "</div>"
      ],
      "text/plain": [
       "     Approximations  Global truncation error\n",
       "t =                                         \n",
       "0.0        1.000000                 0.000000\n",
       "0.1        1.000500                 0.000167\n",
       "0.2        1.003003                 0.000333\n",
       "0.3        1.009541                 0.000500\n",
       "0.4        1.022233                 0.000670\n",
       "0.5        1.043393                 0.000846\n",
       "0.6        1.075686                 0.001031\n",
       "0.7        1.122351                 0.001226\n",
       "0.8        1.187524                 0.001429\n",
       "0.9        1.276698                 0.001629\n",
       "1.0        1.397409                 0.001797"
      ]
     },
     "execution_count": 10,
     "metadata": {},
     "output_type": "execute_result"
    }
   ],
   "source": [
    "true_value = exact_sol(t_list)\n",
    "t, w = Explicit_trapezoid_method(f, a, b, h, y_0)\n",
    "global_error = abs(true_value - w)\n",
    "\n",
    "DF({\"Approximations\": w, \"Global truncation error\": global_error, 't =': t}).set_index('t =')"
   ]
  },
  {
   "cell_type": "code",
   "execution_count": 11,
   "metadata": {},
   "outputs": [],
   "source": [
    "# (c)\n",
    "def f(t, y):\n",
    "    return 2*(t + 1)*y\n",
    "\n",
    "def exact_sol(t):\n",
    "    return exp((t+1)**2 - 1)"
   ]
  },
  {
   "cell_type": "code",
   "execution_count": 12,
   "metadata": {
    "scrolled": false
   },
   "outputs": [
    {
     "data": {
      "text/html": [
       "<div>\n",
       "<style scoped>\n",
       "    .dataframe tbody tr th:only-of-type {\n",
       "        vertical-align: middle;\n",
       "    }\n",
       "\n",
       "    .dataframe tbody tr th {\n",
       "        vertical-align: top;\n",
       "    }\n",
       "\n",
       "    .dataframe thead th {\n",
       "        text-align: right;\n",
       "    }\n",
       "</style>\n",
       "<table border=\"1\" class=\"dataframe\">\n",
       "  <thead>\n",
       "    <tr style=\"text-align: right;\">\n",
       "      <th></th>\n",
       "      <th>Approximations</th>\n",
       "      <th>Global truncation error</th>\n",
       "    </tr>\n",
       "    <tr>\n",
       "      <th>t =</th>\n",
       "      <th></th>\n",
       "      <th></th>\n",
       "    </tr>\n",
       "  </thead>\n",
       "  <tbody>\n",
       "    <tr>\n",
       "      <th>0.0</th>\n",
       "      <td>1.000000</td>\n",
       "      <td>0.000000</td>\n",
       "    </tr>\n",
       "    <tr>\n",
       "      <th>0.1</th>\n",
       "      <td>1.232000</td>\n",
       "      <td>0.001678</td>\n",
       "    </tr>\n",
       "    <tr>\n",
       "      <th>0.2</th>\n",
       "      <td>1.547885</td>\n",
       "      <td>0.004822</td>\n",
       "    </tr>\n",
       "    <tr>\n",
       "      <th>0.3</th>\n",
       "      <td>1.983150</td>\n",
       "      <td>0.010566</td>\n",
       "    </tr>\n",
       "    <tr>\n",
       "      <th>0.4</th>\n",
       "      <td>2.590787</td>\n",
       "      <td>0.020909</td>\n",
       "    </tr>\n",
       "    <tr>\n",
       "      <th>0.5</th>\n",
       "      <td>3.450929</td>\n",
       "      <td>0.039414</td>\n",
       "    </tr>\n",
       "    <tr>\n",
       "      <th>0.6</th>\n",
       "      <td>4.686361</td>\n",
       "      <td>0.072460</td>\n",
       "    </tr>\n",
       "    <tr>\n",
       "      <th>0.7</th>\n",
       "      <td>6.487798</td>\n",
       "      <td>0.131571</td>\n",
       "    </tr>\n",
       "    <tr>\n",
       "      <th>0.8</th>\n",
       "      <td>9.155581</td>\n",
       "      <td>0.237751</td>\n",
       "    </tr>\n",
       "    <tr>\n",
       "      <th>0.9</th>\n",
       "      <td>13.169387</td>\n",
       "      <td>0.429664</td>\n",
       "    </tr>\n",
       "    <tr>\n",
       "      <th>1.0</th>\n",
       "      <td>19.306322</td>\n",
       "      <td>0.779215</td>\n",
       "    </tr>\n",
       "  </tbody>\n",
       "</table>\n",
       "</div>"
      ],
      "text/plain": [
       "     Approximations  Global truncation error\n",
       "t =                                         \n",
       "0.0        1.000000                 0.000000\n",
       "0.1        1.232000                 0.001678\n",
       "0.2        1.547885                 0.004822\n",
       "0.3        1.983150                 0.010566\n",
       "0.4        2.590787                 0.020909\n",
       "0.5        3.450929                 0.039414\n",
       "0.6        4.686361                 0.072460\n",
       "0.7        6.487798                 0.131571\n",
       "0.8        9.155581                 0.237751\n",
       "0.9       13.169387                 0.429664\n",
       "1.0       19.306322                 0.779215"
      ]
     },
     "execution_count": 12,
     "metadata": {},
     "output_type": "execute_result"
    }
   ],
   "source": [
    "true_value = exact_sol(t_list)\n",
    "t, w = Explicit_trapezoid_method(f, a, b, h, y_0)\n",
    "global_error = abs(true_value - w)\n",
    "\n",
    "DF({\"Approximations\": w, \"Global truncation error\": global_error, 't =': t}).set_index('t =')"
   ]
  },
  {
   "cell_type": "code",
   "execution_count": 13,
   "metadata": {},
   "outputs": [],
   "source": [
    "# (d)\n",
    "def f(t, y):\n",
    "    return 5*(t**4)*y\n",
    "\n",
    "def exact_sol(t):\n",
    "    return exp(t**5)"
   ]
  },
  {
   "cell_type": "code",
   "execution_count": 14,
   "metadata": {
    "scrolled": false
   },
   "outputs": [
    {
     "data": {
      "text/html": [
       "<div>\n",
       "<style scoped>\n",
       "    .dataframe tbody tr th:only-of-type {\n",
       "        vertical-align: middle;\n",
       "    }\n",
       "\n",
       "    .dataframe tbody tr th {\n",
       "        vertical-align: top;\n",
       "    }\n",
       "\n",
       "    .dataframe thead th {\n",
       "        text-align: right;\n",
       "    }\n",
       "</style>\n",
       "<table border=\"1\" class=\"dataframe\">\n",
       "  <thead>\n",
       "    <tr style=\"text-align: right;\">\n",
       "      <th></th>\n",
       "      <th>Approximations</th>\n",
       "      <th>Global truncation error</th>\n",
       "    </tr>\n",
       "    <tr>\n",
       "      <th>t =</th>\n",
       "      <th></th>\n",
       "      <th></th>\n",
       "    </tr>\n",
       "  </thead>\n",
       "  <tbody>\n",
       "    <tr>\n",
       "      <th>0.0</th>\n",
       "      <td>1.000000</td>\n",
       "      <td>0.000000</td>\n",
       "    </tr>\n",
       "    <tr>\n",
       "      <th>0.1</th>\n",
       "      <td>1.000025</td>\n",
       "      <td>0.000015</td>\n",
       "    </tr>\n",
       "    <tr>\n",
       "      <th>0.2</th>\n",
       "      <td>1.000450</td>\n",
       "      <td>0.000130</td>\n",
       "    </tr>\n",
       "    <tr>\n",
       "      <th>0.3</th>\n",
       "      <td>1.002878</td>\n",
       "      <td>0.000445</td>\n",
       "    </tr>\n",
       "    <tr>\n",
       "      <th>0.4</th>\n",
       "      <td>1.011353</td>\n",
       "      <td>0.001060</td>\n",
       "    </tr>\n",
       "    <tr>\n",
       "      <th>0.5</th>\n",
       "      <td>1.033830</td>\n",
       "      <td>0.002087</td>\n",
       "    </tr>\n",
       "    <tr>\n",
       "      <th>0.6</th>\n",
       "      <td>1.084527</td>\n",
       "      <td>0.003664</td>\n",
       "    </tr>\n",
       "    <tr>\n",
       "      <th>0.7</th>\n",
       "      <td>1.188983</td>\n",
       "      <td>0.005963</td>\n",
       "    </tr>\n",
       "    <tr>\n",
       "      <th>0.8</th>\n",
       "      <td>1.396719</td>\n",
       "      <td>0.008975</td>\n",
       "    </tr>\n",
       "    <tr>\n",
       "      <th>0.9</th>\n",
       "      <td>1.815759</td>\n",
       "      <td>0.010887</td>\n",
       "    </tr>\n",
       "    <tr>\n",
       "      <th>1.0</th>\n",
       "      <td>2.716444</td>\n",
       "      <td>0.001838</td>\n",
       "    </tr>\n",
       "  </tbody>\n",
       "</table>\n",
       "</div>"
      ],
      "text/plain": [
       "     Approximations  Global truncation error\n",
       "t =                                         \n",
       "0.0        1.000000                 0.000000\n",
       "0.1        1.000025                 0.000015\n",
       "0.2        1.000450                 0.000130\n",
       "0.3        1.002878                 0.000445\n",
       "0.4        1.011353                 0.001060\n",
       "0.5        1.033830                 0.002087\n",
       "0.6        1.084527                 0.003664\n",
       "0.7        1.188983                 0.005963\n",
       "0.8        1.396719                 0.008975\n",
       "0.9        1.815759                 0.010887\n",
       "1.0        2.716444                 0.001838"
      ]
     },
     "execution_count": 14,
     "metadata": {},
     "output_type": "execute_result"
    }
   ],
   "source": [
    "true_value = exact_sol(t_list)\n",
    "t, w = Explicit_trapezoid_method(f, a, b, h, y_0)\n",
    "global_error = abs(true_value - w)\n",
    "\n",
    "DF({\"Approximations\": w, \"Global truncation error\": global_error, 't =': t}).set_index('t =')"
   ]
  },
  {
   "cell_type": "code",
   "execution_count": 15,
   "metadata": {},
   "outputs": [],
   "source": [
    "# (e)\n",
    "def f(t, y):\n",
    "    return y**(-2)\n",
    "\n",
    "def exact_sol(t):\n",
    "    return (3*t + 1)**(1/3)"
   ]
  },
  {
   "cell_type": "code",
   "execution_count": 16,
   "metadata": {
    "scrolled": false
   },
   "outputs": [
    {
     "data": {
      "text/html": [
       "<div>\n",
       "<style scoped>\n",
       "    .dataframe tbody tr th:only-of-type {\n",
       "        vertical-align: middle;\n",
       "    }\n",
       "\n",
       "    .dataframe tbody tr th {\n",
       "        vertical-align: top;\n",
       "    }\n",
       "\n",
       "    .dataframe thead th {\n",
       "        text-align: right;\n",
       "    }\n",
       "</style>\n",
       "<table border=\"1\" class=\"dataframe\">\n",
       "  <thead>\n",
       "    <tr style=\"text-align: right;\">\n",
       "      <th></th>\n",
       "      <th>Approximations</th>\n",
       "      <th>Global truncation error</th>\n",
       "    </tr>\n",
       "    <tr>\n",
       "      <th>t =</th>\n",
       "      <th></th>\n",
       "      <th></th>\n",
       "    </tr>\n",
       "  </thead>\n",
       "  <tbody>\n",
       "    <tr>\n",
       "      <th>0.0</th>\n",
       "      <td>1.000000</td>\n",
       "      <td>0.000000</td>\n",
       "    </tr>\n",
       "    <tr>\n",
       "      <th>0.1</th>\n",
       "      <td>1.091322</td>\n",
       "      <td>0.000071</td>\n",
       "    </tr>\n",
       "    <tr>\n",
       "      <th>0.2</th>\n",
       "      <td>1.169502</td>\n",
       "      <td>0.000105</td>\n",
       "    </tr>\n",
       "    <tr>\n",
       "      <th>0.3</th>\n",
       "      <td>1.238440</td>\n",
       "      <td>0.000122</td>\n",
       "    </tr>\n",
       "    <tr>\n",
       "      <th>0.4</th>\n",
       "      <td>1.300461</td>\n",
       "      <td>0.000130</td>\n",
       "    </tr>\n",
       "    <tr>\n",
       "      <th>0.5</th>\n",
       "      <td>1.357075</td>\n",
       "      <td>0.000133</td>\n",
       "    </tr>\n",
       "    <tr>\n",
       "      <th>0.6</th>\n",
       "      <td>1.409326</td>\n",
       "      <td>0.000134</td>\n",
       "    </tr>\n",
       "    <tr>\n",
       "      <th>0.7</th>\n",
       "      <td>1.457966</td>\n",
       "      <td>0.000133</td>\n",
       "    </tr>\n",
       "    <tr>\n",
       "      <th>0.8</th>\n",
       "      <td>1.503563</td>\n",
       "      <td>0.000132</td>\n",
       "    </tr>\n",
       "    <tr>\n",
       "      <th>0.9</th>\n",
       "      <td>1.546551</td>\n",
       "      <td>0.000130</td>\n",
       "    </tr>\n",
       "    <tr>\n",
       "      <th>1.0</th>\n",
       "      <td>1.587274</td>\n",
       "      <td>0.000127</td>\n",
       "    </tr>\n",
       "  </tbody>\n",
       "</table>\n",
       "</div>"
      ],
      "text/plain": [
       "     Approximations  Global truncation error\n",
       "t =                                         \n",
       "0.0        1.000000                 0.000000\n",
       "0.1        1.091322                 0.000071\n",
       "0.2        1.169502                 0.000105\n",
       "0.3        1.238440                 0.000122\n",
       "0.4        1.300461                 0.000130\n",
       "0.5        1.357075                 0.000133\n",
       "0.6        1.409326                 0.000134\n",
       "0.7        1.457966                 0.000133\n",
       "0.8        1.503563                 0.000132\n",
       "0.9        1.546551                 0.000130\n",
       "1.0        1.587274                 0.000127"
      ]
     },
     "execution_count": 16,
     "metadata": {},
     "output_type": "execute_result"
    }
   ],
   "source": [
    "true_value = exact_sol(t_list)\n",
    "t, w = Explicit_trapezoid_method(f, a, b, h, y_0)\n",
    "global_error = abs(true_value - w)\n",
    "\n",
    "DF({\"Approximations\": w, \"Global truncation error\": global_error, 't =': t}).set_index('t =')"
   ]
  },
  {
   "cell_type": "code",
   "execution_count": 17,
   "metadata": {},
   "outputs": [],
   "source": [
    "# (f)\n",
    "def f(t, y):\n",
    "    return t**3 / y**2\n",
    "\n",
    "def exact_sol(t):\n",
    "    return (0.75*(t**4) + 1)**(1/3)"
   ]
  },
  {
   "cell_type": "code",
   "execution_count": 18,
   "metadata": {
    "scrolled": false
   },
   "outputs": [
    {
     "data": {
      "text/html": [
       "<div>\n",
       "<style scoped>\n",
       "    .dataframe tbody tr th:only-of-type {\n",
       "        vertical-align: middle;\n",
       "    }\n",
       "\n",
       "    .dataframe tbody tr th {\n",
       "        vertical-align: top;\n",
       "    }\n",
       "\n",
       "    .dataframe thead th {\n",
       "        text-align: right;\n",
       "    }\n",
       "</style>\n",
       "<table border=\"1\" class=\"dataframe\">\n",
       "  <thead>\n",
       "    <tr style=\"text-align: right;\">\n",
       "      <th></th>\n",
       "      <th>Approximations</th>\n",
       "      <th>Global truncation error</th>\n",
       "    </tr>\n",
       "    <tr>\n",
       "      <th>t =</th>\n",
       "      <th></th>\n",
       "      <th></th>\n",
       "    </tr>\n",
       "  </thead>\n",
       "  <tbody>\n",
       "    <tr>\n",
       "      <th>0.0</th>\n",
       "      <td>1.000000</td>\n",
       "      <td>0.000000</td>\n",
       "    </tr>\n",
       "    <tr>\n",
       "      <th>0.1</th>\n",
       "      <td>1.000050</td>\n",
       "      <td>0.000025</td>\n",
       "    </tr>\n",
       "    <tr>\n",
       "      <th>0.2</th>\n",
       "      <td>1.000500</td>\n",
       "      <td>0.000100</td>\n",
       "    </tr>\n",
       "    <tr>\n",
       "      <th>0.3</th>\n",
       "      <td>1.002246</td>\n",
       "      <td>0.000225</td>\n",
       "    </tr>\n",
       "    <tr>\n",
       "      <th>0.4</th>\n",
       "      <td>1.006759</td>\n",
       "      <td>0.000399</td>\n",
       "    </tr>\n",
       "    <tr>\n",
       "      <th>0.5</th>\n",
       "      <td>1.016006</td>\n",
       "      <td>0.000618</td>\n",
       "    </tr>\n",
       "    <tr>\n",
       "      <th>0.6</th>\n",
       "      <td>1.032278</td>\n",
       "      <td>0.000874</td>\n",
       "    </tr>\n",
       "    <tr>\n",
       "      <th>0.7</th>\n",
       "      <td>1.057893</td>\n",
       "      <td>0.001149</td>\n",
       "    </tr>\n",
       "    <tr>\n",
       "      <th>0.8</th>\n",
       "      <td>1.094822</td>\n",
       "      <td>0.001418</td>\n",
       "    </tr>\n",
       "    <tr>\n",
       "      <th>0.9</th>\n",
       "      <td>1.144348</td>\n",
       "      <td>0.001654</td>\n",
       "    </tr>\n",
       "    <tr>\n",
       "      <th>1.0</th>\n",
       "      <td>1.206904</td>\n",
       "      <td>0.001833</td>\n",
       "    </tr>\n",
       "  </tbody>\n",
       "</table>\n",
       "</div>"
      ],
      "text/plain": [
       "     Approximations  Global truncation error\n",
       "t =                                         \n",
       "0.0        1.000000                 0.000000\n",
       "0.1        1.000050                 0.000025\n",
       "0.2        1.000500                 0.000100\n",
       "0.3        1.002246                 0.000225\n",
       "0.4        1.006759                 0.000399\n",
       "0.5        1.016006                 0.000618\n",
       "0.6        1.032278                 0.000874\n",
       "0.7        1.057893                 0.001149\n",
       "0.8        1.094822                 0.001418\n",
       "0.9        1.144348                 0.001654\n",
       "1.0        1.206904                 0.001833"
      ]
     },
     "execution_count": 18,
     "metadata": {},
     "output_type": "execute_result"
    }
   ],
   "source": [
    "true_value = exact_sol(t_list)\n",
    "t, w = Explicit_trapezoid_method(f, a, b, h, y_0)\n",
    "global_error = abs(true_value - w)\n",
    "\n",
    "DF({\"Approximations\": w, \"Global truncation error\": global_error, 't =': t}).set_index('t =')"
   ]
  },
  {
   "cell_type": "markdown",
   "metadata": {},
   "source": [
    "### Q. 2"
   ]
  },
  {
   "cell_type": "code",
   "execution_count": 19,
   "metadata": {},
   "outputs": [],
   "source": [
    "a, b = 0, 1\n",
    "h_list = [0.1, 0.05, 0.025]\n",
    "t_list = np.linspace(0, 1, 41)\n",
    "y_0 = 1"
   ]
  },
  {
   "cell_type": "code",
   "execution_count": 20,
   "metadata": {},
   "outputs": [],
   "source": [
    "# (a)\n",
    "def f(t, y):\n",
    "    return t\n",
    "\n",
    "def exact_sol(t):\n",
    "    return (t**2)/2 + 1"
   ]
  },
  {
   "cell_type": "code",
   "execution_count": 21,
   "metadata": {
    "scrolled": true
   },
   "outputs": [
    {
     "data": {
      "image/png": "[encoded data removed]",
      "text/plain": [
       "<matplotlib.figure.Figure at 0x17b7eeff978>"
      ]
     },
     "metadata": {},
     "output_type": "display_data"
    }
   ],
   "source": [
    "plt.figure()\n",
    "\n",
    "true_value = exact_sol(t_list)\n",
    "plt.plot(t_list, true_value, label='$(t^2)/2 + 1$')\n",
    "\n",
    "for h in h_list:\n",
    "    t, w = Explicit_trapezoid_method(f, a, b, h, y_0)\n",
    "    plt.plot(t, w, label='h: %.3f' % h)\n",
    "    \n",
    "plt.legend()\n",
    "plt.show()"
   ]
  },
  {
   "cell_type": "code",
   "execution_count": 22,
   "metadata": {},
   "outputs": [],
   "source": [
    "# (b)\n",
    "def f(t, y):\n",
    "    return (t**2)*y\n",
    "\n",
    "def exact_sol(t):\n",
    "    return exp((t**3)/3)"
   ]
  },
  {
   "cell_type": "code",
   "execution_count": 23,
   "metadata": {},
   "outputs": [
    {
     "data": {
      "image/png": "[encoded data removed]",
      "text/plain": [
       "<matplotlib.figure.Figure at 0x17b7eff40f0>"
      ]
     },
     "metadata": {},
     "output_type": "display_data"
    }
   ],
   "source": [
    "plt.figure()\n",
    "\n",
    "true_value = exact_sol(t_list)\n",
    "plt.plot(t_list, true_value, label='$exp(t^3/3)$')\n",
    "\n",
    "for h in h_list:\n",
    "    t, w = Explicit_trapezoid_method(f, a, b, h, y_0)\n",
    "    plt.plot(t, w, label='h: %.3f' % h)\n",
    "    \n",
    "plt.legend()\n",
    "plt.show()"
   ]
  },
  {
   "cell_type": "code",
   "execution_count": 24,
   "metadata": {},
   "outputs": [],
   "source": [
    "# (c)\n",
    "def f(t, y):\n",
    "    return 2*(t + 1)*y\n",
    "\n",
    "def exact_sol(t):\n",
    "    return exp((t+1)**2 - 1)"
   ]
  },
  {
   "cell_type": "code",
   "execution_count": 25,
   "metadata": {},
   "outputs": [
    {
     "data": {
      "image/png": "[encoded data removed]",
      "text/plain": [
       "<matplotlib.figure.Figure at 0x17b7f0d6b00>"
      ]
     },
     "metadata": {},
     "output_type": "display_data"
    }
   ],
   "source": [
    "plt.figure()\n",
    "\n",
    "true_value = exact_sol(t_list)\n",
    "plt.plot(t_list, true_value, label='$exp((t+1)^2 - 1)$')\n",
    "\n",
    "for h in h_list:\n",
    "    t, w = Explicit_trapezoid_method(f, a, b, h, y_0)\n",
    "    plt.plot(t, w, label='h: %.3f' % h)\n",
    "    \n",
    "plt.legend()\n",
    "plt.show()"
   ]
  },
  {
   "cell_type": "code",
   "execution_count": 26,
   "metadata": {},
   "outputs": [],
   "source": [
    "# (d)\n",
    "def f(t, y):\n",
    "    return 5*(t**4)*y\n",
    "\n",
    "def exact_sol(t):\n",
    "    return exp(t**5)"
   ]
  },
  {
   "cell_type": "code",
   "execution_count": 27,
   "metadata": {},
   "outputs": [
    {
     "data": {
      "image/png": "[encoded data removed]",
      "text/plain": [
       "<matplotlib.figure.Figure at 0x17b7f156240>"
      ]
     },
     "metadata": {},
     "output_type": "display_data"
    }
   ],
   "source": [
    "plt.figure()\n",
    "\n",
    "true_value = exact_sol(t_list)\n",
    "plt.plot(t_list, true_value, label='$exp(t^5)$')\n",
    "\n",
    "for h in h_list:\n",
    "    t, w = Explicit_trapezoid_method(f, a, b, h, y_0)\n",
    "    plt.plot(t, w, label='h: %.3f' % h)\n",
    "    \n",
    "plt.legend()\n",
    "plt.show()"
   ]
  },
  {
   "cell_type": "code",
   "execution_count": 28,
   "metadata": {},
   "outputs": [],
   "source": [
    "# (e)\n",
    "def f(t, y):\n",
    "    return y**(-2)\n",
    "\n",
    "def exact_sol(t):\n",
    "    return (3*t + 1)**(1/3)"
   ]
  },
  {
   "cell_type": "code",
   "execution_count": 29,
   "metadata": {},
   "outputs": [
    {
     "data": {
      "image/png": "[encoded data removed]",
      "text/plain": [
       "<matplotlib.figure.Figure at 0x17b7f1f85c0>"
      ]
     },
     "metadata": {},
     "output_type": "display_data"
    }
   ],
   "source": [
    "plt.figure()\n",
    "\n",
    "true_value = exact_sol(t_list)\n",
    "plt.plot(t_list, true_value, label='$\\sqrt[3]{(3t + 1)}$')\n",
    "\n",
    "for h in h_list:\n",
    "    t, w = Explicit_trapezoid_method(f, a, b, h, y_0)\n",
    "    plt.plot(t, w, label='h: %.3f' % h)\n",
    "    \n",
    "plt.legend()\n",
    "plt.show()"
   ]
  },
  {
   "cell_type": "code",
   "execution_count": 30,
   "metadata": {},
   "outputs": [],
   "source": [
    "# (f)\n",
    "def f(t, y):\n",
    "    return t**3 / y**2\n",
    "\n",
    "def exact_sol(t):\n",
    "    return (0.75*(t**4) + 1)**(1/3)"
   ]
  },
  {
   "cell_type": "code",
   "execution_count": 31,
   "metadata": {
    "scrolled": true
   },
   "outputs": [
    {
     "data": {
      "image/png": "[encoded data removed]",
      "text/plain": [
       "<matplotlib.figure.Figure at 0x17b7f26a4a8>"
      ]
     },
     "metadata": {},
     "output_type": "display_data"
    }
   ],
   "source": [
    "plt.figure()\n",
    "\n",
    "true_value = exact_sol(t_list)\n",
    "plt.plot(t_list, true_value, label='$\\sqrt[3]{(3/4)t^4 + 1}$')\n",
    "\n",
    "for h in h_list:\n",
    "    t, w = Explicit_trapezoid_method(f, a, b, h, y_0)\n",
    "    plt.plot(t, w, label='h: %.3f' % h)\n",
    "    \n",
    "plt.legend()\n",
    "plt.show()"
   ]
  },
  {
   "cell_type": "markdown",
   "metadata": {},
   "source": [
    "### Q. 3"
   ]
  },
  {
   "cell_type": "code",
   "execution_count": 32,
   "metadata": {},
   "outputs": [],
   "source": [
    "a, b = 0, 1\n",
    "h_list = [0.1*(2**(-k)) for k in range(6)]\n",
    "y_0 = 1"
   ]
  },
  {
   "cell_type": "code",
   "execution_count": 33,
   "metadata": {},
   "outputs": [],
   "source": [
    "# (a)\n",
    "def f(t, y):\n",
    "    return t\n",
    "\n",
    "def exact_sol(t):\n",
    "    return (t**2)/2 + 1"
   ]
  },
  {
   "cell_type": "code",
   "execution_count": 34,
   "metadata": {
    "scrolled": false
   },
   "outputs": [
    {
     "data": {
      "image/png": "[encoded data removed]",
      "text/plain": [
       "<matplotlib.figure.Figure at 0x17b7f30c780>"
      ]
     },
     "metadata": {},
     "output_type": "display_data"
    }
   ],
   "source": [
    "f_1 = exact_sol(1)\n",
    "error_list = np.zeros(6)\n",
    "for i, h in enumerate(h_list):\n",
    "    t, w = Explicit_trapezoid_method(f, a, b, h, y_0)\n",
    "    error_list[i] = abs(w[-1] - f_1)\n",
    "\n",
    "plt.plot(h_list, error_list)\n",
    "plt.xlabel('h')\n",
    "plt.ylabel(\"Error\")\n",
    "plt.xscale(\"log\")\n",
    "plt.yscale(\"log\")\n",
    "plt.show()"
   ]
  },
  {
   "cell_type": "code",
   "execution_count": 35,
   "metadata": {},
   "outputs": [],
   "source": [
    "# (b)\n",
    "def f(t, y):\n",
    "    return (t**2)*y\n",
    "\n",
    "def exact_sol(t):\n",
    "    return exp((t**3)/3)"
   ]
  },
  {
   "cell_type": "code",
   "execution_count": 36,
   "metadata": {
    "scrolled": true
   },
   "outputs": [
    {
     "data": {
      "image/png": "[encoded data removed]",
      "text/plain": [
       "<matplotlib.figure.Figure at 0x17b7f2af0b8>"
      ]
     },
     "metadata": {},
     "output_type": "display_data"
    }
   ],
   "source": [
    "f_1 = exact_sol(1)\n",
    "error_list = np.zeros(6)\n",
    "for i, h in enumerate(h_list):\n",
    "    t, w = Explicit_trapezoid_method(f, a, b, h, y_0)\n",
    "    error_list[i] = abs(w[-1] - f_1)\n",
    "\n",
    "plt.plot(h_list, error_list)\n",
    "plt.xlabel('h')\n",
    "plt.ylabel(\"Error\")\n",
    "plt.xscale(\"log\")\n",
    "plt.yscale(\"log\")\n",
    "plt.show()"
   ]
  },
  {
   "cell_type": "code",
   "execution_count": 37,
   "metadata": {},
   "outputs": [],
   "source": [
    "# (c)\n",
    "def f(t, y):\n",
    "    return 2*(t + 1)*y\n",
    "\n",
    "def exact_sol(t):\n",
    "    return exp((t+1)**2 - 1)"
   ]
  },
  {
   "cell_type": "code",
   "execution_count": 38,
   "metadata": {
    "scrolled": true
   },
   "outputs": [
    {
     "data": {
      "image/png": "[encoded data removed]",
      "text/plain": [
       "<matplotlib.figure.Figure at 0x17b7f3cecf8>"
      ]
     },
     "metadata": {},
     "output_type": "display_data"
    }
   ],
   "source": [
    "f_1 = exact_sol(1)\n",
    "error_list = np.zeros(6)\n",
    "for i, h in enumerate(h_list):\n",
    "    t, w = Explicit_trapezoid_method(f, a, b, h, y_0)\n",
    "    error_list[i] = abs(w[-1] - f_1)\n",
    "\n",
    "plt.plot(h_list, error_list)\n",
    "plt.xlabel('h')\n",
    "plt.ylabel(\"Error\")\n",
    "plt.xscale(\"log\")\n",
    "plt.yscale(\"log\")\n",
    "plt.show()"
   ]
  },
  {
   "cell_type": "code",
   "execution_count": 39,
   "metadata": {},
   "outputs": [],
   "source": [
    "# (d)\n",
    "def f(t, y):\n",
    "    return 5*(t**4)*y\n",
    "\n",
    "def exact_sol(t):\n",
    "    return exp(t**5)"
   ]
  },
  {
   "cell_type": "code",
   "execution_count": 40,
   "metadata": {
    "scrolled": true
   },
   "outputs": [
    {
     "data": {
      "image/png": "[encoded data removed]",
      "text/plain": [
       "<matplotlib.figure.Figure at 0x17b7f1faf28>"
      ]
     },
     "metadata": {},
     "output_type": "display_data"
    }
   ],
   "source": [
    "f_1 = exact_sol(1)\n",
    "error_list = np.zeros(6)\n",
    "for i, h in enumerate(h_list):\n",
    "    t, w = Explicit_trapezoid_method(f, a, b, h, y_0)\n",
    "    error_list[i] = abs(w[-1] - f_1)\n",
    "\n",
    "plt.plot(h_list, error_list)\n",
    "plt.xlabel('h')\n",
    "plt.ylabel(\"Error\")\n",
    "plt.xscale(\"log\")\n",
    "plt.yscale(\"log\")\n",
    "plt.show()"
   ]
  },
  {
   "cell_type": "code",
   "execution_count": 41,
   "metadata": {},
   "outputs": [],
   "source": [
    "# (e)\n",
    "def f(t, y):\n",
    "    return y**(-2)\n",
    "\n",
    "def exact_sol(t):\n",
    "    return (3*t + 1)**(1/3)"
   ]
  },
  {
   "cell_type": "code",
   "execution_count": 42,
   "metadata": {
    "scrolled": true
   },
   "outputs": [
    {
     "data": {
      "image/png": "[encoded data removed]",
      "text/plain": [
       "<matplotlib.figure.Figure at 0x17b7ef36ba8>"
      ]
     },
     "metadata": {},
     "output_type": "display_data"
    }
   ],
   "source": [
    "f_1 = exact_sol(1)\n",
    "error_list = np.zeros(6)\n",
    "for i, h in enumerate(h_list):\n",
    "    t, w = Explicit_trapezoid_method(f, a, b, h, y_0)\n",
    "    error_list[i] = abs(w[-1] - f_1)\n",
    "\n",
    "plt.plot(h_list, error_list)\n",
    "plt.xlabel('h')\n",
    "plt.ylabel(\"Error\")\n",
    "plt.xscale(\"log\")\n",
    "plt.yscale(\"log\")\n",
    "plt.show()"
   ]
  },
  {
   "cell_type": "code",
   "execution_count": 43,
   "metadata": {},
   "outputs": [],
   "source": [
    "# (f)\n",
    "def f(t, y):\n",
    "    return t**3 / y**2\n",
    "\n",
    "def exact_sol(t):\n",
    "    return (0.75*(t**4) + 1)**(1/3)"
   ]
  },
  {
   "cell_type": "code",
   "execution_count": 44,
   "metadata": {
    "scrolled": false
   },
   "outputs": [
    {
     "data": {
      "image/png": "[encoded data removed]",
      "text/plain": [
       "<matplotlib.figure.Figure at 0x17b7f37d978>"
      ]
     },
     "metadata": {},
     "output_type": "display_data"
    }
   ],
   "source": [
    "f_1 = exact_sol(1)\n",
    "error_list = np.zeros(6)\n",
    "for i, h in enumerate(h_list):\n",
    "    t, w = Explicit_trapezoid_method(f, a, b, h, y_0)\n",
    "    error_list[i] = abs(w[-1] - f_1)\n",
    "\n",
    "plt.plot(h_list, error_list)\n",
    "plt.xlabel('h')\n",
    "plt.ylabel(\"Error\")\n",
    "plt.xscale(\"log\")\n",
    "plt.yscale(\"log\")\n",
    "plt.show()"
   ]
  },
  {
   "cell_type": "markdown",
   "metadata": {},
   "source": [
    "### Q. 4"
   ]
  },
  {
   "cell_type": "code",
   "execution_count": 45,
   "metadata": {},
   "outputs": [],
   "source": [
    "a, b = 0, 1\n",
    "h_list = [0.1*(2**(-k)) for k in range(6)]\n",
    "y_0 = 1"
   ]
  },
  {
   "cell_type": "code",
   "execution_count": 46,
   "metadata": {},
   "outputs": [],
   "source": [
    "# (a)\n",
    "def f(t, y):\n",
    "    return t\n",
    "\n",
    "def f_diff_1(t, y):\n",
    "    return 1\n",
    "\n",
    "def exact_sol(t):\n",
    "    return (t**2)/2 + 1"
   ]
  },
  {
   "cell_type": "code",
   "execution_count": 47,
   "metadata": {
    "scrolled": true
   },
   "outputs": [
    {
     "data": {
      "image/png": "[encoded data removed]",
      "text/plain": [
       "<matplotlib.figure.Figure at 0x17b7f252b70>"
      ]
     },
     "metadata": {},
     "output_type": "display_data"
    }
   ],
   "source": [
    "f_1 = exact_sol(1)\n",
    "error_list = np.zeros(6)\n",
    "for i, h in enumerate(h_list):\n",
    "    t, w = Taylor_method_2_order(f, f_diff_1, a, b, h, y_0)\n",
    "    error_list[i] = abs(w[-1] - f_1)\n",
    "\n",
    "plt.plot(h_list, error_list)\n",
    "plt.xlabel('h')\n",
    "plt.ylabel(\"Error\")\n",
    "plt.xscale(\"log\")\n",
    "plt.yscale(\"log\")\n",
    "plt.show()"
   ]
  },
  {
   "cell_type": "code",
   "execution_count": 48,
   "metadata": {},
   "outputs": [],
   "source": [
    "# (b)\n",
    "def f(t, y):\n",
    "    return (t**2)*y\n",
    "\n",
    "def f_diff_1(t, y):\n",
    "    return 2*t*y + y*t**4\n",
    "\n",
    "def exact_sol(t):\n",
    "    return exp((t**3)/3)"
   ]
  },
  {
   "cell_type": "code",
   "execution_count": 49,
   "metadata": {
    "scrolled": true
   },
   "outputs": [
    {
     "data": {
      "image/png": "[encoded data removed]",
      "text/plain": [
       "<matplotlib.figure.Figure at 0x17b7f498a20>"
      ]
     },
     "metadata": {},
     "output_type": "display_data"
    }
   ],
   "source": [
    "f_1 = exact_sol(1)\n",
    "error_list = np.zeros(6)\n",
    "for i, h in enumerate(h_list):\n",
    "    t, w = Taylor_method_2_order(f, f_diff_1, a, b, h, y_0)\n",
    "    error_list[i] = abs(w[-1] - f_1)\n",
    "\n",
    "plt.plot(h_list, error_list)\n",
    "plt.xlabel('h')\n",
    "plt.ylabel(\"Error\")\n",
    "plt.xscale(\"log\")\n",
    "plt.yscale(\"log\")\n",
    "plt.show()"
   ]
  },
  {
   "cell_type": "code",
   "execution_count": 50,
   "metadata": {},
   "outputs": [],
   "source": [
    "# (c)\n",
    "def f(t, y):\n",
    "    return 2*(t + 1)*y\n",
    "\n",
    "def f_diff_1(t, y):\n",
    "    return 2*y + 4*(t+1)**2*y\n",
    "\n",
    "def exact_sol(t):\n",
    "    return exp((t+1)**2 - 1)"
   ]
  },
  {
   "cell_type": "code",
   "execution_count": 51,
   "metadata": {
    "scrolled": true
   },
   "outputs": [
    {
     "data": {
      "image/png": "[encoded data removed]",
      "text/plain": [
       "<matplotlib.figure.Figure at 0x17b7f32cdd8>"
      ]
     },
     "metadata": {},
     "output_type": "display_data"
    }
   ],
   "source": [
    "f_1 = exact_sol(1)\n",
    "error_list = np.zeros(6)\n",
    "for i, h in enumerate(h_list):\n",
    "    t, w = Taylor_method_2_order(f, f_diff_1, a, b, h, y_0)\n",
    "    error_list[i] = abs(w[-1] - f_1)\n",
    "\n",
    "plt.plot(h_list, error_list)\n",
    "plt.xlabel('h')\n",
    "plt.ylabel(\"Error\")\n",
    "plt.xscale(\"log\")\n",
    "plt.yscale(\"log\")\n",
    "plt.show()"
   ]
  },
  {
   "cell_type": "code",
   "execution_count": 52,
   "metadata": {},
   "outputs": [],
   "source": [
    "# (d)\n",
    "def f(t, y):\n",
    "    return 5*(t**4)*y\n",
    "\n",
    "def f_diff_1(t, y):\n",
    "    return 20*y*t**3 + 25*y*t**8\n",
    "\n",
    "def exact_sol(t):\n",
    "    return exp(t**5)"
   ]
  },
  {
   "cell_type": "code",
   "execution_count": 53,
   "metadata": {
    "scrolled": true
   },
   "outputs": [
    {
     "data": {
      "image/png": "[encoded data removed]",
      "text/plain": [
       "<matplotlib.figure.Figure at 0x17b7f321358>"
      ]
     },
     "metadata": {},
     "output_type": "display_data"
    }
   ],
   "source": [
    "f_1 = exact_sol(1)\n",
    "error_list = np.zeros(6)\n",
    "for i, h in enumerate(h_list):\n",
    "    t, w = Taylor_method_2_order(f, f_diff_1, a, b, h, y_0)\n",
    "    error_list[i] = abs(w[-1] - f_1)\n",
    "\n",
    "plt.plot(h_list, error_list)\n",
    "plt.xlabel('h')\n",
    "plt.ylabel(\"Error\")\n",
    "plt.xscale(\"log\")\n",
    "plt.yscale(\"log\")\n",
    "plt.show()"
   ]
  },
  {
   "cell_type": "code",
   "execution_count": 54,
   "metadata": {},
   "outputs": [],
   "source": [
    "# (e)\n",
    "def f(t, y):\n",
    "    return y**(-2)\n",
    "\n",
    "def f_diff_1(t, y):\n",
    "    return -2*y**(-5)\n",
    "\n",
    "def exact_sol(t):\n",
    "    return (3*t + 1)**(1/3)"
   ]
  },
  {
   "cell_type": "code",
   "execution_count": 55,
   "metadata": {
    "scrolled": true
   },
   "outputs": [
    {
     "data": {
      "image/png": "[encoded data removed]",
      "text/plain": [
       "<matplotlib.figure.Figure at 0x17b7f2843c8>"
      ]
     },
     "metadata": {},
     "output_type": "display_data"
    }
   ],
   "source": [
    "f_1 = exact_sol(1)\n",
    "error_list = np.zeros(6)\n",
    "for i, h in enumerate(h_list):\n",
    "    t, w = Taylor_method_2_order(f, f_diff_1, a, b, h, y_0)\n",
    "    error_list[i] = abs(w[-1] - f_1)\n",
    "\n",
    "plt.plot(h_list, error_list)\n",
    "plt.xlabel('h')\n",
    "plt.ylabel(\"Error\")\n",
    "plt.xscale(\"log\")\n",
    "plt.yscale(\"log\")\n",
    "plt.show()"
   ]
  },
  {
   "cell_type": "code",
   "execution_count": 56,
   "metadata": {},
   "outputs": [],
   "source": [
    "# (f)\n",
    "def f(t, y):\n",
    "    return t**3 / y**2\n",
    "\n",
    "def f_diff_1(t ,y):\n",
    "    return 3*(t**2)*(y**(-2)) - 2*(t**6)*(y**(-5))\n",
    "    \n",
    "def exact_sol(t):\n",
    "    return (0.75*(t**4) + 1)**(1/3)"
   ]
  },
  {
   "cell_type": "code",
   "execution_count": 57,
   "metadata": {
    "scrolled": false
   },
   "outputs": [
    {
     "data": {
      "image/png": "[encoded data removed]",
      "text/plain": [
       "<matplotlib.figure.Figure at 0x17b7f0a5f28>"
      ]
     },
     "metadata": {},
     "output_type": "display_data"
    }
   ],
   "source": [
    "f_1 = exact_sol(1)\n",
    "error_list = np.zeros(6)\n",
    "for i, h in enumerate(h_list):\n",
    "    t, w = Taylor_method_2_order(f, f_diff_1, a, b, h, y_0)\n",
    "    error_list[i] = abs(w[-1] - f_1)\n",
    "\n",
    "plt.plot(h_list, error_list)\n",
    "plt.xlabel('h')\n",
    "plt.ylabel(\"Error\")\n",
    "plt.xscale(\"log\")\n",
    "plt.yscale(\"log\")\n",
    "plt.show()"
   ]
  },
  {
   "cell_type": "markdown",
   "metadata": {},
   "source": [
    "### Q. 5"
   ]
  },
  {
   "cell_type": "code",
   "execution_count": 58,
   "metadata": {},
   "outputs": [],
   "source": [
    "a, b = 0, 1\n",
    "h_list = [0.1, 0.05]\n",
    "t_list = np.linspace(0, 1, 21)\n",
    "\n",
    "def f(t, y):\n",
    "    return 1 + y**2"
   ]
  },
  {
   "cell_type": "code",
   "execution_count": 59,
   "metadata": {},
   "outputs": [],
   "source": [
    "# (a)\n",
    "y_0 = 0\n",
    "\n",
    "def exact_sol(t):\n",
    "    return tan(t)"
   ]
  },
  {
   "cell_type": "code",
   "execution_count": 60,
   "metadata": {
    "scrolled": true
   },
   "outputs": [
    {
     "data": {
      "image/png": "[encoded data removed]",
      "text/plain": [
       "<matplotlib.figure.Figure at 0x17b7f171208>"
      ]
     },
     "metadata": {},
     "output_type": "display_data"
    }
   ],
   "source": [
    "plt.figure()\n",
    "\n",
    "true_value = exact_sol(t_list)\n",
    "plt.plot(t_list, true_value, label='$tan(t)$')\n",
    "\n",
    "for h in h_list:\n",
    "    t, w = Explicit_trapezoid_method(f, a, b, h, y_0)\n",
    "    plt.plot(t, w, label='h: %.2f' % h)\n",
    "    \n",
    "plt.legend()\n",
    "plt.show()"
   ]
  },
  {
   "cell_type": "code",
   "execution_count": 61,
   "metadata": {},
   "outputs": [],
   "source": [
    "# (b)\n",
    "y_0 = 1\n",
    "\n",
    "def exact_sol(t):\n",
    "    return tan(t + pi/4)"
   ]
  },
  {
   "cell_type": "code",
   "execution_count": 62,
   "metadata": {
    "scrolled": true
   },
   "outputs": [
    {
     "data": {
      "image/png": "[encoded data removed]",
      "text/plain": [
       "<matplotlib.figure.Figure at 0x17b7f054c88>"
      ]
     },
     "metadata": {},
     "output_type": "display_data"
    }
   ],
   "source": [
    "plt.figure()\n",
    "\n",
    "true_value = exact_sol(t_list)\n",
    "plt.plot(t_list, true_value, label='$tan(t + \\pi/4)$')\n",
    "\n",
    "for h in h_list:\n",
    "    t, w = Explicit_trapezoid_method(f, a, b, h, y_0)\n",
    "    plt.plot(t, w, label='h: %.2f' % h)\n",
    "    \n",
    "plt.legend()\n",
    "plt.show()"
   ]
  },
  {
   "cell_type": "markdown",
   "metadata": {},
   "source": [
    "### Q. 6"
   ]
  },
  {
   "cell_type": "code",
   "execution_count": 63,
   "metadata": {},
   "outputs": [],
   "source": [
    "a, b = 0, 1\n",
    "h_list = [0.1, 0.05]\n",
    "t_list = np.linspace(0, 1, 21)\n",
    "\n",
    "def f(t, y):\n",
    "    return 1 - y**2"
   ]
  },
  {
   "cell_type": "code",
   "execution_count": 64,
   "metadata": {},
   "outputs": [],
   "source": [
    "# (a)\n",
    "y_0 = 0\n",
    "\n",
    "def exact_sol(t):\n",
    "    return tanh(t)"
   ]
  },
  {
   "cell_type": "code",
   "execution_count": 65,
   "metadata": {
    "scrolled": true
   },
   "outputs": [
    {
     "data": {
      "image/png": "[encoded data removed]",
      "text/plain": [
       "<matplotlib.figure.Figure at 0x17b7f1bd400>"
      ]
     },
     "metadata": {},
     "output_type": "display_data"
    }
   ],
   "source": [
    "plt.figure()\n",
    "\n",
    "true_value = exact_sol(t_list)\n",
    "plt.plot(t_list, true_value, label='$tanh(t)$')\n",
    "\n",
    "for h in h_list:\n",
    "    t, w = Explicit_trapezoid_method(f, a, b, h, y_0)\n",
    "    plt.plot(t, w, label='h: %.2f' % h)\n",
    "    \n",
    "plt.legend()\n",
    "plt.show()"
   ]
  },
  {
   "cell_type": "code",
   "execution_count": 66,
   "metadata": {},
   "outputs": [],
   "source": [
    "# (b)\n",
    "y_0 = -1/2\n",
    "\n",
    "def exact_sol(t):\n",
    "    c = -log(3)/2\n",
    "    return tanh(t + c)"
   ]
  },
  {
   "cell_type": "code",
   "execution_count": 67,
   "metadata": {
    "scrolled": true
   },
   "outputs": [
    {
     "data": {
      "image/png": "[encoded data removed]",
      "text/plain": [
       "<matplotlib.figure.Figure at 0x17b7f4f42e8>"
      ]
     },
     "metadata": {},
     "output_type": "display_data"
    }
   ],
   "source": [
    "plt.figure()\n",
    "\n",
    "true_value = exact_sol(t_list)\n",
    "plt.plot(t_list, true_value, label='$tanh(t - log(3)/2)$')\n",
    "\n",
    "for h in h_list:\n",
    "    t, w = Explicit_trapezoid_method(f, a, b, h, y_0)\n",
    "    plt.plot(t, w, label='h: %.2f' % h)\n",
    "    \n",
    "plt.legend()\n",
    "plt.show()"
   ]
  },
  {
   "cell_type": "markdown",
   "metadata": {},
   "source": [
    "### Q. 7"
   ]
  },
  {
   "cell_type": "code",
   "execution_count": 68,
   "metadata": {},
   "outputs": [],
   "source": [
    "a, b = 0, 4\n",
    "h_list = [0.1 * 2**(-k) for k in range(6)]\n",
    "t_list = np.arange(a, b+h_list[-1], h_list[-1])\n",
    "\n",
    "def f(t, y):\n",
    "    return sin(y)"
   ]
  },
  {
   "cell_type": "code",
   "execution_count": 69,
   "metadata": {},
   "outputs": [],
   "source": [
    "# (a)\n",
    "y_0 = 0\n",
    "\n",
    "def exact_sol(t):\n",
    "    return 2*arctan(exp(t)*tan(y_0/2)) + 2*pi*int((y_0 + pi)/(2*pi))"
   ]
  },
  {
   "cell_type": "code",
   "execution_count": 70,
   "metadata": {
    "scrolled": true
   },
   "outputs": [
    {
     "data": {
      "image/png": "[encoded data removed]",
      "text/plain": [
       "<matplotlib.figure.Figure at 0x17b7f339f60>"
      ]
     },
     "metadata": {},
     "output_type": "display_data"
    }
   ],
   "source": [
    "plt.figure()\n",
    "\n",
    "true_value = exact_sol(t_list)\n",
    "plt.plot(t_list, true_value, label='Exact solution')\n",
    "\n",
    "for i, h in enumerate([h_list[0], h_list[-1]]):\n",
    "    t, w = Explicit_trapezoid_method(f, a, b, h, y_0)\n",
    "    plt.plot(t, w, label='k: %d' % (5*i))\n",
    "    \n",
    "plt.legend()\n",
    "plt.show()"
   ]
  },
  {
   "cell_type": "code",
   "execution_count": 71,
   "metadata": {
    "scrolled": false
   },
   "outputs": [
    {
     "name": "stderr",
     "output_type": "stream",
     "text": [
      "C:\\Users\\snuist\\Anaconda3\\lib\\site-packages\\matplotlib\\ticker.py:2206: UserWarning: Data has no positive values, and therefore cannot be log-scaled.\n",
      "  \"Data has no positive values, and therefore cannot be \"\n"
     ]
    },
    {
     "data": {
      "image/png": "[encoded data removed]",
      "text/plain": [
       "<matplotlib.figure.Figure at 0x17b7f31bf98>"
      ]
     },
     "metadata": {},
     "output_type": "display_data"
    }
   ],
   "source": [
    "f_4 = exact_sol(4)\n",
    "error_list = np.zeros(6)\n",
    "for i, h in enumerate(h_list):\n",
    "    t, w = Explicit_trapezoid_method(f, a, b, h, y_0)\n",
    "    error_list[i] = abs(w[-1] - f_4)\n",
    "# Since the initial value is 0, the solution of the ODE is 0.\n",
    "# Therefore the Explicit_trapezoid method can precisely calculate the result.\n",
    "    \n",
    "plt.plot(h_list, error_list)\n",
    "plt.xlabel('h')\n",
    "plt.ylabel(\"Error\")\n",
    "plt.xscale(\"log\")\n",
    "plt.yscale(\"log\")\n",
    "plt.show()"
   ]
  },
  {
   "cell_type": "code",
   "execution_count": 72,
   "metadata": {},
   "outputs": [],
   "source": [
    "# (b)\n",
    "y_0 = 100\n",
    "\n",
    "def exact_sol(t):\n",
    "    return 2*arctan(exp(t)*tan(y_0/2)) + 2*pi*int((y_0 + pi)/(2*pi))"
   ]
  },
  {
   "cell_type": "code",
   "execution_count": 73,
   "metadata": {
    "scrolled": true
   },
   "outputs": [
    {
     "data": {
      "image/png": "[encoded data removed]",
      "text/plain": [
       "<matplotlib.figure.Figure at 0x17b7f32c780>"
      ]
     },
     "metadata": {},
     "output_type": "display_data"
    }
   ],
   "source": [
    "plt.figure()\n",
    "\n",
    "true_value = exact_sol(t_list)\n",
    "plt.plot(t_list, true_value, label='Exact solution')\n",
    "\n",
    "for i, h in enumerate([h_list[0], h_list[-1]]):\n",
    "    t, w = Explicit_trapezoid_method(f, a, b, h, y_0)\n",
    "    plt.plot(t, w, label='k: %d' % (5*i))\n",
    "    \n",
    "plt.legend()\n",
    "plt.show()"
   ]
  },
  {
   "cell_type": "code",
   "execution_count": 74,
   "metadata": {
    "scrolled": true
   },
   "outputs": [
    {
     "data": {
      "image/png": "[encoded data removed]",
      "text/plain": [
       "<matplotlib.figure.Figure at 0x17b7f1bd390>"
      ]
     },
     "metadata": {},
     "output_type": "display_data"
    }
   ],
   "source": [
    "f_4 = exact_sol(4)\n",
    "error_list = np.zeros(6)\n",
    "for i, h in enumerate(h_list):\n",
    "    t, w = Explicit_trapezoid_method(f, a, b, h, y_0)\n",
    "    error_list[i] = abs(w[-1] - f_4)\n",
    "\n",
    "plt.plot(h_list, error_list)\n",
    "plt.xlabel('h')\n",
    "plt.ylabel(\"Error\")\n",
    "plt.xscale(\"log\")\n",
    "plt.yscale(\"log\")\n",
    "plt.show()"
   ]
  },
  {
   "cell_type": "markdown",
   "metadata": {},
   "source": [
    "### Q. 8"
   ]
  },
  {
   "cell_type": "code",
   "execution_count": 75,
   "metadata": {},
   "outputs": [],
   "source": [
    "h_list = [0.1 * 2**(-k) for k in range(6)]\n",
    "t_list = np.arange(a, b+h_list[-1], h_list[-1])\n",
    "\n",
    "def f(t, y):\n",
    "    return sinh(y)"
   ]
  },
  {
   "cell_type": "code",
   "execution_count": 76,
   "metadata": {},
   "outputs": [],
   "source": [
    "# (a)\n",
    "a, b = 0, 2\n",
    "y_0 = 1/4\n",
    "\n",
    "def exact_sol(t):\n",
    "    return 2*arctanh(exp(t)*tanh(y_0/2))"
   ]
  },
  {
   "cell_type": "code",
   "execution_count": 77,
   "metadata": {
    "scrolled": true
   },
   "outputs": [
    {
     "name": "stderr",
     "output_type": "stream",
     "text": [
      "C:\\Users\\snuist\\Anaconda3\\lib\\site-packages\\ipykernel_launcher.py:6: RuntimeWarning: invalid value encountered in arctanh\n",
      "  \n"
     ]
    },
    {
     "data": {
      "image/png": "[encoded data removed]",
      "text/plain": [
       "<matplotlib.figure.Figure at 0x17b7f526978>"
      ]
     },
     "metadata": {},
     "output_type": "display_data"
    }
   ],
   "source": [
    "plt.figure()\n",
    "\n",
    "true_value = exact_sol(t_list)\n",
    "plt.plot(t_list, true_value, label='Exact solution')\n",
    "\n",
    "for i, h in enumerate([h_list[0], h_list[-1]]):\n",
    "    t, w = Explicit_trapezoid_method(f, a, b, h, y_0)\n",
    "    plt.plot(t, w, label='k: %d' % (5*i))\n",
    "    \n",
    "plt.legend()\n",
    "plt.show()"
   ]
  },
  {
   "cell_type": "code",
   "execution_count": 78,
   "metadata": {
    "scrolled": true
   },
   "outputs": [
    {
     "data": {
      "image/png": "[encoded data removed]",
      "text/plain": [
       "<matplotlib.figure.Figure at 0x17b7f526278>"
      ]
     },
     "metadata": {},
     "output_type": "display_data"
    }
   ],
   "source": [
    "f_2 = exact_sol(2)\n",
    "error_list = np.zeros(6)\n",
    "for i, h in enumerate(h_list):\n",
    "    t, w = Explicit_trapezoid_method(f, a, b, h, y_0)\n",
    "    error_list[i] = abs(w[-1] - f_2)\n",
    "\n",
    "plt.plot(h_list, error_list)\n",
    "plt.xlabel('h')\n",
    "plt.ylabel(\"Error\")\n",
    "plt.xscale(\"log\")\n",
    "plt.yscale(\"log\")\n",
    "plt.show()"
   ]
  },
  {
   "cell_type": "code",
   "execution_count": 79,
   "metadata": {},
   "outputs": [],
   "source": [
    "# (b)\n",
    "a, b = 0, 1/4\n",
    "y_0 = 2\n",
    "\n",
    "def exact_sol(t):\n",
    "    return 2*arctanh(exp(t)*tanh(y_0/2))"
   ]
  },
  {
   "cell_type": "code",
   "execution_count": 80,
   "metadata": {
    "scrolled": true
   },
   "outputs": [
    {
     "data": {
      "image/png": "[encoded data removed]",
      "text/plain": [
       "<matplotlib.figure.Figure at 0x17b7f500d30>"
      ]
     },
     "metadata": {},
     "output_type": "display_data"
    }
   ],
   "source": [
    "plt.figure()\n",
    "\n",
    "true_value = exact_sol(t_list[:81])\n",
    "plt.plot(t_list[:81], true_value, label='Exact solution')\n",
    "\n",
    "for i, h in enumerate([h_list[0], h_list[-1]]):\n",
    "    t, w = Explicit_trapezoid_method(f, a, b, h, y_0)\n",
    "    plt.plot(t, w, label='k: %d' % (5*i))\n",
    "    \n",
    "plt.legend()\n",
    "plt.show()"
   ]
  },
  {
   "cell_type": "code",
   "execution_count": 81,
   "metadata": {
    "scrolled": false
   },
   "outputs": [
    {
     "data": {
      "image/png": "[encoded data removed]",
      "text/plain": [
       "<matplotlib.figure.Figure at 0x17b7f2ba828>"
      ]
     },
     "metadata": {},
     "output_type": "display_data"
    }
   ],
   "source": [
    "f_025 = exact_sol(1/4)\n",
    "error_list = np.zeros(6)\n",
    "for i, h in enumerate(h_list):\n",
    "    t, w = Explicit_trapezoid_method(f, a, b, h, y_0)\n",
    "    error_list[i] = abs(w[-1] - f_025)\n",
    "\n",
    "plt.plot(h_list, error_list)\n",
    "plt.xlabel('h')\n",
    "plt.ylabel(\"Error\")\n",
    "plt.xscale(\"log\")\n",
    "plt.yscale(\"log\")\n",
    "plt.show()"
   ]
  }
 ],
 "metadata": {
  "kernelspec": {
   "display_name": "Python 3",
   "language": "python",
   "name": "python3"
  },
  "language_info": {
   "codemirror_mode": {
    "name": "ipython",
    "version": 3
   },
   "file_extension": ".py",
   "mimetype": "text/x-python",
   "name": "python",
   "nbconvert_exporter": "python",
   "pygments_lexer": "ipython3",
   "version": "3.6.4"
  }
 },
 "nbformat": 4,
 "nbformat_minor": 2
}

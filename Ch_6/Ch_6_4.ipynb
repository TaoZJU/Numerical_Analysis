{
 "cells": [
  {
   "cell_type": "code",
   "execution_count": 1,
   "metadata": {
    "collapsed": true
   },
   "outputs": [],
   "source": [
    "import numpy as np\n",
    "import matplotlib.pyplot as plt\n",
    "from pandas import DataFrame as DF\n",
    "\n",
    "%matplotlib inline"
   ]
  },
  {
   "cell_type": "code",
   "execution_count": 2,
   "metadata": {
    "collapsed": true
   },
   "outputs": [],
   "source": [
    "pi = np.pi\n",
    "log = np.log\n",
    "exp = np.exp\n",
    "sqrt = np.sqrt\n",
    "sin = np.sin\n",
    "arcsin = np.arcsin\n",
    "sinh = np.sinh\n",
    "cos = np.cos\n",
    "tan = np.tan\n",
    "arctan = np.arctan\n",
    "tanh = np.tanh\n",
    "arctanh = np.arctanh"
   ]
  },
  {
   "cell_type": "markdown",
   "metadata": {},
   "source": [
    "# Chapter 6<br>Ordinary Differential Equations"
   ]
  },
  {
   "cell_type": "markdown",
   "metadata": {},
   "source": [
    "## 6.4 Runge-Kutta Methods and Applications"
   ]
  },
  {
   "cell_type": "code",
   "execution_count": 3,
   "metadata": {
    "collapsed": true
   },
   "outputs": [],
   "source": [
    "def Midpoint_method(f, a, b, h, y_0):\n",
    "    n = int((b - a)/h)\n",
    "    d = len(y_0)\n",
    "    \n",
    "    t = np.linspace(a, b, n+1)\n",
    "    w = np.zeros((d, n+1))\n",
    "    w[:, 0] = y_0\n",
    "    \n",
    "    for i in range(n):\n",
    "        w[:, i+1] = w[:, i] + h*f(t[i] + h/2, w[:, i] + f(t[i], w[:, i])*h/2)\n",
    "        \n",
    "    return t, w"
   ]
  },
  {
   "cell_type": "code",
   "execution_count": 4,
   "metadata": {
    "collapsed": true
   },
   "outputs": [],
   "source": [
    "def RK4(f, a, b, h, y_0):\n",
    "    n = int((b - a)/h)\n",
    "    d = len(y_0)\n",
    "    \n",
    "    t = np.linspace(a, b, n+1)\n",
    "    w = np.zeros((d, n+1))\n",
    "    w[:, 0] = y_0\n",
    "    \n",
    "    for i in range(n):\n",
    "        s_1 = f(t[i], w[:, i])\n",
    "        s_2 = f(t[i] + h/2, w[:, i] + s_1*h/2)\n",
    "        s_3 = f(t[i] + h/2, w[:, i] + s_2*h/2)\n",
    "        s_4 = f(t[i] + h, w[:, i] + s_3*h)        \n",
    "        \n",
    "        w[:, i+1] = w[:, i] + (s_1 + 2*s_2 + 2*s_3 + s_4)*h/6\n",
    "        \n",
    "    return t, w"
   ]
  },
  {
   "cell_type": "markdown",
   "metadata": {},
   "source": [
    "### Q. 1"
   ]
  },
  {
   "cell_type": "code",
   "execution_count": 5,
   "metadata": {
    "collapsed": true
   },
   "outputs": [],
   "source": [
    "a, b = 0, 1\n",
    "h = 0.1\n",
    "y_0 = [1]"
   ]
  },
  {
   "cell_type": "code",
   "execution_count": 6,
   "metadata": {},
   "outputs": [],
   "source": [
    "# (a)\n",
    "def f(t, y):\n",
    "    return t\n",
    "\n",
    "def exact_sol(t):\n",
    "    return (t**2)/2 + 1"
   ]
  },
  {
   "cell_type": "code",
   "execution_count": 7,
   "metadata": {},
   "outputs": [
    {
     "data": {
      "text/html": [
       "<div>\n",
       "<style>\n",
       "    .dataframe thead tr:only-child th {\n",
       "        text-align: right;\n",
       "    }\n",
       "\n",
       "    .dataframe thead th {\n",
       "        text-align: left;\n",
       "    }\n",
       "\n",
       "    .dataframe tbody tr th {\n",
       "        vertical-align: top;\n",
       "    }\n",
       "</style>\n",
       "<table border=\"1\" class=\"dataframe\">\n",
       "  <thead>\n",
       "    <tr style=\"text-align: right;\">\n",
       "      <th></th>\n",
       "      <th>True value</th>\n",
       "      <th>w</th>\n",
       "      <th>Error</th>\n",
       "    </tr>\n",
       "    <tr>\n",
       "      <th>t</th>\n",
       "      <th></th>\n",
       "      <th></th>\n",
       "      <th></th>\n",
       "    </tr>\n",
       "  </thead>\n",
       "  <tbody>\n",
       "    <tr>\n",
       "      <th>0.0</th>\n",
       "      <td>1.000</td>\n",
       "      <td>1.000</td>\n",
       "      <td>0.000000e+00</td>\n",
       "    </tr>\n",
       "    <tr>\n",
       "      <th>0.1</th>\n",
       "      <td>1.005</td>\n",
       "      <td>1.005</td>\n",
       "      <td>0.000000e+00</td>\n",
       "    </tr>\n",
       "    <tr>\n",
       "      <th>0.2</th>\n",
       "      <td>1.020</td>\n",
       "      <td>1.020</td>\n",
       "      <td>2.220446e-16</td>\n",
       "    </tr>\n",
       "    <tr>\n",
       "      <th>0.3</th>\n",
       "      <td>1.045</td>\n",
       "      <td>1.045</td>\n",
       "      <td>2.220446e-16</td>\n",
       "    </tr>\n",
       "    <tr>\n",
       "      <th>0.4</th>\n",
       "      <td>1.080</td>\n",
       "      <td>1.080</td>\n",
       "      <td>4.440892e-16</td>\n",
       "    </tr>\n",
       "    <tr>\n",
       "      <th>0.5</th>\n",
       "      <td>1.125</td>\n",
       "      <td>1.125</td>\n",
       "      <td>4.440892e-16</td>\n",
       "    </tr>\n",
       "    <tr>\n",
       "      <th>0.6</th>\n",
       "      <td>1.180</td>\n",
       "      <td>1.180</td>\n",
       "      <td>6.661338e-16</td>\n",
       "    </tr>\n",
       "    <tr>\n",
       "      <th>0.7</th>\n",
       "      <td>1.245</td>\n",
       "      <td>1.245</td>\n",
       "      <td>6.661338e-16</td>\n",
       "    </tr>\n",
       "    <tr>\n",
       "      <th>0.8</th>\n",
       "      <td>1.320</td>\n",
       "      <td>1.320</td>\n",
       "      <td>6.661338e-16</td>\n",
       "    </tr>\n",
       "    <tr>\n",
       "      <th>0.9</th>\n",
       "      <td>1.405</td>\n",
       "      <td>1.405</td>\n",
       "      <td>6.661338e-16</td>\n",
       "    </tr>\n",
       "    <tr>\n",
       "      <th>1.0</th>\n",
       "      <td>1.500</td>\n",
       "      <td>1.500</td>\n",
       "      <td>6.661338e-16</td>\n",
       "    </tr>\n",
       "  </tbody>\n",
       "</table>\n",
       "</div>"
      ],
      "text/plain": [
       "     True value      w         Error\n",
       "t                                   \n",
       "0.0       1.000  1.000  0.000000e+00\n",
       "0.1       1.005  1.005  0.000000e+00\n",
       "0.2       1.020  1.020  2.220446e-16\n",
       "0.3       1.045  1.045  2.220446e-16\n",
       "0.4       1.080  1.080  4.440892e-16\n",
       "0.5       1.125  1.125  4.440892e-16\n",
       "0.6       1.180  1.180  6.661338e-16\n",
       "0.7       1.245  1.245  6.661338e-16\n",
       "0.8       1.320  1.320  6.661338e-16\n",
       "0.9       1.405  1.405  6.661338e-16\n",
       "1.0       1.500  1.500  6.661338e-16"
      ]
     },
     "execution_count": 7,
     "metadata": {},
     "output_type": "execute_result"
    }
   ],
   "source": [
    "t, w = Midpoint_method(f, a, b, h, y_0)\n",
    "true_value = exact_sol(t)\n",
    "error = abs(true_value - w[0])\n",
    "\n",
    "DF({\"t\": t, \"w\": w[0], \"Error\": error, 'True value': true_value}).set_index('t')[['True value', 'w', 'Error']]"
   ]
  },
  {
   "cell_type": "code",
   "execution_count": 8,
   "metadata": {
    "collapsed": true
   },
   "outputs": [],
   "source": [
    "# (b)\n",
    "def f(t, y):\n",
    "    return (t**2)*y\n",
    "\n",
    "def exact_sol(t):\n",
    "    return exp((t**3)/3)"
   ]
  },
  {
   "cell_type": "code",
   "execution_count": 9,
   "metadata": {},
   "outputs": [
    {
     "data": {
      "text/html": [
       "<div>\n",
       "<style>\n",
       "    .dataframe thead tr:only-child th {\n",
       "        text-align: right;\n",
       "    }\n",
       "\n",
       "    .dataframe thead th {\n",
       "        text-align: left;\n",
       "    }\n",
       "\n",
       "    .dataframe tbody tr th {\n",
       "        vertical-align: top;\n",
       "    }\n",
       "</style>\n",
       "<table border=\"1\" class=\"dataframe\">\n",
       "  <thead>\n",
       "    <tr style=\"text-align: right;\">\n",
       "      <th></th>\n",
       "      <th>True value</th>\n",
       "      <th>w</th>\n",
       "      <th>Error</th>\n",
       "    </tr>\n",
       "    <tr>\n",
       "      <th>t</th>\n",
       "      <th></th>\n",
       "      <th></th>\n",
       "      <th></th>\n",
       "    </tr>\n",
       "  </thead>\n",
       "  <tbody>\n",
       "    <tr>\n",
       "      <th>0.0</th>\n",
       "      <td>1.000000</td>\n",
       "      <td>1.000000</td>\n",
       "      <td>0.000000</td>\n",
       "    </tr>\n",
       "    <tr>\n",
       "      <th>0.1</th>\n",
       "      <td>1.000333</td>\n",
       "      <td>1.000250</td>\n",
       "      <td>0.000083</td>\n",
       "    </tr>\n",
       "    <tr>\n",
       "      <th>0.2</th>\n",
       "      <td>1.002670</td>\n",
       "      <td>1.002502</td>\n",
       "      <td>0.000169</td>\n",
       "    </tr>\n",
       "    <tr>\n",
       "      <th>0.3</th>\n",
       "      <td>1.009041</td>\n",
       "      <td>1.008780</td>\n",
       "      <td>0.000261</td>\n",
       "    </tr>\n",
       "    <tr>\n",
       "      <th>0.4</th>\n",
       "      <td>1.021563</td>\n",
       "      <td>1.021193</td>\n",
       "      <td>0.000369</td>\n",
       "    </tr>\n",
       "    <tr>\n",
       "      <th>0.5</th>\n",
       "      <td>1.042547</td>\n",
       "      <td>1.042038</td>\n",
       "      <td>0.000509</td>\n",
       "    </tr>\n",
       "    <tr>\n",
       "      <th>0.6</th>\n",
       "      <td>1.074655</td>\n",
       "      <td>1.073953</td>\n",
       "      <td>0.000702</td>\n",
       "    </tr>\n",
       "    <tr>\n",
       "      <th>0.7</th>\n",
       "      <td>1.121126</td>\n",
       "      <td>1.120145</td>\n",
       "      <td>0.000981</td>\n",
       "    </tr>\n",
       "    <tr>\n",
       "      <th>0.8</th>\n",
       "      <td>1.186095</td>\n",
       "      <td>1.184696</td>\n",
       "      <td>0.001399</td>\n",
       "    </tr>\n",
       "    <tr>\n",
       "      <th>0.9</th>\n",
       "      <td>1.275069</td>\n",
       "      <td>1.273030</td>\n",
       "      <td>0.002039</td>\n",
       "    </tr>\n",
       "    <tr>\n",
       "      <th>1.0</th>\n",
       "      <td>1.395612</td>\n",
       "      <td>1.392574</td>\n",
       "      <td>0.003039</td>\n",
       "    </tr>\n",
       "  </tbody>\n",
       "</table>\n",
       "</div>"
      ],
      "text/plain": [
       "     True value         w     Error\n",
       "t                                  \n",
       "0.0    1.000000  1.000000  0.000000\n",
       "0.1    1.000333  1.000250  0.000083\n",
       "0.2    1.002670  1.002502  0.000169\n",
       "0.3    1.009041  1.008780  0.000261\n",
       "0.4    1.021563  1.021193  0.000369\n",
       "0.5    1.042547  1.042038  0.000509\n",
       "0.6    1.074655  1.073953  0.000702\n",
       "0.7    1.121126  1.120145  0.000981\n",
       "0.8    1.186095  1.184696  0.001399\n",
       "0.9    1.275069  1.273030  0.002039\n",
       "1.0    1.395612  1.392574  0.003039"
      ]
     },
     "execution_count": 9,
     "metadata": {},
     "output_type": "execute_result"
    }
   ],
   "source": [
    "t, w = Midpoint_method(f, a, b, h, y_0)\n",
    "true_value = exact_sol(t)\n",
    "error = abs(true_value - w[0])\n",
    "\n",
    "DF({\"t\": t, \"w\": w[0], \"Error\": error, 'True value': true_value}).set_index('t')[['True value', 'w', 'Error']]"
   ]
  },
  {
   "cell_type": "code",
   "execution_count": 10,
   "metadata": {
    "collapsed": true
   },
   "outputs": [],
   "source": [
    "# (c)\n",
    "def f(t, y):\n",
    "    return 2*(t + 1)*y\n",
    "\n",
    "def exact_sol(t):\n",
    "    return exp((t+1)**2 - 1)"
   ]
  },
  {
   "cell_type": "code",
   "execution_count": 11,
   "metadata": {},
   "outputs": [
    {
     "data": {
      "text/html": [
       "<div>\n",
       "<style>\n",
       "    .dataframe thead tr:only-child th {\n",
       "        text-align: right;\n",
       "    }\n",
       "\n",
       "    .dataframe thead th {\n",
       "        text-align: left;\n",
       "    }\n",
       "\n",
       "    .dataframe tbody tr th {\n",
       "        vertical-align: top;\n",
       "    }\n",
       "</style>\n",
       "<table border=\"1\" class=\"dataframe\">\n",
       "  <thead>\n",
       "    <tr style=\"text-align: right;\">\n",
       "      <th></th>\n",
       "      <th>True value</th>\n",
       "      <th>w</th>\n",
       "      <th>Error</th>\n",
       "    </tr>\n",
       "    <tr>\n",
       "      <th>t</th>\n",
       "      <th></th>\n",
       "      <th></th>\n",
       "      <th></th>\n",
       "    </tr>\n",
       "  </thead>\n",
       "  <tbody>\n",
       "    <tr>\n",
       "      <th>0.0</th>\n",
       "      <td>1.000000</td>\n",
       "      <td>1.000000</td>\n",
       "      <td>0.000000</td>\n",
       "    </tr>\n",
       "    <tr>\n",
       "      <th>0.1</th>\n",
       "      <td>1.233678</td>\n",
       "      <td>1.231000</td>\n",
       "      <td>0.002678</td>\n",
       "    </tr>\n",
       "    <tr>\n",
       "      <th>0.2</th>\n",
       "      <td>1.552707</td>\n",
       "      <td>1.545274</td>\n",
       "      <td>0.007433</td>\n",
       "    </tr>\n",
       "    <tr>\n",
       "      <th>0.3</th>\n",
       "      <td>1.993716</td>\n",
       "      <td>1.977951</td>\n",
       "      <td>0.015764</td>\n",
       "    </tr>\n",
       "    <tr>\n",
       "      <th>0.4</th>\n",
       "      <td>2.611696</td>\n",
       "      <td>2.581424</td>\n",
       "      <td>0.030272</td>\n",
       "    </tr>\n",
       "    <tr>\n",
       "      <th>0.5</th>\n",
       "      <td>3.490343</td>\n",
       "      <td>3.434843</td>\n",
       "      <td>0.055500</td>\n",
       "    </tr>\n",
       "    <tr>\n",
       "      <th>0.6</th>\n",
       "      <td>4.758821</td>\n",
       "      <td>4.659364</td>\n",
       "      <td>0.099457</td>\n",
       "    </tr>\n",
       "    <tr>\n",
       "      <th>0.7</th>\n",
       "      <td>6.619369</td>\n",
       "      <td>6.442969</td>\n",
       "      <td>0.176400</td>\n",
       "    </tr>\n",
       "    <tr>\n",
       "      <th>0.8</th>\n",
       "      <td>9.393331</td>\n",
       "      <td>9.081365</td>\n",
       "      <td>0.311967</td>\n",
       "    </tr>\n",
       "    <tr>\n",
       "      <th>0.9</th>\n",
       "      <td>13.599051</td>\n",
       "      <td>13.046288</td>\n",
       "      <td>0.552763</td>\n",
       "    </tr>\n",
       "    <tr>\n",
       "      <th>1.0</th>\n",
       "      <td>20.085537</td>\n",
       "      <td>19.101071</td>\n",
       "      <td>0.984466</td>\n",
       "    </tr>\n",
       "  </tbody>\n",
       "</table>\n",
       "</div>"
      ],
      "text/plain": [
       "     True value          w     Error\n",
       "t                                   \n",
       "0.0    1.000000   1.000000  0.000000\n",
       "0.1    1.233678   1.231000  0.002678\n",
       "0.2    1.552707   1.545274  0.007433\n",
       "0.3    1.993716   1.977951  0.015764\n",
       "0.4    2.611696   2.581424  0.030272\n",
       "0.5    3.490343   3.434843  0.055500\n",
       "0.6    4.758821   4.659364  0.099457\n",
       "0.7    6.619369   6.442969  0.176400\n",
       "0.8    9.393331   9.081365  0.311967\n",
       "0.9   13.599051  13.046288  0.552763\n",
       "1.0   20.085537  19.101071  0.984466"
      ]
     },
     "execution_count": 11,
     "metadata": {},
     "output_type": "execute_result"
    }
   ],
   "source": [
    "t, w = Midpoint_method(f, a, b, h, y_0)\n",
    "true_value = exact_sol(t)\n",
    "error = abs(true_value - w[0])\n",
    "\n",
    "DF({\"t\": t, \"w\": w[0], \"Error\": error, 'True value': true_value}).set_index('t')[['True value', 'w', 'Error']]"
   ]
  },
  {
   "cell_type": "code",
   "execution_count": 12,
   "metadata": {
    "collapsed": true
   },
   "outputs": [],
   "source": [
    "# (d)\n",
    "def f(t, y):\n",
    "    return 5*(t**4)*y\n",
    "\n",
    "def exact_sol(t):\n",
    "    return exp(t**5)"
   ]
  },
  {
   "cell_type": "code",
   "execution_count": 13,
   "metadata": {},
   "outputs": [
    {
     "data": {
      "text/html": [
       "<div>\n",
       "<style>\n",
       "    .dataframe thead tr:only-child th {\n",
       "        text-align: right;\n",
       "    }\n",
       "\n",
       "    .dataframe thead th {\n",
       "        text-align: left;\n",
       "    }\n",
       "\n",
       "    .dataframe tbody tr th {\n",
       "        vertical-align: top;\n",
       "    }\n",
       "</style>\n",
       "<table border=\"1\" class=\"dataframe\">\n",
       "  <thead>\n",
       "    <tr style=\"text-align: right;\">\n",
       "      <th></th>\n",
       "      <th>True value</th>\n",
       "      <th>w</th>\n",
       "      <th>Error</th>\n",
       "    </tr>\n",
       "    <tr>\n",
       "      <th>t</th>\n",
       "      <th></th>\n",
       "      <th></th>\n",
       "      <th></th>\n",
       "    </tr>\n",
       "  </thead>\n",
       "  <tbody>\n",
       "    <tr>\n",
       "      <th>0.0</th>\n",
       "      <td>1.000000</td>\n",
       "      <td>1.000000</td>\n",
       "      <td>0.000000</td>\n",
       "    </tr>\n",
       "    <tr>\n",
       "      <th>0.1</th>\n",
       "      <td>1.000010</td>\n",
       "      <td>1.000003</td>\n",
       "      <td>0.000007</td>\n",
       "    </tr>\n",
       "    <tr>\n",
       "      <th>0.2</th>\n",
       "      <td>1.000320</td>\n",
       "      <td>1.000256</td>\n",
       "      <td>0.000064</td>\n",
       "    </tr>\n",
       "    <tr>\n",
       "      <th>0.3</th>\n",
       "      <td>1.002433</td>\n",
       "      <td>1.002211</td>\n",
       "      <td>0.000222</td>\n",
       "    </tr>\n",
       "    <tr>\n",
       "      <th>0.4</th>\n",
       "      <td>1.010293</td>\n",
       "      <td>1.009746</td>\n",
       "      <td>0.000547</td>\n",
       "    </tr>\n",
       "    <tr>\n",
       "      <th>0.5</th>\n",
       "      <td>1.031743</td>\n",
       "      <td>1.030581</td>\n",
       "      <td>0.001162</td>\n",
       "    </tr>\n",
       "    <tr>\n",
       "      <th>0.6</th>\n",
       "      <td>1.080863</td>\n",
       "      <td>1.078470</td>\n",
       "      <td>0.002393</td>\n",
       "    </tr>\n",
       "    <tr>\n",
       "      <th>0.7</th>\n",
       "      <td>1.183019</td>\n",
       "      <td>1.177846</td>\n",
       "      <td>0.005174</td>\n",
       "    </tr>\n",
       "    <tr>\n",
       "      <th>0.8</th>\n",
       "      <td>1.387745</td>\n",
       "      <td>1.375370</td>\n",
       "      <td>0.012375</td>\n",
       "    </tr>\n",
       "    <tr>\n",
       "      <th>0.9</th>\n",
       "      <td>1.804873</td>\n",
       "      <td>1.771104</td>\n",
       "      <td>0.033768</td>\n",
       "    </tr>\n",
       "    <tr>\n",
       "      <th>1.0</th>\n",
       "      <td>2.718282</td>\n",
       "      <td>2.610701</td>\n",
       "      <td>0.107580</td>\n",
       "    </tr>\n",
       "  </tbody>\n",
       "</table>\n",
       "</div>"
      ],
      "text/plain": [
       "     True value         w     Error\n",
       "t                                  \n",
       "0.0    1.000000  1.000000  0.000000\n",
       "0.1    1.000010  1.000003  0.000007\n",
       "0.2    1.000320  1.000256  0.000064\n",
       "0.3    1.002433  1.002211  0.000222\n",
       "0.4    1.010293  1.009746  0.000547\n",
       "0.5    1.031743  1.030581  0.001162\n",
       "0.6    1.080863  1.078470  0.002393\n",
       "0.7    1.183019  1.177846  0.005174\n",
       "0.8    1.387745  1.375370  0.012375\n",
       "0.9    1.804873  1.771104  0.033768\n",
       "1.0    2.718282  2.610701  0.107580"
      ]
     },
     "execution_count": 13,
     "metadata": {},
     "output_type": "execute_result"
    }
   ],
   "source": [
    "t, w = Midpoint_method(f, a, b, h, y_0)\n",
    "true_value = exact_sol(t)\n",
    "error = abs(true_value - w[0])\n",
    "\n",
    "DF({\"t\": t, \"w\": w[0], \"Error\": error, 'True value': true_value}).set_index('t')[['True value', 'w', 'Error']]"
   ]
  },
  {
   "cell_type": "code",
   "execution_count": 14,
   "metadata": {
    "collapsed": true
   },
   "outputs": [],
   "source": [
    "# (e)\n",
    "def f(t, y):\n",
    "    return y**(-2)\n",
    "\n",
    "def exact_sol(t):\n",
    "    return (3*t + 1)**(1/3)"
   ]
  },
  {
   "cell_type": "code",
   "execution_count": 15,
   "metadata": {},
   "outputs": [
    {
     "data": {
      "text/html": [
       "<div>\n",
       "<style>\n",
       "    .dataframe thead tr:only-child th {\n",
       "        text-align: right;\n",
       "    }\n",
       "\n",
       "    .dataframe thead th {\n",
       "        text-align: left;\n",
       "    }\n",
       "\n",
       "    .dataframe tbody tr th {\n",
       "        vertical-align: top;\n",
       "    }\n",
       "</style>\n",
       "<table border=\"1\" class=\"dataframe\">\n",
       "  <thead>\n",
       "    <tr style=\"text-align: right;\">\n",
       "      <th></th>\n",
       "      <th>True value</th>\n",
       "      <th>w</th>\n",
       "      <th>Error</th>\n",
       "    </tr>\n",
       "    <tr>\n",
       "      <th>t</th>\n",
       "      <th></th>\n",
       "      <th></th>\n",
       "      <th></th>\n",
       "    </tr>\n",
       "  </thead>\n",
       "  <tbody>\n",
       "    <tr>\n",
       "      <th>0.0</th>\n",
       "      <td>1.000000</td>\n",
       "      <td>1.000000</td>\n",
       "      <td>0.000000</td>\n",
       "    </tr>\n",
       "    <tr>\n",
       "      <th>0.1</th>\n",
       "      <td>1.091393</td>\n",
       "      <td>1.090703</td>\n",
       "      <td>0.000690</td>\n",
       "    </tr>\n",
       "    <tr>\n",
       "      <th>0.2</th>\n",
       "      <td>1.169607</td>\n",
       "      <td>1.168640</td>\n",
       "      <td>0.000967</td>\n",
       "    </tr>\n",
       "    <tr>\n",
       "      <th>0.3</th>\n",
       "      <td>1.238562</td>\n",
       "      <td>1.237481</td>\n",
       "      <td>0.001081</td>\n",
       "    </tr>\n",
       "    <tr>\n",
       "      <th>0.4</th>\n",
       "      <td>1.300591</td>\n",
       "      <td>1.299468</td>\n",
       "      <td>0.001123</td>\n",
       "    </tr>\n",
       "    <tr>\n",
       "      <th>0.5</th>\n",
       "      <td>1.357209</td>\n",
       "      <td>1.356079</td>\n",
       "      <td>0.001130</td>\n",
       "    </tr>\n",
       "    <tr>\n",
       "      <th>0.6</th>\n",
       "      <td>1.409460</td>\n",
       "      <td>1.408341</td>\n",
       "      <td>0.001119</td>\n",
       "    </tr>\n",
       "    <tr>\n",
       "      <th>0.7</th>\n",
       "      <td>1.458100</td>\n",
       "      <td>1.457001</td>\n",
       "      <td>0.001098</td>\n",
       "    </tr>\n",
       "    <tr>\n",
       "      <th>0.8</th>\n",
       "      <td>1.503695</td>\n",
       "      <td>1.502621</td>\n",
       "      <td>0.001074</td>\n",
       "    </tr>\n",
       "    <tr>\n",
       "      <th>0.9</th>\n",
       "      <td>1.546680</td>\n",
       "      <td>1.545633</td>\n",
       "      <td>0.001047</td>\n",
       "    </tr>\n",
       "    <tr>\n",
       "      <th>1.0</th>\n",
       "      <td>1.587401</td>\n",
       "      <td>1.586381</td>\n",
       "      <td>0.001020</td>\n",
       "    </tr>\n",
       "  </tbody>\n",
       "</table>\n",
       "</div>"
      ],
      "text/plain": [
       "     True value         w     Error\n",
       "t                                  \n",
       "0.0    1.000000  1.000000  0.000000\n",
       "0.1    1.091393  1.090703  0.000690\n",
       "0.2    1.169607  1.168640  0.000967\n",
       "0.3    1.238562  1.237481  0.001081\n",
       "0.4    1.300591  1.299468  0.001123\n",
       "0.5    1.357209  1.356079  0.001130\n",
       "0.6    1.409460  1.408341  0.001119\n",
       "0.7    1.458100  1.457001  0.001098\n",
       "0.8    1.503695  1.502621  0.001074\n",
       "0.9    1.546680  1.545633  0.001047\n",
       "1.0    1.587401  1.586381  0.001020"
      ]
     },
     "execution_count": 15,
     "metadata": {},
     "output_type": "execute_result"
    }
   ],
   "source": [
    "t, w = Midpoint_method(f, a, b, h, y_0)\n",
    "true_value = exact_sol(t)\n",
    "error = abs(true_value - w[0])\n",
    "\n",
    "DF({\"t\": t, \"w\": w[0], \"Error\": error, 'True value': true_value}).set_index('t')[['True value', 'w', 'Error']]"
   ]
  },
  {
   "cell_type": "code",
   "execution_count": 16,
   "metadata": {
    "collapsed": true
   },
   "outputs": [],
   "source": [
    "# (f)\n",
    "def f(t, y):\n",
    "    return t**3 / y**2\n",
    "\n",
    "def exact_sol(t):\n",
    "    return (0.75*(t**4) + 1)**(1/3)"
   ]
  },
  {
   "cell_type": "code",
   "execution_count": 17,
   "metadata": {
    "scrolled": false
   },
   "outputs": [
    {
     "data": {
      "text/html": [
       "<div>\n",
       "<style>\n",
       "    .dataframe thead tr:only-child th {\n",
       "        text-align: right;\n",
       "    }\n",
       "\n",
       "    .dataframe thead th {\n",
       "        text-align: left;\n",
       "    }\n",
       "\n",
       "    .dataframe tbody tr th {\n",
       "        vertical-align: top;\n",
       "    }\n",
       "</style>\n",
       "<table border=\"1\" class=\"dataframe\">\n",
       "  <thead>\n",
       "    <tr style=\"text-align: right;\">\n",
       "      <th></th>\n",
       "      <th>True value</th>\n",
       "      <th>w</th>\n",
       "      <th>Error</th>\n",
       "    </tr>\n",
       "    <tr>\n",
       "      <th>t</th>\n",
       "      <th></th>\n",
       "      <th></th>\n",
       "      <th></th>\n",
       "    </tr>\n",
       "  </thead>\n",
       "  <tbody>\n",
       "    <tr>\n",
       "      <th>0.0</th>\n",
       "      <td>1.000000</td>\n",
       "      <td>1.000000</td>\n",
       "      <td>0.000000</td>\n",
       "    </tr>\n",
       "    <tr>\n",
       "      <th>0.1</th>\n",
       "      <td>1.000025</td>\n",
       "      <td>1.000012</td>\n",
       "      <td>0.000012</td>\n",
       "    </tr>\n",
       "    <tr>\n",
       "      <th>0.2</th>\n",
       "      <td>1.000400</td>\n",
       "      <td>1.000350</td>\n",
       "      <td>0.000050</td>\n",
       "    </tr>\n",
       "    <tr>\n",
       "      <th>0.3</th>\n",
       "      <td>1.002021</td>\n",
       "      <td>1.001910</td>\n",
       "      <td>0.000111</td>\n",
       "    </tr>\n",
       "    <tr>\n",
       "      <th>0.4</th>\n",
       "      <td>1.006359</td>\n",
       "      <td>1.006170</td>\n",
       "      <td>0.000190</td>\n",
       "    </tr>\n",
       "    <tr>\n",
       "      <th>0.5</th>\n",
       "      <td>1.015387</td>\n",
       "      <td>1.015115</td>\n",
       "      <td>0.000272</td>\n",
       "    </tr>\n",
       "    <tr>\n",
       "      <th>0.6</th>\n",
       "      <td>1.031403</td>\n",
       "      <td>1.031069</td>\n",
       "      <td>0.000334</td>\n",
       "    </tr>\n",
       "    <tr>\n",
       "      <th>0.7</th>\n",
       "      <td>1.056744</td>\n",
       "      <td>1.056400</td>\n",
       "      <td>0.000344</td>\n",
       "    </tr>\n",
       "    <tr>\n",
       "      <th>0.8</th>\n",
       "      <td>1.093404</td>\n",
       "      <td>1.093127</td>\n",
       "      <td>0.000277</td>\n",
       "    </tr>\n",
       "    <tr>\n",
       "      <th>0.9</th>\n",
       "      <td>1.142695</td>\n",
       "      <td>1.142564</td>\n",
       "      <td>0.000130</td>\n",
       "    </tr>\n",
       "    <tr>\n",
       "      <th>1.0</th>\n",
       "      <td>1.205071</td>\n",
       "      <td>1.205145</td>\n",
       "      <td>0.000074</td>\n",
       "    </tr>\n",
       "  </tbody>\n",
       "</table>\n",
       "</div>"
      ],
      "text/plain": [
       "     True value         w     Error\n",
       "t                                  \n",
       "0.0    1.000000  1.000000  0.000000\n",
       "0.1    1.000025  1.000012  0.000012\n",
       "0.2    1.000400  1.000350  0.000050\n",
       "0.3    1.002021  1.001910  0.000111\n",
       "0.4    1.006359  1.006170  0.000190\n",
       "0.5    1.015387  1.015115  0.000272\n",
       "0.6    1.031403  1.031069  0.000334\n",
       "0.7    1.056744  1.056400  0.000344\n",
       "0.8    1.093404  1.093127  0.000277\n",
       "0.9    1.142695  1.142564  0.000130\n",
       "1.0    1.205071  1.205145  0.000074"
      ]
     },
     "execution_count": 17,
     "metadata": {},
     "output_type": "execute_result"
    }
   ],
   "source": [
    "t, w = Midpoint_method(f, a, b, h, y_0)\n",
    "true_value = exact_sol(t)\n",
    "error = abs(true_value - w[0])\n",
    "\n",
    "DF({\"t\": t, \"w\": w[0], \"Error\": error, 'True value': true_value}).set_index('t')[['True value', 'w', 'Error']]"
   ]
  },
  {
   "cell_type": "markdown",
   "metadata": {},
   "source": [
    "### Q. 2"
   ]
  },
  {
   "cell_type": "code",
   "execution_count": 18,
   "metadata": {
    "collapsed": true
   },
   "outputs": [],
   "source": [
    "a, b = 0, 1\n",
    "h = 0.1\n",
    "y_0 = [1]"
   ]
  },
  {
   "cell_type": "code",
   "execution_count": 19,
   "metadata": {
    "collapsed": true
   },
   "outputs": [],
   "source": [
    "# (a)\n",
    "def f(t, y):\n",
    "    return t\n",
    "\n",
    "def exact_sol(t):\n",
    "    return (t**2)/2 + 1"
   ]
  },
  {
   "cell_type": "code",
   "execution_count": 20,
   "metadata": {},
   "outputs": [
    {
     "data": {
      "text/html": [
       "<div>\n",
       "<style>\n",
       "    .dataframe thead tr:only-child th {\n",
       "        text-align: right;\n",
       "    }\n",
       "\n",
       "    .dataframe thead th {\n",
       "        text-align: left;\n",
       "    }\n",
       "\n",
       "    .dataframe tbody tr th {\n",
       "        vertical-align: top;\n",
       "    }\n",
       "</style>\n",
       "<table border=\"1\" class=\"dataframe\">\n",
       "  <thead>\n",
       "    <tr style=\"text-align: right;\">\n",
       "      <th></th>\n",
       "      <th>True value</th>\n",
       "      <th>w</th>\n",
       "      <th>Error</th>\n",
       "    </tr>\n",
       "    <tr>\n",
       "      <th>t</th>\n",
       "      <th></th>\n",
       "      <th></th>\n",
       "      <th></th>\n",
       "    </tr>\n",
       "  </thead>\n",
       "  <tbody>\n",
       "    <tr>\n",
       "      <th>0.0</th>\n",
       "      <td>1.000</td>\n",
       "      <td>1.000</td>\n",
       "      <td>0.000000e+00</td>\n",
       "    </tr>\n",
       "    <tr>\n",
       "      <th>0.1</th>\n",
       "      <td>1.005</td>\n",
       "      <td>1.005</td>\n",
       "      <td>0.000000e+00</td>\n",
       "    </tr>\n",
       "    <tr>\n",
       "      <th>0.2</th>\n",
       "      <td>1.020</td>\n",
       "      <td>1.020</td>\n",
       "      <td>2.220446e-16</td>\n",
       "    </tr>\n",
       "    <tr>\n",
       "      <th>0.3</th>\n",
       "      <td>1.045</td>\n",
       "      <td>1.045</td>\n",
       "      <td>2.220446e-16</td>\n",
       "    </tr>\n",
       "    <tr>\n",
       "      <th>0.4</th>\n",
       "      <td>1.080</td>\n",
       "      <td>1.080</td>\n",
       "      <td>4.440892e-16</td>\n",
       "    </tr>\n",
       "    <tr>\n",
       "      <th>0.5</th>\n",
       "      <td>1.125</td>\n",
       "      <td>1.125</td>\n",
       "      <td>4.440892e-16</td>\n",
       "    </tr>\n",
       "    <tr>\n",
       "      <th>0.6</th>\n",
       "      <td>1.180</td>\n",
       "      <td>1.180</td>\n",
       "      <td>6.661338e-16</td>\n",
       "    </tr>\n",
       "    <tr>\n",
       "      <th>0.7</th>\n",
       "      <td>1.245</td>\n",
       "      <td>1.245</td>\n",
       "      <td>6.661338e-16</td>\n",
       "    </tr>\n",
       "    <tr>\n",
       "      <th>0.8</th>\n",
       "      <td>1.320</td>\n",
       "      <td>1.320</td>\n",
       "      <td>6.661338e-16</td>\n",
       "    </tr>\n",
       "    <tr>\n",
       "      <th>0.9</th>\n",
       "      <td>1.405</td>\n",
       "      <td>1.405</td>\n",
       "      <td>6.661338e-16</td>\n",
       "    </tr>\n",
       "    <tr>\n",
       "      <th>1.0</th>\n",
       "      <td>1.500</td>\n",
       "      <td>1.500</td>\n",
       "      <td>6.661338e-16</td>\n",
       "    </tr>\n",
       "  </tbody>\n",
       "</table>\n",
       "</div>"
      ],
      "text/plain": [
       "     True value      w         Error\n",
       "t                                   \n",
       "0.0       1.000  1.000  0.000000e+00\n",
       "0.1       1.005  1.005  0.000000e+00\n",
       "0.2       1.020  1.020  2.220446e-16\n",
       "0.3       1.045  1.045  2.220446e-16\n",
       "0.4       1.080  1.080  4.440892e-16\n",
       "0.5       1.125  1.125  4.440892e-16\n",
       "0.6       1.180  1.180  6.661338e-16\n",
       "0.7       1.245  1.245  6.661338e-16\n",
       "0.8       1.320  1.320  6.661338e-16\n",
       "0.9       1.405  1.405  6.661338e-16\n",
       "1.0       1.500  1.500  6.661338e-16"
      ]
     },
     "execution_count": 20,
     "metadata": {},
     "output_type": "execute_result"
    }
   ],
   "source": [
    "t, w = RK4(f, a, b, h, y_0)\n",
    "true_value = exact_sol(t)\n",
    "error = abs(true_value - w[0])\n",
    "\n",
    "DF({\"t\": t, \"w\": w[0], \"Error\": error, 'True value': true_value}).set_index('t')[['True value', 'w', 'Error']]"
   ]
  },
  {
   "cell_type": "code",
   "execution_count": 21,
   "metadata": {
    "collapsed": true
   },
   "outputs": [],
   "source": [
    "# (b)\n",
    "def f(t, y):\n",
    "    return (t**2)*y\n",
    "\n",
    "def exact_sol(t):\n",
    "    return exp((t**3)/3)"
   ]
  },
  {
   "cell_type": "code",
   "execution_count": 22,
   "metadata": {},
   "outputs": [
    {
     "data": {
      "text/html": [
       "<div>\n",
       "<style>\n",
       "    .dataframe thead tr:only-child th {\n",
       "        text-align: right;\n",
       "    }\n",
       "\n",
       "    .dataframe thead th {\n",
       "        text-align: left;\n",
       "    }\n",
       "\n",
       "    .dataframe tbody tr th {\n",
       "        vertical-align: top;\n",
       "    }\n",
       "</style>\n",
       "<table border=\"1\" class=\"dataframe\">\n",
       "  <thead>\n",
       "    <tr style=\"text-align: right;\">\n",
       "      <th></th>\n",
       "      <th>True value</th>\n",
       "      <th>w</th>\n",
       "      <th>Error</th>\n",
       "    </tr>\n",
       "    <tr>\n",
       "      <th>t</th>\n",
       "      <th></th>\n",
       "      <th></th>\n",
       "      <th></th>\n",
       "    </tr>\n",
       "  </thead>\n",
       "  <tbody>\n",
       "    <tr>\n",
       "      <th>0.0</th>\n",
       "      <td>1.000000</td>\n",
       "      <td>1.000000</td>\n",
       "      <td>0.000000e+00</td>\n",
       "    </tr>\n",
       "    <tr>\n",
       "      <th>0.1</th>\n",
       "      <td>1.000333</td>\n",
       "      <td>1.000333</td>\n",
       "      <td>3.473187e-09</td>\n",
       "    </tr>\n",
       "    <tr>\n",
       "      <th>0.2</th>\n",
       "      <td>1.002670</td>\n",
       "      <td>1.002670</td>\n",
       "      <td>6.962984e-09</td>\n",
       "    </tr>\n",
       "    <tr>\n",
       "      <th>0.3</th>\n",
       "      <td>1.009041</td>\n",
       "      <td>1.009041</td>\n",
       "      <td>1.051912e-08</td>\n",
       "    </tr>\n",
       "    <tr>\n",
       "      <th>0.4</th>\n",
       "      <td>1.021563</td>\n",
       "      <td>1.021563</td>\n",
       "      <td>1.426297e-08</td>\n",
       "    </tr>\n",
       "    <tr>\n",
       "      <th>0.5</th>\n",
       "      <td>1.042547</td>\n",
       "      <td>1.042547</td>\n",
       "      <td>1.849884e-08</td>\n",
       "    </tr>\n",
       "    <tr>\n",
       "      <th>0.6</th>\n",
       "      <td>1.074655</td>\n",
       "      <td>1.074655</td>\n",
       "      <td>2.402357e-08</td>\n",
       "    </tr>\n",
       "    <tr>\n",
       "      <th>0.7</th>\n",
       "      <td>1.121126</td>\n",
       "      <td>1.121126</td>\n",
       "      <td>3.299039e-08</td>\n",
       "    </tr>\n",
       "    <tr>\n",
       "      <th>0.8</th>\n",
       "      <td>1.186095</td>\n",
       "      <td>1.186095</td>\n",
       "      <td>5.128980e-08</td>\n",
       "    </tr>\n",
       "    <tr>\n",
       "      <th>0.9</th>\n",
       "      <td>1.275069</td>\n",
       "      <td>1.275069</td>\n",
       "      <td>9.489060e-08</td>\n",
       "    </tr>\n",
       "    <tr>\n",
       "      <th>1.0</th>\n",
       "      <td>1.395612</td>\n",
       "      <td>1.395612</td>\n",
       "      <td>2.061127e-07</td>\n",
       "    </tr>\n",
       "  </tbody>\n",
       "</table>\n",
       "</div>"
      ],
      "text/plain": [
       "     True value         w         Error\n",
       "t                                      \n",
       "0.0    1.000000  1.000000  0.000000e+00\n",
       "0.1    1.000333  1.000333  3.473187e-09\n",
       "0.2    1.002670  1.002670  6.962984e-09\n",
       "0.3    1.009041  1.009041  1.051912e-08\n",
       "0.4    1.021563  1.021563  1.426297e-08\n",
       "0.5    1.042547  1.042547  1.849884e-08\n",
       "0.6    1.074655  1.074655  2.402357e-08\n",
       "0.7    1.121126  1.121126  3.299039e-08\n",
       "0.8    1.186095  1.186095  5.128980e-08\n",
       "0.9    1.275069  1.275069  9.489060e-08\n",
       "1.0    1.395612  1.395612  2.061127e-07"
      ]
     },
     "execution_count": 22,
     "metadata": {},
     "output_type": "execute_result"
    }
   ],
   "source": [
    "t, w = RK4(f, a, b, h, y_0)\n",
    "true_value = exact_sol(t)\n",
    "error = abs(true_value - w[0])\n",
    "\n",
    "DF({\"t\": t, \"w\": w[0], \"Error\": error, 'True value': true_value}).set_index('t')[['True value', 'w', 'Error']]"
   ]
  },
  {
   "cell_type": "code",
   "execution_count": 23,
   "metadata": {
    "collapsed": true
   },
   "outputs": [],
   "source": [
    "# (c)\n",
    "def f(t, y):\n",
    "    return 2*(t + 1)*y\n",
    "\n",
    "def exact_sol(t):\n",
    "    return exp((t+1)**2 - 1)"
   ]
  },
  {
   "cell_type": "code",
   "execution_count": 24,
   "metadata": {},
   "outputs": [
    {
     "data": {
      "text/html": [
       "<div>\n",
       "<style>\n",
       "    .dataframe thead tr:only-child th {\n",
       "        text-align: right;\n",
       "    }\n",
       "\n",
       "    .dataframe thead th {\n",
       "        text-align: left;\n",
       "    }\n",
       "\n",
       "    .dataframe tbody tr th {\n",
       "        vertical-align: top;\n",
       "    }\n",
       "</style>\n",
       "<table border=\"1\" class=\"dataframe\">\n",
       "  <thead>\n",
       "    <tr style=\"text-align: right;\">\n",
       "      <th></th>\n",
       "      <th>True value</th>\n",
       "      <th>w</th>\n",
       "      <th>Error</th>\n",
       "    </tr>\n",
       "    <tr>\n",
       "      <th>t</th>\n",
       "      <th></th>\n",
       "      <th></th>\n",
       "      <th></th>\n",
       "    </tr>\n",
       "  </thead>\n",
       "  <tbody>\n",
       "    <tr>\n",
       "      <th>0.0</th>\n",
       "      <td>1.000000</td>\n",
       "      <td>1.000000</td>\n",
       "      <td>0.000000</td>\n",
       "    </tr>\n",
       "    <tr>\n",
       "      <th>0.1</th>\n",
       "      <td>1.233678</td>\n",
       "      <td>1.233674</td>\n",
       "      <td>0.000004</td>\n",
       "    </tr>\n",
       "    <tr>\n",
       "      <th>0.2</th>\n",
       "      <td>1.552707</td>\n",
       "      <td>1.552695</td>\n",
       "      <td>0.000012</td>\n",
       "    </tr>\n",
       "    <tr>\n",
       "      <th>0.3</th>\n",
       "      <td>1.993716</td>\n",
       "      <td>1.993687</td>\n",
       "      <td>0.000029</td>\n",
       "    </tr>\n",
       "    <tr>\n",
       "      <th>0.4</th>\n",
       "      <td>2.611696</td>\n",
       "      <td>2.611633</td>\n",
       "      <td>0.000063</td>\n",
       "    </tr>\n",
       "    <tr>\n",
       "      <th>0.5</th>\n",
       "      <td>3.490343</td>\n",
       "      <td>3.490211</td>\n",
       "      <td>0.000132</td>\n",
       "    </tr>\n",
       "    <tr>\n",
       "      <th>0.6</th>\n",
       "      <td>4.758821</td>\n",
       "      <td>4.758552</td>\n",
       "      <td>0.000270</td>\n",
       "    </tr>\n",
       "    <tr>\n",
       "      <th>0.7</th>\n",
       "      <td>6.619369</td>\n",
       "      <td>6.618827</td>\n",
       "      <td>0.000541</td>\n",
       "    </tr>\n",
       "    <tr>\n",
       "      <th>0.8</th>\n",
       "      <td>9.393331</td>\n",
       "      <td>9.392252</td>\n",
       "      <td>0.001079</td>\n",
       "    </tr>\n",
       "    <tr>\n",
       "      <th>0.9</th>\n",
       "      <td>13.599051</td>\n",
       "      <td>13.596905</td>\n",
       "      <td>0.002145</td>\n",
       "    </tr>\n",
       "    <tr>\n",
       "      <th>1.0</th>\n",
       "      <td>20.085537</td>\n",
       "      <td>20.081267</td>\n",
       "      <td>0.004270</td>\n",
       "    </tr>\n",
       "  </tbody>\n",
       "</table>\n",
       "</div>"
      ],
      "text/plain": [
       "     True value          w     Error\n",
       "t                                   \n",
       "0.0    1.000000   1.000000  0.000000\n",
       "0.1    1.233678   1.233674  0.000004\n",
       "0.2    1.552707   1.552695  0.000012\n",
       "0.3    1.993716   1.993687  0.000029\n",
       "0.4    2.611696   2.611633  0.000063\n",
       "0.5    3.490343   3.490211  0.000132\n",
       "0.6    4.758821   4.758552  0.000270\n",
       "0.7    6.619369   6.618827  0.000541\n",
       "0.8    9.393331   9.392252  0.001079\n",
       "0.9   13.599051  13.596905  0.002145\n",
       "1.0   20.085537  20.081267  0.004270"
      ]
     },
     "execution_count": 24,
     "metadata": {},
     "output_type": "execute_result"
    }
   ],
   "source": [
    "t, w = RK4(f, a, b, h, y_0)\n",
    "true_value = exact_sol(t)\n",
    "error = abs(true_value - w[0])\n",
    "\n",
    "DF({\"t\": t, \"w\": w[0], \"Error\": error, 'True value': true_value}).set_index('t')[['True value', 'w', 'Error']]"
   ]
  },
  {
   "cell_type": "code",
   "execution_count": 25,
   "metadata": {
    "collapsed": true
   },
   "outputs": [],
   "source": [
    "# (d)\n",
    "def f(t, y):\n",
    "    return 5*(t**4)*y\n",
    "\n",
    "def exact_sol(t):\n",
    "    return exp(t**5)"
   ]
  },
  {
   "cell_type": "code",
   "execution_count": 26,
   "metadata": {},
   "outputs": [
    {
     "data": {
      "text/html": [
       "<div>\n",
       "<style>\n",
       "    .dataframe thead tr:only-child th {\n",
       "        text-align: right;\n",
       "    }\n",
       "\n",
       "    .dataframe thead th {\n",
       "        text-align: left;\n",
       "    }\n",
       "\n",
       "    .dataframe tbody tr th {\n",
       "        vertical-align: top;\n",
       "    }\n",
       "</style>\n",
       "<table border=\"1\" class=\"dataframe\">\n",
       "  <thead>\n",
       "    <tr style=\"text-align: right;\">\n",
       "      <th></th>\n",
       "      <th>True value</th>\n",
       "      <th>w</th>\n",
       "      <th>Error</th>\n",
       "    </tr>\n",
       "    <tr>\n",
       "      <th>t</th>\n",
       "      <th></th>\n",
       "      <th></th>\n",
       "      <th></th>\n",
       "    </tr>\n",
       "  </thead>\n",
       "  <tbody>\n",
       "    <tr>\n",
       "      <th>0.0</th>\n",
       "      <td>1.000000</td>\n",
       "      <td>1.000000</td>\n",
       "      <td>0.000000e+00</td>\n",
       "    </tr>\n",
       "    <tr>\n",
       "      <th>0.1</th>\n",
       "      <td>1.000010</td>\n",
       "      <td>1.000010</td>\n",
       "      <td>4.166443e-07</td>\n",
       "    </tr>\n",
       "    <tr>\n",
       "      <th>0.2</th>\n",
       "      <td>1.000320</td>\n",
       "      <td>1.000321</td>\n",
       "      <td>8.319322e-07</td>\n",
       "    </tr>\n",
       "    <tr>\n",
       "      <th>0.3</th>\n",
       "      <td>1.002433</td>\n",
       "      <td>1.002434</td>\n",
       "      <td>1.238971e-06</td>\n",
       "    </tr>\n",
       "    <tr>\n",
       "      <th>0.4</th>\n",
       "      <td>1.010293</td>\n",
       "      <td>1.010294</td>\n",
       "      <td>1.621918e-06</td>\n",
       "    </tr>\n",
       "    <tr>\n",
       "      <th>0.5</th>\n",
       "      <td>1.031743</td>\n",
       "      <td>1.031745</td>\n",
       "      <td>1.952405e-06</td>\n",
       "    </tr>\n",
       "    <tr>\n",
       "      <th>0.6</th>\n",
       "      <td>1.080863</td>\n",
       "      <td>1.080865</td>\n",
       "      <td>2.165436e-06</td>\n",
       "    </tr>\n",
       "    <tr>\n",
       "      <th>0.7</th>\n",
       "      <td>1.183019</td>\n",
       "      <td>1.183021</td>\n",
       "      <td>1.944933e-06</td>\n",
       "    </tr>\n",
       "    <tr>\n",
       "      <th>0.8</th>\n",
       "      <td>1.387745</td>\n",
       "      <td>1.387744</td>\n",
       "      <td>1.205333e-06</td>\n",
       "    </tr>\n",
       "    <tr>\n",
       "      <th>0.9</th>\n",
       "      <td>1.804873</td>\n",
       "      <td>1.804843</td>\n",
       "      <td>3.003836e-05</td>\n",
       "    </tr>\n",
       "    <tr>\n",
       "      <th>1.0</th>\n",
       "      <td>2.718282</td>\n",
       "      <td>2.717976</td>\n",
       "      <td>3.054192e-04</td>\n",
       "    </tr>\n",
       "  </tbody>\n",
       "</table>\n",
       "</div>"
      ],
      "text/plain": [
       "     True value         w         Error\n",
       "t                                      \n",
       "0.0    1.000000  1.000000  0.000000e+00\n",
       "0.1    1.000010  1.000010  4.166443e-07\n",
       "0.2    1.000320  1.000321  8.319322e-07\n",
       "0.3    1.002433  1.002434  1.238971e-06\n",
       "0.4    1.010293  1.010294  1.621918e-06\n",
       "0.5    1.031743  1.031745  1.952405e-06\n",
       "0.6    1.080863  1.080865  2.165436e-06\n",
       "0.7    1.183019  1.183021  1.944933e-06\n",
       "0.8    1.387745  1.387744  1.205333e-06\n",
       "0.9    1.804873  1.804843  3.003836e-05\n",
       "1.0    2.718282  2.717976  3.054192e-04"
      ]
     },
     "execution_count": 26,
     "metadata": {},
     "output_type": "execute_result"
    }
   ],
   "source": [
    "t, w = RK4(f, a, b, h, y_0)\n",
    "true_value = exact_sol(t)\n",
    "error = abs(true_value - w[0])\n",
    "\n",
    "DF({\"t\": t, \"w\": w[0], \"Error\": error, 'True value': true_value}).set_index('t')[['True value', 'w', 'Error']]"
   ]
  },
  {
   "cell_type": "code",
   "execution_count": 27,
   "metadata": {
    "collapsed": true
   },
   "outputs": [],
   "source": [
    "# (e)\n",
    "def f(t, y):\n",
    "    return y**(-2)\n",
    "\n",
    "def exact_sol(t):\n",
    "    return (3*t + 1)**(1/3)"
   ]
  },
  {
   "cell_type": "code",
   "execution_count": 28,
   "metadata": {},
   "outputs": [
    {
     "data": {
      "text/html": [
       "<div>\n",
       "<style>\n",
       "    .dataframe thead tr:only-child th {\n",
       "        text-align: right;\n",
       "    }\n",
       "\n",
       "    .dataframe thead th {\n",
       "        text-align: left;\n",
       "    }\n",
       "\n",
       "    .dataframe tbody tr th {\n",
       "        vertical-align: top;\n",
       "    }\n",
       "</style>\n",
       "<table border=\"1\" class=\"dataframe\">\n",
       "  <thead>\n",
       "    <tr style=\"text-align: right;\">\n",
       "      <th></th>\n",
       "      <th>True value</th>\n",
       "      <th>w</th>\n",
       "      <th>Error</th>\n",
       "    </tr>\n",
       "    <tr>\n",
       "      <th>t</th>\n",
       "      <th></th>\n",
       "      <th></th>\n",
       "      <th></th>\n",
       "    </tr>\n",
       "  </thead>\n",
       "  <tbody>\n",
       "    <tr>\n",
       "      <th>0.0</th>\n",
       "      <td>1.000000</td>\n",
       "      <td>1.000000</td>\n",
       "      <td>0.000000e+00</td>\n",
       "    </tr>\n",
       "    <tr>\n",
       "      <th>0.1</th>\n",
       "      <td>1.091393</td>\n",
       "      <td>1.091394</td>\n",
       "      <td>1.085943e-06</td>\n",
       "    </tr>\n",
       "    <tr>\n",
       "      <th>0.2</th>\n",
       "      <td>1.169607</td>\n",
       "      <td>1.169608</td>\n",
       "      <td>1.296122e-06</td>\n",
       "    </tr>\n",
       "    <tr>\n",
       "      <th>0.3</th>\n",
       "      <td>1.238562</td>\n",
       "      <td>1.238564</td>\n",
       "      <td>1.297085e-06</td>\n",
       "    </tr>\n",
       "    <tr>\n",
       "      <th>0.4</th>\n",
       "      <td>1.300591</td>\n",
       "      <td>1.300593</td>\n",
       "      <td>1.242365e-06</td>\n",
       "    </tr>\n",
       "    <tr>\n",
       "      <th>0.5</th>\n",
       "      <td>1.357209</td>\n",
       "      <td>1.357210</td>\n",
       "      <td>1.175241e-06</td>\n",
       "    </tr>\n",
       "    <tr>\n",
       "      <th>0.6</th>\n",
       "      <td>1.409460</td>\n",
       "      <td>1.409461</td>\n",
       "      <td>1.109097e-06</td>\n",
       "    </tr>\n",
       "    <tr>\n",
       "      <th>0.7</th>\n",
       "      <td>1.458100</td>\n",
       "      <td>1.458101</td>\n",
       "      <td>1.047970e-06</td>\n",
       "    </tr>\n",
       "    <tr>\n",
       "      <th>0.8</th>\n",
       "      <td>1.503695</td>\n",
       "      <td>1.503696</td>\n",
       "      <td>9.927255e-07</td>\n",
       "    </tr>\n",
       "    <tr>\n",
       "      <th>0.9</th>\n",
       "      <td>1.546680</td>\n",
       "      <td>1.546681</td>\n",
       "      <td>9.431451e-07</td>\n",
       "    </tr>\n",
       "    <tr>\n",
       "      <th>1.0</th>\n",
       "      <td>1.587401</td>\n",
       "      <td>1.587402</td>\n",
       "      <td>8.986695e-07</td>\n",
       "    </tr>\n",
       "  </tbody>\n",
       "</table>\n",
       "</div>"
      ],
      "text/plain": [
       "     True value         w         Error\n",
       "t                                      \n",
       "0.0    1.000000  1.000000  0.000000e+00\n",
       "0.1    1.091393  1.091394  1.085943e-06\n",
       "0.2    1.169607  1.169608  1.296122e-06\n",
       "0.3    1.238562  1.238564  1.297085e-06\n",
       "0.4    1.300591  1.300593  1.242365e-06\n",
       "0.5    1.357209  1.357210  1.175241e-06\n",
       "0.6    1.409460  1.409461  1.109097e-06\n",
       "0.7    1.458100  1.458101  1.047970e-06\n",
       "0.8    1.503695  1.503696  9.927255e-07\n",
       "0.9    1.546680  1.546681  9.431451e-07\n",
       "1.0    1.587401  1.587402  8.986695e-07"
      ]
     },
     "execution_count": 28,
     "metadata": {},
     "output_type": "execute_result"
    }
   ],
   "source": [
    "t, w = RK4(f, a, b, h, y_0)\n",
    "true_value = exact_sol(t)\n",
    "error = abs(true_value - w[0])\n",
    "\n",
    "DF({\"t\": t, \"w\": w[0], \"Error\": error, 'True value': true_value}).set_index('t')[['True value', 'w', 'Error']]"
   ]
  },
  {
   "cell_type": "code",
   "execution_count": 29,
   "metadata": {
    "collapsed": true
   },
   "outputs": [],
   "source": [
    "# (f)\n",
    "def f(t, y):\n",
    "    return t**3 / y**2\n",
    "\n",
    "def exact_sol(t):\n",
    "    return (0.75*(t**4) + 1)**(1/3)"
   ]
  },
  {
   "cell_type": "code",
   "execution_count": 30,
   "metadata": {
    "scrolled": true
   },
   "outputs": [
    {
     "data": {
      "text/html": [
       "<div>\n",
       "<style>\n",
       "    .dataframe thead tr:only-child th {\n",
       "        text-align: right;\n",
       "    }\n",
       "\n",
       "    .dataframe thead th {\n",
       "        text-align: left;\n",
       "    }\n",
       "\n",
       "    .dataframe tbody tr th {\n",
       "        vertical-align: top;\n",
       "    }\n",
       "</style>\n",
       "<table border=\"1\" class=\"dataframe\">\n",
       "  <thead>\n",
       "    <tr style=\"text-align: right;\">\n",
       "      <th></th>\n",
       "      <th>True value</th>\n",
       "      <th>w</th>\n",
       "      <th>Error</th>\n",
       "    </tr>\n",
       "    <tr>\n",
       "      <th>t</th>\n",
       "      <th></th>\n",
       "      <th></th>\n",
       "      <th></th>\n",
       "    </tr>\n",
       "  </thead>\n",
       "  <tbody>\n",
       "    <tr>\n",
       "      <th>0.0</th>\n",
       "      <td>1.000000</td>\n",
       "      <td>1.000000</td>\n",
       "      <td>0.000000e+00</td>\n",
       "    </tr>\n",
       "    <tr>\n",
       "      <th>0.1</th>\n",
       "      <td>1.000025</td>\n",
       "      <td>1.000025</td>\n",
       "      <td>1.562375e-10</td>\n",
       "    </tr>\n",
       "    <tr>\n",
       "      <th>0.2</th>\n",
       "      <td>1.000400</td>\n",
       "      <td>1.000400</td>\n",
       "      <td>1.564492e-09</td>\n",
       "    </tr>\n",
       "    <tr>\n",
       "      <th>0.3</th>\n",
       "      <td>1.002021</td>\n",
       "      <td>1.002021</td>\n",
       "      <td>5.652155e-09</td>\n",
       "    </tr>\n",
       "    <tr>\n",
       "      <th>0.4</th>\n",
       "      <td>1.006359</td>\n",
       "      <td>1.006359</td>\n",
       "      <td>1.561860e-08</td>\n",
       "    </tr>\n",
       "    <tr>\n",
       "      <th>0.5</th>\n",
       "      <td>1.015387</td>\n",
       "      <td>1.015387</td>\n",
       "      <td>4.206078e-08</td>\n",
       "    </tr>\n",
       "    <tr>\n",
       "      <th>0.6</th>\n",
       "      <td>1.031403</td>\n",
       "      <td>1.031404</td>\n",
       "      <td>1.124073e-07</td>\n",
       "    </tr>\n",
       "    <tr>\n",
       "      <th>0.7</th>\n",
       "      <td>1.056744</td>\n",
       "      <td>1.056744</td>\n",
       "      <td>2.730486e-07</td>\n",
       "    </tr>\n",
       "    <tr>\n",
       "      <th>0.8</th>\n",
       "      <td>1.093404</td>\n",
       "      <td>1.093405</td>\n",
       "      <td>5.658170e-07</td>\n",
       "    </tr>\n",
       "    <tr>\n",
       "      <th>0.9</th>\n",
       "      <td>1.142695</td>\n",
       "      <td>1.142696</td>\n",
       "      <td>9.846387e-07</td>\n",
       "    </tr>\n",
       "    <tr>\n",
       "      <th>1.0</th>\n",
       "      <td>1.205071</td>\n",
       "      <td>1.205073</td>\n",
       "      <td>1.458144e-06</td>\n",
       "    </tr>\n",
       "  </tbody>\n",
       "</table>\n",
       "</div>"
      ],
      "text/plain": [
       "     True value         w         Error\n",
       "t                                      \n",
       "0.0    1.000000  1.000000  0.000000e+00\n",
       "0.1    1.000025  1.000025  1.562375e-10\n",
       "0.2    1.000400  1.000400  1.564492e-09\n",
       "0.3    1.002021  1.002021  5.652155e-09\n",
       "0.4    1.006359  1.006359  1.561860e-08\n",
       "0.5    1.015387  1.015387  4.206078e-08\n",
       "0.6    1.031403  1.031404  1.124073e-07\n",
       "0.7    1.056744  1.056744  2.730486e-07\n",
       "0.8    1.093404  1.093405  5.658170e-07\n",
       "0.9    1.142695  1.142696  9.846387e-07\n",
       "1.0    1.205071  1.205073  1.458144e-06"
      ]
     },
     "execution_count": 30,
     "metadata": {},
     "output_type": "execute_result"
    }
   ],
   "source": [
    "t, w = RK4(f, a, b, h, y_0)\n",
    "true_value = exact_sol(t)\n",
    "error = abs(true_value - w[0])\n",
    "\n",
    "DF({\"t\": t, \"w\": w[0], \"Error\": error, 'True value': true_value}).set_index('t')[['True value', 'w', 'Error']]"
   ]
  },
  {
   "cell_type": "markdown",
   "metadata": {},
   "source": [
    "### Q. 3"
   ]
  },
  {
   "cell_type": "code",
   "execution_count": 31,
   "metadata": {
    "collapsed": true
   },
   "outputs": [],
   "source": [
    "a, b = 0, 1\n",
    "y_0 = [1]"
   ]
  },
  {
   "cell_type": "code",
   "execution_count": 32,
   "metadata": {
    "collapsed": true
   },
   "outputs": [],
   "source": [
    "# (a)\n",
    "def f(t, y):\n",
    "    return t\n",
    "\n",
    "def exact_sol(t):\n",
    "    return (t**2)/2 + 1"
   ]
  },
  {
   "cell_type": "code",
   "execution_count": 33,
   "metadata": {},
   "outputs": [
    {
     "data": {
      "image/png": "[encoded data removed]",
      "text/plain": [
       "<matplotlib.figure.Figure at 0x9ac6450>"
      ]
     },
     "metadata": {},
     "output_type": "display_data"
    }
   ],
   "source": [
    "for h in (0.1, 0.05, 0.025):\n",
    "    t, w = RK4(f, a, b, h, y_0)\n",
    "    plt.plot(t, w[0], label=\"Approximation with h: %.3f\" % h)\n",
    "\n",
    "true_value = exact_sol(t)\n",
    "plt.plot(t, true_value, label=\"Exact value\")\n",
    "plt.legend()\n",
    "\n",
    "plt.show()"
   ]
  },
  {
   "cell_type": "code",
   "execution_count": 34,
   "metadata": {
    "collapsed": true
   },
   "outputs": [],
   "source": [
    "# (b)\n",
    "def f(t, y):\n",
    "    return (t**2)*y\n",
    "\n",
    "def exact_sol(t):\n",
    "    return exp((t**3)/3)"
   ]
  },
  {
   "cell_type": "code",
   "execution_count": 35,
   "metadata": {},
   "outputs": [
    {
     "data": {
      "image/png": "[encoded data removed]",
      "text/plain": [
       "<matplotlib.figure.Figure at 0x9cbbf90>"
      ]
     },
     "metadata": {},
     "output_type": "display_data"
    }
   ],
   "source": [
    "for h in (0.1, 0.05, 0.025):\n",
    "    t, w = RK4(f, a, b, h, y_0)\n",
    "    plt.plot(t, w[0], label=\"Approximation with h: %.3f\" % h)\n",
    "\n",
    "true_value = exact_sol(t)\n",
    "plt.plot(t, true_value, label=\"Exact value\")\n",
    "plt.legend()\n",
    "\n",
    "plt.show()"
   ]
  },
  {
   "cell_type": "code",
   "execution_count": 36,
   "metadata": {
    "collapsed": true
   },
   "outputs": [],
   "source": [
    "# (c)\n",
    "def f(t, y):\n",
    "    return 2*(t + 1)*y\n",
    "\n",
    "def exact_sol(t):\n",
    "    return exp((t+1)**2 - 1)"
   ]
  },
  {
   "cell_type": "code",
   "execution_count": 37,
   "metadata": {},
   "outputs": [
    {
     "data": {
      "image/png": "[encoded data removed]",
      "text/plain": [
       "<matplotlib.figure.Figure at 0x9d27c30>"
      ]
     },
     "metadata": {},
     "output_type": "display_data"
    }
   ],
   "source": [
    "for h in (0.1, 0.05, 0.025):\n",
    "    t, w = RK4(f, a, b, h, y_0)\n",
    "    plt.plot(t, w[0], label=\"Approximation with h: %.3f\" % h)\n",
    "\n",
    "true_value = exact_sol(t)\n",
    "plt.plot(t, true_value, label=\"Exact value\")\n",
    "plt.legend()\n",
    "\n",
    "plt.show()"
   ]
  },
  {
   "cell_type": "code",
   "execution_count": 38,
   "metadata": {
    "collapsed": true
   },
   "outputs": [],
   "source": [
    "# (d)\n",
    "def f(t, y):\n",
    "    return 5*(t**4)*y\n",
    "\n",
    "def exact_sol(t):\n",
    "    return exp(t**5)"
   ]
  },
  {
   "cell_type": "code",
   "execution_count": 39,
   "metadata": {},
   "outputs": [
    {
     "data": {
      "image/png": "[encoded data removed]",
      "text/plain": [
       "<matplotlib.figure.Figure at 0x9d67690>"
      ]
     },
     "metadata": {},
     "output_type": "display_data"
    }
   ],
   "source": [
    "for h in (0.1, 0.05, 0.025):\n",
    "    t, w = RK4(f, a, b, h, y_0)\n",
    "    plt.plot(t, w[0], label=\"Approximation with h: %.3f\" % h)\n",
    "\n",
    "true_value = exact_sol(t)\n",
    "plt.plot(t, true_value, label=\"Exact value\")\n",
    "plt.legend()\n",
    "\n",
    "plt.show()"
   ]
  },
  {
   "cell_type": "code",
   "execution_count": 40,
   "metadata": {
    "collapsed": true
   },
   "outputs": [],
   "source": [
    "# (e)\n",
    "def f(t, y):\n",
    "    return y**(-2)\n",
    "\n",
    "def exact_sol(t):\n",
    "    return (3*t + 1)**(1/3)"
   ]
  },
  {
   "cell_type": "code",
   "execution_count": 41,
   "metadata": {},
   "outputs": [
    {
     "data": {
      "image/png": "[encoded data removed]",
      "text/plain": [
       "<matplotlib.figure.Figure at 0x9d27c70>"
      ]
     },
     "metadata": {},
     "output_type": "display_data"
    }
   ],
   "source": [
    "for h in (0.1, 0.05, 0.025):\n",
    "    t, w = RK4(f, a, b, h, y_0)\n",
    "    plt.plot(t, w[0], label=\"Approximation with h: %.3f\" % h)\n",
    "\n",
    "true_value = exact_sol(t)\n",
    "plt.plot(t, true_value, label=\"Exact value\")\n",
    "plt.legend()\n",
    "\n",
    "plt.show()"
   ]
  },
  {
   "cell_type": "code",
   "execution_count": 42,
   "metadata": {
    "collapsed": true
   },
   "outputs": [],
   "source": [
    "# (f)\n",
    "def f(t, y):\n",
    "    return t**3 / y**2\n",
    "\n",
    "def exact_sol(t):\n",
    "    return (0.75*(t**4) + 1)**(1/3)"
   ]
  },
  {
   "cell_type": "code",
   "execution_count": 43,
   "metadata": {
    "scrolled": true
   },
   "outputs": [
    {
     "data": {
      "image/png": "[encoded data removed]",
      "text/plain": [
       "<matplotlib.figure.Figure at 0x9e5c8d0>"
      ]
     },
     "metadata": {},
     "output_type": "display_data"
    }
   ],
   "source": [
    "for h in (0.1, 0.05, 0.025):\n",
    "    t, w = RK4(f, a, b, h, y_0)\n",
    "    plt.plot(t, w[0], label=\"Approximation with h: %.3f\" % h)\n",
    "\n",
    "true_value = exact_sol(t)\n",
    "plt.plot(t, true_value, label=\"Exact value\")\n",
    "plt.legend()\n",
    "\n",
    "plt.show()"
   ]
  },
  {
   "cell_type": "markdown",
   "metadata": {},
   "source": [
    "### Q. 4"
   ]
  },
  {
   "cell_type": "code",
   "execution_count": 44,
   "metadata": {
    "collapsed": true
   },
   "outputs": [],
   "source": [
    "a, b = 0, 1\n",
    "h = 0.1\n",
    "y_0 = [0]"
   ]
  },
  {
   "cell_type": "code",
   "execution_count": 45,
   "metadata": {
    "collapsed": true
   },
   "outputs": [],
   "source": [
    "# (a)\n",
    "def f(t, y):\n",
    "    return t + y\n",
    "\n",
    "def exact_sol(t):\n",
    "    return exp(t) - t - 1"
   ]
  },
  {
   "cell_type": "code",
   "execution_count": 46,
   "metadata": {},
   "outputs": [
    {
     "data": {
      "text/html": [
       "<div>\n",
       "<style>\n",
       "    .dataframe thead tr:only-child th {\n",
       "        text-align: right;\n",
       "    }\n",
       "\n",
       "    .dataframe thead th {\n",
       "        text-align: left;\n",
       "    }\n",
       "\n",
       "    .dataframe tbody tr th {\n",
       "        vertical-align: top;\n",
       "    }\n",
       "</style>\n",
       "<table border=\"1\" class=\"dataframe\">\n",
       "  <thead>\n",
       "    <tr style=\"text-align: right;\">\n",
       "      <th></th>\n",
       "      <th>True value</th>\n",
       "      <th>w</th>\n",
       "      <th>Error</th>\n",
       "    </tr>\n",
       "    <tr>\n",
       "      <th>t</th>\n",
       "      <th></th>\n",
       "      <th></th>\n",
       "      <th></th>\n",
       "    </tr>\n",
       "  </thead>\n",
       "  <tbody>\n",
       "    <tr>\n",
       "      <th>0.0</th>\n",
       "      <td>0.000000</td>\n",
       "      <td>0.000000</td>\n",
       "      <td>0.000000e+00</td>\n",
       "    </tr>\n",
       "    <tr>\n",
       "      <th>0.1</th>\n",
       "      <td>0.005171</td>\n",
       "      <td>0.005171</td>\n",
       "      <td>8.474231e-08</td>\n",
       "    </tr>\n",
       "    <tr>\n",
       "      <th>0.2</th>\n",
       "      <td>0.021403</td>\n",
       "      <td>0.021403</td>\n",
       "      <td>1.873095e-07</td>\n",
       "    </tr>\n",
       "    <tr>\n",
       "      <th>0.3</th>\n",
       "      <td>0.049859</td>\n",
       "      <td>0.049858</td>\n",
       "      <td>3.105135e-07</td>\n",
       "    </tr>\n",
       "    <tr>\n",
       "      <th>0.4</th>\n",
       "      <td>0.091825</td>\n",
       "      <td>0.091824</td>\n",
       "      <td>4.575606e-07</td>\n",
       "    </tr>\n",
       "    <tr>\n",
       "      <th>0.5</th>\n",
       "      <td>0.148721</td>\n",
       "      <td>0.148721</td>\n",
       "      <td>6.321033e-07</td>\n",
       "    </tr>\n",
       "    <tr>\n",
       "      <th>0.6</th>\n",
       "      <td>0.222119</td>\n",
       "      <td>0.222118</td>\n",
       "      <td>8.382986e-07</td>\n",
       "    </tr>\n",
       "    <tr>\n",
       "      <th>0.7</th>\n",
       "      <td>0.313753</td>\n",
       "      <td>0.313752</td>\n",
       "      <td>1.080874e-06</td>\n",
       "    </tr>\n",
       "    <tr>\n",
       "      <th>0.8</th>\n",
       "      <td>0.425541</td>\n",
       "      <td>0.425540</td>\n",
       "      <td>1.365200e-06</td>\n",
       "    </tr>\n",
       "    <tr>\n",
       "      <th>0.9</th>\n",
       "      <td>0.559603</td>\n",
       "      <td>0.559601</td>\n",
       "      <td>1.697377e-06</td>\n",
       "    </tr>\n",
       "    <tr>\n",
       "      <th>1.0</th>\n",
       "      <td>0.718282</td>\n",
       "      <td>0.718280</td>\n",
       "      <td>2.084324e-06</td>\n",
       "    </tr>\n",
       "  </tbody>\n",
       "</table>\n",
       "</div>"
      ],
      "text/plain": [
       "     True value         w         Error\n",
       "t                                      \n",
       "0.0    0.000000  0.000000  0.000000e+00\n",
       "0.1    0.005171  0.005171  8.474231e-08\n",
       "0.2    0.021403  0.021403  1.873095e-07\n",
       "0.3    0.049859  0.049858  3.105135e-07\n",
       "0.4    0.091825  0.091824  4.575606e-07\n",
       "0.5    0.148721  0.148721  6.321033e-07\n",
       "0.6    0.222119  0.222118  8.382986e-07\n",
       "0.7    0.313753  0.313752  1.080874e-06\n",
       "0.8    0.425541  0.425540  1.365200e-06\n",
       "0.9    0.559603  0.559601  1.697377e-06\n",
       "1.0    0.718282  0.718280  2.084324e-06"
      ]
     },
     "execution_count": 46,
     "metadata": {},
     "output_type": "execute_result"
    }
   ],
   "source": [
    "t, w = RK4(f, a, b, h, y_0)\n",
    "true_value = exact_sol(t)\n",
    "error = abs(true_value - w[0])\n",
    "\n",
    "DF({\"t\": t, \"w\": w[0], \"Error\": error, 'True value': true_value}).set_index('t')[['True value', 'w', 'Error']]"
   ]
  },
  {
   "cell_type": "code",
   "execution_count": 47,
   "metadata": {
    "collapsed": true
   },
   "outputs": [],
   "source": [
    "# (b)\n",
    "def f(t, y):\n",
    "    return t - y\n",
    "\n",
    "def exact_sol(t):\n",
    "    return exp(-t) + t - 1"
   ]
  },
  {
   "cell_type": "code",
   "execution_count": 48,
   "metadata": {},
   "outputs": [
    {
     "data": {
      "text/html": [
       "<div>\n",
       "<style>\n",
       "    .dataframe thead tr:only-child th {\n",
       "        text-align: right;\n",
       "    }\n",
       "\n",
       "    .dataframe thead th {\n",
       "        text-align: left;\n",
       "    }\n",
       "\n",
       "    .dataframe tbody tr th {\n",
       "        vertical-align: top;\n",
       "    }\n",
       "</style>\n",
       "<table border=\"1\" class=\"dataframe\">\n",
       "  <thead>\n",
       "    <tr style=\"text-align: right;\">\n",
       "      <th></th>\n",
       "      <th>True value</th>\n",
       "      <th>w</th>\n",
       "      <th>Error</th>\n",
       "    </tr>\n",
       "    <tr>\n",
       "      <th>t</th>\n",
       "      <th></th>\n",
       "      <th></th>\n",
       "      <th></th>\n",
       "    </tr>\n",
       "  </thead>\n",
       "  <tbody>\n",
       "    <tr>\n",
       "      <th>0.0</th>\n",
       "      <td>0.000000</td>\n",
       "      <td>0.000000</td>\n",
       "      <td>0.000000e+00</td>\n",
       "    </tr>\n",
       "    <tr>\n",
       "      <th>0.1</th>\n",
       "      <td>0.004837</td>\n",
       "      <td>0.004838</td>\n",
       "      <td>8.196404e-08</td>\n",
       "    </tr>\n",
       "    <tr>\n",
       "      <th>0.2</th>\n",
       "      <td>0.018731</td>\n",
       "      <td>0.018731</td>\n",
       "      <td>1.483283e-07</td>\n",
       "    </tr>\n",
       "    <tr>\n",
       "      <th>0.3</th>\n",
       "      <td>0.040818</td>\n",
       "      <td>0.040818</td>\n",
       "      <td>2.013195e-07</td>\n",
       "    </tr>\n",
       "    <tr>\n",
       "      <th>0.4</th>\n",
       "      <td>0.070320</td>\n",
       "      <td>0.070320</td>\n",
       "      <td>2.428819e-07</td>\n",
       "    </tr>\n",
       "    <tr>\n",
       "      <th>0.5</th>\n",
       "      <td>0.106531</td>\n",
       "      <td>0.106531</td>\n",
       "      <td>2.747107e-07</td>\n",
       "    </tr>\n",
       "    <tr>\n",
       "      <th>0.6</th>\n",
       "      <td>0.148812</td>\n",
       "      <td>0.148812</td>\n",
       "      <td>2.982823e-07</td>\n",
       "    </tr>\n",
       "    <tr>\n",
       "      <th>0.7</th>\n",
       "      <td>0.196585</td>\n",
       "      <td>0.196586</td>\n",
       "      <td>3.148798e-07</td>\n",
       "    </tr>\n",
       "    <tr>\n",
       "      <th>0.8</th>\n",
       "      <td>0.249329</td>\n",
       "      <td>0.249329</td>\n",
       "      <td>3.256172e-07</td>\n",
       "    </tr>\n",
       "    <tr>\n",
       "      <th>0.9</th>\n",
       "      <td>0.306570</td>\n",
       "      <td>0.306570</td>\n",
       "      <td>3.314595e-07</td>\n",
       "    </tr>\n",
       "    <tr>\n",
       "      <th>1.0</th>\n",
       "      <td>0.367879</td>\n",
       "      <td>0.367880</td>\n",
       "      <td>3.332411e-07</td>\n",
       "    </tr>\n",
       "  </tbody>\n",
       "</table>\n",
       "</div>"
      ],
      "text/plain": [
       "     True value         w         Error\n",
       "t                                      \n",
       "0.0    0.000000  0.000000  0.000000e+00\n",
       "0.1    0.004837  0.004838  8.196404e-08\n",
       "0.2    0.018731  0.018731  1.483283e-07\n",
       "0.3    0.040818  0.040818  2.013195e-07\n",
       "0.4    0.070320  0.070320  2.428819e-07\n",
       "0.5    0.106531  0.106531  2.747107e-07\n",
       "0.6    0.148812  0.148812  2.982823e-07\n",
       "0.7    0.196585  0.196586  3.148798e-07\n",
       "0.8    0.249329  0.249329  3.256172e-07\n",
       "0.9    0.306570  0.306570  3.314595e-07\n",
       "1.0    0.367879  0.367880  3.332411e-07"
      ]
     },
     "execution_count": 48,
     "metadata": {},
     "output_type": "execute_result"
    }
   ],
   "source": [
    "t, w = RK4(f, a, b, h, y_0)\n",
    "true_value = exact_sol(t)\n",
    "error = abs(true_value - w[0])\n",
    "\n",
    "DF({\"t\": t, \"w\": w[0], \"Error\": error, 'True value': true_value}).set_index('t')[['True value', 'w', 'Error']]"
   ]
  },
  {
   "cell_type": "code",
   "execution_count": 49,
   "metadata": {
    "collapsed": true
   },
   "outputs": [],
   "source": [
    "# (c)\n",
    "def f(t, y):\n",
    "    return 4*t - 2*y\n",
    "\n",
    "def exact_sol(t):\n",
    "    return exp(-2*t) + 2*t - 1"
   ]
  },
  {
   "cell_type": "code",
   "execution_count": 50,
   "metadata": {},
   "outputs": [
    {
     "data": {
      "text/html": [
       "<div>\n",
       "<style>\n",
       "    .dataframe thead tr:only-child th {\n",
       "        text-align: right;\n",
       "    }\n",
       "\n",
       "    .dataframe thead th {\n",
       "        text-align: left;\n",
       "    }\n",
       "\n",
       "    .dataframe tbody tr th {\n",
       "        vertical-align: top;\n",
       "    }\n",
       "</style>\n",
       "<table border=\"1\" class=\"dataframe\">\n",
       "  <thead>\n",
       "    <tr style=\"text-align: right;\">\n",
       "      <th></th>\n",
       "      <th>True value</th>\n",
       "      <th>w</th>\n",
       "      <th>Error</th>\n",
       "    </tr>\n",
       "    <tr>\n",
       "      <th>t</th>\n",
       "      <th></th>\n",
       "      <th></th>\n",
       "      <th></th>\n",
       "    </tr>\n",
       "  </thead>\n",
       "  <tbody>\n",
       "    <tr>\n",
       "      <th>0.0</th>\n",
       "      <td>0.000000</td>\n",
       "      <td>0.000000</td>\n",
       "      <td>0.000000</td>\n",
       "    </tr>\n",
       "    <tr>\n",
       "      <th>0.1</th>\n",
       "      <td>0.018731</td>\n",
       "      <td>0.018733</td>\n",
       "      <td>0.000003</td>\n",
       "    </tr>\n",
       "    <tr>\n",
       "      <th>0.2</th>\n",
       "      <td>0.070320</td>\n",
       "      <td>0.070324</td>\n",
       "      <td>0.000004</td>\n",
       "    </tr>\n",
       "    <tr>\n",
       "      <th>0.3</th>\n",
       "      <td>0.148812</td>\n",
       "      <td>0.148817</td>\n",
       "      <td>0.000005</td>\n",
       "    </tr>\n",
       "    <tr>\n",
       "      <th>0.4</th>\n",
       "      <td>0.249329</td>\n",
       "      <td>0.249335</td>\n",
       "      <td>0.000006</td>\n",
       "    </tr>\n",
       "    <tr>\n",
       "      <th>0.5</th>\n",
       "      <td>0.367879</td>\n",
       "      <td>0.367885</td>\n",
       "      <td>0.000006</td>\n",
       "    </tr>\n",
       "    <tr>\n",
       "      <th>0.6</th>\n",
       "      <td>0.501194</td>\n",
       "      <td>0.501200</td>\n",
       "      <td>0.000006</td>\n",
       "    </tr>\n",
       "    <tr>\n",
       "      <th>0.7</th>\n",
       "      <td>0.646597</td>\n",
       "      <td>0.646602</td>\n",
       "      <td>0.000005</td>\n",
       "    </tr>\n",
       "    <tr>\n",
       "      <th>0.8</th>\n",
       "      <td>0.801897</td>\n",
       "      <td>0.801902</td>\n",
       "      <td>0.000005</td>\n",
       "    </tr>\n",
       "    <tr>\n",
       "      <th>0.9</th>\n",
       "      <td>0.965299</td>\n",
       "      <td>0.965304</td>\n",
       "      <td>0.000005</td>\n",
       "    </tr>\n",
       "    <tr>\n",
       "      <th>1.0</th>\n",
       "      <td>1.135335</td>\n",
       "      <td>1.135340</td>\n",
       "      <td>0.000004</td>\n",
       "    </tr>\n",
       "  </tbody>\n",
       "</table>\n",
       "</div>"
      ],
      "text/plain": [
       "     True value         w     Error\n",
       "t                                  \n",
       "0.0    0.000000  0.000000  0.000000\n",
       "0.1    0.018731  0.018733  0.000003\n",
       "0.2    0.070320  0.070324  0.000004\n",
       "0.3    0.148812  0.148817  0.000005\n",
       "0.4    0.249329  0.249335  0.000006\n",
       "0.5    0.367879  0.367885  0.000006\n",
       "0.6    0.501194  0.501200  0.000006\n",
       "0.7    0.646597  0.646602  0.000005\n",
       "0.8    0.801897  0.801902  0.000005\n",
       "0.9    0.965299  0.965304  0.000005\n",
       "1.0    1.135335  1.135340  0.000004"
      ]
     },
     "execution_count": 50,
     "metadata": {},
     "output_type": "execute_result"
    }
   ],
   "source": [
    "t, w = RK4(f, a, b, h, y_0)\n",
    "true_value = exact_sol(t)\n",
    "error = abs(true_value - w[0])\n",
    "\n",
    "DF({\"t\": t, \"w\": w[0], \"Error\": error, 'True value': true_value}).set_index('t')[['True value', 'w', 'Error']]"
   ]
  },
  {
   "cell_type": "markdown",
   "metadata": {},
   "source": [
    "### Q. 5"
   ]
  },
  {
   "cell_type": "code",
   "execution_count": 51,
   "metadata": {
    "collapsed": true
   },
   "outputs": [],
   "source": [
    "a, b = 0, 1\n",
    "\n",
    "def f(t, y):\n",
    "    return 1 + y**2"
   ]
  },
  {
   "cell_type": "code",
   "execution_count": 52,
   "metadata": {
    "collapsed": true
   },
   "outputs": [],
   "source": [
    "# (a)\n",
    "y_0 = [0]\n",
    "\n",
    "def exact_sol(t):\n",
    "    return tan(t)"
   ]
  },
  {
   "cell_type": "code",
   "execution_count": 53,
   "metadata": {
    "scrolled": true
   },
   "outputs": [
    {
     "data": {
      "image/png": "[encoded data removed]",
      "text/plain": [
       "<matplotlib.figure.Figure at 0xa1cb9b0>"
      ]
     },
     "metadata": {},
     "output_type": "display_data"
    }
   ],
   "source": [
    "for h in (0.1, 0.05):\n",
    "    t, w = RK4(f, a, b, h, y_0)\n",
    "    plt.plot(t, w[0], label=\"Approximation with h: %.2f\" % h)\n",
    "\n",
    "true_value = exact_sol(t)\n",
    "plt.plot(t, true_value, label=\"Exact value\")\n",
    "plt.legend()\n",
    "\n",
    "plt.show()"
   ]
  },
  {
   "cell_type": "code",
   "execution_count": 54,
   "metadata": {
    "collapsed": true
   },
   "outputs": [],
   "source": [
    "# (b)\n",
    "y_0 = [1]\n",
    "\n",
    "def exact_sol(t):\n",
    "    return tan(t + pi/4)"
   ]
  },
  {
   "cell_type": "code",
   "execution_count": 55,
   "metadata": {},
   "outputs": [
    {
     "name": "stderr",
     "output_type": "stream",
     "text": [
      "C:\\Anaconda3\\lib\\site-packages\\ipykernel_launcher.py:4: RuntimeWarning: overflow encountered in square\n",
      "  after removing the cwd from sys.path.\n"
     ]
    },
    {
     "data": {
      "image/png": "[encoded data removed]",
      "text/plain": [
       "<matplotlib.figure.Figure at 0xa20b230>"
      ]
     },
     "metadata": {},
     "output_type": "display_data"
    }
   ],
   "source": [
    "for h in (0.1, 0.05):\n",
    "    t, w = RK4(f, a, b, h, y_0)\n",
    "    plt.plot(t, w[0], label=\"Approximation with h: %.2f\" % h)\n",
    "\n",
    "true_value = exact_sol(t)\n",
    "plt.plot(t, true_value, label=\"Exact value\")\n",
    "plt.legend()\n",
    "\n",
    "plt.show()"
   ]
  },
  {
   "cell_type": "markdown",
   "metadata": {},
   "source": [
    "### Q. 6"
   ]
  },
  {
   "cell_type": "code",
   "execution_count": 56,
   "metadata": {
    "collapsed": true
   },
   "outputs": [],
   "source": [
    "a, b = 0, 1\n",
    "\n",
    "def f(t, y):\n",
    "    return 1 - y**2"
   ]
  },
  {
   "cell_type": "code",
   "execution_count": 57,
   "metadata": {
    "collapsed": true
   },
   "outputs": [],
   "source": [
    "# (a)\n",
    "y_0 = [0]\n",
    "\n",
    "def exact_sol(t):\n",
    "    return tanh(t)"
   ]
  },
  {
   "cell_type": "code",
   "execution_count": 58,
   "metadata": {
    "scrolled": true
   },
   "outputs": [
    {
     "data": {
      "image/png": "[encoded data removed]",
      "text/plain": [
       "<matplotlib.figure.Figure at 0xa19c750>"
      ]
     },
     "metadata": {},
     "output_type": "display_data"
    }
   ],
   "source": [
    "for h in (0.1, 0.05):\n",
    "    t, w = RK4(f, a, b, h, y_0)\n",
    "    plt.plot(t, w[0], label=\"Approximation with h: %.2f\" % h)\n",
    "\n",
    "true_value = exact_sol(t)\n",
    "plt.plot(t, true_value, label=\"Exact value\")\n",
    "plt.legend()\n",
    "\n",
    "plt.show()"
   ]
  },
  {
   "cell_type": "code",
   "execution_count": 59,
   "metadata": {
    "collapsed": true
   },
   "outputs": [],
   "source": [
    "# (b)\n",
    "y_0 = [-1/2]\n",
    "\n",
    "def exact_sol(t):\n",
    "    c = -log(3)/2\n",
    "    return tanh(t + c)"
   ]
  },
  {
   "cell_type": "code",
   "execution_count": 60,
   "metadata": {},
   "outputs": [
    {
     "data": {
      "image/png": "[encoded data removed]",
      "text/plain": [
       "<matplotlib.figure.Figure at 0xa1a8b30>"
      ]
     },
     "metadata": {},
     "output_type": "display_data"
    }
   ],
   "source": [
    "for h in (0.1, 0.05):\n",
    "    t, w = RK4(f, a, b, h, y_0)\n",
    "    plt.plot(t, w[0], label=\"Approximation with h: %.2f\" % h)\n",
    "\n",
    "true_value = exact_sol(t)\n",
    "plt.plot(t, true_value, label=\"Exact value\")\n",
    "plt.legend()\n",
    "\n",
    "plt.show()"
   ]
  },
  {
   "cell_type": "markdown",
   "metadata": {},
   "source": [
    "### Q. 7"
   ]
  },
  {
   "cell_type": "code",
   "execution_count": 61,
   "metadata": {
    "collapsed": true
   },
   "outputs": [],
   "source": [
    "a, b = 0, 4\n",
    "\n",
    "def f(t, y):\n",
    "    return sin(y)"
   ]
  },
  {
   "cell_type": "code",
   "execution_count": 62,
   "metadata": {
    "collapsed": true
   },
   "outputs": [],
   "source": [
    "# (a)\n",
    "y_0 = [0]\n",
    "\n",
    "def exact_sol(t):\n",
    "    return 2*arctan(exp(t)*tan(y_0[0]/2)) + 2*pi*int((y_0[0] + pi)/(2*pi))"
   ]
  },
  {
   "cell_type": "code",
   "execution_count": 63,
   "metadata": {},
   "outputs": [
    {
     "data": {
      "image/png": "[encoded data removed]",
      "text/plain": [
       "<matplotlib.figure.Figure at 0xa1c1cf0>"
      ]
     },
     "metadata": {},
     "output_type": "display_data"
    }
   ],
   "source": [
    "for k in (0, 5):\n",
    "    h = 0.1 * 2**(-k)\n",
    "    t, w = RK4(f, a, b, h, y_0)\n",
    "    plt.plot(t, w[0], label=\"Approximation with k: %d\" % k)\n",
    "\n",
    "true_value = exact_sol(t)\n",
    "plt.plot(t, true_value, label=\"Exact solution\")\n",
    "plt.legend()\n",
    "\n",
    "plt.show()"
   ]
  },
  {
   "cell_type": "code",
   "execution_count": 64,
   "metadata": {
    "scrolled": true
   },
   "outputs": [
    {
     "name": "stderr",
     "output_type": "stream",
     "text": [
      "C:\\Anaconda3\\lib\\site-packages\\matplotlib\\ticker.py:2210: UserWarning: Data has no positive values, and therefore cannot be log-scaled.\n",
      "  \"Data has no positive values, and therefore cannot be \"\n"
     ]
    },
    {
     "data": {
      "image/png": "[encoded data removed]",
      "text/plain": [
       "<matplotlib.figure.Figure at 0x9d42b50>"
      ]
     },
     "metadata": {},
     "output_type": "display_data"
    }
   ],
   "source": [
    "h_list = [0.1 * 2**(-k) for k in range(6)]\n",
    "error_list = []\n",
    "\n",
    "for h in h_list:\n",
    "    t, w = RK4(f, a, b, h, y_0)\n",
    "    error = abs(true_value[-1] - w[0, -1])\n",
    "    error_list.append(error)\n",
    "# All the errors for different h's are exactly zero.\n",
    "# Therefore, we cannot plot a log-log error graph.\n",
    "\n",
    "plt.plot(h_list, error_list)\n",
    "plt.xlabel('h')\n",
    "plt.ylabel(\"Error\")\n",
    "plt.xscale(\"log\")\n",
    "plt.yscale(\"log\")\n",
    "plt.legend()\n",
    "\n",
    "plt.show()"
   ]
  },
  {
   "cell_type": "code",
   "execution_count": 65,
   "metadata": {
    "collapsed": true
   },
   "outputs": [],
   "source": [
    "# (b)\n",
    "y_0 = [100]\n",
    "\n",
    "def exact_sol(t):\n",
    "    return 2*arctan(exp(t)*tan(y_0[0]/2)) + 2*pi*int((y_0[0] + pi)/(2*pi))"
   ]
  },
  {
   "cell_type": "code",
   "execution_count": 66,
   "metadata": {},
   "outputs": [
    {
     "data": {
      "image/png": "[encoded data removed]",
      "text/plain": [
       "<matplotlib.figure.Figure at 0x9b14650>"
      ]
     },
     "metadata": {},
     "output_type": "display_data"
    }
   ],
   "source": [
    "for k in (0, 5):\n",
    "    h = 0.1 * 2**(-k)\n",
    "    t, w = RK4(f, a, b, h, y_0)\n",
    "    plt.plot(t, w[0], label=\"Approximation with k: %d\" % k)\n",
    "\n",
    "true_value = exact_sol(t)\n",
    "plt.plot(t, true_value, label=\"Exact solution\")\n",
    "plt.legend()\n",
    "\n",
    "plt.show()"
   ]
  },
  {
   "cell_type": "code",
   "execution_count": 67,
   "metadata": {},
   "outputs": [
    {
     "data": {
      "image/png": "[encoded data removed]",
      "text/plain": [
       "<matplotlib.figure.Figure at 0xa2bb250>"
      ]
     },
     "metadata": {},
     "output_type": "display_data"
    }
   ],
   "source": [
    "h_list = [0.1 * 2**(-k) for k in range(6)]\n",
    "error_list = []\n",
    "\n",
    "for h in h_list:\n",
    "    t, w = RK4(f, a, b, h, y_0)\n",
    "    error = abs(true_value[-1] - w[0, -1])\n",
    "    error_list.append(error)\n",
    "\n",
    "plt.plot(h_list, error_list)\n",
    "plt.xlabel('h')\n",
    "plt.ylabel(\"Error\")\n",
    "plt.xscale(\"log\")\n",
    "plt.yscale(\"log\")\n",
    "plt.legend()\n",
    "\n",
    "plt.show()"
   ]
  },
  {
   "cell_type": "markdown",
   "metadata": {},
   "source": [
    "### Q. 8"
   ]
  },
  {
   "cell_type": "code",
   "execution_count": 68,
   "metadata": {
    "collapsed": true
   },
   "outputs": [],
   "source": [
    "def f(t, y):\n",
    "    return sinh(y)"
   ]
  },
  {
   "cell_type": "code",
   "execution_count": 69,
   "metadata": {
    "collapsed": true
   },
   "outputs": [],
   "source": [
    "# (a)\n",
    "a, b = 0, 2\n",
    "y_0 = [1/4]\n",
    "\n",
    "def exact_sol(t):\n",
    "    return 2*arctanh(exp(t)*tanh(y_0[0]/2))"
   ]
  },
  {
   "cell_type": "code",
   "execution_count": 70,
   "metadata": {},
   "outputs": [
    {
     "data": {
      "image/png": "[encoded data removed]",
      "text/plain": [
       "<matplotlib.figure.Figure at 0x9a4d9f0>"
      ]
     },
     "metadata": {},
     "output_type": "display_data"
    }
   ],
   "source": [
    "for k in (0, 5):\n",
    "    h = 0.1 * 2**(-k)\n",
    "    t, w = RK4(f, a, b, h, y_0)\n",
    "    plt.plot(t, w[0], label=\"Approximation with k: %d\" % k)\n",
    "\n",
    "true_value = exact_sol(t)\n",
    "plt.plot(t, true_value, label=\"Exact solution\")\n",
    "plt.legend()\n",
    "\n",
    "plt.show()"
   ]
  },
  {
   "cell_type": "code",
   "execution_count": 71,
   "metadata": {
    "scrolled": true
   },
   "outputs": [
    {
     "data": {
      "image/png": "[encoded data removed]",
      "text/plain": [
       "<matplotlib.figure.Figure at 0x9d48cb0>"
      ]
     },
     "metadata": {},
     "output_type": "display_data"
    }
   ],
   "source": [
    "h_list = [0.1 * 2**(-k) for k in range(6)]\n",
    "error_list = []\n",
    "\n",
    "for h in h_list:\n",
    "    t, w = RK4(f, a, b, h, y_0)\n",
    "    error = abs(true_value[-1] - w[0, -1])\n",
    "    error_list.append(error)\n",
    "\n",
    "plt.plot(h_list, error_list)\n",
    "plt.xlabel('h')\n",
    "plt.ylabel(\"Error\")\n",
    "plt.xscale(\"log\")\n",
    "plt.yscale(\"log\")\n",
    "plt.legend()\n",
    "\n",
    "plt.show()"
   ]
  },
  {
   "cell_type": "code",
   "execution_count": 72,
   "metadata": {
    "collapsed": true
   },
   "outputs": [],
   "source": [
    "# (b)\n",
    "a, b = 0, 1/4\n",
    "y_0 = [2]\n",
    "\n",
    "def exact_sol(t):\n",
    "    return 2*arctanh(exp(t)*tanh(y_0[0]/2))"
   ]
  },
  {
   "cell_type": "code",
   "execution_count": 73,
   "metadata": {},
   "outputs": [
    {
     "data": {
      "image/png": "[encoded data removed]",
      "text/plain": [
       "<matplotlib.figure.Figure at 0xa1c1910>"
      ]
     },
     "metadata": {},
     "output_type": "display_data"
    }
   ],
   "source": [
    "for k in (0, 5):\n",
    "    h = 0.1 * 2**(-k)\n",
    "    t, w = RK4(f, a, b, h, y_0)\n",
    "    plt.plot(t, w[0], label=\"Approximation with k: %d\" % k)\n",
    "\n",
    "true_value = exact_sol(t)\n",
    "plt.plot(t, true_value, label=\"Exact solution\")\n",
    "plt.legend()\n",
    "\n",
    "plt.show()"
   ]
  },
  {
   "cell_type": "code",
   "execution_count": 74,
   "metadata": {},
   "outputs": [
    {
     "data": {
      "image/png": "[encoded data removed]",
      "text/plain": [
       "<matplotlib.figure.Figure at 0xa1722d0>"
      ]
     },
     "metadata": {},
     "output_type": "display_data"
    }
   ],
   "source": [
    "h_list = [0.1 * 2**(-k) for k in range(6)]\n",
    "error_list = []\n",
    "\n",
    "for h in h_list:\n",
    "    t, w = RK4(f, a, b, h, y_0)\n",
    "    error = abs(true_value[-1] - w[0, -1])\n",
    "    error_list.append(error)\n",
    "\n",
    "plt.plot(h_list, error_list)\n",
    "plt.xlabel('h')\n",
    "plt.ylabel(\"Error\")\n",
    "plt.xscale(\"log\")\n",
    "plt.yscale(\"log\")\n",
    "plt.legend()\n",
    "\n",
    "plt.show()"
   ]
  },
  {
   "cell_type": "markdown",
   "metadata": {},
   "source": [
    "### Q. 9"
   ]
  },
  {
   "cell_type": "code",
   "execution_count": 75,
   "metadata": {
    "collapsed": true
   },
   "outputs": [],
   "source": [
    "a, b = 0, 1\n",
    "h_list = [0.2 * 2**(-k) for k in range(8)]\n",
    "y_0 = [1]"
   ]
  },
  {
   "cell_type": "code",
   "execution_count": 76,
   "metadata": {
    "collapsed": true
   },
   "outputs": [],
   "source": [
    "# (a)\n",
    "def f(t, y):\n",
    "    return t\n",
    "\n",
    "def exact_sol(t):\n",
    "    return (t**2)/2 + 1"
   ]
  },
  {
   "cell_type": "code",
   "execution_count": 77,
   "metadata": {
    "scrolled": true
   },
   "outputs": [
    {
     "data": {
      "image/png": "[encoded data removed]",
      "text/plain": [
       "<matplotlib.figure.Figure at 0xa303f70>"
      ]
     },
     "metadata": {},
     "output_type": "display_data"
    }
   ],
   "source": [
    "error_list = []\n",
    "\n",
    "for h in h_list:\n",
    "    t, w = RK4(f, a, b, h, y_0)\n",
    "    error = abs(exact_sol(1) - w[0, -1])\n",
    "    error_list.append(error)\n",
    "\n",
    "plt.plot(h_list, error_list)\n",
    "plt.xlabel(\"Step size h\")\n",
    "plt.ylabel(\"Global error g\")\n",
    "plt.xscale(\"log\")\n",
    "plt.yscale(\"log\")\n",
    "plt.legend()\n",
    "\n",
    "plt.show()"
   ]
  },
  {
   "cell_type": "code",
   "execution_count": 78,
   "metadata": {
    "collapsed": true
   },
   "outputs": [],
   "source": [
    "# (b)\n",
    "def f(t, y):\n",
    "    return (t**2)*y\n",
    "\n",
    "def exact_sol(t):\n",
    "    return exp((t**3)/3)"
   ]
  },
  {
   "cell_type": "code",
   "execution_count": 79,
   "metadata": {},
   "outputs": [
    {
     "data": {
      "image/png": "[encoded data removed]",
      "text/plain": [
       "<matplotlib.figure.Figure at 0xa2e88d0>"
      ]
     },
     "metadata": {},
     "output_type": "display_data"
    }
   ],
   "source": [
    "error_list = []\n",
    "\n",
    "for h in h_list:\n",
    "    t, w = RK4(f, a, b, h, y_0)\n",
    "    error = abs(exact_sol(1) - w[0, -1])\n",
    "    error_list.append(error)\n",
    "\n",
    "plt.plot(h_list, error_list)\n",
    "plt.xlabel(\"Step size h\")\n",
    "plt.ylabel(\"Global error g\")\n",
    "plt.xscale(\"log\")\n",
    "plt.yscale(\"log\")\n",
    "plt.legend()\n",
    "\n",
    "plt.show()"
   ]
  },
  {
   "cell_type": "code",
   "execution_count": 80,
   "metadata": {
    "collapsed": true
   },
   "outputs": [],
   "source": [
    "# (c)\n",
    "def f(t, y):\n",
    "    return 2*(t + 1)*y\n",
    "\n",
    "def exact_sol(t):\n",
    "    return exp((t+1)**2 - 1)"
   ]
  },
  {
   "cell_type": "code",
   "execution_count": 81,
   "metadata": {},
   "outputs": [
    {
     "data": {
      "image/png": "[encoded data removed]",
      "text/plain": [
       "<matplotlib.figure.Figure at 0xa3c63b0>"
      ]
     },
     "metadata": {},
     "output_type": "display_data"
    }
   ],
   "source": [
    "error_list = []\n",
    "\n",
    "for h in h_list:\n",
    "    t, w = RK4(f, a, b, h, y_0)\n",
    "    error = abs(exact_sol(1) - w[0, -1])\n",
    "    error_list.append(error)\n",
    "\n",
    "plt.plot(h_list, error_list)\n",
    "plt.xlabel(\"Step size h\")\n",
    "plt.ylabel(\"Global error g\")\n",
    "plt.xscale(\"log\")\n",
    "plt.yscale(\"log\")\n",
    "plt.legend()\n",
    "\n",
    "plt.show()"
   ]
  },
  {
   "cell_type": "code",
   "execution_count": 82,
   "metadata": {
    "collapsed": true
   },
   "outputs": [],
   "source": [
    "# (d)\n",
    "def f(t, y):\n",
    "    return 5*(t**4)*y\n",
    "\n",
    "def exact_sol(t):\n",
    "    return exp(t**5)"
   ]
  },
  {
   "cell_type": "code",
   "execution_count": 83,
   "metadata": {},
   "outputs": [
    {
     "data": {
      "image/png": "[encoded data removed]",
      "text/plain": [
       "<matplotlib.figure.Figure at 0xa1cb430>"
      ]
     },
     "metadata": {},
     "output_type": "display_data"
    }
   ],
   "source": [
    "error_list = []\n",
    "\n",
    "for h in h_list:\n",
    "    t, w = RK4(f, a, b, h, y_0)\n",
    "    error = abs(exact_sol(1) - w[0, -1])\n",
    "    error_list.append(error)\n",
    "\n",
    "plt.plot(h_list, error_list)\n",
    "plt.xlabel(\"Step size h\")\n",
    "plt.ylabel(\"Global error g\")\n",
    "plt.xscale(\"log\")\n",
    "plt.yscale(\"log\")\n",
    "plt.legend()\n",
    "\n",
    "plt.show()"
   ]
  },
  {
   "cell_type": "code",
   "execution_count": 84,
   "metadata": {
    "collapsed": true
   },
   "outputs": [],
   "source": [
    "# (e)\n",
    "def f(t, y):\n",
    "    return y**(-2)\n",
    "\n",
    "def exact_sol(t):\n",
    "    return (3*t + 1)**(1/3)"
   ]
  },
  {
   "cell_type": "code",
   "execution_count": 85,
   "metadata": {},
   "outputs": [
    {
     "data": {
      "image/png": "[encoded data removed]",
      "text/plain": [
       "<matplotlib.figure.Figure at 0x9b14d70>"
      ]
     },
     "metadata": {},
     "output_type": "display_data"
    }
   ],
   "source": [
    "error_list = []\n",
    "\n",
    "for h in h_list:\n",
    "    t, w = RK4(f, a, b, h, y_0)\n",
    "    error = abs(exact_sol(1) - w[0, -1])\n",
    "    error_list.append(error)\n",
    "\n",
    "plt.plot(h_list, error_list)\n",
    "plt.xlabel(\"Step size h\")\n",
    "plt.ylabel(\"Global error g\")\n",
    "plt.xscale(\"log\")\n",
    "plt.yscale(\"log\")\n",
    "plt.legend()\n",
    "\n",
    "plt.show()"
   ]
  },
  {
   "cell_type": "code",
   "execution_count": 86,
   "metadata": {
    "collapsed": true
   },
   "outputs": [],
   "source": [
    "# (f)\n",
    "def f(t, y):\n",
    "    return t**3 / y**2\n",
    "\n",
    "def exact_sol(t):\n",
    "    return (0.75*(t**4) + 1)**(1/3)"
   ]
  },
  {
   "cell_type": "code",
   "execution_count": 87,
   "metadata": {
    "scrolled": false
   },
   "outputs": [
    {
     "data": {
      "image/png": "[encoded data removed]",
      "text/plain": [
       "<matplotlib.figure.Figure at 0xa523530>"
      ]
     },
     "metadata": {},
     "output_type": "display_data"
    }
   ],
   "source": [
    "error_list = []\n",
    "\n",
    "for h in h_list:\n",
    "    t, w = RK4(f, a, b, h, y_0)\n",
    "    error = abs(exact_sol(1) - w[0, -1])\n",
    "    error_list.append(error)\n",
    "\n",
    "plt.plot(h_list, error_list)\n",
    "plt.xlabel(\"Step size h\")\n",
    "plt.ylabel(\"Global error g\")\n",
    "plt.xscale(\"log\")\n",
    "plt.yscale(\"log\")\n",
    "plt.legend()\n",
    "\n",
    "plt.show()"
   ]
  },
  {
   "cell_type": "markdown",
   "metadata": {},
   "source": [
    "### Q. 10"
   ]
  },
  {
   "cell_type": "raw",
   "metadata": {},
   "source": [
    "Consider the Hodgkin–Huxley equations (6.52) with default parameters.\n",
    "(a) Find as accurately as possible the minimum threshold, in microamps, for generating a spike with a 1 msec pulse.\n",
    "(b) Does the answer change if the pulse is 5 msec long?\n",
    "(c) Experiment with the shape of the pulse. Does a triangular pulse of identical enclosed area cause the same effect as a square pulse?\n",
    "(d) Discuss the existence of a threshold for constant sustained input."
   ]
  },
  {
   "cell_type": "code",
   "execution_count": 88,
   "metadata": {
    "collapsed": true
   },
   "outputs": [],
   "source": [
    "def Hodgkin_Huxley(t, y):\n",
    "    v, m, n, h = y\n",
    "    C = 1\n",
    "    g1, g2, g3 = 120, 36, 0.3\n",
    "    E0, E1, E2, E3 = -65, 50, -77, -54.4\n",
    "    I_in = 7\n",
    "    \n",
    "    def a_m(v):\n",
    "        return (2.5 - 0.1*v) / (exp(2.5 - 0.1*v) - 1)\n",
    "    def b_m(v):\n",
    "        return 4*exp(-v/18)\n",
    "    def a_n(v):\n",
    "        return (0.1 - 0.01*v) / (exp(1 - 0.1*v) - 1)\n",
    "    def b_n(v):\n",
    "        return exp(-v/80) / 8\n",
    "    def a_h(v):\n",
    "        return 0.07*exp(-v/20)\n",
    "    def b_h(v):\n",
    "        return 1 / (exp(3 - 0.1*v) + 1)\n",
    "    \n",
    "    v_ = (-g1*m**3*h*(v - E1) - g2*n**4*(v - E2) - g3*(v - E3) + I_in) / C\n",
    "    m_ = (1 - m)*a_m(v - E0) - m*b_m(v - E0)\n",
    "    n_ = (1 - n)*a_n(v - E0) - n*b_n(v - E0)\n",
    "    h_ = (1 - h)*a_h(v - E0) - h*b_h(v - E0)\n",
    "    \n",
    "    return np.array([v_, m_, n_, h_])"
   ]
  },
  {
   "cell_type": "code",
   "execution_count": null,
   "metadata": {
    "collapsed": true
   },
   "outputs": [],
   "source": []
  },
  {
   "cell_type": "code",
   "execution_count": null,
   "metadata": {
    "collapsed": true
   },
   "outputs": [],
   "source": []
  },
  {
   "cell_type": "markdown",
   "metadata": {},
   "source": [
    "### Q. 11"
   ]
  },
  {
   "cell_type": "code",
   "execution_count": 105,
   "metadata": {
    "collapsed": true
   },
   "outputs": [],
   "source": [
    "a, b = 0, 50\n",
    "h = 0.001\n",
    "init_cond = (5, 5, 5)\n",
    "\n",
    "def Lorenz(t, xyz):\n",
    "    x, y, z = xyz\n",
    "    s = 10\n",
    "    r = 28\n",
    "    b = 8/3\n",
    "    \n",
    "    x_ = -s*x + s*y\n",
    "    y_ = -x*z + r*x - y\n",
    "    z_ = x*y - b*z\n",
    "    \n",
    "    return np.array([x_, y_, z_])"
   ]
  },
  {
   "cell_type": "code",
   "execution_count": 106,
   "metadata": {
    "scrolled": true
   },
   "outputs": [
    {
     "data": {
      "image/png": "[encoded data removed]",
      "text/plain": [
       "<matplotlib.figure.Figure at 0x9d0eef0>"
      ]
     },
     "metadata": {},
     "output_type": "display_data"
    }
   ],
   "source": [
    "t, w = RK4(Lorenz, a, b, h, init_cond)\n",
    "\n",
    "plt.plot(w[0, :], w[2, :], label=\"Lorenz equations\")\n",
    "plt.legend()\n",
    "\n",
    "plt.show()"
   ]
  },
  {
   "cell_type": "markdown",
   "metadata": {},
   "source": [
    "### Q. 12"
   ]
  },
  {
   "cell_type": "code",
   "execution_count": 116,
   "metadata": {
    "collapsed": true
   },
   "outputs": [],
   "source": [
    "a, b = 0, 20\n",
    "h = 0.001\n",
    "\n",
    "delta = 10**(-5)\n",
    "init_cond1 = (5, 5, 5)\n",
    "init_cond2 = (5+delta, 5, 5)\n",
    "\n",
    "def Lorenz(t, xyz):\n",
    "    x, y, z = xyz\n",
    "    s = 10\n",
    "    r = 28\n",
    "    b = 8/3\n",
    "    \n",
    "    x_ = -s*x + s*y\n",
    "    y_ = -x*z + r*x - y\n",
    "    z_ = x*y - b*z\n",
    "    \n",
    "    return np.array([x_, y_, z_])"
   ]
  },
  {
   "cell_type": "code",
   "execution_count": 117,
   "metadata": {
    "scrolled": true
   },
   "outputs": [
    {
     "data": {
      "image/png": "[encoded data removed]",
      "text/plain": [
       "<matplotlib.figure.Figure at 0x9b14d70>"
      ]
     },
     "metadata": {},
     "output_type": "display_data"
    }
   ],
   "source": [
    "t, w1 = RK4(Lorenz, a, b, h, init_cond1)\n",
    "t, w2 = RK4(Lorenz, a, b, h, init_cond2)\n",
    "\n",
    "plt.plot(w1[0, :], w1[2, :], label=\"Lorenz equations 1\")\n",
    "plt.plot(w2[0, :], w2[2, :], label=\"Lorenz equations 2\")\n",
    "plt.legend()\n",
    "\n",
    "plt.show()"
   ]
  },
  {
   "cell_type": "code",
   "execution_count": 124,
   "metadata": {
    "scrolled": true
   },
   "outputs": [
    {
     "name": "stdout",
     "output_type": "stream",
     "text": [
      "Error after t = 10: 0.000001\n",
      "Error after t = 20: 450.721042\n"
     ]
    }
   ],
   "source": [
    "error_10 = np.array([w1[0, 10000] - w2[0, 10000], w1[2, 10000] - w2[2, 10000]])\n",
    "error_20 = np.array([w1[0, -1] - w2[0, -1], w1[2, -1] - w2[2, -1]])\n",
    "\n",
    "print(\"Error after t = 10: %f\" % (error_10 @ error_10))\n",
    "print(\"Error after t = 20: %f\" % (error_20 @ error_20))"
   ]
  },
  {
   "cell_type": "markdown",
   "metadata": {},
   "source": [
    "### Q. 13"
   ]
  },
  {
   "cell_type": "code",
   "execution_count": 135,
   "metadata": {},
   "outputs": [
    {
     "name": "stdout",
     "output_type": "stream",
     "text": [
      "The symbol sequences agree for 19598 times.\n"
     ]
    }
   ],
   "source": [
    "bin_seq_1 = (w1[0] > 0).astype(int)\n",
    "bin_seq_2 = (w2[0] > 0).astype(int)\n",
    "agreed_times = sum(bin_seq_1 == bin_seq_2)\n",
    "\n",
    "print(\"The symbol sequences agree for %d times.\" % agreed_times)"
   ]
  }
 ],
 "metadata": {
  "kernelspec": {
   "display_name": "Python 3",
   "language": "python",
   "name": "python3"
  },
  "language_info": {
   "codemirror_mode": {
    "name": "ipython",
    "version": 3
   },
   "file_extension": ".py",
   "mimetype": "text/x-python",
   "name": "python",
   "nbconvert_exporter": "python",
   "pygments_lexer": "ipython3",
   "version": "3.6.3"
  }
 },
 "nbformat": 4,
 "nbformat_minor": 2
}

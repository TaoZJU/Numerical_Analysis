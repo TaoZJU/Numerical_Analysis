{
 "cells": [
  {
   "cell_type": "code",
   "execution_count": 1,
   "metadata": {},
   "outputs": [],
   "source": [
    "import numpy as np\n",
    "import matplotlib.pyplot as plt\n",
    "\n",
    "%matplotlib inline"
   ]
  },
  {
   "cell_type": "markdown",
   "metadata": {},
   "source": [
    "# Chapter 1<br>Solving Equations"
   ]
  },
  {
   "cell_type": "markdown",
   "metadata": {},
   "source": [
    "## 1.1 Bisection Method"
   ]
  },
  {
   "cell_type": "markdown",
   "metadata": {},
   "source": [
    "### Q. 1"
   ]
  },
  {
   "cell_type": "code",
   "execution_count": 2,
   "metadata": {},
   "outputs": [],
   "source": [
    "# (a)\n",
    "def f(x):\n",
    "    return x**3 - 9"
   ]
  },
  {
   "cell_type": "code",
   "execution_count": 3,
   "metadata": {},
   "outputs": [
    {
     "name": "stdout",
     "output_type": "stream",
     "text": [
      "2.0800833702087402\n",
      "-5.878014446736302e-06\n"
     ]
    }
   ],
   "source": [
    "error = 0.5 * 10**(-6)\n",
    "\n",
    "a = 2\n",
    "b = 3\n",
    "\n",
    "while (b - a) / 2 > error:\n",
    "    c = (b + a) / 2\n",
    "    if f(c) == 0:\n",
    "        break\n",
    "    elif f(a)*f(c) > 0:\n",
    "        a = c\n",
    "    else:\n",
    "        b = c\n",
    "c = (b + a) / 2\n",
    "        \n",
    "print(c)\n",
    "print(f(c))"
   ]
  },
  {
   "cell_type": "code",
   "execution_count": 4,
   "metadata": {},
   "outputs": [],
   "source": [
    "# (b)\n",
    "def f(x):\n",
    "    return 3*x**3 + x**2 - x - 5"
   ]
  },
  {
   "cell_type": "code",
   "execution_count": 5,
   "metadata": {},
   "outputs": [
    {
     "name": "stdout",
     "output_type": "stream",
     "text": [
      "1.1697258949279785\n",
      "-4.4364658062789886e-06\n"
     ]
    }
   ],
   "source": [
    "error = 0.5 * 10**(-6)\n",
    "\n",
    "a = -2\n",
    "b = 2\n",
    "\n",
    "while (b - a) / 2 > error:\n",
    "    c = (b + a) / 2\n",
    "    if f(c) == 0:\n",
    "        break\n",
    "    elif f(a)*f(c) > 0:\n",
    "        a = c\n",
    "    else:\n",
    "        b = c\n",
    "c = (b + a) / 2\n",
    "        \n",
    "print(c)\n",
    "print(f(c))"
   ]
  },
  {
   "cell_type": "code",
   "execution_count": 6,
   "metadata": {},
   "outputs": [],
   "source": [
    "# (c)\n",
    "def f(x):\n",
    "    return np.cos(x)**2 - x + 6"
   ]
  },
  {
   "cell_type": "code",
   "execution_count": 7,
   "metadata": {},
   "outputs": [
    {
     "name": "stdout",
     "output_type": "stream",
     "text": [
      "6.77609258890152\n",
      "-4.99839643453015e-07\n"
     ]
    }
   ],
   "source": [
    "error = 0.5 * 10**(-6)\n",
    "\n",
    "a = 0\n",
    "b = 7\n",
    "\n",
    "while (b - a) / 2 > error:\n",
    "    c = (b + a) / 2\n",
    "    if f(c) == 0:\n",
    "        break\n",
    "    elif f(a)*f(c) > 0:\n",
    "        a = c\n",
    "    else:\n",
    "        b = c\n",
    "c = (b + a) / 2\n",
    "\n",
    "print(c)\n",
    "print(f(c))"
   ]
  },
  {
   "cell_type": "markdown",
   "metadata": {},
   "source": [
    "### Q. 2"
   ]
  },
  {
   "cell_type": "code",
   "execution_count": 8,
   "metadata": {},
   "outputs": [],
   "source": [
    "# (a)\n",
    "def f(x):\n",
    "    return x**5 + x - 1"
   ]
  },
  {
   "cell_type": "code",
   "execution_count": 9,
   "metadata": {},
   "outputs": [
    {
     "name": "stdout",
     "output_type": "stream",
     "text": [
      "0.7548776678740978\n",
      "4.269643305576665e-09\n"
     ]
    }
   ],
   "source": [
    "error = 0.5 * 10**(-8)\n",
    "\n",
    "a = 0\n",
    "b = 1\n",
    "\n",
    "while (b - a) / 2 > error:\n",
    "    c = (b + a) / 2\n",
    "    if f(c) == 0:\n",
    "        break\n",
    "    elif f(a)*f(c) > 0:\n",
    "        a = c\n",
    "    else:\n",
    "        b = c\n",
    "c = (b + a) / 2\n",
    "\n",
    "print(c)\n",
    "print(f(c))"
   ]
  },
  {
   "cell_type": "code",
   "execution_count": 10,
   "metadata": {},
   "outputs": [],
   "source": [
    "# (b)\n",
    "def f(x):\n",
    "    return np.sin(x) - 6*x - 5"
   ]
  },
  {
   "cell_type": "code",
   "execution_count": 11,
   "metadata": {},
   "outputs": [
    {
     "name": "stdout",
     "output_type": "stream",
     "text": [
      "-0.9708991050720215\n",
      "9.869011101670822e-07\n"
     ]
    }
   ],
   "source": [
    "error = 0.5 * 10**(-6)\n",
    "\n",
    "a = -1\n",
    "b = 0\n",
    "\n",
    "while (b - a) / 2 > error:\n",
    "    c = (b + a) / 2\n",
    "    if f(c) == 0:\n",
    "        break\n",
    "    elif f(a)*f(c) > 0:\n",
    "        a = c\n",
    "    else:\n",
    "        b = c\n",
    "c = (b + a) / 2\n",
    "        \n",
    "print(c)\n",
    "print(f(c))"
   ]
  },
  {
   "cell_type": "code",
   "execution_count": 12,
   "metadata": {},
   "outputs": [],
   "source": [
    "# (c)\n",
    "def f(x):\n",
    "    return np.log(x) + x**2 - 3"
   ]
  },
  {
   "cell_type": "code",
   "execution_count": 13,
   "metadata": {
    "scrolled": true
   },
   "outputs": [
    {
     "name": "stdout",
     "output_type": "stream",
     "text": [
      "1.5921425819396973\n",
      "-1.3538426864023734e-06\n"
     ]
    }
   ],
   "source": [
    "error = 0.5 * 10**(-6)\n",
    "\n",
    "a = 1\n",
    "b = 2\n",
    "\n",
    "while (b - a) / 2 > error:\n",
    "    c = (b + a) / 2\n",
    "    if f(c) == 0:\n",
    "        break\n",
    "    elif f(a)*f(c) > 0:\n",
    "        a = c\n",
    "    else:\n",
    "        b = c\n",
    "c = (b + a) / 2        \n",
    "\n",
    "print(c)\n",
    "print(f(c))"
   ]
  },
  {
   "cell_type": "markdown",
   "metadata": {},
   "source": [
    "### Q. 3"
   ]
  },
  {
   "cell_type": "code",
   "execution_count": 14,
   "metadata": {},
   "outputs": [],
   "source": [
    "# (a)\n",
    "def f(x):\n",
    "    return 2*x**3 - 6*x - 1"
   ]
  },
  {
   "cell_type": "code",
   "execution_count": 15,
   "metadata": {
    "scrolled": true
   },
   "outputs": [
    {
     "data": {
      "image/png": "[encoded data removed]",
      "text/plain": [
       "<matplotlib.figure.Figure at 0x1abca03ec50>"
      ]
     },
     "metadata": {},
     "output_type": "display_data"
    }
   ],
   "source": [
    "domain = np.linspace(-2, 2, 1000)\n",
    "plt.plot(domain, f(domain))\n",
    "plt.plot(domain, np.zeros(1000), '--')\n",
    "plt.show()"
   ]
  },
  {
   "cell_type": "code",
   "execution_count": 16,
   "metadata": {},
   "outputs": [],
   "source": [
    "interval = [(-2, -1), (-1, 0), (1, 2)]"
   ]
  },
  {
   "cell_type": "code",
   "execution_count": 17,
   "metadata": {},
   "outputs": [
    {
     "name": "stdout",
     "output_type": "stream",
     "text": [
      "x =  -1.6417832374572754\n",
      "x =  -0.16825437545776367\n",
      "x =  1.8100380897521973\n"
     ]
    }
   ],
   "source": [
    "error = 0.5 * 10**(-6)\n",
    "\n",
    "for a, b in interval:\n",
    "    while (b - a) / 2 > error:\n",
    "        c = (b + a) / 2\n",
    "        if f(c) == 0:\n",
    "            break\n",
    "        elif f(a)*f(c) > 0:\n",
    "            a = c\n",
    "        else:\n",
    "            b = c\n",
    "    c = (b + a) / 2\n",
    "    \n",
    "    print(\"x = \", c)"
   ]
  },
  {
   "cell_type": "code",
   "execution_count": 18,
   "metadata": {},
   "outputs": [],
   "source": [
    "# (b)\n",
    "def f(x):\n",
    "    return np.exp(x - 2) + x**3 - x"
   ]
  },
  {
   "cell_type": "code",
   "execution_count": 19,
   "metadata": {},
   "outputs": [
    {
     "data": {
      "image/png": "[encoded data removed]",
      "text/plain": [
       "<matplotlib.figure.Figure at 0x1abcc0fa9e8>"
      ]
     },
     "metadata": {},
     "output_type": "display_data"
    }
   ],
   "source": [
    "domain = np.linspace(-2, 2, 1000)\n",
    "plt.plot(domain, f(domain))\n",
    "plt.plot(domain, np.zeros(1000), '--')\n",
    "plt.show()"
   ]
  },
  {
   "cell_type": "code",
   "execution_count": 20,
   "metadata": {},
   "outputs": [],
   "source": [
    "interval = [(-3/2, -1/2), (-1/2, 1/2), (1/2, 3/2)]"
   ]
  },
  {
   "cell_type": "code",
   "execution_count": 21,
   "metadata": {},
   "outputs": [
    {
     "name": "stdout",
     "output_type": "stream",
     "text": [
      "x =  -1.023481845855713\n",
      "x =  0.16382265090942383\n",
      "x =  0.7889418601989746\n"
     ]
    }
   ],
   "source": [
    "error = 0.5 * 10**(-6)\n",
    "\n",
    "for a, b in interval:\n",
    "    while (b - a) / 2 > error:\n",
    "        c = (b + a) / 2\n",
    "        if f(c) == 0:\n",
    "            break\n",
    "        elif f(a)*f(c) > 0:\n",
    "            a = c\n",
    "        else:\n",
    "            b = c\n",
    "    c = (b + a) / 2\n",
    "\n",
    "    print(\"x = \", c)"
   ]
  },
  {
   "cell_type": "code",
   "execution_count": 22,
   "metadata": {},
   "outputs": [],
   "source": [
    "# (c)\n",
    "def f(x):\n",
    "    return 1 + 5*x - 6*x**3 - np.exp(2*x)"
   ]
  },
  {
   "cell_type": "code",
   "execution_count": 23,
   "metadata": {},
   "outputs": [
    {
     "data": {
      "image/png": "[encoded data removed]",
      "text/plain": [
       "<matplotlib.figure.Figure at 0x1abcc0c9d30>"
      ]
     },
     "metadata": {},
     "output_type": "display_data"
    }
   ],
   "source": [
    "domain = np.linspace(-1, 1, 1000)\n",
    "plt.plot(domain, f(domain))\n",
    "plt.plot(domain, np.zeros(1000), '--')\n",
    "plt.show()"
   ]
  },
  {
   "cell_type": "code",
   "execution_count": 24,
   "metadata": {},
   "outputs": [],
   "source": [
    "interval = [(-3/2, -1/2), (-1/2, 1/2), (1/2, 3/2)]"
   ]
  },
  {
   "cell_type": "code",
   "execution_count": 25,
   "metadata": {},
   "outputs": [
    {
     "name": "stdout",
     "output_type": "stream",
     "text": [
      "x =  -0.8180937767028809\n",
      "x =  0.0\n",
      "x =  0.5063080787658691\n"
     ]
    }
   ],
   "source": [
    "error = 0.5 * 10**(-6)\n",
    "\n",
    "for a, b in interval:\n",
    "    while (b - a) / 2 > error:\n",
    "        c = (b + a) / 2\n",
    "        if f(c) == 0:\n",
    "            break\n",
    "        elif f(a)*f(c) > 0:\n",
    "            a = c\n",
    "        else:\n",
    "            b = c\n",
    "    c = (b + a) / 2\n",
    "    \n",
    "    print(\"x = \", c)"
   ]
  },
  {
   "cell_type": "markdown",
   "metadata": {},
   "source": [
    "### Q. 4"
   ]
  },
  {
   "cell_type": "code",
   "execution_count": 26,
   "metadata": {},
   "outputs": [],
   "source": [
    "# (a)\n",
    "def f(x):\n",
    "    return x**2 - 2"
   ]
  },
  {
   "cell_type": "code",
   "execution_count": 27,
   "metadata": {},
   "outputs": [
    {
     "name": "stdout",
     "output_type": "stream",
     "text": [
      "x =  1.414213564246893\n"
     ]
    }
   ],
   "source": [
    "error = 0.5 * 10**(-8)\n",
    "\n",
    "# Starting Interval\n",
    "a = 1\n",
    "b = 2\n",
    "\n",
    "while (b - a) / 2 > error:\n",
    "    c = (b + a) / 2\n",
    "    if f(c) == 0:\n",
    "        break\n",
    "    elif f(a)*f(c) > 0:\n",
    "        a = c\n",
    "    else:\n",
    "        b = c\n",
    "c = (b + a) / 2\n",
    "\n",
    "print(\"x = \", c)"
   ]
  },
  {
   "cell_type": "code",
   "execution_count": 28,
   "metadata": {},
   "outputs": [
    {
     "name": "stdout",
     "output_type": "stream",
     "text": [
      "27.575424759098897\n",
      "28 steps will be needed.\n"
     ]
    }
   ],
   "source": [
    "# (b - a) / 2**(n + 1) < error\n",
    "print(np.log2(1 / error))\n",
    "print(\"28 steps will be needed.\")"
   ]
  },
  {
   "cell_type": "code",
   "execution_count": 29,
   "metadata": {},
   "outputs": [],
   "source": [
    "# (b)\n",
    "def f(x):\n",
    "    return x**2 - 3"
   ]
  },
  {
   "cell_type": "code",
   "execution_count": 30,
   "metadata": {},
   "outputs": [
    {
     "name": "stdout",
     "output_type": "stream",
     "text": [
      "x =  1.732050810009241\n"
     ]
    }
   ],
   "source": [
    "error = 0.5 * 10**(-8)\n",
    "\n",
    "# Starting Interval\n",
    "a = 1\n",
    "b = 2\n",
    "\n",
    "while (b - a) / 2 > error:\n",
    "    c = (b + a) / 2\n",
    "    if f(c) == 0:\n",
    "        break\n",
    "    elif f(a)*f(c) > 0:\n",
    "        a = c\n",
    "    else:\n",
    "        b = c\n",
    "c = (b + a) / 2\n",
    "\n",
    "print(\"x = \", c)"
   ]
  },
  {
   "cell_type": "code",
   "execution_count": 31,
   "metadata": {},
   "outputs": [
    {
     "name": "stdout",
     "output_type": "stream",
     "text": [
      "27.575424759098897\n",
      "28 steps will be needed.\n"
     ]
    }
   ],
   "source": [
    "# (b - a) / 2**(n + 1) < error\n",
    "print(np.log2(1 / error))\n",
    "print(\"28 steps will be needed.\")"
   ]
  },
  {
   "cell_type": "code",
   "execution_count": 32,
   "metadata": {},
   "outputs": [],
   "source": [
    "# (c)\n",
    "def f(x):\n",
    "    return x**2 - 5"
   ]
  },
  {
   "cell_type": "code",
   "execution_count": 33,
   "metadata": {},
   "outputs": [
    {
     "name": "stdout",
     "output_type": "stream",
     "text": [
      "x =  2.2360679768025875\n"
     ]
    }
   ],
   "source": [
    "error = 0.5 * 10**(-8)\n",
    "\n",
    "# Starting Interval\n",
    "a = 2\n",
    "b = 3\n",
    "\n",
    "while (b - a) / 2 > error:\n",
    "    c = (b + a) / 2\n",
    "    if f(c) == 0:\n",
    "        break\n",
    "    elif f(a)*f(c) > 0:\n",
    "        a = c\n",
    "    else:\n",
    "        b = c\n",
    "c = (b + a) / 2\n",
    "\n",
    "print(\"x = \", c)"
   ]
  },
  {
   "cell_type": "code",
   "execution_count": 34,
   "metadata": {
    "scrolled": true
   },
   "outputs": [
    {
     "name": "stdout",
     "output_type": "stream",
     "text": [
      "27.575424759098897\n",
      "28 steps will be needed.\n"
     ]
    }
   ],
   "source": [
    "# (b - a) / 2**(n + 1) < error\n",
    "print(np.log2(1 / error))\n",
    "print(\"28 steps will be needed.\")"
   ]
  },
  {
   "cell_type": "markdown",
   "metadata": {},
   "source": [
    "### Q. 5"
   ]
  },
  {
   "cell_type": "code",
   "execution_count": 35,
   "metadata": {},
   "outputs": [],
   "source": [
    "# (a)\n",
    "def f(x):\n",
    "    return x**3 - 2"
   ]
  },
  {
   "cell_type": "code",
   "execution_count": 36,
   "metadata": {},
   "outputs": [
    {
     "name": "stdout",
     "output_type": "stream",
     "text": [
      "x =  1.2599210478365421\n"
     ]
    }
   ],
   "source": [
    "error = 0.5 * 10**(-8)\n",
    "\n",
    "# Starting Interval\n",
    "a = 1\n",
    "b = 2\n",
    "\n",
    "while (b - a) / 2 > error:\n",
    "    c = (b + a) / 2\n",
    "    if f(c) == 0:\n",
    "        break\n",
    "    elif f(a)*f(c) > 0:\n",
    "        a = c\n",
    "    else:\n",
    "        b = c\n",
    "c = (b + a) / 2\n",
    "\n",
    "print(\"x = \", c)"
   ]
  },
  {
   "cell_type": "code",
   "execution_count": 37,
   "metadata": {},
   "outputs": [
    {
     "name": "stdout",
     "output_type": "stream",
     "text": [
      "27.575424759098897\n",
      "28 steps will be needed.\n"
     ]
    }
   ],
   "source": [
    "# (b - a) / 2**(n + 1) < error\n",
    "print(np.log2(1 / error))\n",
    "print(\"28 steps will be needed.\")"
   ]
  },
  {
   "cell_type": "code",
   "execution_count": 38,
   "metadata": {},
   "outputs": [],
   "source": [
    "# (b)\n",
    "def f(x):\n",
    "    return x**3 - 3"
   ]
  },
  {
   "cell_type": "code",
   "execution_count": 39,
   "metadata": {},
   "outputs": [
    {
     "name": "stdout",
     "output_type": "stream",
     "text": [
      "x =  1.442249570041895\n"
     ]
    }
   ],
   "source": [
    "error = 0.5 * 10**(-8)\n",
    "\n",
    "# Starting Interval\n",
    "a = 1\n",
    "b = 2\n",
    "\n",
    "while (b - a) / 2 > error:\n",
    "    c = (b + a) / 2\n",
    "    if f(c) == 0:\n",
    "        break\n",
    "    elif f(a)*f(c) > 0:\n",
    "        a = c\n",
    "    else:\n",
    "        b = c\n",
    "c = (b + a) / 2\n",
    "\n",
    "print(\"x = \", c)"
   ]
  },
  {
   "cell_type": "code",
   "execution_count": 40,
   "metadata": {},
   "outputs": [
    {
     "name": "stdout",
     "output_type": "stream",
     "text": [
      "27.575424759098897\n",
      "28 steps will be needed.\n"
     ]
    }
   ],
   "source": [
    "# (b - a) / 2**(n + 1) < error\n",
    "print(np.log2(1 / error))\n",
    "print(\"28 steps will be needed.\")"
   ]
  },
  {
   "cell_type": "code",
   "execution_count": 41,
   "metadata": {},
   "outputs": [],
   "source": [
    "# (c)\n",
    "def f(x):\n",
    "    return x**3 - 5"
   ]
  },
  {
   "cell_type": "code",
   "execution_count": 42,
   "metadata": {},
   "outputs": [
    {
     "name": "stdout",
     "output_type": "stream",
     "text": [
      "x =  1.7099759466946125\n"
     ]
    }
   ],
   "source": [
    "error = 0.5 * 10**(-8)\n",
    "\n",
    "# Starting Interval\n",
    "a = 1\n",
    "b = 2\n",
    "\n",
    "while (b - a) / 2 > error:\n",
    "    c = (b + a) / 2\n",
    "    if f(c) == 0:\n",
    "        break\n",
    "    elif f(a)*f(c) > 0:\n",
    "        a = c\n",
    "    else:\n",
    "        b = c\n",
    "c = (b + a) / 2\n",
    "\n",
    "print(\"x = \", c)"
   ]
  },
  {
   "cell_type": "code",
   "execution_count": 43,
   "metadata": {},
   "outputs": [
    {
     "name": "stdout",
     "output_type": "stream",
     "text": [
      "27.575424759098897\n",
      "28 steps will be needed.\n"
     ]
    }
   ],
   "source": [
    "# (b - a) / 2**(n + 1) < error\n",
    "print(np.log2(1 / error))\n",
    "print(\"28 steps will be needed.\")"
   ]
  },
  {
   "cell_type": "markdown",
   "metadata": {},
   "source": [
    "### Q. 6"
   ]
  },
  {
   "cell_type": "code",
   "execution_count": 44,
   "metadata": {},
   "outputs": [],
   "source": [
    "def f(x):\n",
    "    return np.cos(x) - np.sin(x)"
   ]
  },
  {
   "cell_type": "code",
   "execution_count": 45,
   "metadata": {},
   "outputs": [
    {
     "name": "stdout",
     "output_type": "stream",
     "text": [
      "x =  0.785398006439209\n"
     ]
    }
   ],
   "source": [
    "error = 0.5 * 10**(-6)\n",
    "\n",
    "a = 0\n",
    "b = 1\n",
    "\n",
    "while (b - a) / 2 > error:\n",
    "    c = (b + a) / 2\n",
    "    if f(c) == 0:\n",
    "        break\n",
    "    elif f(a)*f(c) > 0:\n",
    "        a = c\n",
    "    else:\n",
    "        b = c\n",
    "c = (b + a) / 2\n",
    "\n",
    "print(\"x = \", c)"
   ]
  },
  {
   "cell_type": "markdown",
   "metadata": {},
   "source": [
    "### Q. 7"
   ]
  },
  {
   "cell_type": "code",
   "execution_count": 46,
   "metadata": {},
   "outputs": [],
   "source": [
    "def f(x):\n",
    "    A = np.array([[1, 2, 3, x], [4, 5, x, 6], [7, x, 8, 9], [x, 10, 11, 12]])\n",
    "    return np.linalg.det(A) - 1000"
   ]
  },
  {
   "cell_type": "code",
   "execution_count": 47,
   "metadata": {
    "scrolled": true
   },
   "outputs": [
    {
     "data": {
      "image/png": "[encoded data removed]",
      "text/plain": [
       "<matplotlib.figure.Figure at 0x1abcc201160>"
      ]
     },
     "metadata": {},
     "output_type": "display_data"
    }
   ],
   "source": [
    "x_range = np.linspace(-18, 13, 100)\n",
    "y_range = np.zeros(100)\n",
    "for i, x in enumerate(x_range):\n",
    "    y_range[i] = f(x)\n",
    "\n",
    "plt.plot(x_range, y_range)    \n",
    "plt.plot(x_range, np.zeros(100), '--')\n",
    "plt.show()"
   ]
  },
  {
   "cell_type": "code",
   "execution_count": 48,
   "metadata": {},
   "outputs": [],
   "source": [
    "interval = [(-18, -17), (9, 10)]"
   ]
  },
  {
   "cell_type": "code",
   "execution_count": 49,
   "metadata": {},
   "outputs": [
    {
     "name": "stdout",
     "output_type": "stream",
     "text": [
      "x =  -17.18849802017212\n",
      "x =  9.708299160003662\n"
     ]
    }
   ],
   "source": [
    "error = 0.5 * 10**(-6)\n",
    "x_list = []\n",
    "\n",
    "for a, b in interval:\n",
    "    while (b - a) / 2 > error:\n",
    "        c = (b + a) / 2\n",
    "        if f(c) == 0:\n",
    "            break\n",
    "        elif f(a)*f(c) > 0:\n",
    "            a = c\n",
    "        else:\n",
    "            b = c\n",
    "    c = (b + a) / 2\n",
    "    x_list.append(c)\n",
    "    \n",
    "    print(\"x = \", c)"
   ]
  },
  {
   "cell_type": "code",
   "execution_count": 50,
   "metadata": {},
   "outputs": [
    {
     "name": "stdout",
     "output_type": "stream",
     "text": [
      "Determinant of A: 999.998434 / Correct decimal places: 2.\n",
      "Determinant of A: 1000.000042 / Correct decimal places: 4.\n"
     ]
    }
   ],
   "source": [
    "x_1, x_2 = x_list\n",
    "print(\"Determinant of A: %f / Correct decimal places: %d.\" % (f(x_1) + 1000, 2))\n",
    "print(\"Determinant of A: %f / Correct decimal places: %d.\" % (f(x_2) + 1000, 4))"
   ]
  },
  {
   "cell_type": "markdown",
   "metadata": {},
   "source": [
    "### Q. 8"
   ]
  },
  {
   "cell_type": "code",
   "execution_count": null,
   "metadata": {},
   "outputs": [],
   "source": []
  },
  {
   "cell_type": "code",
   "execution_count": null,
   "metadata": {},
   "outputs": [],
   "source": []
  },
  {
   "cell_type": "markdown",
   "metadata": {},
   "source": [
    "### Q. 9"
   ]
  },
  {
   "cell_type": "code",
   "execution_count": null,
   "metadata": {},
   "outputs": [],
   "source": []
  },
  {
   "cell_type": "code",
   "execution_count": null,
   "metadata": {},
   "outputs": [],
   "source": []
  }
 ],
 "metadata": {
  "kernelspec": {
   "display_name": "Python 3",
   "language": "python",
   "name": "python3"
  },
  "language_info": {
   "codemirror_mode": {
    "name": "ipython",
    "version": 3
   },
   "file_extension": ".py",
   "mimetype": "text/x-python",
   "name": "python",
   "nbconvert_exporter": "python",
   "pygments_lexer": "ipython3",
   "version": "3.6.4"
  }
 },
 "nbformat": 4,
 "nbformat_minor": 2
}

{
 "cells": [
  {
   "cell_type": "markdown",
   "metadata": {},
   "source": [
    "# Chapter 1 Solving Equations"
   ]
  },
  {
   "cell_type": "markdown",
   "metadata": {},
   "source": [
    "## Bisection Method"
   ]
  },
  {
   "cell_type": "code",
   "execution_count": 16,
   "metadata": {
    "collapsed": true
   },
   "outputs": [],
   "source": [
    "import numpy as np\n",
    "import matplotlib.pyplot as plt\n",
    "\n",
    "%matplotlib inline"
   ]
  },
  {
   "cell_type": "markdown",
   "metadata": {},
   "source": [
    "### Q. 1"
   ]
  },
  {
   "cell_type": "code",
   "execution_count": 2,
   "metadata": {
    "collapsed": true
   },
   "outputs": [],
   "source": [
    "# (a)\n",
    "def f(x):\n",
    "    return x**3 - 9"
   ]
  },
  {
   "cell_type": "code",
   "execution_count": 3,
   "metadata": {},
   "outputs": [
    {
     "name": "stdout",
     "output_type": "stream",
     "text": [
      "2.0800833702087402\n",
      "-5.878014446736302e-06\n"
     ]
    }
   ],
   "source": [
    "error = 0.5 * 10**(-6)\n",
    "\n",
    "a = 2\n",
    "b = 3\n",
    "\n",
    "while (b - a) > error:\n",
    "    c = (b + a) / 2\n",
    "    if f(c) == 0:\n",
    "        break\n",
    "    elif f(a)*f(c) > 0:\n",
    "        a = c\n",
    "    else:\n",
    "        b = c\n",
    "\n",
    "print(c)\n",
    "print(f(c))"
   ]
  },
  {
   "cell_type": "code",
   "execution_count": 4,
   "metadata": {
    "collapsed": true
   },
   "outputs": [],
   "source": [
    "# (b)\n",
    "def f(x):\n",
    "    return 3*x**3 + x**2 - x - 5"
   ]
  },
  {
   "cell_type": "code",
   "execution_count": 5,
   "metadata": {},
   "outputs": [
    {
     "name": "stdout",
     "output_type": "stream",
     "text": [
      "1.1697258949279785\n",
      "-4.4364658062789886e-06\n"
     ]
    }
   ],
   "source": [
    "error = 0.5 * 10**(-6)\n",
    "\n",
    "a = -2\n",
    "b = 2\n",
    "\n",
    "while (b - a) > error:\n",
    "    c = (b + a) / 2\n",
    "    if f(c) == 0:\n",
    "        break\n",
    "    elif f(a)*f(c) > 0:\n",
    "        a = c\n",
    "    else:\n",
    "        b = c\n",
    "\n",
    "print(c)\n",
    "print(f(c))"
   ]
  },
  {
   "cell_type": "code",
   "execution_count": 6,
   "metadata": {
    "collapsed": true
   },
   "outputs": [],
   "source": [
    "# (c)\n",
    "def f(x):\n",
    "    return np.cos(x)**2 - x + 6"
   ]
  },
  {
   "cell_type": "code",
   "execution_count": 7,
   "metadata": {},
   "outputs": [
    {
     "name": "stdout",
     "output_type": "stream",
     "text": [
      "6.77609258890152\n",
      "-4.99839643453e-07\n"
     ]
    }
   ],
   "source": [
    "error = 0.5 * 10**(-6)\n",
    "\n",
    "a = 0\n",
    "b = 7\n",
    "\n",
    "while (b - a) > error:\n",
    "    c = (b + a) / 2\n",
    "    if f(c) == 0:\n",
    "        break\n",
    "    elif f(a)*f(c) > 0:\n",
    "        a = c\n",
    "    else:\n",
    "        b = c\n",
    "\n",
    "print(c)\n",
    "print(f(c))"
   ]
  },
  {
   "cell_type": "markdown",
   "metadata": {},
   "source": [
    "### Q. 2"
   ]
  },
  {
   "cell_type": "code",
   "execution_count": 8,
   "metadata": {
    "collapsed": true
   },
   "outputs": [],
   "source": [
    "# (a)\n",
    "def f(x):\n",
    "    return x**5 + x - 1"
   ]
  },
  {
   "cell_type": "code",
   "execution_count": 9,
   "metadata": {},
   "outputs": [
    {
     "name": "stdout",
     "output_type": "stream",
     "text": [
      "0.7548776678740978\n",
      "4.269643305576665e-09\n"
     ]
    }
   ],
   "source": [
    "error = 0.5 * 10**(-8)\n",
    "\n",
    "a = 0\n",
    "b = 1\n",
    "\n",
    "while (b - a) > error:\n",
    "    c = (b + a) / 2\n",
    "    if f(c) == 0:\n",
    "        break\n",
    "    elif f(a)*f(c) > 0:\n",
    "        a = c\n",
    "    else:\n",
    "        b = c\n",
    "\n",
    "print(c)\n",
    "print(f(c))"
   ]
  },
  {
   "cell_type": "code",
   "execution_count": 10,
   "metadata": {
    "collapsed": true
   },
   "outputs": [],
   "source": [
    "# (b)\n",
    "def f(x):\n",
    "    return np.sin(x) - 6*x - 5"
   ]
  },
  {
   "cell_type": "code",
   "execution_count": 11,
   "metadata": {},
   "outputs": [
    {
     "name": "stdout",
     "output_type": "stream",
     "text": [
      "-0.9708991050720215\n",
      "9.86901110167e-07\n"
     ]
    }
   ],
   "source": [
    "error = 0.5 * 10**(-6)\n",
    "\n",
    "a = -1\n",
    "b = 0\n",
    "\n",
    "while (b - a) > error:\n",
    "    c = (b + a) / 2\n",
    "    if f(c) == 0:\n",
    "        break\n",
    "    elif f(a)*f(c) > 0:\n",
    "        a = c\n",
    "    else:\n",
    "        b = c\n",
    "\n",
    "print(c)\n",
    "print(f(c))"
   ]
  },
  {
   "cell_type": "code",
   "execution_count": 12,
   "metadata": {
    "collapsed": true
   },
   "outputs": [],
   "source": [
    "# (c)\n",
    "def f(x):\n",
    "    return np.log(x) + x**2 - 3"
   ]
  },
  {
   "cell_type": "code",
   "execution_count": 14,
   "metadata": {
    "scrolled": true
   },
   "outputs": [
    {
     "name": "stdout",
     "output_type": "stream",
     "text": [
      "1.5921425819396973\n",
      "-1.3538426864e-06\n"
     ]
    }
   ],
   "source": [
    "error = 0.5 * 10**(-6)\n",
    "\n",
    "a = 1\n",
    "b = 2\n",
    "\n",
    "while (b - a) > error:\n",
    "    c = (b + a) / 2\n",
    "    if f(c) == 0:\n",
    "        break\n",
    "    elif f(a)*f(c) > 0:\n",
    "        a = c\n",
    "    else:\n",
    "        b = c\n",
    "\n",
    "print(c)\n",
    "print(f(c))"
   ]
  },
  {
   "cell_type": "markdown",
   "metadata": {},
   "source": [
    "### Q. 3"
   ]
  },
  {
   "cell_type": "code",
   "execution_count": 86,
   "metadata": {
    "collapsed": true
   },
   "outputs": [],
   "source": [
    "# (a)\n",
    "def f(x):\n",
    "    return 2*x**3 - 6*x - 1"
   ]
  },
  {
   "cell_type": "code",
   "execution_count": 87,
   "metadata": {
    "scrolled": true
   },
   "outputs": [
    {
     "data": {
      "image/png": "[encoded data removed]",
      "text/plain": [
       "<matplotlib.figure.Figure at 0xb7c2b10>"
      ]
     },
     "metadata": {},
     "output_type": "display_data"
    }
   ],
   "source": [
    "domain = np.linspace(-2, 2, 1000)\n",
    "plt.plot(domain, f(domain))\n",
    "plt.plot(domain, np.zeros(1000), '--')\n",
    "plt.show()"
   ]
  },
  {
   "cell_type": "code",
   "execution_count": 88,
   "metadata": {},
   "outputs": [],
   "source": [
    "interval = [(-2, -1), (-1, 0), (1, 2)]"
   ]
  },
  {
   "cell_type": "code",
   "execution_count": 89,
   "metadata": {},
   "outputs": [
    {
     "name": "stdout",
     "output_type": "stream",
     "text": [
      "x =  -1.6417832374572754\n",
      "x =  -0.16825437545776367\n",
      "x =  1.8100380897521973\n"
     ]
    }
   ],
   "source": [
    "error = 0.5 * 10**(-6)\n",
    "\n",
    "for a, b in interval:\n",
    "    while (b - a) > error:\n",
    "        c = (b + a) / 2\n",
    "        if f(c) == 0:\n",
    "            break\n",
    "        elif f(a)*f(c) > 0:\n",
    "            a = c\n",
    "        else:\n",
    "            b = c\n",
    "\n",
    "    print(\"x = \", c)"
   ]
  },
  {
   "cell_type": "code",
   "execution_count": 90,
   "metadata": {
    "collapsed": true
   },
   "outputs": [],
   "source": [
    "# (b)\n",
    "def f(x):\n",
    "    return np.exp(x - 2) + x**3 - x"
   ]
  },
  {
   "cell_type": "code",
   "execution_count": 91,
   "metadata": {},
   "outputs": [
    {
     "data": {
      "image/png": "[encoded data removed]",
      "text/plain": [
       "<matplotlib.figure.Figure at 0xb7877d0>"
      ]
     },
     "metadata": {},
     "output_type": "display_data"
    }
   ],
   "source": [
    "domain = np.linspace(-2, 2, 1000)\n",
    "plt.plot(domain, f(domain))\n",
    "plt.plot(domain, np.zeros(1000), '--')\n",
    "plt.show()"
   ]
  },
  {
   "cell_type": "code",
   "execution_count": 92,
   "metadata": {
    "collapsed": true
   },
   "outputs": [],
   "source": [
    "interval = [(-3/2, -1/2), (-1/2, 1/2), (1/2, 3/2)]"
   ]
  },
  {
   "cell_type": "code",
   "execution_count": 93,
   "metadata": {},
   "outputs": [
    {
     "name": "stdout",
     "output_type": "stream",
     "text": [
      "x =  -1.023481845855713\n",
      "x =  0.16382265090942383\n",
      "x =  0.7889418601989746\n"
     ]
    }
   ],
   "source": [
    "error = 0.5 * 10**(-6)\n",
    "\n",
    "for a, b in interval:\n",
    "    while (b - a) > error:\n",
    "        c = (b + a) / 2\n",
    "        if f(c) == 0:\n",
    "            break\n",
    "        elif f(a)*f(c) > 0:\n",
    "            a = c\n",
    "        else:\n",
    "            b = c\n",
    "\n",
    "    print(\"x = \", c)"
   ]
  },
  {
   "cell_type": "code",
   "execution_count": 94,
   "metadata": {
    "collapsed": true
   },
   "outputs": [],
   "source": [
    "# (c)\n",
    "def f(x):\n",
    "    return 1 + 5*x - 6*x**3 - np.exp(2*x)"
   ]
  },
  {
   "cell_type": "code",
   "execution_count": 95,
   "metadata": {},
   "outputs": [
    {
     "data": {
      "image/png": "[encoded data removed]",
      "text/plain": [
       "<matplotlib.figure.Figure at 0xb7be310>"
      ]
     },
     "metadata": {},
     "output_type": "display_data"
    }
   ],
   "source": [
    "domain = np.linspace(-1, 1, 1000)\n",
    "plt.plot(domain, f(domain))\n",
    "plt.plot(domain, np.zeros(1000), '--')\n",
    "plt.show()"
   ]
  },
  {
   "cell_type": "code",
   "execution_count": 96,
   "metadata": {
    "collapsed": true
   },
   "outputs": [],
   "source": [
    "interval = [(-3/2, -1/2), (-1/2, 1/2), (1/2, 3/2)]"
   ]
  },
  {
   "cell_type": "code",
   "execution_count": 97,
   "metadata": {},
   "outputs": [
    {
     "name": "stdout",
     "output_type": "stream",
     "text": [
      "x =  -0.8180937767028809\n",
      "x =  0.0\n",
      "x =  0.5063080787658691\n"
     ]
    }
   ],
   "source": [
    "error = 0.5 * 10**(-6)\n",
    "\n",
    "for a, b in interval:\n",
    "    while (b - a) > error:\n",
    "        c = (b + a) / 2\n",
    "        if f(c) == 0:\n",
    "            break\n",
    "        elif f(a)*f(c) > 0:\n",
    "            a = c\n",
    "        else:\n",
    "            b = c\n",
    "\n",
    "    print(\"x = \", c)"
   ]
  },
  {
   "cell_type": "markdown",
   "metadata": {},
   "source": [
    "### Q. 4"
   ]
  },
  {
   "cell_type": "code",
   "execution_count": 98,
   "metadata": {
    "collapsed": true
   },
   "outputs": [],
   "source": [
    "# (a)\n",
    "def f(x):\n",
    "    return x**2 - 2"
   ]
  },
  {
   "cell_type": "code",
   "execution_count": 99,
   "metadata": {},
   "outputs": [
    {
     "name": "stdout",
     "output_type": "stream",
     "text": [
      "x =  1.414213564246893\n"
     ]
    }
   ],
   "source": [
    "error = 0.5 * 10**(-8)\n",
    "\n",
    "a = 0\n",
    "b = 2\n",
    "\n",
    "while (b - a) > error:\n",
    "    c = (b + a) / 2\n",
    "    if f(c) == 0:\n",
    "        break\n",
    "    elif f(a)*f(c) > 0:\n",
    "        a = c\n",
    "    else:\n",
    "        b = c\n",
    "\n",
    "print(\"x = \", c)"
   ]
  },
  {
   "cell_type": "code",
   "execution_count": null,
   "metadata": {
    "collapsed": true
   },
   "outputs": [],
   "source": [
    "2 / 2**(n) < 1/2 * 10**(-6)"
   ]
  }
 ],
 "metadata": {
  "kernelspec": {
   "display_name": "Python 3",
   "language": "python",
   "name": "python3"
  },
  "language_info": {
   "codemirror_mode": {
    "name": "ipython",
    "version": 3
   },
   "file_extension": ".py",
   "mimetype": "text/x-python",
   "name": "python",
   "nbconvert_exporter": "python",
   "pygments_lexer": "ipython3",
   "version": "3.6.3"
  }
 },
 "nbformat": 4,
 "nbformat_minor": 2
}

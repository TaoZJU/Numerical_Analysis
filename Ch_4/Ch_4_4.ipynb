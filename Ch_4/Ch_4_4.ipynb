{
 "cells": [
  {
   "cell_type": "code",
   "execution_count": 1,
   "metadata": {},
   "outputs": [],
   "source": [
    "import numpy as np\n",
    "import matplotlib.pyplot as plt\n",
    "\n",
    "%matplotlib inline"
   ]
  },
  {
   "cell_type": "markdown",
   "metadata": {},
   "source": [
    "# Chapter 4<br>Least Squares"
   ]
  },
  {
   "cell_type": "markdown",
   "metadata": {},
   "source": [
    "## 4.4 Generalized Minimum Residual (GMRES) Method"
   ]
  },
  {
   "cell_type": "code",
   "execution_count": 2,
   "metadata": {},
   "outputs": [],
   "source": [
    "def conj_grad_method(A, b, initial_guess=0, iter_num=0):\n",
    "    n = len(A)\n",
    "    x = initial_guess * np.ones(n)\n",
    "    r = b - A.dot(x)\n",
    "    d = r\n",
    "    \n",
    "    if iter_num == 0:\n",
    "        iter_num = n\n",
    "\n",
    "    for _ in range(iter_num):\n",
    "        alpha = r.dot(r) / d.dot(A).dot(d)\n",
    "        x = x + alpha*d\n",
    "        beta = np.dot(r - alpha*A.dot(d), r - alpha*A.dot(d)) / r.dot(r)\n",
    "        r = r - alpha*A.dot(d)\n",
    "        d = r + beta*d\n",
    "        \n",
    "        if r.max() == 0:\n",
    "            break\n",
    "    \n",
    "    return x"
   ]
  },
  {
   "cell_type": "code",
   "execution_count": 3,
   "metadata": {},
   "outputs": [],
   "source": [
    "def Preconditioned_CGM(A, b, precondition, initial_guess=0, iter_num=0):\n",
    "    n = len(A)\n",
    "    \n",
    "    if precondition == \"Jacobi\":\n",
    "        M = np.diag(A)\n",
    "        M_inv = np.diag(1/M)\n",
    "    \n",
    "    elif precondition == \"Gauss_Seidel\":\n",
    "        D = np.diag(A)\n",
    "        M = (np.tril(A)/D).dot(np.triu(A))\n",
    "        M_inv = np.linalg.inv(M)\n",
    "    \n",
    "    else:\n",
    "        raise ValueError(\"Please give the right preconditioner!\")\n",
    "    \n",
    "    x = initial_guess * np.ones(n)\n",
    "    r = b - A.dot(x)\n",
    "    d = r.dot(M_inv)\n",
    "    z = d\n",
    "    \n",
    "    if iter_num == 0:\n",
    "        iter_num = n\n",
    "    \n",
    "    for _ in range(iter_num):\n",
    "        alpha = r.dot(z) / d.dot(A).dot(d)\n",
    "        x = x + alpha*d\n",
    "        beta = np.dot(r - alpha*A.dot(d), (r - alpha*A.dot(d)).dot(M_inv)) / r.dot(z)\n",
    "        r = r - alpha*A.dot(d)\n",
    "        z = r.dot(M_inv)\n",
    "        d = z + beta*d\n",
    "        \n",
    "        if r.max() == 0:\n",
    "            break    \n",
    "    \n",
    "    return x"
   ]
  },
  {
   "cell_type": "markdown",
   "metadata": {},
   "source": [
    "### Q. 1"
   ]
  },
  {
   "cell_type": "code",
   "execution_count": 4,
   "metadata": {},
   "outputs": [],
   "source": [
    "def A_ij(n):\n",
    "    A = np.zeros((n, n))\n",
    "    \n",
    "    for i in range(n):\n",
    "        A[i, i] = i+1\n",
    "        try:\n",
    "            A[i, i+1] = 0.5\n",
    "            A[i+1, i] = 0.5\n",
    "            A[i, i+2] = 0.5\n",
    "            A[i+2, i] = 0.5\n",
    "        except:\n",
    "            pass\n",
    "    \n",
    "    return A\n",
    "\n",
    "n = 1000\n",
    "A = A_ij(n)"
   ]
  },
  {
   "cell_type": "code",
   "execution_count": 5,
   "metadata": {},
   "outputs": [
    {
     "data": {
      "image/png": "[encoded data removed]",
      "text/plain": [
       "<matplotlib.figure.Figure at 0x217f7f79668>"
      ]
     },
     "metadata": {},
     "output_type": "display_data"
    }
   ],
   "source": [
    "# (a)\n",
    "# Just show the structure when n = 100.\n",
    "plt.matshow(A_ij(100) != 0, cmap='binary')\n",
    "plt.show()"
   ]
  },
  {
   "cell_type": "code",
   "execution_count": 6,
   "metadata": {},
   "outputs": [],
   "source": [
    "# (b)\n",
    "x_e = np.ones(n)\n",
    "b = A.dot(x_e)\n",
    "tol = 1e-10\n",
    "\n",
    "error_matrix = np.zeros((3, 30))\n",
    "error_matrix[:, 0] = 1"
   ]
  },
  {
   "cell_type": "markdown",
   "metadata": {},
   "source": [
    "Conjugate Gradient Method without preconditioner"
   ]
  },
  {
   "cell_type": "code",
   "execution_count": 7,
   "metadata": {},
   "outputs": [
    {
     "name": "stdout",
     "output_type": "stream",
     "text": [
      "Iter: 15032 / Backward error: 2.68328e-11\n"
     ]
    }
   ],
   "source": [
    "iter_n = 0\n",
    "x = np.zeros(n)\n",
    "\n",
    "while True:\n",
    "    x = conj_grad_method(A, b, initial_guess=x, iter_num=1)\n",
    "    error = abs(x - x_e).max()\n",
    "    iter_n += 1\n",
    "    \n",
    "    if iter_n < 30:\n",
    "        error_matrix[0, iter_n] = error\n",
    "    \n",
    "    if error < tol:\n",
    "        break\n",
    "        \n",
    "backward_error = (A.dot(x) - b).max()\n",
    "print(\"Iter: %d / Backward error: %g\" % (iter_n, backward_error))"
   ]
  },
  {
   "cell_type": "markdown",
   "metadata": {},
   "source": [
    "Jacobi preconditioner"
   ]
  },
  {
   "cell_type": "code",
   "execution_count": 8,
   "metadata": {},
   "outputs": [
    {
     "name": "stdout",
     "output_type": "stream",
     "text": [
      "Iter: 30 / Backward error: 4.30411e-12\n"
     ]
    }
   ],
   "source": [
    "iter_n = 0\n",
    "x = np.zeros(n)\n",
    "\n",
    "while True:\n",
    "    x = Preconditioned_CGM(A, b, \"Jacobi\", initial_guess=x, iter_num=1)\n",
    "    error = abs(x - x_e).max()\n",
    "    iter_n += 1\n",
    "    \n",
    "    if iter_n < 30:\n",
    "        error_matrix[1, iter_n] = error\n",
    "    \n",
    "    if error < tol:\n",
    "        break\n",
    "        \n",
    "backward_error = (A.dot(x) - b).max()\n",
    "print(\"Iter: %d / Backward error: %g\" % (iter_n, backward_error))"
   ]
  },
  {
   "cell_type": "markdown",
   "metadata": {},
   "source": [
    "Gauss-Seidel preconditioner"
   ]
  },
  {
   "cell_type": "code",
   "execution_count": 9,
   "metadata": {
    "scrolled": true
   },
   "outputs": [
    {
     "name": "stdout",
     "output_type": "stream",
     "text": [
      "Iter: 10 / Backward error: 1.48701e-10\n"
     ]
    }
   ],
   "source": [
    "iter_n = 0\n",
    "x = np.zeros(n)\n",
    "\n",
    "while True:\n",
    "    x = Preconditioned_CGM(A, b, \"Gauss_Seidel\", initial_guess=x, iter_num=1)\n",
    "    error = abs(x - x_e).max()\n",
    "    iter_n += 1\n",
    "        \n",
    "    if iter_n < 30:\n",
    "        error_matrix[2, iter_n] = error\n",
    "    \n",
    "    if error < tol:\n",
    "        break\n",
    "        \n",
    "backward_error = (A.dot(x) - b).max()\n",
    "print(\"Iter: %d / Backward error: %g\" % (iter_n, backward_error))"
   ]
  },
  {
   "cell_type": "code",
   "execution_count": 10,
   "metadata": {
    "scrolled": true
   },
   "outputs": [
    {
     "data": {
      "image/png": "[encoded data removed]",
      "text/plain": [
       "<matplotlib.figure.Figure at 0x217ff9b66d8>"
      ]
     },
     "metadata": {},
     "output_type": "display_data"
    }
   ],
   "source": [
    "plt.plot(np.arange(30), error_matrix[0], label=\"No precond.\")\n",
    "plt.plot(np.arange(30), error_matrix[1], label=\"Jacobi precond.\")\n",
    "plt.plot(np.arange(10), error_matrix[2, :10], label=\"Gauss-Seidel precond.\")\n",
    "plt.yscale(\"log\")\n",
    "plt.legend()\n",
    "\n",
    "plt.show()"
   ]
  },
  {
   "cell_type": "markdown",
   "metadata": {},
   "source": [
    "### Q. 2"
   ]
  },
  {
   "cell_type": "code",
   "execution_count": 11,
   "metadata": {},
   "outputs": [],
   "source": [
    "def A_ij(n):\n",
    "    A = np.zeros((n, n))        \n",
    "    \n",
    "    for i in range(n):\n",
    "        A[i, i] = i+1\n",
    "        try:\n",
    "            A[i, i+1] = 0.5\n",
    "            A[i+1, i] = 0.5\n",
    "            A[i, i+2] = 0.5\n",
    "            A[i+2, i] = 0.5\n",
    "            A[i, 2*i] = 0.5\n",
    "            A[2*i, i] = 0.5\n",
    "        except:\n",
    "            pass\n",
    "\n",
    "    return A\n",
    "\n",
    "n = 1000\n",
    "A = A_ij(n)"
   ]
  },
  {
   "cell_type": "code",
   "execution_count": 12,
   "metadata": {},
   "outputs": [
    {
     "data": {
      "image/png": "[encoded data removed]",
      "text/plain": [
       "<matplotlib.figure.Figure at 0x2178c906a90>"
      ]
     },
     "metadata": {},
     "output_type": "display_data"
    }
   ],
   "source": [
    "# (a)\n",
    "# Just show the structure when n = 100.\n",
    "plt.matshow(A_ij(100) != 0, cmap='binary')\n",
    "plt.show()"
   ]
  },
  {
   "cell_type": "code",
   "execution_count": 13,
   "metadata": {},
   "outputs": [],
   "source": [
    "# (b)\n",
    "x_e = np.ones(n)\n",
    "b = A.dot(x_e)\n",
    "tol = 1e-10\n",
    "\n",
    "error_matrix = np.zeros((3, 30))\n",
    "error_matrix[:, 0] = 1"
   ]
  },
  {
   "cell_type": "markdown",
   "metadata": {},
   "source": [
    "Conjugate Gradient Method without preconditioner"
   ]
  },
  {
   "cell_type": "code",
   "execution_count": 14,
   "metadata": {},
   "outputs": [
    {
     "name": "stdout",
     "output_type": "stream",
     "text": [
      "Iter: 38183 / Backward error: 1.81899e-11\n"
     ]
    }
   ],
   "source": [
    "iter_n = 0\n",
    "x = np.zeros(n)\n",
    "\n",
    "while True:\n",
    "    x = conj_grad_method(A, b, initial_guess=x, iter_num=1)\n",
    "    error = abs(x - x_e).max()\n",
    "    iter_n += 1\n",
    "    \n",
    "    if iter_n < 30:\n",
    "        error_matrix[0, iter_n] = error\n",
    "    \n",
    "    if error < tol:\n",
    "        break\n",
    "        \n",
    "backward_error = (A.dot(x) - b).max()\n",
    "print(\"Iter: %d / Backward error: %g\" % (iter_n, backward_error))"
   ]
  },
  {
   "cell_type": "markdown",
   "metadata": {},
   "source": [
    "Jacobi preconditioner"
   ]
  },
  {
   "cell_type": "code",
   "execution_count": 15,
   "metadata": {},
   "outputs": [
    {
     "name": "stdout",
     "output_type": "stream",
     "text": [
      "Iter: 50 / Backward error: 2.07212e-12\n"
     ]
    }
   ],
   "source": [
    "iter_n = 0\n",
    "x = np.zeros(n)\n",
    "\n",
    "while True:\n",
    "    x = Preconditioned_CGM(A, b, \"Jacobi\", initial_guess=x, iter_num=1)\n",
    "    error = abs(x - x_e).max()\n",
    "    iter_n += 1\n",
    "    \n",
    "    if iter_n < 30:\n",
    "        error_matrix[1, iter_n] = error\n",
    "    \n",
    "    if error < tol:\n",
    "        break\n",
    "        \n",
    "backward_error = (A.dot(x) - b).max()\n",
    "print(\"Iter: %d / Backward error: %g\" % (iter_n, backward_error))"
   ]
  },
  {
   "cell_type": "markdown",
   "metadata": {},
   "source": [
    "Gauss-Seidel preconditioner"
   ]
  },
  {
   "cell_type": "code",
   "execution_count": 16,
   "metadata": {
    "scrolled": true
   },
   "outputs": [
    {
     "name": "stdout",
     "output_type": "stream",
     "text": [
      "Iter: 16 / Backward error: 1.89857e-11\n"
     ]
    }
   ],
   "source": [
    "iter_n = 0\n",
    "x = np.zeros(n)\n",
    "\n",
    "while True:\n",
    "    x = Preconditioned_CGM(A, b, \"Gauss_Seidel\", initial_guess=x, iter_num=1)\n",
    "    error = abs(x - x_e).max()\n",
    "    iter_n += 1\n",
    "        \n",
    "    if iter_n < 30:\n",
    "        error_matrix[2, iter_n] = error\n",
    "    \n",
    "    if error < tol:\n",
    "        break\n",
    "        \n",
    "backward_error = (A.dot(x) - b).max()\n",
    "print(\"Iter: %d / Backward error: %g\" % (iter_n, backward_error))"
   ]
  },
  {
   "cell_type": "code",
   "execution_count": 17,
   "metadata": {
    "scrolled": true
   },
   "outputs": [
    {
     "data": {
      "image/png": "[encoded data removed]",
      "text/plain": [
       "<matplotlib.figure.Figure at 0x2178c826d30>"
      ]
     },
     "metadata": {},
     "output_type": "display_data"
    }
   ],
   "source": [
    "plt.plot(np.arange(30), error_matrix[0], label=\"No precond.\")\n",
    "plt.plot(np.arange(30), error_matrix[1], label=\"Jacobi precond.\")\n",
    "plt.plot(np.arange(16), error_matrix[2, :16], label=\"Gauss-Seidel precond.\")\n",
    "plt.yscale(\"log\")\n",
    "plt.legend()\n",
    "\n",
    "plt.show()"
   ]
  },
  {
   "cell_type": "markdown",
   "metadata": {},
   "source": [
    "### Q. 3"
   ]
  },
  {
   "cell_type": "code",
   "execution_count": 18,
   "metadata": {},
   "outputs": [],
   "source": [
    "def A_ij(n):\n",
    "    A = np.zeros((n, n))\n",
    "    \n",
    "    for i in range(n):\n",
    "        A[i, i] = i+1\n",
    "        try:\n",
    "            A[i, i+2] = 0.5\n",
    "            A[i+2, i] = 0.5\n",
    "            A[i, i+4] = 0.5\n",
    "            A[i+4, i] = 0.5\n",
    "        except:\n",
    "            pass\n",
    "\n",
    "    for i in range(n-5):\n",
    "        A[-1, i] = -0.1\n",
    "        A[i, -1] = -0.1\n",
    "    return A\n",
    "\n",
    "n = 500\n",
    "A = A_ij(n)"
   ]
  },
  {
   "cell_type": "code",
   "execution_count": 19,
   "metadata": {},
   "outputs": [
    {
     "data": {
      "image/png": "[encoded data removed]",
      "text/plain": [
       "<matplotlib.figure.Figure at 0x217ff9cb860>"
      ]
     },
     "metadata": {},
     "output_type": "display_data"
    }
   ],
   "source": [
    "# (a)\n",
    "# Just show the structure when n = 100.\n",
    "plt.matshow(A_ij(100) != 0, cmap='binary')\n",
    "plt.show()"
   ]
  },
  {
   "cell_type": "code",
   "execution_count": 20,
   "metadata": {},
   "outputs": [],
   "source": [
    "# (b)\n",
    "x_e = np.ones(n)\n",
    "b = A.dot(x_e)\n",
    "tol = 1e-10\n",
    "\n",
    "error_matrix = np.zeros((3, 30))\n",
    "error_matrix[:, 0] = 1"
   ]
  },
  {
   "cell_type": "markdown",
   "metadata": {},
   "source": [
    "Conjugate Gradient Method without preconditioner"
   ]
  },
  {
   "cell_type": "code",
   "execution_count": 21,
   "metadata": {},
   "outputs": [
    {
     "name": "stdout",
     "output_type": "stream",
     "text": [
      "Iter: 6676 / Backward error: 1.80949e-11\n"
     ]
    }
   ],
   "source": [
    "iter_n = 0\n",
    "x = np.zeros(n)\n",
    "\n",
    "while True:\n",
    "    x = conj_grad_method(A, b, initial_guess=x, iter_num=1)\n",
    "    error = abs(x - x_e).max()\n",
    "    iter_n += 1\n",
    "    \n",
    "    if iter_n < 30:\n",
    "        error_matrix[0, iter_n] = error\n",
    "    \n",
    "    if error < tol:\n",
    "        break\n",
    "        \n",
    "backward_error = (A.dot(x) - b).max()\n",
    "print(\"Iter: %d / Backward error: %g\" % (iter_n, backward_error))"
   ]
  },
  {
   "cell_type": "markdown",
   "metadata": {},
   "source": [
    "Jacobi preconditioner"
   ]
  },
  {
   "cell_type": "code",
   "execution_count": 22,
   "metadata": {},
   "outputs": [
    {
     "name": "stdout",
     "output_type": "stream",
     "text": [
      "Iter: 23 / Backward error: 7.85807e-11\n"
     ]
    }
   ],
   "source": [
    "iter_n = 0\n",
    "x = np.zeros(n)\n",
    "\n",
    "while True:\n",
    "    x = Preconditioned_CGM(A, b, \"Jacobi\", initial_guess=x, iter_num=1)\n",
    "    error = abs(x - x_e).max()\n",
    "    iter_n += 1\n",
    "    \n",
    "    if iter_n < 30:\n",
    "        error_matrix[1, iter_n] = error\n",
    "    \n",
    "    if error < tol:\n",
    "        break\n",
    "        \n",
    "backward_error = (A.dot(x) - b).max()\n",
    "print(\"Iter: %d / Backward error: %g\" % (iter_n, backward_error))"
   ]
  },
  {
   "cell_type": "markdown",
   "metadata": {},
   "source": [
    "Gauss-Seidel preconditioner"
   ]
  },
  {
   "cell_type": "code",
   "execution_count": 23,
   "metadata": {
    "scrolled": true
   },
   "outputs": [
    {
     "name": "stdout",
     "output_type": "stream",
     "text": [
      "Iter: 9 / Backward error: 2.30614e-10\n"
     ]
    }
   ],
   "source": [
    "iter_n = 0\n",
    "x = np.zeros(n)\n",
    "\n",
    "while True:\n",
    "    x = Preconditioned_CGM(A, b, \"Gauss_Seidel\", initial_guess=x, iter_num=1)\n",
    "    error = abs(x - x_e).max()\n",
    "    iter_n += 1\n",
    "        \n",
    "    if iter_n < 30:\n",
    "        error_matrix[2, iter_n] = error\n",
    "    \n",
    "    if error < tol:\n",
    "        break\n",
    "        \n",
    "backward_error = (A.dot(x) - b).max()\n",
    "print(\"Iter: %d / Backward error: %g\" % (iter_n, backward_error))"
   ]
  },
  {
   "cell_type": "code",
   "execution_count": 24,
   "metadata": {
    "scrolled": false
   },
   "outputs": [
    {
     "data": {
      "image/png": "[encoded data removed]",
      "text/plain": [
       "<matplotlib.figure.Figure at 0x2178c87bcf8>"
      ]
     },
     "metadata": {},
     "output_type": "display_data"
    }
   ],
   "source": [
    "plt.plot(np.arange(30), error_matrix[0], label=\"No precond.\")\n",
    "plt.plot(np.arange(23), error_matrix[1, :23], label=\"Jacobi precond.\")\n",
    "plt.plot(np.arange(9), error_matrix[2, :9], label=\"Gauss-Seidel precond.\")\n",
    "plt.yscale(\"log\")\n",
    "plt.legend()\n",
    "\n",
    "plt.show()"
   ]
  },
  {
   "cell_type": "markdown",
   "metadata": {},
   "source": [
    "### Q. 4"
   ]
  },
  {
   "cell_type": "code",
   "execution_count": 25,
   "metadata": {},
   "outputs": [],
   "source": [
    "def A_ij(n):\n",
    "    A = np.zeros((n, n))\n",
    "    \n",
    "    for i in range(n):\n",
    "        A[i, i] = (i+1)**(1/3)\n",
    "        try:\n",
    "            A[i, i+2] = 0.5\n",
    "            A[i+2, i] = 0.5\n",
    "            A[i, i+4] = 0.5\n",
    "            A[i+4, i] = 0.5\n",
    "        except:\n",
    "            pass\n",
    "\n",
    "    for i in range(n-5):\n",
    "        A[-1, i] = -0.1\n",
    "        A[i, -1] = -0.1\n",
    "    return A\n",
    "\n",
    "n = 500\n",
    "A = A_ij(n)"
   ]
  },
  {
   "cell_type": "code",
   "execution_count": 26,
   "metadata": {},
   "outputs": [
    {
     "data": {
      "image/png": "[encoded data removed]",
      "text/plain": [
       "<matplotlib.figure.Figure at 0x2178a22d630>"
      ]
     },
     "metadata": {},
     "output_type": "display_data"
    }
   ],
   "source": [
    "# (a)\n",
    "# Just show the structure when n = 100.\n",
    "plt.matshow(A_ij(100) != 0, cmap='binary')\n",
    "plt.show()"
   ]
  },
  {
   "cell_type": "code",
   "execution_count": 27,
   "metadata": {},
   "outputs": [],
   "source": [
    "# (b)\n",
    "x_e = np.ones(n)\n",
    "b = A.dot(x_e)\n",
    "tol = 1e-10\n",
    "\n",
    "error_matrix = np.zeros((3, 30))\n",
    "error_matrix[:, 0] = 1"
   ]
  },
  {
   "cell_type": "markdown",
   "metadata": {},
   "source": [
    "Conjugate Gradient Method without preconditioner"
   ]
  },
  {
   "cell_type": "code",
   "execution_count": 28,
   "metadata": {},
   "outputs": [
    {
     "name": "stdout",
     "output_type": "stream",
     "text": [
      "Iter: 208 / Backward error: 4.99938e-11\n"
     ]
    }
   ],
   "source": [
    "iter_n = 0\n",
    "x = np.zeros(n)\n",
    "\n",
    "while True:\n",
    "    x = conj_grad_method(A, b, initial_guess=x, iter_num=1)\n",
    "    error = abs(x - x_e).max()\n",
    "    iter_n += 1\n",
    "    \n",
    "    if iter_n < 30:\n",
    "        error_matrix[0, iter_n] = error\n",
    "    \n",
    "    if error < tol:\n",
    "        break\n",
    "        \n",
    "backward_error = (A.dot(x) - b).max()\n",
    "print(\"Iter: %d / Backward error: %g\" % (iter_n, backward_error))"
   ]
  },
  {
   "cell_type": "markdown",
   "metadata": {},
   "source": [
    "Jacobi preconditioner"
   ]
  },
  {
   "cell_type": "code",
   "execution_count": 29,
   "metadata": {},
   "outputs": [
    {
     "name": "stdout",
     "output_type": "stream",
     "text": [
      "Iter: 53 / Backward error: 5.01568e-11\n"
     ]
    }
   ],
   "source": [
    "iter_n = 0\n",
    "x = np.zeros(n)\n",
    "\n",
    "while True:\n",
    "    x = Preconditioned_CGM(A, b, \"Jacobi\", initial_guess=x, iter_num=1)\n",
    "    error = abs(x - x_e).max()\n",
    "    iter_n += 1\n",
    "    \n",
    "    if iter_n < 30:\n",
    "        error_matrix[1, iter_n] = error\n",
    "    \n",
    "    if error < tol:\n",
    "        break\n",
    "        \n",
    "backward_error = (A.dot(x) - b).max()\n",
    "print(\"Iter: %d / Backward error: %g\" % (iter_n, backward_error))"
   ]
  },
  {
   "cell_type": "markdown",
   "metadata": {},
   "source": [
    "Gauss-Seidel preconditioner"
   ]
  },
  {
   "cell_type": "code",
   "execution_count": 30,
   "metadata": {
    "scrolled": true
   },
   "outputs": [
    {
     "name": "stdout",
     "output_type": "stream",
     "text": [
      "Iter: 14 / Backward error: 3.85256e-11\n"
     ]
    }
   ],
   "source": [
    "iter_n = 0\n",
    "x = np.zeros(n)\n",
    "\n",
    "while True:\n",
    "    x = Preconditioned_CGM(A, b, \"Gauss_Seidel\", initial_guess=x, iter_num=1)\n",
    "    error = abs(x - x_e).max()\n",
    "    iter_n += 1\n",
    "        \n",
    "    if iter_n < 30:\n",
    "        error_matrix[2, iter_n] = error\n",
    "    \n",
    "    if error < tol:\n",
    "        break\n",
    "        \n",
    "backward_error = (A.dot(x) - b).max()\n",
    "print(\"Iter: %d / Backward error: %g\" % (iter_n, backward_error))"
   ]
  },
  {
   "cell_type": "code",
   "execution_count": 31,
   "metadata": {
    "scrolled": false
   },
   "outputs": [
    {
     "data": {
      "image/png": "[encoded data removed]",
      "text/plain": [
       "<matplotlib.figure.Figure at 0x2178a2f5c18>"
      ]
     },
     "metadata": {},
     "output_type": "display_data"
    }
   ],
   "source": [
    "plt.plot(np.arange(30), error_matrix[0], label=\"No precond.\")\n",
    "plt.plot(np.arange(30), error_matrix[1], label=\"Jacobi precond.\")\n",
    "plt.plot(np.arange(14), error_matrix[2, :14], label=\"Gauss-Seidel precond.\")\n",
    "plt.yscale(\"log\")\n",
    "plt.legend()\n",
    "\n",
    "plt.show()"
   ]
  },
  {
   "cell_type": "markdown",
   "metadata": {},
   "source": [
    "### Q. 5"
   ]
  },
  {
   "cell_type": "code",
   "execution_count": 32,
   "metadata": {},
   "outputs": [],
   "source": [
    "def A_ij(n):\n",
    "    A = np.zeros((4*n, 4*n))\n",
    "    C = np.zeros((n, n))\n",
    "    \n",
    "    for i in range(n):\n",
    "        C[i, i] = 2\n",
    "        try:\n",
    "            C[i, i+3] = 0.1\n",
    "            C[i+3, i] = 0.1\n",
    "            C[i, i+39] = 0.5\n",
    "            C[i+39, i] = 0.5\n",
    "            C[i, i+42] = 0.5\n",
    "            C[i+42, i] = 0.5\n",
    "        except:\n",
    "            pass\n",
    "            \n",
    "    for i in range(4):\n",
    "        A[i*n:(i+1)*n, i*n:(i+1)*n] = C\n",
    "        try:\n",
    "            A[(i+1)*n:(i+2)*n, i*n:(i+1)*n] = C/2\n",
    "            A[i*n:(i+1)*n, (i+1)*n:(i+2)*n] = C/2\n",
    "        except:\n",
    "            pass\n",
    "        \n",
    "    return A\n",
    "\n",
    "n = 195\n",
    "A = A_ij(n)"
   ]
  },
  {
   "cell_type": "code",
   "execution_count": 33,
   "metadata": {},
   "outputs": [
    {
     "data": {
      "image/png": "[encoded data removed]",
      "text/plain": [
       "<matplotlib.figure.Figure at 0x2178a21b2b0>"
      ]
     },
     "metadata": {},
     "output_type": "display_data"
    }
   ],
   "source": [
    "# (a)\n",
    "# Just show the structure when n = 100.\n",
    "plt.matshow(A_ij(25) != 0, cmap='binary')\n",
    "plt.show()"
   ]
  },
  {
   "cell_type": "code",
   "execution_count": 34,
   "metadata": {},
   "outputs": [],
   "source": [
    "# (b)\n",
    "x_e = np.ones(4*n)\n",
    "b = A.dot(x_e)\n",
    "tol = 1e-10\n",
    "\n",
    "error_matrix = np.zeros((3, 50))\n",
    "error_matrix[:, 0] = 1"
   ]
  },
  {
   "cell_type": "markdown",
   "metadata": {},
   "source": [
    "Conjugate Gradient Method without preconditioner"
   ]
  },
  {
   "cell_type": "code",
   "execution_count": 35,
   "metadata": {},
   "outputs": [
    {
     "name": "stdout",
     "output_type": "stream",
     "text": [
      "Iter: 213 / Backward error: 4.6203e-11\n"
     ]
    }
   ],
   "source": [
    "iter_n = 0\n",
    "x = np.zeros(4*n)\n",
    "\n",
    "while True:\n",
    "    x = conj_grad_method(A, b, initial_guess=x, iter_num=1)\n",
    "    error = abs(x - x_e).max()\n",
    "    iter_n += 1\n",
    "    \n",
    "    if iter_n < 50:\n",
    "        error_matrix[0, iter_n] = error\n",
    "    \n",
    "    if error < tol:\n",
    "        break\n",
    "        \n",
    "backward_error = (A.dot(x) - b).max()\n",
    "print(\"Iter: %d / Backward error: %g\" % (iter_n, backward_error))"
   ]
  },
  {
   "cell_type": "markdown",
   "metadata": {},
   "source": [
    "Jacobi preconditioner"
   ]
  },
  {
   "cell_type": "code",
   "execution_count": 36,
   "metadata": {},
   "outputs": [
    {
     "name": "stdout",
     "output_type": "stream",
     "text": [
      "Iter: 213 / Backward error: 4.6203e-11\n"
     ]
    }
   ],
   "source": [
    "iter_n = 0\n",
    "x = np.zeros(4*n)\n",
    "\n",
    "while True:\n",
    "    x = Preconditioned_CGM(A, b, \"Jacobi\", initial_guess=x, iter_num=1)\n",
    "    error = abs(x - x_e).max()\n",
    "    iter_n += 1\n",
    "    \n",
    "    if iter_n < 50:\n",
    "        error_matrix[1, iter_n] = error\n",
    "    \n",
    "    if error < tol:\n",
    "        break\n",
    "        \n",
    "backward_error = (A.dot(x) - b).max()\n",
    "print(\"Iter: %d / Backward error: %g\" % (iter_n, backward_error))"
   ]
  },
  {
   "cell_type": "markdown",
   "metadata": {},
   "source": [
    "Gauss-Seidel preconditioner"
   ]
  },
  {
   "cell_type": "code",
   "execution_count": 37,
   "metadata": {
    "scrolled": true
   },
   "outputs": [
    {
     "name": "stdout",
     "output_type": "stream",
     "text": [
      "Iter: 69 / Backward error: 2.01279e-11\n"
     ]
    }
   ],
   "source": [
    "iter_n = 0\n",
    "x = np.zeros(4*n)\n",
    "\n",
    "while True:\n",
    "    x = Preconditioned_CGM(A, b, \"Gauss_Seidel\", initial_guess=x, iter_num=1)\n",
    "    error = abs(x - x_e).max()\n",
    "    iter_n += 1\n",
    "        \n",
    "    if iter_n < 50:\n",
    "        error_matrix[2, iter_n] = error\n",
    "    \n",
    "    if error < tol:\n",
    "        break\n",
    "        \n",
    "backward_error = (A.dot(x) - b).max()\n",
    "print(\"Iter: %d / Backward error: %g\" % (iter_n, backward_error))"
   ]
  },
  {
   "cell_type": "code",
   "execution_count": 38,
   "metadata": {
    "scrolled": false
   },
   "outputs": [
    {
     "data": {
      "image/png": "[encoded data removed]",
      "text/plain": [
       "<matplotlib.figure.Figure at 0x2178c925898>"
      ]
     },
     "metadata": {},
     "output_type": "display_data"
    }
   ],
   "source": [
    "plt.plot(np.arange(50), error_matrix[0], label=\"No precond.\")\n",
    "plt.plot(np.arange(50), error_matrix[1], label=\"Jacobi precond.\")\n",
    "plt.plot(np.arange(50), error_matrix[2], label=\"Gauss-Seidel precond.\")\n",
    "plt.yscale(\"log\")\n",
    "plt.legend()\n",
    "\n",
    "plt.show()"
   ]
  }
 ],
 "metadata": {
  "kernelspec": {
   "display_name": "Python 3",
   "language": "python",
   "name": "python3"
  },
  "language_info": {
   "codemirror_mode": {
    "name": "ipython",
    "version": 3
   },
   "file_extension": ".py",
   "mimetype": "text/x-python",
   "name": "python",
   "nbconvert_exporter": "python",
   "pygments_lexer": "ipython3",
   "version": "3.6.4"
  }
 },
 "nbformat": 4,
 "nbformat_minor": 2
}

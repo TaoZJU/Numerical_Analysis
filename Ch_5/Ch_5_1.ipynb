{
 "cells": [
  {
   "cell_type": "code",
   "execution_count": 1,
   "metadata": {},
   "outputs": [],
   "source": [
    "import numpy as np\n",
    "import pandas as pd\n",
    "import matplotlib.pyplot as plt\n",
    "\n",
    "%matplotlib inline"
   ]
  },
  {
   "cell_type": "markdown",
   "metadata": {},
   "source": [
    "# Chapter 5<br>Numerical Differentiation and Integration"
   ]
  },
  {
   "cell_type": "markdown",
   "metadata": {},
   "source": [
    "## 5.1 Numerical Differentiation"
   ]
  },
  {
   "cell_type": "code",
   "execution_count": 2,
   "metadata": {},
   "outputs": [],
   "source": [
    "e_mach = 2.220446049250313e-16"
   ]
  },
  {
   "cell_type": "markdown",
   "metadata": {},
   "source": [
    "### Q. 1"
   ]
  },
  {
   "cell_type": "code",
   "execution_count": 3,
   "metadata": {},
   "outputs": [],
   "source": [
    "def f(x):\n",
    "    return np.sin(x) - np.cos(x)\n",
    "\n",
    "def formula(x, h):\n",
    "    return (f(x+h) - f(x-h))/(2*h)\n",
    "\n",
    "x = 0\n",
    "f_prime_x = 1\n",
    "M = np.sqrt(2)"
   ]
  },
  {
   "cell_type": "code",
   "execution_count": 4,
   "metadata": {},
   "outputs": [
    {
     "data": {
      "text/html": [
       "<div>\n",
       "<style scoped>\n",
       "    .dataframe tbody tr th:only-of-type {\n",
       "        vertical-align: middle;\n",
       "    }\n",
       "\n",
       "    .dataframe tbody tr th {\n",
       "        vertical-align: top;\n",
       "    }\n",
       "\n",
       "    .dataframe thead th {\n",
       "        text-align: right;\n",
       "    }\n",
       "</style>\n",
       "<table border=\"1\" class=\"dataframe\">\n",
       "  <thead>\n",
       "    <tr style=\"text-align: right;\">\n",
       "      <th></th>\n",
       "      <th>Formula</th>\n",
       "      <th>Error</th>\n",
       "    </tr>\n",
       "  </thead>\n",
       "  <tbody>\n",
       "    <tr>\n",
       "      <th>10**(-1)</th>\n",
       "      <td>0.998334</td>\n",
       "      <td>-1.665834e-03</td>\n",
       "    </tr>\n",
       "    <tr>\n",
       "      <th>10**(-2)</th>\n",
       "      <td>0.999983</td>\n",
       "      <td>-1.666658e-05</td>\n",
       "    </tr>\n",
       "    <tr>\n",
       "      <th>10**(-3)</th>\n",
       "      <td>1.000000</td>\n",
       "      <td>-1.666666e-07</td>\n",
       "    </tr>\n",
       "    <tr>\n",
       "      <th>10**(-4)</th>\n",
       "      <td>1.000000</td>\n",
       "      <td>-1.667110e-09</td>\n",
       "    </tr>\n",
       "    <tr>\n",
       "      <th>10**(-5)</th>\n",
       "      <td>1.000000</td>\n",
       "      <td>-1.565337e-11</td>\n",
       "    </tr>\n",
       "    <tr>\n",
       "      <th>10**(-6)</th>\n",
       "      <td>1.000000</td>\n",
       "      <td>-2.675549e-11</td>\n",
       "    </tr>\n",
       "    <tr>\n",
       "      <th>10**(-7)</th>\n",
       "      <td>1.000000</td>\n",
       "      <td>-5.263558e-10</td>\n",
       "    </tr>\n",
       "    <tr>\n",
       "      <th>10**(-8)</th>\n",
       "      <td>1.000000</td>\n",
       "      <td>-5.263558e-10</td>\n",
       "    </tr>\n",
       "    <tr>\n",
       "      <th>10**(-9)</th>\n",
       "      <td>1.000000</td>\n",
       "      <td>2.722922e-08</td>\n",
       "    </tr>\n",
       "    <tr>\n",
       "      <th>10**(-10)</th>\n",
       "      <td>1.000000</td>\n",
       "      <td>8.274037e-08</td>\n",
       "    </tr>\n",
       "    <tr>\n",
       "      <th>10**(-11)</th>\n",
       "      <td>1.000000</td>\n",
       "      <td>8.274037e-08</td>\n",
       "    </tr>\n",
       "    <tr>\n",
       "      <th>10**(-12)</th>\n",
       "      <td>1.000033</td>\n",
       "      <td>3.338943e-05</td>\n",
       "    </tr>\n",
       "  </tbody>\n",
       "</table>\n",
       "</div>"
      ],
      "text/plain": [
       "            Formula         Error\n",
       "10**(-1)   0.998334 -1.665834e-03\n",
       "10**(-2)   0.999983 -1.666658e-05\n",
       "10**(-3)   1.000000 -1.666666e-07\n",
       "10**(-4)   1.000000 -1.667110e-09\n",
       "10**(-5)   1.000000 -1.565337e-11\n",
       "10**(-6)   1.000000 -2.675549e-11\n",
       "10**(-7)   1.000000 -5.263558e-10\n",
       "10**(-8)   1.000000 -5.263558e-10\n",
       "10**(-9)   1.000000  2.722922e-08\n",
       "10**(-10)  1.000000  8.274037e-08\n",
       "10**(-11)  1.000000  8.274037e-08\n",
       "10**(-12)  1.000033  3.338943e-05"
      ]
     },
     "execution_count": 4,
     "metadata": {},
     "output_type": "execute_result"
    }
   ],
   "source": [
    "table = np.zeros((12, 2))\n",
    "for i in range(12):\n",
    "    h = 10**(-(i+1))\n",
    "    \n",
    "    table[i, 0] = formula(x, h)\n",
    "    table[i, 1] = table[i, 0] - f_prime_x\n",
    "    \n",
    "pd.DataFrame(table, columns=[\"Formula\", \"Error\"], index=[\"10**(-%d)\" % d for d in range(1, 13)])"
   ]
  },
  {
   "cell_type": "code",
   "execution_count": 5,
   "metadata": {},
   "outputs": [
    {
     "data": {
      "image/png": "[encoded data removed]",
      "text/plain": [
       "<matplotlib.figure.Figure at 0x2506875b860>"
      ]
     },
     "metadata": {},
     "output_type": "display_data"
    }
   ],
   "source": [
    "x_range = [10**(-1-i) for i in range(12)]\n",
    "y_range = np.abs([formula(x, h) - f_prime_x for h in x_range])\n",
    "\n",
    "plt.plot(x_range, y_range)\n",
    "plt.xscale('log')\n",
    "plt.yscale('log')\n",
    "\n",
    "plt.show()"
   ]
  },
  {
   "cell_type": "code",
   "execution_count": 6,
   "metadata": {},
   "outputs": [],
   "source": [
    "h = 10**(-5)\n",
    "min_error = abs(formula(x, h) - f_prime_x)\n",
    "\n",
    "h_min = (3*e_mach/M)**(1/3)\n",
    "theoretical_min_error = abs(formula(x, h_min) - f_prime_x)"
   ]
  },
  {
   "cell_type": "code",
   "execution_count": 7,
   "metadata": {
    "scrolled": false
   },
   "outputs": [
    {
     "name": "stdout",
     "output_type": "stream",
     "text": [
      "Computational minimum error: 1.565337e-11\n",
      "Theoretical minimum error: 1.172229e-11\n"
     ]
    }
   ],
   "source": [
    "print(\"Computational minimum error: %e\" % min_error)\n",
    "print(\"Theoretical minimum error: %e\" % theoretical_min_error)"
   ]
  },
  {
   "cell_type": "markdown",
   "metadata": {},
   "source": [
    "The computational minimum error corresponds to the theoretical minimum error."
   ]
  },
  {
   "cell_type": "markdown",
   "metadata": {},
   "source": [
    "### Q. 2"
   ]
  },
  {
   "cell_type": "code",
   "execution_count": 8,
   "metadata": {},
   "outputs": [],
   "source": [
    "def f(x):\n",
    "    return 1/(1+x)\n",
    "\n",
    "def formula(x, h):\n",
    "    return (f(x+h) - f(x-h))/(2*h)\n",
    "\n",
    "x = 1\n",
    "f_prime_x = -0.25\n",
    "M = 6/16"
   ]
  },
  {
   "cell_type": "code",
   "execution_count": 9,
   "metadata": {},
   "outputs": [
    {
     "data": {
      "text/html": [
       "<div>\n",
       "<style scoped>\n",
       "    .dataframe tbody tr th:only-of-type {\n",
       "        vertical-align: middle;\n",
       "    }\n",
       "\n",
       "    .dataframe tbody tr th {\n",
       "        vertical-align: top;\n",
       "    }\n",
       "\n",
       "    .dataframe thead th {\n",
       "        text-align: right;\n",
       "    }\n",
       "</style>\n",
       "<table border=\"1\" class=\"dataframe\">\n",
       "  <thead>\n",
       "    <tr style=\"text-align: right;\">\n",
       "      <th></th>\n",
       "      <th>Formula</th>\n",
       "      <th>Error</th>\n",
       "    </tr>\n",
       "  </thead>\n",
       "  <tbody>\n",
       "    <tr>\n",
       "      <th>10**(-1)</th>\n",
       "      <td>-0.250627</td>\n",
       "      <td>-6.265664e-04</td>\n",
       "    </tr>\n",
       "    <tr>\n",
       "      <th>10**(-2)</th>\n",
       "      <td>-0.250006</td>\n",
       "      <td>-6.250156e-06</td>\n",
       "    </tr>\n",
       "    <tr>\n",
       "      <th>10**(-3)</th>\n",
       "      <td>-0.250000</td>\n",
       "      <td>-6.249998e-08</td>\n",
       "    </tr>\n",
       "    <tr>\n",
       "      <th>10**(-4)</th>\n",
       "      <td>-0.250000</td>\n",
       "      <td>-6.250280e-10</td>\n",
       "    </tr>\n",
       "    <tr>\n",
       "      <th>10**(-5)</th>\n",
       "      <td>-0.250000</td>\n",
       "      <td>-9.964474e-12</td>\n",
       "    </tr>\n",
       "    <tr>\n",
       "      <th>10**(-6)</th>\n",
       "      <td>-0.250000</td>\n",
       "      <td>-3.494449e-11</td>\n",
       "    </tr>\n",
       "    <tr>\n",
       "      <th>10**(-7)</th>\n",
       "      <td>-0.250000</td>\n",
       "      <td>1.315890e-10</td>\n",
       "    </tr>\n",
       "    <tr>\n",
       "      <th>10**(-8)</th>\n",
       "      <td>-0.250000</td>\n",
       "      <td>1.519368e-09</td>\n",
       "    </tr>\n",
       "    <tr>\n",
       "      <th>10**(-9)</th>\n",
       "      <td>-0.250000</td>\n",
       "      <td>-2.068509e-08</td>\n",
       "    </tr>\n",
       "    <tr>\n",
       "      <th>10**(-10)</th>\n",
       "      <td>-0.250000</td>\n",
       "      <td>-2.068509e-08</td>\n",
       "    </tr>\n",
       "    <tr>\n",
       "      <th>10**(-11)</th>\n",
       "      <td>-0.250000</td>\n",
       "      <td>-2.068509e-08</td>\n",
       "    </tr>\n",
       "    <tr>\n",
       "      <th>10**(-12)</th>\n",
       "      <td>-0.250022</td>\n",
       "      <td>-2.222515e-05</td>\n",
       "    </tr>\n",
       "  </tbody>\n",
       "</table>\n",
       "</div>"
      ],
      "text/plain": [
       "            Formula         Error\n",
       "10**(-1)  -0.250627 -6.265664e-04\n",
       "10**(-2)  -0.250006 -6.250156e-06\n",
       "10**(-3)  -0.250000 -6.249998e-08\n",
       "10**(-4)  -0.250000 -6.250280e-10\n",
       "10**(-5)  -0.250000 -9.964474e-12\n",
       "10**(-6)  -0.250000 -3.494449e-11\n",
       "10**(-7)  -0.250000  1.315890e-10\n",
       "10**(-8)  -0.250000  1.519368e-09\n",
       "10**(-9)  -0.250000 -2.068509e-08\n",
       "10**(-10) -0.250000 -2.068509e-08\n",
       "10**(-11) -0.250000 -2.068509e-08\n",
       "10**(-12) -0.250022 -2.222515e-05"
      ]
     },
     "execution_count": 9,
     "metadata": {},
     "output_type": "execute_result"
    }
   ],
   "source": [
    "table = np.zeros((12, 2))\n",
    "for i in range(12):\n",
    "    h = 10**(-(i+1))\n",
    "    \n",
    "    table[i, 0] = formula(x, h)\n",
    "    table[i, 1] = table[i, 0] - f_prime_x\n",
    "    \n",
    "pd.DataFrame(table, columns=[\"Formula\", \"Error\"], index=[\"10**(-%d)\" % d for d in range(1, 13)])"
   ]
  },
  {
   "cell_type": "code",
   "execution_count": 10,
   "metadata": {},
   "outputs": [
    {
     "data": {
      "image/png": "[encoded data removed]",
      "text/plain": [
       "<matplotlib.figure.Figure at 0x2506a8e56a0>"
      ]
     },
     "metadata": {},
     "output_type": "display_data"
    }
   ],
   "source": [
    "x_range = [10**(-1-i) for i in range(12)]\n",
    "y_range = np.abs([formula(x, h) - f_prime_x for h in x_range])\n",
    "\n",
    "plt.plot(x_range, y_range)\n",
    "plt.xscale('log')\n",
    "plt.yscale('log')\n",
    "\n",
    "plt.show()"
   ]
  },
  {
   "cell_type": "code",
   "execution_count": 11,
   "metadata": {},
   "outputs": [],
   "source": [
    "h = 10**(-5)\n",
    "min_error = abs(formula(x, h) - f_prime_x)\n",
    "\n",
    "h_min = (3*e_mach/M)**(1/3)\n",
    "theoretical_min_error = abs(formula(x, h_min) - f_prime_x)"
   ]
  },
  {
   "cell_type": "code",
   "execution_count": 12,
   "metadata": {
    "scrolled": false
   },
   "outputs": [
    {
     "name": "stdout",
     "output_type": "stream",
     "text": [
      "Computational minimum error: 9.964474e-12\n",
      "Theoretical minimum error: 8.180123e-12\n"
     ]
    }
   ],
   "source": [
    "print(\"Computational minimum error: %e\" % min_error)\n",
    "print(\"Theoretical minimum error: %e\" % theoretical_min_error)"
   ]
  },
  {
   "cell_type": "markdown",
   "metadata": {},
   "source": [
    "The computational minimum error corresponds to the theoretical minimum error."
   ]
  },
  {
   "cell_type": "markdown",
   "metadata": {},
   "source": [
    "### Q. 3"
   ]
  },
  {
   "cell_type": "code",
   "execution_count": 13,
   "metadata": {},
   "outputs": [],
   "source": [
    "def f(x):\n",
    "    return np.sin(x) - np.cos(x)\n",
    "\n",
    "def formula(x, h):\n",
    "    return (f(x+h) - f(x))/h\n",
    "\n",
    "x = 0\n",
    "f_prime_x = 1\n",
    "M = np.sqrt(2)"
   ]
  },
  {
   "cell_type": "code",
   "execution_count": 14,
   "metadata": {},
   "outputs": [
    {
     "data": {
      "text/html": [
       "<div>\n",
       "<style scoped>\n",
       "    .dataframe tbody tr th:only-of-type {\n",
       "        vertical-align: middle;\n",
       "    }\n",
       "\n",
       "    .dataframe tbody tr th {\n",
       "        vertical-align: top;\n",
       "    }\n",
       "\n",
       "    .dataframe thead th {\n",
       "        text-align: right;\n",
       "    }\n",
       "</style>\n",
       "<table border=\"1\" class=\"dataframe\">\n",
       "  <thead>\n",
       "    <tr style=\"text-align: right;\">\n",
       "      <th></th>\n",
       "      <th>Formula</th>\n",
       "      <th>Error</th>\n",
       "    </tr>\n",
       "  </thead>\n",
       "  <tbody>\n",
       "    <tr>\n",
       "      <th>10**(-1)</th>\n",
       "      <td>1.048293</td>\n",
       "      <td>4.829251e-02</td>\n",
       "    </tr>\n",
       "    <tr>\n",
       "      <th>10**(-2)</th>\n",
       "      <td>1.004983</td>\n",
       "      <td>4.983292e-03</td>\n",
       "    </tr>\n",
       "    <tr>\n",
       "      <th>10**(-3)</th>\n",
       "      <td>1.000500</td>\n",
       "      <td>4.998333e-04</td>\n",
       "    </tr>\n",
       "    <tr>\n",
       "      <th>10**(-4)</th>\n",
       "      <td>1.000050</td>\n",
       "      <td>4.999833e-05</td>\n",
       "    </tr>\n",
       "    <tr>\n",
       "      <th>10**(-5)</th>\n",
       "      <td>1.000005</td>\n",
       "      <td>4.999985e-06</td>\n",
       "    </tr>\n",
       "    <tr>\n",
       "      <th>10**(-6)</th>\n",
       "      <td>1.000001</td>\n",
       "      <td>5.000732e-07</td>\n",
       "    </tr>\n",
       "    <tr>\n",
       "      <th>10**(-7)</th>\n",
       "      <td>1.000000</td>\n",
       "      <td>4.943368e-08</td>\n",
       "    </tr>\n",
       "    <tr>\n",
       "      <th>10**(-8)</th>\n",
       "      <td>1.000000</td>\n",
       "      <td>5.024759e-09</td>\n",
       "    </tr>\n",
       "    <tr>\n",
       "      <th>10**(-9)</th>\n",
       "      <td>1.000000</td>\n",
       "      <td>-2.828193e-08</td>\n",
       "    </tr>\n",
       "    <tr>\n",
       "      <th>10**(-10)</th>\n",
       "      <td>1.000000</td>\n",
       "      <td>8.274037e-08</td>\n",
       "    </tr>\n",
       "    <tr>\n",
       "      <th>10**(-11)</th>\n",
       "      <td>1.000000</td>\n",
       "      <td>8.274037e-08</td>\n",
       "    </tr>\n",
       "    <tr>\n",
       "      <th>10**(-12)</th>\n",
       "      <td>0.999978</td>\n",
       "      <td>-2.212172e-05</td>\n",
       "    </tr>\n",
       "  </tbody>\n",
       "</table>\n",
       "</div>"
      ],
      "text/plain": [
       "            Formula         Error\n",
       "10**(-1)   1.048293  4.829251e-02\n",
       "10**(-2)   1.004983  4.983292e-03\n",
       "10**(-3)   1.000500  4.998333e-04\n",
       "10**(-4)   1.000050  4.999833e-05\n",
       "10**(-5)   1.000005  4.999985e-06\n",
       "10**(-6)   1.000001  5.000732e-07\n",
       "10**(-7)   1.000000  4.943368e-08\n",
       "10**(-8)   1.000000  5.024759e-09\n",
       "10**(-9)   1.000000 -2.828193e-08\n",
       "10**(-10)  1.000000  8.274037e-08\n",
       "10**(-11)  1.000000  8.274037e-08\n",
       "10**(-12)  0.999978 -2.212172e-05"
      ]
     },
     "execution_count": 14,
     "metadata": {},
     "output_type": "execute_result"
    }
   ],
   "source": [
    "table = np.zeros((12, 2))\n",
    "for i in range(12):\n",
    "    h = 10**(-(i+1))\n",
    "    \n",
    "    table[i, 0] = formula(x, h)\n",
    "    table[i, 1] = table[i, 0] - f_prime_x\n",
    "    \n",
    "pd.DataFrame(table, columns=[\"Formula\", \"Error\"], index=[\"10**(-%d)\" % d for d in range(1, 13)])"
   ]
  },
  {
   "cell_type": "code",
   "execution_count": 15,
   "metadata": {},
   "outputs": [
    {
     "data": {
      "image/png": "[encoded data removed]",
      "text/plain": [
       "<matplotlib.figure.Figure at 0x2506a99ec50>"
      ]
     },
     "metadata": {},
     "output_type": "display_data"
    }
   ],
   "source": [
    "x_range = [10**(-1-i) for i in range(12)]\n",
    "y_range = np.abs([formula(x, h) - f_prime_x for h in x_range])\n",
    "\n",
    "plt.plot(x_range, y_range)\n",
    "plt.xscale('log')\n",
    "plt.yscale('log')\n",
    "\n",
    "plt.show()"
   ]
  },
  {
   "cell_type": "code",
   "execution_count": 16,
   "metadata": {},
   "outputs": [],
   "source": [
    "h = 10**(-8)\n",
    "min_error = abs(formula(x, h) - f_prime_x)\n",
    "\n",
    "# E(h) = f''(c)*h/2 + e_mach/h\n",
    "h_min = (2*e_mach/M)**(1/2)\n",
    "theoretical_min_error = abs(formula(x, h_min) - f_prime_x)"
   ]
  },
  {
   "cell_type": "code",
   "execution_count": 17,
   "metadata": {
    "scrolled": true
   },
   "outputs": [
    {
     "name": "stdout",
     "output_type": "stream",
     "text": [
      "Computational minimum error: 5.024759e-09\n",
      "Theoretical minimum error: 5.656819e-09\n"
     ]
    }
   ],
   "source": [
    "print(\"Computational minimum error: %e\" % min_error)\n",
    "print(\"Theoretical minimum error: %e\" % theoretical_min_error)"
   ]
  },
  {
   "cell_type": "markdown",
   "metadata": {},
   "source": [
    "The computational minimum error corresponds to the theoretical minimum error."
   ]
  },
  {
   "cell_type": "markdown",
   "metadata": {},
   "source": [
    "### Q. 4"
   ]
  },
  {
   "cell_type": "code",
   "execution_count": 18,
   "metadata": {},
   "outputs": [],
   "source": [
    "def f(x):\n",
    "    return 1/x\n",
    "\n",
    "def formula(x, h):\n",
    "    return (f(x+h) - f(x))/h\n",
    "\n",
    "x = 1\n",
    "f_prime_x = -1\n",
    "M = 1"
   ]
  },
  {
   "cell_type": "code",
   "execution_count": 19,
   "metadata": {},
   "outputs": [
    {
     "data": {
      "text/html": [
       "<div>\n",
       "<style scoped>\n",
       "    .dataframe tbody tr th:only-of-type {\n",
       "        vertical-align: middle;\n",
       "    }\n",
       "\n",
       "    .dataframe tbody tr th {\n",
       "        vertical-align: top;\n",
       "    }\n",
       "\n",
       "    .dataframe thead th {\n",
       "        text-align: right;\n",
       "    }\n",
       "</style>\n",
       "<table border=\"1\" class=\"dataframe\">\n",
       "  <thead>\n",
       "    <tr style=\"text-align: right;\">\n",
       "      <th></th>\n",
       "      <th>Formula</th>\n",
       "      <th>Error</th>\n",
       "    </tr>\n",
       "  </thead>\n",
       "  <tbody>\n",
       "    <tr>\n",
       "      <th>10**(-1)</th>\n",
       "      <td>-0.909091</td>\n",
       "      <td>9.090909e-02</td>\n",
       "    </tr>\n",
       "    <tr>\n",
       "      <th>10**(-2)</th>\n",
       "      <td>-0.990099</td>\n",
       "      <td>9.900990e-03</td>\n",
       "    </tr>\n",
       "    <tr>\n",
       "      <th>10**(-3)</th>\n",
       "      <td>-0.999001</td>\n",
       "      <td>9.990010e-04</td>\n",
       "    </tr>\n",
       "    <tr>\n",
       "      <th>10**(-4)</th>\n",
       "      <td>-0.999900</td>\n",
       "      <td>9.999000e-05</td>\n",
       "    </tr>\n",
       "    <tr>\n",
       "      <th>10**(-5)</th>\n",
       "      <td>-0.999990</td>\n",
       "      <td>9.999894e-06</td>\n",
       "    </tr>\n",
       "    <tr>\n",
       "      <th>10**(-6)</th>\n",
       "      <td>-0.999999</td>\n",
       "      <td>1.000060e-06</td>\n",
       "    </tr>\n",
       "    <tr>\n",
       "      <th>10**(-7)</th>\n",
       "      <td>-1.000000</td>\n",
       "      <td>9.933621e-08</td>\n",
       "    </tr>\n",
       "    <tr>\n",
       "      <th>10**(-8)</th>\n",
       "      <td>-1.000000</td>\n",
       "      <td>1.717970e-08</td>\n",
       "    </tr>\n",
       "    <tr>\n",
       "      <th>10**(-9)</th>\n",
       "      <td>-1.000000</td>\n",
       "      <td>-8.274037e-08</td>\n",
       "    </tr>\n",
       "    <tr>\n",
       "      <th>10**(-10)</th>\n",
       "      <td>-1.000000</td>\n",
       "      <td>-8.274037e-08</td>\n",
       "    </tr>\n",
       "    <tr>\n",
       "      <th>10**(-11)</th>\n",
       "      <td>-1.000000</td>\n",
       "      <td>-8.274037e-08</td>\n",
       "    </tr>\n",
       "    <tr>\n",
       "      <th>10**(-12)</th>\n",
       "      <td>-1.000089</td>\n",
       "      <td>-8.890058e-05</td>\n",
       "    </tr>\n",
       "  </tbody>\n",
       "</table>\n",
       "</div>"
      ],
      "text/plain": [
       "            Formula         Error\n",
       "10**(-1)  -0.909091  9.090909e-02\n",
       "10**(-2)  -0.990099  9.900990e-03\n",
       "10**(-3)  -0.999001  9.990010e-04\n",
       "10**(-4)  -0.999900  9.999000e-05\n",
       "10**(-5)  -0.999990  9.999894e-06\n",
       "10**(-6)  -0.999999  1.000060e-06\n",
       "10**(-7)  -1.000000  9.933621e-08\n",
       "10**(-8)  -1.000000  1.717970e-08\n",
       "10**(-9)  -1.000000 -8.274037e-08\n",
       "10**(-10) -1.000000 -8.274037e-08\n",
       "10**(-11) -1.000000 -8.274037e-08\n",
       "10**(-12) -1.000089 -8.890058e-05"
      ]
     },
     "execution_count": 19,
     "metadata": {},
     "output_type": "execute_result"
    }
   ],
   "source": [
    "table = np.zeros((12, 2))\n",
    "for i in range(12):\n",
    "    h = 10**(-(i+1))\n",
    "    \n",
    "    table[i, 0] = formula(x, h)\n",
    "    table[i, 1] = table[i, 0] - f_prime_x\n",
    "    \n",
    "pd.DataFrame(table, columns=[\"Formula\", \"Error\"], index=[\"10**(-%d)\" % d for d in range(1, 13)])"
   ]
  },
  {
   "cell_type": "code",
   "execution_count": 20,
   "metadata": {},
   "outputs": [
    {
     "data": {
      "image/png": "[encoded data removed]",
      "text/plain": [
       "<matplotlib.figure.Figure at 0x2506a7c50f0>"
      ]
     },
     "metadata": {},
     "output_type": "display_data"
    }
   ],
   "source": [
    "x_range = [10**(-1-i) for i in range(12)]\n",
    "y_range = np.abs([formula(x, h) - f_prime_x for h in x_range])\n",
    "\n",
    "plt.plot(x_range, y_range)\n",
    "plt.xscale('log')\n",
    "plt.yscale('log')\n",
    "\n",
    "plt.show()"
   ]
  },
  {
   "cell_type": "code",
   "execution_count": 21,
   "metadata": {},
   "outputs": [],
   "source": [
    "h = 10**(-8)\n",
    "min_error = abs(formula(x, h) - f_prime_x)\n",
    "\n",
    "# E(h) = f''(c)*h/2 + e_mach/h\n",
    "h_min = (2*e_mach/M)**(1/2)\n",
    "theoretical_min_error = abs(formula(x, h_min) - f_prime_x)"
   ]
  },
  {
   "cell_type": "code",
   "execution_count": 22,
   "metadata": {
    "scrolled": true
   },
   "outputs": [
    {
     "name": "stdout",
     "output_type": "stream",
     "text": [
      "Computational minimum error: 1.717970e-08\n",
      "Theoretical minimum error: 1.711427e-08\n"
     ]
    }
   ],
   "source": [
    "print(\"Computational minimum error: %e\" % min_error)\n",
    "print(\"Theoretical minimum error: %e\" % theoretical_min_error)"
   ]
  },
  {
   "cell_type": "markdown",
   "metadata": {},
   "source": [
    "The computational minimum error corresponds to the theoretical minimum error."
   ]
  },
  {
   "cell_type": "markdown",
   "metadata": {},
   "source": [
    "### Q. 5"
   ]
  },
  {
   "cell_type": "code",
   "execution_count": 23,
   "metadata": {},
   "outputs": [],
   "source": [
    "# (a)\n",
    "def f(x):\n",
    "    return np.cos(x)\n",
    "\n",
    "def formula(x, h):\n",
    "    return (f(x+h) + f(x-h) - 2*f(x))/(h**2)\n",
    "\n",
    "x = 0\n",
    "f_2prime_x = -1"
   ]
  },
  {
   "cell_type": "code",
   "execution_count": 24,
   "metadata": {},
   "outputs": [
    {
     "data": {
      "text/html": [
       "<div>\n",
       "<style scoped>\n",
       "    .dataframe tbody tr th:only-of-type {\n",
       "        vertical-align: middle;\n",
       "    }\n",
       "\n",
       "    .dataframe tbody tr th {\n",
       "        vertical-align: top;\n",
       "    }\n",
       "\n",
       "    .dataframe thead th {\n",
       "        text-align: right;\n",
       "    }\n",
       "</style>\n",
       "<table border=\"1\" class=\"dataframe\">\n",
       "  <thead>\n",
       "    <tr style=\"text-align: right;\">\n",
       "      <th></th>\n",
       "      <th>Formula</th>\n",
       "      <th>Error</th>\n",
       "    </tr>\n",
       "  </thead>\n",
       "  <tbody>\n",
       "    <tr>\n",
       "      <th>10**(-1)</th>\n",
       "      <td>-0.999167</td>\n",
       "      <td>8.330556e-04</td>\n",
       "    </tr>\n",
       "    <tr>\n",
       "      <th>10**(-2)</th>\n",
       "      <td>-0.999992</td>\n",
       "      <td>8.333305e-06</td>\n",
       "    </tr>\n",
       "    <tr>\n",
       "      <th>10**(-3)</th>\n",
       "      <td>-1.000000</td>\n",
       "      <td>8.334899e-08</td>\n",
       "    </tr>\n",
       "    <tr>\n",
       "      <th>10**(-4)</th>\n",
       "      <td>-1.000000</td>\n",
       "      <td>6.077471e-09</td>\n",
       "    </tr>\n",
       "    <tr>\n",
       "      <th>10**(-5)</th>\n",
       "      <td>-1.000000</td>\n",
       "      <td>-8.274037e-08</td>\n",
       "    </tr>\n",
       "    <tr>\n",
       "      <th>10**(-6)</th>\n",
       "      <td>-1.000089</td>\n",
       "      <td>-8.890058e-05</td>\n",
       "    </tr>\n",
       "    <tr>\n",
       "      <th>10**(-7)</th>\n",
       "      <td>-0.999201</td>\n",
       "      <td>7.992778e-04</td>\n",
       "    </tr>\n",
       "    <tr>\n",
       "      <th>10**(-8)</th>\n",
       "      <td>0.000000</td>\n",
       "      <td>1.000000e+00</td>\n",
       "    </tr>\n",
       "    <tr>\n",
       "      <th>10**(-9)</th>\n",
       "      <td>0.000000</td>\n",
       "      <td>1.000000e+00</td>\n",
       "    </tr>\n",
       "    <tr>\n",
       "      <th>10**(-10)</th>\n",
       "      <td>0.000000</td>\n",
       "      <td>1.000000e+00</td>\n",
       "    </tr>\n",
       "    <tr>\n",
       "      <th>10**(-11)</th>\n",
       "      <td>0.000000</td>\n",
       "      <td>1.000000e+00</td>\n",
       "    </tr>\n",
       "    <tr>\n",
       "      <th>10**(-12)</th>\n",
       "      <td>0.000000</td>\n",
       "      <td>1.000000e+00</td>\n",
       "    </tr>\n",
       "  </tbody>\n",
       "</table>\n",
       "</div>"
      ],
      "text/plain": [
       "            Formula         Error\n",
       "10**(-1)  -0.999167  8.330556e-04\n",
       "10**(-2)  -0.999992  8.333305e-06\n",
       "10**(-3)  -1.000000  8.334899e-08\n",
       "10**(-4)  -1.000000  6.077471e-09\n",
       "10**(-5)  -1.000000 -8.274037e-08\n",
       "10**(-6)  -1.000089 -8.890058e-05\n",
       "10**(-7)  -0.999201  7.992778e-04\n",
       "10**(-8)   0.000000  1.000000e+00\n",
       "10**(-9)   0.000000  1.000000e+00\n",
       "10**(-10)  0.000000  1.000000e+00\n",
       "10**(-11)  0.000000  1.000000e+00\n",
       "10**(-12)  0.000000  1.000000e+00"
      ]
     },
     "execution_count": 24,
     "metadata": {},
     "output_type": "execute_result"
    }
   ],
   "source": [
    "table = np.zeros((12, 2))\n",
    "for i in range(12):\n",
    "    h = 10**(-(i+1))\n",
    "    \n",
    "    table[i, 0] = formula(x, h)\n",
    "    table[i, 1] = table[i, 0] - f_2prime_x\n",
    "    \n",
    "pd.DataFrame(table, columns=[\"Formula\", \"Error\"], index=[\"10**(-%d)\" % d for d in range(1, 13)])"
   ]
  },
  {
   "cell_type": "code",
   "execution_count": 25,
   "metadata": {},
   "outputs": [
    {
     "data": {
      "image/png": "[encoded data removed]",
      "text/plain": [
       "<matplotlib.figure.Figure at 0x2506ba77fd0>"
      ]
     },
     "metadata": {},
     "output_type": "display_data"
    }
   ],
   "source": [
    "x_range = [10**(-1-i) for i in range(12)]\n",
    "y_range = np.abs([formula(x, h) - f_2prime_x for h in x_range])\n",
    "\n",
    "plt.plot(x_range, y_range)\n",
    "plt.xscale('log')\n",
    "plt.yscale('log')\n",
    "\n",
    "plt.show()"
   ]
  },
  {
   "cell_type": "code",
   "execution_count": 26,
   "metadata": {},
   "outputs": [],
   "source": [
    "h = 10**(-4)\n",
    "min_error = abs(formula(x, h) - f_2prime_x)"
   ]
  },
  {
   "cell_type": "code",
   "execution_count": 27,
   "metadata": {
    "scrolled": true
   },
   "outputs": [
    {
     "name": "stdout",
     "output_type": "stream",
     "text": [
      "Computational minimum error occurs at x: 1.000000e-04\n",
      "Computational minimum error: 6.077471e-09\n"
     ]
    }
   ],
   "source": [
    "print(\"Computational minimum error occurs at x: %e\" % h)\n",
    "print(\"Computational minimum error: %e\" % min_error)"
   ]
  },
  {
   "cell_type": "code",
   "execution_count": 28,
   "metadata": {},
   "outputs": [],
   "source": [
    "# (b)\n",
    "def f(x):\n",
    "    return 1/x\n",
    "\n",
    "def formula(x, h):\n",
    "    return (f(x+h) + f(x-h) - 2*f(x))/(h**2)\n",
    "\n",
    "x = 1\n",
    "f_2prime_x = 2"
   ]
  },
  {
   "cell_type": "code",
   "execution_count": 29,
   "metadata": {},
   "outputs": [
    {
     "data": {
      "text/html": [
       "<div>\n",
       "<style scoped>\n",
       "    .dataframe tbody tr th:only-of-type {\n",
       "        vertical-align: middle;\n",
       "    }\n",
       "\n",
       "    .dataframe tbody tr th {\n",
       "        vertical-align: top;\n",
       "    }\n",
       "\n",
       "    .dataframe thead th {\n",
       "        text-align: right;\n",
       "    }\n",
       "</style>\n",
       "<table border=\"1\" class=\"dataframe\">\n",
       "  <thead>\n",
       "    <tr style=\"text-align: right;\">\n",
       "      <th></th>\n",
       "      <th>Formula</th>\n",
       "      <th>Error</th>\n",
       "    </tr>\n",
       "  </thead>\n",
       "  <tbody>\n",
       "    <tr>\n",
       "      <th>10**(-1)</th>\n",
       "      <td>2.020202</td>\n",
       "      <td>2.020202e-02</td>\n",
       "    </tr>\n",
       "    <tr>\n",
       "      <th>10**(-2)</th>\n",
       "      <td>2.000200</td>\n",
       "      <td>2.000200e-04</td>\n",
       "    </tr>\n",
       "    <tr>\n",
       "      <th>10**(-3)</th>\n",
       "      <td>2.000002</td>\n",
       "      <td>2.000457e-06</td>\n",
       "    </tr>\n",
       "    <tr>\n",
       "      <th>10**(-4)</th>\n",
       "      <td>2.000000</td>\n",
       "      <td>-1.215494e-08</td>\n",
       "    </tr>\n",
       "    <tr>\n",
       "      <th>10**(-5)</th>\n",
       "      <td>2.000000</td>\n",
       "      <td>1.654807e-07</td>\n",
       "    </tr>\n",
       "    <tr>\n",
       "      <th>10**(-6)</th>\n",
       "      <td>2.000178</td>\n",
       "      <td>1.778012e-04</td>\n",
       "    </tr>\n",
       "    <tr>\n",
       "      <th>10**(-7)</th>\n",
       "      <td>1.998401</td>\n",
       "      <td>-1.598556e-03</td>\n",
       "    </tr>\n",
       "    <tr>\n",
       "      <th>10**(-8)</th>\n",
       "      <td>4.440892</td>\n",
       "      <td>2.440892e+00</td>\n",
       "    </tr>\n",
       "    <tr>\n",
       "      <th>10**(-9)</th>\n",
       "      <td>0.000000</td>\n",
       "      <td>-2.000000e+00</td>\n",
       "    </tr>\n",
       "    <tr>\n",
       "      <th>10**(-10)</th>\n",
       "      <td>0.000000</td>\n",
       "      <td>-2.000000e+00</td>\n",
       "    </tr>\n",
       "    <tr>\n",
       "      <th>10**(-11)</th>\n",
       "      <td>0.000000</td>\n",
       "      <td>-2.000000e+00</td>\n",
       "    </tr>\n",
       "    <tr>\n",
       "      <th>10**(-12)</th>\n",
       "      <td>0.000000</td>\n",
       "      <td>-2.000000e+00</td>\n",
       "    </tr>\n",
       "  </tbody>\n",
       "</table>\n",
       "</div>"
      ],
      "text/plain": [
       "            Formula         Error\n",
       "10**(-1)   2.020202  2.020202e-02\n",
       "10**(-2)   2.000200  2.000200e-04\n",
       "10**(-3)   2.000002  2.000457e-06\n",
       "10**(-4)   2.000000 -1.215494e-08\n",
       "10**(-5)   2.000000  1.654807e-07\n",
       "10**(-6)   2.000178  1.778012e-04\n",
       "10**(-7)   1.998401 -1.598556e-03\n",
       "10**(-8)   4.440892  2.440892e+00\n",
       "10**(-9)   0.000000 -2.000000e+00\n",
       "10**(-10)  0.000000 -2.000000e+00\n",
       "10**(-11)  0.000000 -2.000000e+00\n",
       "10**(-12)  0.000000 -2.000000e+00"
      ]
     },
     "execution_count": 29,
     "metadata": {},
     "output_type": "execute_result"
    }
   ],
   "source": [
    "table = np.zeros((12, 2))\n",
    "for i in range(12):\n",
    "    h = 10**(-(i+1))\n",
    "    \n",
    "    table[i, 0] = formula(x, h)\n",
    "    table[i, 1] = table[i, 0] - f_2prime_x\n",
    "    \n",
    "pd.DataFrame(table, columns=[\"Formula\", \"Error\"], index=[\"10**(-%d)\" % d for d in range(1, 13)])"
   ]
  },
  {
   "cell_type": "code",
   "execution_count": 30,
   "metadata": {},
   "outputs": [
    {
     "data": {
      "image/png": "[encoded data removed]",
      "text/plain": [
       "<matplotlib.figure.Figure at 0x2506a86df98>"
      ]
     },
     "metadata": {},
     "output_type": "display_data"
    }
   ],
   "source": [
    "x_range = [10**(-1-i) for i in range(12)]\n",
    "y_range = np.abs([formula(x, h) - f_2prime_x for h in x_range])\n",
    "\n",
    "plt.plot(x_range, y_range)\n",
    "plt.xscale('log')\n",
    "plt.yscale('log')\n",
    "\n",
    "plt.show()"
   ]
  },
  {
   "cell_type": "code",
   "execution_count": 31,
   "metadata": {},
   "outputs": [],
   "source": [
    "h = 10**(-4)\n",
    "min_error = abs(formula(x, h) - f_2prime_x)"
   ]
  },
  {
   "cell_type": "code",
   "execution_count": 32,
   "metadata": {
    "scrolled": true
   },
   "outputs": [
    {
     "name": "stdout",
     "output_type": "stream",
     "text": [
      "Computational minimum error occurs at x: 1.000000e-04\n",
      "Computational minimum error: 1.215494e-08\n"
     ]
    }
   ],
   "source": [
    "print(\"Computational minimum error occurs at x: %e\" % h)\n",
    "print(\"Computational minimum error: %e\" % min_error)"
   ]
  }
 ],
 "metadata": {
  "kernelspec": {
   "display_name": "Python 3",
   "language": "python",
   "name": "python3"
  },
  "language_info": {
   "codemirror_mode": {
    "name": "ipython",
    "version": 3
   },
   "file_extension": ".py",
   "mimetype": "text/x-python",
   "name": "python",
   "nbconvert_exporter": "python",
   "pygments_lexer": "ipython3",
   "version": "3.6.4"
  }
 },
 "nbformat": 4,
 "nbformat_minor": 2
}

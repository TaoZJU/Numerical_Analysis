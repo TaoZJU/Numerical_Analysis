{
 "cells": [
  {
   "cell_type": "code",
   "execution_count": 1,
   "metadata": {},
   "outputs": [],
   "source": [
    "import numpy as np\n",
    "import matplotlib.pyplot as plt\n",
    "\n",
    "%matplotlib inline"
   ]
  },
  {
   "cell_type": "code",
   "execution_count": 2,
   "metadata": {},
   "outputs": [],
   "source": [
    "pi = np.pi\n",
    "exp = np.exp\n",
    "log = np.log\n",
    "sqrt = np.sqrt\n",
    "sin = np.sin\n",
    "cos = np.cos"
   ]
  },
  {
   "cell_type": "markdown",
   "metadata": {},
   "source": [
    "# Chapter 5<br>Numerical Differentiation and Integration"
   ]
  },
  {
   "cell_type": "markdown",
   "metadata": {},
   "source": [
    "## 5.2 Newton-Cotes Formulas for Numerical Integration"
   ]
  },
  {
   "cell_type": "code",
   "execution_count": 3,
   "metadata": {},
   "outputs": [],
   "source": [
    "def trapezoid_rule(f, a, b, m=1):\n",
    "    x_range = np.linspace(a, b, m+1)\n",
    "    y_range = f(x_range)\n",
    "    h = (b - a)/m\n",
    "    \n",
    "    return (y_range[0] + y_range[-1] + 2*y_range[1:-1].sum())*h/2   "
   ]
  },
  {
   "cell_type": "code",
   "execution_count": 4,
   "metadata": {},
   "outputs": [],
   "source": [
    "def simpson_rule(f, a, b, m=1):\n",
    "    x_range = np.linspace(a, b, 2*m + 1)\n",
    "    y_range = f(x_range)\n",
    "    h = (b - a)/(2*m)\n",
    "    \n",
    "    return (y_range[0] + y_range[-1] + 4*y_range[1::2].sum() + 2*y_range[2:-1:2].sum())*h/3"
   ]
  },
  {
   "cell_type": "code",
   "execution_count": 5,
   "metadata": {},
   "outputs": [],
   "source": [
    "def midpoint_rule(f, a, b, m=1):\n",
    "    x_range = np.linspace(a, b, 2*m + 1)\n",
    "    y_range = f(x_range[1::2])\n",
    "    h = (b - a)/m\n",
    "    \n",
    "    return y_range.sum()*h"
   ]
  },
  {
   "cell_type": "markdown",
   "metadata": {},
   "source": [
    "### Q. 1"
   ]
  },
  {
   "cell_type": "code",
   "execution_count": 6,
   "metadata": {},
   "outputs": [],
   "source": [
    "m1 = 16\n",
    "m2 = 32"
   ]
  },
  {
   "cell_type": "code",
   "execution_count": 7,
   "metadata": {},
   "outputs": [],
   "source": [
    "# (a)\n",
    "a, b = 0, 4\n",
    "\n",
    "def f(x):\n",
    "    return x / sqrt(x**2 + 9)\n",
    "\n",
    "true_integral = 2"
   ]
  },
  {
   "cell_type": "code",
   "execution_count": 8,
   "metadata": {},
   "outputs": [
    {
     "name": "stdout",
     "output_type": "stream",
     "text": [
      "Panel: 16 / Integral: 1.998638 / Error: 0.001362\n",
      "Panel: 32 / Integral: 1.999660 / Error: 0.000340\n"
     ]
    }
   ],
   "source": [
    "m1_integral = trapezoid_rule(f, a, b, m1)\n",
    "m2_integral = trapezoid_rule(f, a, b, m2)\n",
    "\n",
    "print(\"Panel: %d / Integral: %f / Error: %f\" % (m1, m1_integral, abs(true_integral - m1_integral)))\n",
    "print(\"Panel: %d / Integral: %f / Error: %f\" % (m2, m2_integral, abs(true_integral - m2_integral)))"
   ]
  },
  {
   "cell_type": "code",
   "execution_count": 9,
   "metadata": {},
   "outputs": [],
   "source": [
    "# (b)\n",
    "a, b = 0, 1\n",
    "\n",
    "def f(x):\n",
    "    return x**3 / (x**2 + 1)\n",
    "\n",
    "true_integral = (1 - log(2))/2"
   ]
  },
  {
   "cell_type": "code",
   "execution_count": 10,
   "metadata": {},
   "outputs": [
    {
     "name": "stdout",
     "output_type": "stream",
     "text": [
      "Panel: 16 / Integral: 0.153752 / Error: 0.000326\n",
      "Panel: 32 / Integral: 0.153508 / Error: 0.000081\n"
     ]
    }
   ],
   "source": [
    "m1_integral = trapezoid_rule(f, a, b, m1)\n",
    "m2_integral = trapezoid_rule(f, a, b, m2)\n",
    "\n",
    "print(\"Panel: %d / Integral: %f / Error: %f\" % (m1, m1_integral, abs(true_integral - m1_integral)))\n",
    "print(\"Panel: %d / Integral: %f / Error: %f\" % (m2, m2_integral, abs(true_integral - m2_integral)))"
   ]
  },
  {
   "cell_type": "code",
   "execution_count": 11,
   "metadata": {},
   "outputs": [],
   "source": [
    "# (c)\n",
    "a, b = 0, 1\n",
    "\n",
    "def f(x):\n",
    "    return x*exp(x)\n",
    "\n",
    "true_integral = 1"
   ]
  },
  {
   "cell_type": "code",
   "execution_count": 12,
   "metadata": {},
   "outputs": [
    {
     "name": "stdout",
     "output_type": "stream",
     "text": [
      "Panel: 16 / Integral: 1.001444 / Error: 0.001444\n",
      "Panel: 32 / Integral: 1.000361 / Error: 0.000361\n"
     ]
    }
   ],
   "source": [
    "m1_integral = trapezoid_rule(f, a, b, m1)\n",
    "m2_integral = trapezoid_rule(f, a, b, m2)\n",
    "\n",
    "print(\"Panel: %d / Integral: %f / Error: %f\" % (m1, m1_integral, abs(true_integral - m1_integral)))\n",
    "print(\"Panel: %d / Integral: %f / Error: %f\" % (m2, m2_integral, abs(true_integral - m2_integral)))"
   ]
  },
  {
   "cell_type": "code",
   "execution_count": 13,
   "metadata": {},
   "outputs": [],
   "source": [
    "# (d)\n",
    "a, b = 1, 3\n",
    "\n",
    "def f(x):\n",
    "    return (x**2)*log(x)\n",
    "\n",
    "true_integral = 9*log(3) - 26/9"
   ]
  },
  {
   "cell_type": "code",
   "execution_count": 14,
   "metadata": {},
   "outputs": [
    {
     "name": "stdout",
     "output_type": "stream",
     "text": [
      "Panel: 16 / Integral: 7.009809 / Error: 0.011188\n",
      "Panel: 32 / Integral: 7.001419 / Error: 0.002797\n"
     ]
    }
   ],
   "source": [
    "m1_integral = trapezoid_rule(f, a, b, m1)\n",
    "m2_integral = trapezoid_rule(f, a, b, m2)\n",
    "\n",
    "print(\"Panel: %d / Integral: %f / Error: %f\" % (m1, m1_integral, abs(true_integral - m1_integral)))\n",
    "print(\"Panel: %d / Integral: %f / Error: %f\" % (m2, m2_integral, abs(true_integral - m2_integral)))"
   ]
  },
  {
   "cell_type": "code",
   "execution_count": 15,
   "metadata": {},
   "outputs": [],
   "source": [
    "# (e)\n",
    "a, b = 0, 1\n",
    "\n",
    "def f(x):\n",
    "    return x*exp(x)\n",
    "\n",
    "true_integral = 1"
   ]
  },
  {
   "cell_type": "code",
   "execution_count": 16,
   "metadata": {
    "scrolled": true
   },
   "outputs": [
    {
     "name": "stdout",
     "output_type": "stream",
     "text": [
      "Panel: 16 / Integral: 1.001444 / Error: 0.001444\n",
      "Panel: 32 / Integral: 1.000361 / Error: 0.000361\n"
     ]
    }
   ],
   "source": [
    "m1_integral = trapezoid_rule(f, a, b, m1)\n",
    "m2_integral = trapezoid_rule(f, a, b, m2)\n",
    "\n",
    "print(\"Panel: %d / Integral: %f / Error: %f\" % (m1, m1_integral, abs(true_integral - m1_integral)))\n",
    "print(\"Panel: %d / Integral: %f / Error: %f\" % (m2, m2_integral, abs(true_integral - m2_integral)))"
   ]
  },
  {
   "cell_type": "code",
   "execution_count": 17,
   "metadata": {},
   "outputs": [],
   "source": [
    "# (f)\n",
    "a, b = 2, 3\n",
    "\n",
    "def f(x):\n",
    "    return x**3 / sqrt(x**4 - 1)\n",
    "\n",
    "true_integral = (sqrt(80) - sqrt(15))/2"
   ]
  },
  {
   "cell_type": "code",
   "execution_count": 18,
   "metadata": {},
   "outputs": [
    {
     "name": "stdout",
     "output_type": "stream",
     "text": [
      "Panel: 16 / Integral: 2.535672 / Error: 0.000028\n",
      "Panel: 32 / Integral: 2.535651 / Error: 0.000007\n"
     ]
    }
   ],
   "source": [
    "m1_integral = trapezoid_rule(f, a, b, m1)\n",
    "m2_integral = trapezoid_rule(f, a, b, m2)\n",
    "\n",
    "print(\"Panel: %d / Integral: %f / Error: %f\" % (m1, m1_integral, abs(true_integral - m1_integral)))\n",
    "print(\"Panel: %d / Integral: %f / Error: %f\" % (m2, m2_integral, abs(true_integral - m2_integral)))"
   ]
  },
  {
   "cell_type": "code",
   "execution_count": 19,
   "metadata": {},
   "outputs": [],
   "source": [
    "# (g)\n",
    "a, b = 0, 2*sqrt(3)\n",
    "\n",
    "def f(x):\n",
    "    return 1 / sqrt(x**2 + 4)\n",
    "\n",
    "true_integral = log(2 + sqrt(3))"
   ]
  },
  {
   "cell_type": "code",
   "execution_count": 20,
   "metadata": {},
   "outputs": [
    {
     "name": "stdout",
     "output_type": "stream",
     "text": [
      "Panel: 16 / Integral: 1.316746 / Error: 0.000211\n",
      "Panel: 32 / Integral: 1.316905 / Error: 0.000053\n"
     ]
    }
   ],
   "source": [
    "m1_integral = trapezoid_rule(f, a, b, m1)\n",
    "m2_integral = trapezoid_rule(f, a, b, m2)\n",
    "\n",
    "print(\"Panel: %d / Integral: %f / Error: %f\" % (m1, m1_integral, abs(true_integral - m1_integral)))\n",
    "print(\"Panel: %d / Integral: %f / Error: %f\" % (m2, m2_integral, abs(true_integral - m2_integral)))"
   ]
  },
  {
   "cell_type": "code",
   "execution_count": 21,
   "metadata": {},
   "outputs": [],
   "source": [
    "# (h)\n",
    "a, b = 0, 1\n",
    "\n",
    "def f(x):\n",
    "    return x / sqrt(x**4 + 1)\n",
    "\n",
    "true_integral = log(1 + sqrt(2)) / 2"
   ]
  },
  {
   "cell_type": "code",
   "execution_count": 22,
   "metadata": {},
   "outputs": [
    {
     "name": "stdout",
     "output_type": "stream",
     "text": [
      "Panel: 16 / Integral: 0.440361 / Error: 0.000326\n",
      "Panel: 32 / Integral: 0.440605 / Error: 0.000081\n"
     ]
    }
   ],
   "source": [
    "m1_integral = trapezoid_rule(f, a, b, m1)\n",
    "m2_integral = trapezoid_rule(f, a, b, m2)\n",
    "\n",
    "print(\"Panel: %d / Integral: %f / Error: %f\" % (m1, m1_integral, abs(true_integral - m1_integral)))\n",
    "print(\"Panel: %d / Integral: %f / Error: %f\" % (m2, m2_integral, abs(true_integral - m2_integral)))"
   ]
  },
  {
   "cell_type": "markdown",
   "metadata": {},
   "source": [
    "### Q. 2"
   ]
  },
  {
   "cell_type": "code",
   "execution_count": 23,
   "metadata": {},
   "outputs": [],
   "source": [
    "m1 = 16\n",
    "m2 = 32"
   ]
  },
  {
   "cell_type": "code",
   "execution_count": 24,
   "metadata": {},
   "outputs": [],
   "source": [
    "# (a)\n",
    "a, b = 0, 4\n",
    "\n",
    "def f(x):\n",
    "    return x / sqrt(x**2 + 9)\n",
    "\n",
    "true_integral = 2"
   ]
  },
  {
   "cell_type": "code",
   "execution_count": 25,
   "metadata": {},
   "outputs": [
    {
     "name": "stdout",
     "output_type": "stream",
     "text": [
      "Panel: 16 / Integral: 2.000000 / Error: 0.000000\n",
      "Panel: 32 / Integral: 2.000000 / Error: 0.000000\n"
     ]
    }
   ],
   "source": [
    "m1_integral = simpson_rule(f, a, b, m1)\n",
    "m2_integral = simpson_rule(f, a, b, m2)\n",
    "\n",
    "print(\"Panel: %d / Integral: %f / Error: %f\" % (m1, m1_integral, abs(true_integral - m1_integral)))\n",
    "print(\"Panel: %d / Integral: %f / Error: %f\" % (m2, m2_integral, abs(true_integral - m2_integral)))"
   ]
  },
  {
   "cell_type": "code",
   "execution_count": 26,
   "metadata": {},
   "outputs": [],
   "source": [
    "# (b)\n",
    "a, b = 0, 1\n",
    "\n",
    "def f(x):\n",
    "    return x**3 / (x**2 + 1)\n",
    "\n",
    "true_integral = (1 - log(2))/2"
   ]
  },
  {
   "cell_type": "code",
   "execution_count": 27,
   "metadata": {},
   "outputs": [
    {
     "name": "stdout",
     "output_type": "stream",
     "text": [
      "Panel: 16 / Integral: 0.153426 / Error: 0.000000\n",
      "Panel: 32 / Integral: 0.153426 / Error: 0.000000\n"
     ]
    }
   ],
   "source": [
    "m1_integral = simpson_rule(f, a, b, m1)\n",
    "m2_integral = simpson_rule(f, a, b, m2)\n",
    "\n",
    "print(\"Panel: %d / Integral: %f / Error: %f\" % (m1, m1_integral, abs(true_integral - m1_integral)))\n",
    "print(\"Panel: %d / Integral: %f / Error: %f\" % (m2, m2_integral, abs(true_integral - m2_integral)))"
   ]
  },
  {
   "cell_type": "code",
   "execution_count": 28,
   "metadata": {},
   "outputs": [],
   "source": [
    "# (c)\n",
    "a, b = 0, 1\n",
    "\n",
    "def f(x):\n",
    "    return x*exp(x)\n",
    "\n",
    "true_integral = 1"
   ]
  },
  {
   "cell_type": "code",
   "execution_count": 29,
   "metadata": {},
   "outputs": [
    {
     "name": "stdout",
     "output_type": "stream",
     "text": [
      "Panel: 16 / Integral: 1.000000 / Error: 0.000000\n",
      "Panel: 32 / Integral: 1.000000 / Error: 0.000000\n"
     ]
    }
   ],
   "source": [
    "m1_integral = simpson_rule(f, a, b, m1)\n",
    "m2_integral = simpson_rule(f, a, b, m2)\n",
    "\n",
    "print(\"Panel: %d / Integral: %f / Error: %f\" % (m1, m1_integral, abs(true_integral - m1_integral)))\n",
    "print(\"Panel: %d / Integral: %f / Error: %f\" % (m2, m2_integral, abs(true_integral - m2_integral)))"
   ]
  },
  {
   "cell_type": "code",
   "execution_count": 30,
   "metadata": {},
   "outputs": [],
   "source": [
    "# (d)\n",
    "a, b = 1, 3\n",
    "\n",
    "def f(x):\n",
    "    return (x**2)*log(x)\n",
    "\n",
    "true_integral = 9*log(3) - 26/9"
   ]
  },
  {
   "cell_type": "code",
   "execution_count": 31,
   "metadata": {},
   "outputs": [
    {
     "name": "stdout",
     "output_type": "stream",
     "text": [
      "Panel: 16 / Integral: 6.998622 / Error: 0.000000\n",
      "Panel: 32 / Integral: 6.998622 / Error: 0.000000\n"
     ]
    }
   ],
   "source": [
    "m1_integral = simpson_rule(f, a, b, m1)\n",
    "m2_integral = simpson_rule(f, a, b, m2)\n",
    "\n",
    "print(\"Panel: %d / Integral: %f / Error: %f\" % (m1, m1_integral, abs(true_integral - m1_integral)))\n",
    "print(\"Panel: %d / Integral: %f / Error: %f\" % (m2, m2_integral, abs(true_integral - m2_integral)))"
   ]
  },
  {
   "cell_type": "code",
   "execution_count": 32,
   "metadata": {},
   "outputs": [],
   "source": [
    "# (e)\n",
    "a, b = 0, 1\n",
    "\n",
    "def f(x):\n",
    "    return x*exp(x)\n",
    "\n",
    "true_integral = 1"
   ]
  },
  {
   "cell_type": "code",
   "execution_count": 33,
   "metadata": {
    "scrolled": true
   },
   "outputs": [
    {
     "name": "stdout",
     "output_type": "stream",
     "text": [
      "Panel: 16 / Integral: 1.000000 / Error: 0.000000\n",
      "Panel: 32 / Integral: 1.000000 / Error: 0.000000\n"
     ]
    }
   ],
   "source": [
    "m1_integral = simpson_rule(f, a, b, m1)\n",
    "m2_integral = simpson_rule(f, a, b, m2)\n",
    "\n",
    "print(\"Panel: %d / Integral: %f / Error: %f\" % (m1, m1_integral, abs(true_integral - m1_integral)))\n",
    "print(\"Panel: %d / Integral: %f / Error: %f\" % (m2, m2_integral, abs(true_integral - m2_integral)))"
   ]
  },
  {
   "cell_type": "code",
   "execution_count": 34,
   "metadata": {},
   "outputs": [],
   "source": [
    "# (f)\n",
    "a, b = 2, 3\n",
    "\n",
    "def f(x):\n",
    "    return x**3 / sqrt(x**4 - 1)\n",
    "\n",
    "true_integral = (sqrt(80) - sqrt(15))/2"
   ]
  },
  {
   "cell_type": "code",
   "execution_count": 35,
   "metadata": {},
   "outputs": [
    {
     "name": "stdout",
     "output_type": "stream",
     "text": [
      "Panel: 16 / Integral: 2.535644 / Error: 0.000000\n",
      "Panel: 32 / Integral: 2.535644 / Error: 0.000000\n"
     ]
    }
   ],
   "source": [
    "m1_integral = simpson_rule(f, a, b, m1)\n",
    "m2_integral = simpson_rule(f, a, b, m2)\n",
    "\n",
    "print(\"Panel: %d / Integral: %f / Error: %f\" % (m1, m1_integral, abs(true_integral - m1_integral)))\n",
    "print(\"Panel: %d / Integral: %f / Error: %f\" % (m2, m2_integral, abs(true_integral - m2_integral)))"
   ]
  },
  {
   "cell_type": "code",
   "execution_count": 36,
   "metadata": {},
   "outputs": [],
   "source": [
    "# (g)\n",
    "a, b = 0, 2*sqrt(3)\n",
    "\n",
    "def f(x):\n",
    "    return 1 / sqrt(x**2 + 4)\n",
    "\n",
    "true_integral = log(2 + sqrt(3))"
   ]
  },
  {
   "cell_type": "code",
   "execution_count": 37,
   "metadata": {},
   "outputs": [
    {
     "name": "stdout",
     "output_type": "stream",
     "text": [
      "Panel: 16 / Integral: 1.316958 / Error: 0.000000\n",
      "Panel: 32 / Integral: 1.316958 / Error: 0.000000\n"
     ]
    }
   ],
   "source": [
    "m1_integral = simpson_rule(f, a, b, m1)\n",
    "m2_integral = simpson_rule(f, a, b, m2)\n",
    "\n",
    "print(\"Panel: %d / Integral: %f / Error: %f\" % (m1, m1_integral, abs(true_integral - m1_integral)))\n",
    "print(\"Panel: %d / Integral: %f / Error: %f\" % (m2, m2_integral, abs(true_integral - m2_integral)))"
   ]
  },
  {
   "cell_type": "code",
   "execution_count": 38,
   "metadata": {},
   "outputs": [],
   "source": [
    "# (h)\n",
    "a, b = 0, 1\n",
    "\n",
    "def f(x):\n",
    "    return x / sqrt(x**4 + 1)\n",
    "\n",
    "true_integral = log(1 + sqrt(2)) / 2"
   ]
  },
  {
   "cell_type": "code",
   "execution_count": 39,
   "metadata": {},
   "outputs": [
    {
     "name": "stdout",
     "output_type": "stream",
     "text": [
      "Panel: 16 / Integral: 0.440687 / Error: 0.000000\n",
      "Panel: 32 / Integral: 0.440687 / Error: 0.000000\n"
     ]
    }
   ],
   "source": [
    "m1_integral = simpson_rule(f, a, b, m1)\n",
    "m2_integral = simpson_rule(f, a, b, m2)\n",
    "\n",
    "print(\"Panel: %d / Integral: %f / Error: %f\" % (m1, m1_integral, abs(true_integral - m1_integral)))\n",
    "print(\"Panel: %d / Integral: %f / Error: %f\" % (m2, m2_integral, abs(true_integral - m2_integral)))"
   ]
  },
  {
   "cell_type": "markdown",
   "metadata": {},
   "source": [
    "### Q. 3"
   ]
  },
  {
   "cell_type": "code",
   "execution_count": 40,
   "metadata": {},
   "outputs": [],
   "source": [
    "m1 = 16\n",
    "m2 = 32"
   ]
  },
  {
   "cell_type": "code",
   "execution_count": 41,
   "metadata": {},
   "outputs": [],
   "source": [
    "# (a)\n",
    "a, b = 0, 1\n",
    "\n",
    "def f(x):\n",
    "    return exp(x**2)"
   ]
  },
  {
   "cell_type": "code",
   "execution_count": 42,
   "metadata": {},
   "outputs": [
    {
     "name": "stdout",
     "output_type": "stream",
     "text": [
      "Panel: 16 / Integral: 1.464420\n",
      "Panel: 32 / Integral: 1.463094\n"
     ]
    }
   ],
   "source": [
    "m1_integral = trapezoid_rule(f, a, b, m1)\n",
    "m2_integral = trapezoid_rule(f, a, b, m2)\n",
    "\n",
    "print(\"Panel: %d / Integral: %f\" % (m1, m1_integral))\n",
    "print(\"Panel: %d / Integral: %f\" % (m2, m2_integral))"
   ]
  },
  {
   "cell_type": "code",
   "execution_count": 43,
   "metadata": {},
   "outputs": [],
   "source": [
    "# (b)\n",
    "a, b = 0, sqrt(pi)\n",
    "\n",
    "def f(x):\n",
    "    return sin(x**2)"
   ]
  },
  {
   "cell_type": "code",
   "execution_count": 44,
   "metadata": {},
   "outputs": [
    {
     "name": "stdout",
     "output_type": "stream",
     "text": [
      "Panel: 16 / Integral: 0.891197\n",
      "Panel: 32 / Integral: 0.893925\n"
     ]
    }
   ],
   "source": [
    "m1_integral = trapezoid_rule(f, a, b, m1)\n",
    "m2_integral = trapezoid_rule(f, a, b, m2)\n",
    "\n",
    "print(\"Panel: %d / Integral: %f\" % (m1, m1_integral))\n",
    "print(\"Panel: %d / Integral: %f\" % (m2, m2_integral))"
   ]
  },
  {
   "cell_type": "code",
   "execution_count": 45,
   "metadata": {},
   "outputs": [],
   "source": [
    "# (c)\n",
    "a, b = 0, pi\n",
    "\n",
    "def f(x):\n",
    "    return exp(cos(x))"
   ]
  },
  {
   "cell_type": "code",
   "execution_count": 46,
   "metadata": {},
   "outputs": [
    {
     "name": "stdout",
     "output_type": "stream",
     "text": [
      "Panel: 16 / Integral: 3.977463\n",
      "Panel: 32 / Integral: 3.977463\n"
     ]
    }
   ],
   "source": [
    "m1_integral = trapezoid_rule(f, a, b, m1)\n",
    "m2_integral = trapezoid_rule(f, a, b, m2)\n",
    "\n",
    "print(\"Panel: %d / Integral: %f\" % (m1, m1_integral))\n",
    "print(\"Panel: %d / Integral: %f\" % (m2, m2_integral))"
   ]
  },
  {
   "cell_type": "code",
   "execution_count": 47,
   "metadata": {},
   "outputs": [],
   "source": [
    "# (d)\n",
    "a, b = 0, 1\n",
    "\n",
    "def f(x):\n",
    "    return log(x**2 + 1)"
   ]
  },
  {
   "cell_type": "code",
   "execution_count": 48,
   "metadata": {},
   "outputs": [
    {
     "name": "stdout",
     "output_type": "stream",
     "text": [
      "Panel: 16 / Integral: 0.264269\n",
      "Panel: 32 / Integral: 0.264025\n"
     ]
    }
   ],
   "source": [
    "m1_integral = trapezoid_rule(f, a, b, m1)\n",
    "m2_integral = trapezoid_rule(f, a, b, m2)\n",
    "\n",
    "print(\"Panel: %d / Integral: %f\" % (m1, m1_integral))\n",
    "print(\"Panel: %d / Integral: %f\" % (m2, m2_integral))"
   ]
  },
  {
   "cell_type": "code",
   "execution_count": 49,
   "metadata": {},
   "outputs": [],
   "source": [
    "# (e)\n",
    "a, b = 0, 1\n",
    "\n",
    "def f(x):\n",
    "    return x / (2*exp(x) - exp(-x))"
   ]
  },
  {
   "cell_type": "code",
   "execution_count": 50,
   "metadata": {},
   "outputs": [
    {
     "name": "stdout",
     "output_type": "stream",
     "text": [
      "Panel: 16 / Integral: 0.160686\n",
      "Panel: 32 / Integral: 0.160936\n"
     ]
    }
   ],
   "source": [
    "m1_integral = trapezoid_rule(f, a, b, m1)\n",
    "m2_integral = trapezoid_rule(f, a, b, m2)\n",
    "\n",
    "print(\"Panel: %d / Integral: %f\" % (m1, m1_integral))\n",
    "print(\"Panel: %d / Integral: %f\" % (m2, m2_integral))"
   ]
  },
  {
   "cell_type": "code",
   "execution_count": 51,
   "metadata": {},
   "outputs": [],
   "source": [
    "# (f)\n",
    "a, b = 0, pi\n",
    "\n",
    "def f(x):\n",
    "    return cos(exp(x))"
   ]
  },
  {
   "cell_type": "code",
   "execution_count": 52,
   "metadata": {},
   "outputs": [
    {
     "name": "stdout",
     "output_type": "stream",
     "text": [
      "Panel: 16 / Integral: -0.278013\n",
      "Panel: 32 / Integral: -0.356790\n"
     ]
    }
   ],
   "source": [
    "m1_integral = trapezoid_rule(f, a, b, m1)\n",
    "m2_integral = trapezoid_rule(f, a, b, m2)\n",
    "\n",
    "print(\"Panel: %d / Integral: %f\" % (m1, m1_integral))\n",
    "print(\"Panel: %d / Integral: %f\" % (m2, m2_integral))"
   ]
  },
  {
   "cell_type": "code",
   "execution_count": 53,
   "metadata": {},
   "outputs": [],
   "source": [
    "# (g)\n",
    "a, b = 0, 1\n",
    "\n",
    "def f(x):\n",
    "    return x**x"
   ]
  },
  {
   "cell_type": "code",
   "execution_count": 54,
   "metadata": {},
   "outputs": [
    {
     "name": "stdout",
     "output_type": "stream",
     "text": [
      "Panel: 16 / Integral: 0.785276\n",
      "Panel: 32 / Integral: 0.783951\n"
     ]
    }
   ],
   "source": [
    "m1_integral = trapezoid_rule(f, a, b, m1)\n",
    "m2_integral = trapezoid_rule(f, a, b, m2)\n",
    "\n",
    "print(\"Panel: %d / Integral: %f\" % (m1, m1_integral))\n",
    "print(\"Panel: %d / Integral: %f\" % (m2, m2_integral))"
   ]
  },
  {
   "cell_type": "code",
   "execution_count": 55,
   "metadata": {},
   "outputs": [],
   "source": [
    "# (h)\n",
    "a, b = 0, pi/2\n",
    "\n",
    "def f(x):\n",
    "    return log(cos(x) + sin(x))"
   ]
  },
  {
   "cell_type": "code",
   "execution_count": 56,
   "metadata": {},
   "outputs": [
    {
     "name": "stdout",
     "output_type": "stream",
     "text": [
      "Panel: 16 / Integral: 0.369964\n",
      "Panel: 32 / Integral: 0.371168\n"
     ]
    }
   ],
   "source": [
    "m1_integral = trapezoid_rule(f, a, b, m1)\n",
    "m2_integral = trapezoid_rule(f, a, b, m2)\n",
    "\n",
    "print(\"Panel: %d / Integral: %f\" % (m1, m1_integral))\n",
    "print(\"Panel: %d / Integral: %f\" % (m2, m2_integral))"
   ]
  },
  {
   "cell_type": "markdown",
   "metadata": {},
   "source": [
    "### Q. 4"
   ]
  },
  {
   "cell_type": "code",
   "execution_count": 57,
   "metadata": {},
   "outputs": [],
   "source": [
    "m1 = 16\n",
    "m2 = 32"
   ]
  },
  {
   "cell_type": "code",
   "execution_count": 58,
   "metadata": {},
   "outputs": [],
   "source": [
    "# (a)\n",
    "a, b = 0, 1\n",
    "\n",
    "def f(x):\n",
    "    return exp(x**2)"
   ]
  },
  {
   "cell_type": "code",
   "execution_count": 59,
   "metadata": {},
   "outputs": [
    {
     "name": "stdout",
     "output_type": "stream",
     "text": [
      "Panel: 16 / Integral: 1.462652\n",
      "Panel: 32 / Integral: 1.462652\n"
     ]
    }
   ],
   "source": [
    "m1_integral = simpson_rule(f, a, b, m1)\n",
    "m2_integral = simpson_rule(f, a, b, m2)\n",
    "\n",
    "print(\"Panel: %d / Integral: %f\" % (m1, m1_integral))\n",
    "print(\"Panel: %d / Integral: %f\" % (m2, m2_integral))"
   ]
  },
  {
   "cell_type": "code",
   "execution_count": 60,
   "metadata": {},
   "outputs": [],
   "source": [
    "# (b)\n",
    "a, b = 0, sqrt(pi)\n",
    "\n",
    "def f(x):\n",
    "    return sin(x**2)"
   ]
  },
  {
   "cell_type": "code",
   "execution_count": 61,
   "metadata": {},
   "outputs": [
    {
     "name": "stdout",
     "output_type": "stream",
     "text": [
      "Panel: 16 / Integral: 0.894834\n",
      "Panel: 32 / Integral: 0.894832\n"
     ]
    }
   ],
   "source": [
    "m1_integral = simpson_rule(f, a, b, m1)\n",
    "m2_integral = simpson_rule(f, a, b, m2)\n",
    "\n",
    "print(\"Panel: %d / Integral: %f\" % (m1, m1_integral))\n",
    "print(\"Panel: %d / Integral: %f\" % (m2, m2_integral))"
   ]
  },
  {
   "cell_type": "code",
   "execution_count": 62,
   "metadata": {},
   "outputs": [],
   "source": [
    "# (c)\n",
    "a, b = 0, pi\n",
    "\n",
    "def f(x):\n",
    "    return exp(cos(x))"
   ]
  },
  {
   "cell_type": "code",
   "execution_count": 63,
   "metadata": {},
   "outputs": [
    {
     "name": "stdout",
     "output_type": "stream",
     "text": [
      "Panel: 16 / Integral: 3.977463\n",
      "Panel: 32 / Integral: 3.977463\n"
     ]
    }
   ],
   "source": [
    "m1_integral = simpson_rule(f, a, b, m1)\n",
    "m2_integral = simpson_rule(f, a, b, m2)\n",
    "\n",
    "print(\"Panel: %d / Integral: %f\" % (m1, m1_integral))\n",
    "print(\"Panel: %d / Integral: %f\" % (m2, m2_integral))"
   ]
  },
  {
   "cell_type": "code",
   "execution_count": 64,
   "metadata": {},
   "outputs": [],
   "source": [
    "# (d)\n",
    "a, b = 0, 1\n",
    "\n",
    "def f(x):\n",
    "    return log(x**2 + 1)"
   ]
  },
  {
   "cell_type": "code",
   "execution_count": 65,
   "metadata": {},
   "outputs": [
    {
     "name": "stdout",
     "output_type": "stream",
     "text": [
      "Panel: 16 / Integral: 0.263944\n",
      "Panel: 32 / Integral: 0.263944\n"
     ]
    }
   ],
   "source": [
    "m1_integral = simpson_rule(f, a, b, m1)\n",
    "m2_integral = simpson_rule(f, a, b, m2)\n",
    "\n",
    "print(\"Panel: %d / Integral: %f\" % (m1, m1_integral))\n",
    "print(\"Panel: %d / Integral: %f\" % (m2, m2_integral))"
   ]
  },
  {
   "cell_type": "code",
   "execution_count": 66,
   "metadata": {},
   "outputs": [],
   "source": [
    "# (e)\n",
    "a, b = 0, 1\n",
    "\n",
    "def f(x):\n",
    "    return x / (2*exp(x) - exp(-x))"
   ]
  },
  {
   "cell_type": "code",
   "execution_count": 67,
   "metadata": {},
   "outputs": [
    {
     "name": "stdout",
     "output_type": "stream",
     "text": [
      "Panel: 16 / Integral: 0.161020\n",
      "Panel: 32 / Integral: 0.161020\n"
     ]
    }
   ],
   "source": [
    "m1_integral = simpson_rule(f, a, b, m1)\n",
    "m2_integral = simpson_rule(f, a, b, m2)\n",
    "\n",
    "print(\"Panel: %d / Integral: %f\" % (m1, m1_integral))\n",
    "print(\"Panel: %d / Integral: %f\" % (m2, m2_integral))"
   ]
  },
  {
   "cell_type": "code",
   "execution_count": 68,
   "metadata": {},
   "outputs": [],
   "source": [
    "# (f)\n",
    "a, b = 0, pi\n",
    "\n",
    "def f(x):\n",
    "    return cos(exp(x))"
   ]
  },
  {
   "cell_type": "code",
   "execution_count": 69,
   "metadata": {},
   "outputs": [
    {
     "name": "stdout",
     "output_type": "stream",
     "text": [
      "Panel: 16 / Integral: -0.383048\n",
      "Panel: 32 / Integral: -0.376328\n"
     ]
    }
   ],
   "source": [
    "m1_integral = simpson_rule(f, a, b, m1)\n",
    "m2_integral = simpson_rule(f, a, b, m2)\n",
    "\n",
    "print(\"Panel: %d / Integral: %f\" % (m1, m1_integral))\n",
    "print(\"Panel: %d / Integral: %f\" % (m2, m2_integral))"
   ]
  },
  {
   "cell_type": "code",
   "execution_count": 70,
   "metadata": {},
   "outputs": [],
   "source": [
    "# (g)\n",
    "a, b = 0, 1\n",
    "\n",
    "def f(x):\n",
    "    return x**x"
   ]
  },
  {
   "cell_type": "code",
   "execution_count": 71,
   "metadata": {},
   "outputs": [
    {
     "name": "stdout",
     "output_type": "stream",
     "text": [
      "Panel: 16 / Integral: 0.783510\n",
      "Panel: 32 / Integral: 0.783450\n"
     ]
    }
   ],
   "source": [
    "m1_integral = simpson_rule(f, a, b, m1)\n",
    "m2_integral = simpson_rule(f, a, b, m2)\n",
    "\n",
    "print(\"Panel: %d / Integral: %f\" % (m1, m1_integral))\n",
    "print(\"Panel: %d / Integral: %f\" % (m2, m2_integral))"
   ]
  },
  {
   "cell_type": "code",
   "execution_count": 72,
   "metadata": {},
   "outputs": [],
   "source": [
    "# (h)\n",
    "a, b = 0, pi/2\n",
    "\n",
    "def f(x):\n",
    "    return log(cos(x) + sin(x))"
   ]
  },
  {
   "cell_type": "code",
   "execution_count": 73,
   "metadata": {},
   "outputs": [
    {
     "name": "stdout",
     "output_type": "stream",
     "text": [
      "Panel: 16 / Integral: 0.371569\n",
      "Panel: 32 / Integral: 0.371569\n"
     ]
    }
   ],
   "source": [
    "m1_integral = simpson_rule(f, a, b, m1)\n",
    "m2_integral = simpson_rule(f, a, b, m2)\n",
    "\n",
    "print(\"Panel: %d / Integral: %f\" % (m1, m1_integral))\n",
    "print(\"Panel: %d / Integral: %f\" % (m2, m2_integral))"
   ]
  },
  {
   "cell_type": "markdown",
   "metadata": {},
   "source": [
    "### Q. 5"
   ]
  },
  {
   "cell_type": "code",
   "execution_count": 74,
   "metadata": {},
   "outputs": [],
   "source": [
    "m1 = 10\n",
    "m2 = 100\n",
    "m3 = 1000"
   ]
  },
  {
   "cell_type": "code",
   "execution_count": 75,
   "metadata": {},
   "outputs": [],
   "source": [
    "# (a)\n",
    "a, b = 0, 1\n",
    "\n",
    "def f(x):\n",
    "    return 1 / sqrt(x)\n",
    "\n",
    "true_integral = 2"
   ]
  },
  {
   "cell_type": "code",
   "execution_count": 76,
   "metadata": {},
   "outputs": [
    {
     "name": "stdout",
     "output_type": "stream",
     "text": [
      "Panel: 10 / Integral: 1.808922 / Error: 0.191078\n",
      "Panel: 100 / Integral: 1.939512 / Error: 0.060488\n",
      "Panel: 1000 / Integral: 1.980871 / Error: 0.019129\n"
     ]
    }
   ],
   "source": [
    "m1_integral = midpoint_rule(f, a, b, m1)\n",
    "m2_integral = midpoint_rule(f, a, b, m2)\n",
    "m3_integral = midpoint_rule(f, a, b, m3)\n",
    "\n",
    "print(\"Panel: %d / Integral: %f / Error: %f\" % (m1, m1_integral, abs(true_integral - m1_integral)))\n",
    "print(\"Panel: %d / Integral: %f / Error: %f\" % (m2, m2_integral, abs(true_integral - m2_integral)))\n",
    "print(\"Panel: %d / Integral: %f / Error: %f\" % (m3, m3_integral, abs(true_integral - m3_integral)))"
   ]
  },
  {
   "cell_type": "code",
   "execution_count": null,
   "metadata": {},
   "outputs": [],
   "source": []
  },
  {
   "cell_type": "code",
   "execution_count": 77,
   "metadata": {},
   "outputs": [],
   "source": [
    "# (b)\n",
    "a, b = 0, 1\n",
    "\n",
    "def f(x):\n",
    "    return x**(-1/3)\n",
    "\n",
    "true_integral = 1.5"
   ]
  },
  {
   "cell_type": "code",
   "execution_count": 78,
   "metadata": {},
   "outputs": [
    {
     "name": "stdout",
     "output_type": "stream",
     "text": [
      "Panel: 10 / Integral: 1.445632 / Error: 0.054368\n",
      "Panel: 100 / Integral: 1.488258 / Error: 0.011742\n",
      "Panel: 1000 / Integral: 1.497470 / Error: 0.002530\n"
     ]
    }
   ],
   "source": [
    "m1_integral = midpoint_rule(f, a, b, m1)\n",
    "m2_integral = midpoint_rule(f, a, b, m2)\n",
    "m3_integral = midpoint_rule(f, a, b, m3)\n",
    "\n",
    "print(\"Panel: %d / Integral: %f / Error: %f\" % (m1, m1_integral, abs(true_integral - m1_integral)))\n",
    "print(\"Panel: %d / Integral: %f / Error: %f\" % (m2, m2_integral, abs(true_integral - m2_integral)))\n",
    "print(\"Panel: %d / Integral: %f / Error: %f\" % (m3, m3_integral, abs(true_integral - m3_integral)))"
   ]
  },
  {
   "cell_type": "code",
   "execution_count": 79,
   "metadata": {},
   "outputs": [],
   "source": [
    "# (c)\n",
    "a, b = 0, 2\n",
    "\n",
    "def f(x):\n",
    "    return 1 / sqrt(x)\n",
    "\n",
    "true_integral = 2*sqrt(2)"
   ]
  },
  {
   "cell_type": "code",
   "execution_count": 80,
   "metadata": {},
   "outputs": [
    {
     "name": "stdout",
     "output_type": "stream",
     "text": [
      "Panel: 10 / Integral: 2.558203 / Error: 0.270225\n",
      "Panel: 100 / Integral: 2.742884 / Error: 0.085543\n",
      "Panel: 1000 / Integral: 2.801375 / Error: 0.027052\n"
     ]
    }
   ],
   "source": [
    "m1_integral = midpoint_rule(f, a, b, m1)\n",
    "m2_integral = midpoint_rule(f, a, b, m2)\n",
    "m3_integral = midpoint_rule(f, a, b, m3)\n",
    "\n",
    "print(\"Panel: %d / Integral: %f / Error: %f\" % (m1, m1_integral, abs(true_integral - m1_integral)))\n",
    "print(\"Panel: %d / Integral: %f / Error: %f\" % (m2, m2_integral, abs(true_integral - m2_integral)))\n",
    "print(\"Panel: %d / Integral: %f / Error: %f\" % (m3, m3_integral, abs(true_integral - m3_integral)))"
   ]
  },
  {
   "cell_type": "markdown",
   "metadata": {},
   "source": [
    "### Q. 6"
   ]
  },
  {
   "cell_type": "code",
   "execution_count": 81,
   "metadata": {},
   "outputs": [],
   "source": [
    "m1 = 16\n",
    "m2 = 32"
   ]
  },
  {
   "cell_type": "code",
   "execution_count": 82,
   "metadata": {},
   "outputs": [],
   "source": [
    "# (a)\n",
    "a, b = 0, pi/2\n",
    "\n",
    "def f(x):\n",
    "    return (1 - cos(x))/(x**2)"
   ]
  },
  {
   "cell_type": "code",
   "execution_count": 83,
   "metadata": {
    "scrolled": true
   },
   "outputs": [
    {
     "name": "stdout",
     "output_type": "stream",
     "text": [
      "Panel: 16 / Integral: 0.734187\n",
      "Panel: 32 / Integral: 0.734154\n"
     ]
    }
   ],
   "source": [
    "m1_integral = midpoint_rule(f, a, b, m1)\n",
    "m2_integral = midpoint_rule(f, a, b, m2)\n",
    "\n",
    "print(\"Panel: %d / Integral: %f\" % (m1, m1_integral))\n",
    "print(\"Panel: %d / Integral: %f\" % (m2, m2_integral))"
   ]
  },
  {
   "cell_type": "code",
   "execution_count": 84,
   "metadata": {},
   "outputs": [],
   "source": [
    "# (b)\n",
    "a, b = 0, 1\n",
    "\n",
    "def f(x):\n",
    "    return (exp(x) - 1)/x"
   ]
  },
  {
   "cell_type": "code",
   "execution_count": 85,
   "metadata": {
    "scrolled": true
   },
   "outputs": [
    {
     "name": "stdout",
     "output_type": "stream",
     "text": [
      "Panel: 16 / Integral: 1.317821\n",
      "Panel: 32 / Integral: 1.317882\n"
     ]
    }
   ],
   "source": [
    "m1_integral = midpoint_rule(f, a, b, m1)\n",
    "m2_integral = midpoint_rule(f, a, b, m2)\n",
    "\n",
    "print(\"Panel: %d / Integral: %f\" % (m1, m1_integral))\n",
    "print(\"Panel: %d / Integral: %f\" % (m2, m2_integral))"
   ]
  },
  {
   "cell_type": "code",
   "execution_count": 86,
   "metadata": {},
   "outputs": [],
   "source": [
    "# (c)\n",
    "a, b = 0, pi/2\n",
    "\n",
    "def f(x):\n",
    "    return cos(x)/(pi/2 - x)"
   ]
  },
  {
   "cell_type": "code",
   "execution_count": 87,
   "metadata": {
    "scrolled": true
   },
   "outputs": [
    {
     "name": "stdout",
     "output_type": "stream",
     "text": [
      "Panel: 16 / Integral: 1.370925\n",
      "Panel: 32 / Integral: 1.370803\n"
     ]
    }
   ],
   "source": [
    "m1_integral = midpoint_rule(f, a, b, m1)\n",
    "m2_integral = midpoint_rule(f, a, b, m2)\n",
    "\n",
    "print(\"Panel: %d / Integral: %f\" % (m1, m1_integral))\n",
    "print(\"Panel: %d / Integral: %f\" % (m2, m2_integral))"
   ]
  },
  {
   "cell_type": "markdown",
   "metadata": {},
   "source": [
    "### Q. 7"
   ]
  },
  {
   "cell_type": "code",
   "execution_count": 88,
   "metadata": {},
   "outputs": [],
   "source": [
    "m1 = 16\n",
    "m2 = 32"
   ]
  },
  {
   "cell_type": "code",
   "execution_count": 89,
   "metadata": {},
   "outputs": [],
   "source": [
    "# (a)\n",
    "a, b = 0, pi/2\n",
    "\n",
    "def f(x):\n",
    "    return x/sin(x)"
   ]
  },
  {
   "cell_type": "code",
   "execution_count": 90,
   "metadata": {},
   "outputs": [
    {
     "name": "stdout",
     "output_type": "stream",
     "text": [
      "Panel: 16 / Integral: 1.831530\n",
      "Panel: 32 / Integral: 1.831831\n"
     ]
    }
   ],
   "source": [
    "m1_integral = midpoint_rule(f, a, b, m1)\n",
    "m2_integral = midpoint_rule(f, a, b, m2)\n",
    "\n",
    "print(\"Panel: %d / Integral: %f\" % (m1, m1_integral))\n",
    "print(\"Panel: %d / Integral: %f\" % (m2, m2_integral))"
   ]
  },
  {
   "cell_type": "code",
   "execution_count": 91,
   "metadata": {},
   "outputs": [],
   "source": [
    "# (b)\n",
    "a, b = 0, pi/2\n",
    "\n",
    "def f(x):\n",
    "    return (exp(x) - 1)/sin(x)"
   ]
  },
  {
   "cell_type": "code",
   "execution_count": 92,
   "metadata": {},
   "outputs": [
    {
     "name": "stdout",
     "output_type": "stream",
     "text": [
      "Panel: 16 / Integral: 2.999867\n",
      "Panel: 32 / Integral: 3.001163\n"
     ]
    }
   ],
   "source": [
    "m1_integral = midpoint_rule(f, a, b, m1)\n",
    "m2_integral = midpoint_rule(f, a, b, m2)\n",
    "\n",
    "print(\"Panel: %d / Integral: %f\" % (m1, m1_integral))\n",
    "print(\"Panel: %d / Integral: %f\" % (m2, m2_integral))"
   ]
  },
  {
   "cell_type": "code",
   "execution_count": 93,
   "metadata": {},
   "outputs": [],
   "source": [
    "# (c)\n",
    "a, b = 0, 1\n",
    "\n",
    "def f(x):\n",
    "    return np.arctan(x)/x"
   ]
  },
  {
   "cell_type": "code",
   "execution_count": 94,
   "metadata": {},
   "outputs": [
    {
     "name": "stdout",
     "output_type": "stream",
     "text": [
      "Panel: 16 / Integral: 0.916012\n",
      "Panel: 32 / Integral: 0.915977\n"
     ]
    }
   ],
   "source": [
    "m1_integral = midpoint_rule(f, a, b, m1)\n",
    "m2_integral = midpoint_rule(f, a, b, m2)\n",
    "\n",
    "print(\"Panel: %d / Integral: %f\" % (m1, m1_integral))\n",
    "print(\"Panel: %d / Integral: %f\" % (m2, m2_integral))"
   ]
  },
  {
   "cell_type": "markdown",
   "metadata": {},
   "source": [
    "### Q. 8"
   ]
  },
  {
   "cell_type": "code",
   "execution_count": 95,
   "metadata": {},
   "outputs": [],
   "source": [
    "m = 32"
   ]
  },
  {
   "cell_type": "code",
   "execution_count": 96,
   "metadata": {},
   "outputs": [],
   "source": [
    "# (a)\n",
    "a, b = 0, 1\n",
    "\n",
    "def f(x):\n",
    "    return sqrt(1 + 9*x**4)"
   ]
  },
  {
   "cell_type": "code",
   "execution_count": 97,
   "metadata": {},
   "outputs": [
    {
     "name": "stdout",
     "output_type": "stream",
     "text": [
      "Curve length: 1.547866\n"
     ]
    }
   ],
   "source": [
    "m_integral = simpson_rule(f, a, b, m)\n",
    "\n",
    "print(\"Curve length: %f\" % m_integral)"
   ]
  },
  {
   "cell_type": "code",
   "execution_count": 98,
   "metadata": {},
   "outputs": [],
   "source": [
    "# (b)\n",
    "a, b = 0, pi/4\n",
    "\n",
    "def f(x):\n",
    "    return sqrt(1 + 1/(cos(x)**4))"
   ]
  },
  {
   "cell_type": "code",
   "execution_count": 99,
   "metadata": {},
   "outputs": [
    {
     "name": "stdout",
     "output_type": "stream",
     "text": [
      "Curve length: 1.277978\n"
     ]
    }
   ],
   "source": [
    "m_integral = simpson_rule(f, a, b, m)\n",
    "\n",
    "print(\"Curve length: %f\" % m_integral)"
   ]
  },
  {
   "cell_type": "code",
   "execution_count": 100,
   "metadata": {},
   "outputs": [],
   "source": [
    "# (a)\n",
    "a, b = 0, 1\n",
    "\n",
    "def f(x):\n",
    "    return sqrt(1 + (1/(1 + x**2))**2)"
   ]
  },
  {
   "cell_type": "code",
   "execution_count": 101,
   "metadata": {},
   "outputs": [
    {
     "name": "stdout",
     "output_type": "stream",
     "text": [
      "Curve length: 1.277978\n"
     ]
    }
   ],
   "source": [
    "m_integral = simpson_rule(f, a, b, m)\n",
    "\n",
    "print(\"Curve length: %f\" % m_integral)"
   ]
  },
  {
   "cell_type": "markdown",
   "metadata": {},
   "source": [
    "### Q. 9"
   ]
  },
  {
   "cell_type": "code",
   "execution_count": 102,
   "metadata": {},
   "outputs": [],
   "source": [
    "# (a)\n",
    "a, b = 0, 4\n",
    "\n",
    "def f(x):\n",
    "    return x / sqrt(x**2 + 9)\n",
    "\n",
    "true_integral = 2"
   ]
  },
  {
   "cell_type": "code",
   "execution_count": 103,
   "metadata": {
    "scrolled": true
   },
   "outputs": [
    {
     "data": {
      "image/png": "[encoded data removed]",
      "text/plain": [
       "<matplotlib.figure.Figure at 0x289d51bc470>"
      ]
     },
     "metadata": {},
     "output_type": "display_data"
    }
   ],
   "source": [
    "m_range = np.array([2**i for i in range(9)])\n",
    "h_range = np.array([(b - a)/m for m in m_range])\n",
    "error_range = [abs(true_integral - trapezoid_rule(f, a, b, m)) for m in m_range]\n",
    "\n",
    "plt.plot(h_range, error_range)\n",
    "plt.xlabel(\"h\")\n",
    "plt.ylabel(\"Error\")\n",
    "plt.xscale('log')\n",
    "plt.yscale('log')\n",
    "\n",
    "plt.show()"
   ]
  },
  {
   "cell_type": "code",
   "execution_count": 104,
   "metadata": {},
   "outputs": [
    {
     "name": "stdout",
     "output_type": "stream",
     "text": [
      "Computational slope: 2.000009\n",
      "Theoretical slope: 2.000000\n"
     ]
    }
   ],
   "source": [
    "print(\"Computational slope: %f\" % ((log(error_range[8]) - log(error_range[7]))/(log(h_range[8]) - log(h_range[7]))))\n",
    "print(\"Theoretical slope: %f\" % 2)"
   ]
  },
  {
   "cell_type": "code",
   "execution_count": 105,
   "metadata": {},
   "outputs": [],
   "source": [
    "# (b)\n",
    "a, b = 0, 1\n",
    "\n",
    "def f(x):\n",
    "    return x**3 / (x**2 + 1)\n",
    "\n",
    "true_integral = (1 - log(2))/2"
   ]
  },
  {
   "cell_type": "code",
   "execution_count": 106,
   "metadata": {
    "scrolled": true
   },
   "outputs": [
    {
     "data": {
      "image/png": "[encoded data removed]",
      "text/plain": [
       "<matplotlib.figure.Figure at 0x289d73de4e0>"
      ]
     },
     "metadata": {},
     "output_type": "display_data"
    }
   ],
   "source": [
    "m_range = np.array([2**i for i in range(9)])\n",
    "h_range = np.array([(b - a)/m for m in m_range])\n",
    "error_range = [abs(true_integral - trapezoid_rule(f, a, b, m)) for m in m_range]\n",
    "\n",
    "plt.plot(h_range, error_range)\n",
    "plt.xlabel(\"h\")\n",
    "plt.ylabel(\"Error\")\n",
    "plt.xscale('log')\n",
    "plt.yscale('log')\n",
    "\n",
    "plt.show()"
   ]
  },
  {
   "cell_type": "code",
   "execution_count": 107,
   "metadata": {},
   "outputs": [
    {
     "name": "stdout",
     "output_type": "stream",
     "text": [
      "Computational slope: 2.000008\n",
      "Theoretical slope: 2.000000\n"
     ]
    }
   ],
   "source": [
    "print(\"Computational slope: %f\" % ((log(error_range[8]) - log(error_range[7]))/(log(h_range[8]) - log(h_range[7]))))\n",
    "print(\"Theoretical slope: %f\" % 2)"
   ]
  },
  {
   "cell_type": "code",
   "execution_count": 108,
   "metadata": {},
   "outputs": [],
   "source": [
    "# (c)\n",
    "a, b = 0, 1\n",
    "\n",
    "def f(x):\n",
    "    return x*exp(x)\n",
    "\n",
    "true_integral = 1"
   ]
  },
  {
   "cell_type": "code",
   "execution_count": 109,
   "metadata": {
    "scrolled": true
   },
   "outputs": [
    {
     "data": {
      "image/png": "[encoded data removed]",
      "text/plain": [
       "<matplotlib.figure.Figure at 0x289d750dd68>"
      ]
     },
     "metadata": {},
     "output_type": "display_data"
    }
   ],
   "source": [
    "m_range = np.array([2**i for i in range(9)])\n",
    "h_range = np.array([(b - a)/m for m in m_range])\n",
    "error_range = [abs(true_integral - trapezoid_rule(f, a, b, m)) for m in m_range]\n",
    "\n",
    "plt.plot(h_range, error_range)\n",
    "plt.xlabel(\"h\")\n",
    "plt.ylabel(\"Error\")\n",
    "plt.xscale('log')\n",
    "plt.yscale('log')\n",
    "\n",
    "plt.show()"
   ]
  },
  {
   "cell_type": "code",
   "execution_count": 110,
   "metadata": {},
   "outputs": [
    {
     "name": "stdout",
     "output_type": "stream",
     "text": [
      "Computational slope: 1.999998\n",
      "Theoretical slope: 2.000000\n"
     ]
    }
   ],
   "source": [
    "print(\"Computational slope: %f\" % ((log(error_range[8]) - log(error_range[7]))/(log(h_range[8]) - log(h_range[7]))))\n",
    "print(\"Theoretical slope: %f\" % 2)"
   ]
  },
  {
   "cell_type": "code",
   "execution_count": 111,
   "metadata": {},
   "outputs": [],
   "source": [
    "# (d)\n",
    "a, b = 1, 3\n",
    "\n",
    "def f(x):\n",
    "    return (x**2)*log(x)\n",
    "\n",
    "true_integral = 9*log(3) - 26/9"
   ]
  },
  {
   "cell_type": "code",
   "execution_count": 112,
   "metadata": {
    "scrolled": true
   },
   "outputs": [
    {
     "data": {
      "image/png": "[encoded data removed]",
      "text/plain": [
       "<matplotlib.figure.Figure at 0x289d86cc828>"
      ]
     },
     "metadata": {},
     "output_type": "display_data"
    }
   ],
   "source": [
    "m_range = np.array([2**i for i in range(9)])\n",
    "h_range = np.array([(b - a)/m for m in m_range])\n",
    "error_range = [abs(true_integral - trapezoid_rule(f, a, b, m)) for m in m_range]\n",
    "\n",
    "plt.plot(h_range, error_range)\n",
    "plt.xlabel(\"h\")\n",
    "plt.ylabel(\"Error\")\n",
    "plt.xscale('log')\n",
    "plt.yscale('log')\n",
    "\n",
    "plt.show()"
   ]
  },
  {
   "cell_type": "code",
   "execution_count": 113,
   "metadata": {},
   "outputs": [
    {
     "name": "stdout",
     "output_type": "stream",
     "text": [
      "Computational slope: 2.000001\n",
      "Theoretical slope: 2.000000\n"
     ]
    }
   ],
   "source": [
    "print(\"Computational slope: %f\" % ((log(error_range[8]) - log(error_range[7]))/(log(h_range[8]) - log(h_range[7]))))\n",
    "print(\"Theoretical slope: %f\" % 2)"
   ]
  },
  {
   "cell_type": "code",
   "execution_count": 114,
   "metadata": {},
   "outputs": [],
   "source": [
    "# (e)\n",
    "a, b = 0, 1\n",
    "\n",
    "def f(x):\n",
    "    return x*exp(x)\n",
    "\n",
    "true_integral = 1"
   ]
  },
  {
   "cell_type": "code",
   "execution_count": 115,
   "metadata": {
    "scrolled": true
   },
   "outputs": [
    {
     "data": {
      "image/png": "[encoded data removed]",
      "text/plain": [
       "<matplotlib.figure.Figure at 0x289d7290160>"
      ]
     },
     "metadata": {},
     "output_type": "display_data"
    }
   ],
   "source": [
    "m_range = np.array([2**i for i in range(9)])\n",
    "h_range = np.array([(b - a)/m for m in m_range])\n",
    "error_range = [abs(true_integral - trapezoid_rule(f, a, b, m)) for m in m_range]\n",
    "\n",
    "plt.plot(h_range, error_range)\n",
    "plt.xlabel(\"h\")\n",
    "plt.ylabel(\"Error\")\n",
    "plt.xscale('log')\n",
    "plt.yscale('log')\n",
    "\n",
    "plt.show()"
   ]
  },
  {
   "cell_type": "code",
   "execution_count": 116,
   "metadata": {},
   "outputs": [
    {
     "name": "stdout",
     "output_type": "stream",
     "text": [
      "Computational slope: 1.999998\n",
      "Theoretical slope: 2.000000\n"
     ]
    }
   ],
   "source": [
    "print(\"Computational slope: %f\" % ((log(error_range[8]) - log(error_range[7]))/(log(h_range[8]) - log(h_range[7]))))\n",
    "print(\"Theoretical slope: %f\" % 2)"
   ]
  },
  {
   "cell_type": "code",
   "execution_count": 117,
   "metadata": {},
   "outputs": [],
   "source": [
    "# (f)\n",
    "a, b = 2, 3\n",
    "\n",
    "def f(x):\n",
    "    return x**3 / sqrt(x**4 - 1)\n",
    "\n",
    "true_integral = (sqrt(80) - sqrt(15))/2"
   ]
  },
  {
   "cell_type": "code",
   "execution_count": 118,
   "metadata": {
    "scrolled": true
   },
   "outputs": [
    {
     "data": {
      "image/png": "[encoded data removed]",
      "text/plain": [
       "<matplotlib.figure.Figure at 0x289d74aaf60>"
      ]
     },
     "metadata": {},
     "output_type": "display_data"
    }
   ],
   "source": [
    "m_range = np.array([2**i for i in range(9)])\n",
    "h_range = np.array([(b - a)/m for m in m_range])\n",
    "error_range = [abs(true_integral - trapezoid_rule(f, a, b, m)) for m in m_range]\n",
    "\n",
    "plt.plot(h_range, error_range)\n",
    "plt.xlabel(\"h\")\n",
    "plt.ylabel(\"Error\")\n",
    "plt.xscale('log')\n",
    "plt.yscale('log')\n",
    "\n",
    "plt.show()"
   ]
  },
  {
   "cell_type": "code",
   "execution_count": 119,
   "metadata": {},
   "outputs": [
    {
     "name": "stdout",
     "output_type": "stream",
     "text": [
      "Computational slope: 1.999992\n",
      "Theoretical slope: 2.000000\n"
     ]
    }
   ],
   "source": [
    "print(\"Computational slope: %f\" % ((log(error_range[8]) - log(error_range[7]))/(log(h_range[8]) - log(h_range[7]))))\n",
    "print(\"Theoretical slope: %f\" % 2)"
   ]
  },
  {
   "cell_type": "code",
   "execution_count": 120,
   "metadata": {},
   "outputs": [],
   "source": [
    "# (g)\n",
    "a, b = 0, 2*sqrt(3)\n",
    "\n",
    "def f(x):\n",
    "    return 1 / sqrt(x**2 + 4)\n",
    "\n",
    "true_integral = log(2 + sqrt(3))"
   ]
  },
  {
   "cell_type": "code",
   "execution_count": 121,
   "metadata": {
    "scrolled": true
   },
   "outputs": [
    {
     "data": {
      "image/png": "[encoded data removed]",
      "text/plain": [
       "<matplotlib.figure.Figure at 0x289d74533c8>"
      ]
     },
     "metadata": {},
     "output_type": "display_data"
    }
   ],
   "source": [
    "m_range = np.array([2**i for i in range(9)])\n",
    "h_range = np.array([(b - a)/m for m in m_range])\n",
    "error_range = [abs(true_integral - trapezoid_rule(f, a, b, m)) for m in m_range]\n",
    "\n",
    "plt.plot(h_range, error_range)\n",
    "plt.xlabel(\"h\")\n",
    "plt.ylabel(\"Error\")\n",
    "plt.xscale('log')\n",
    "plt.yscale('log')\n",
    "\n",
    "plt.show()"
   ]
  },
  {
   "cell_type": "code",
   "execution_count": 122,
   "metadata": {},
   "outputs": [
    {
     "name": "stdout",
     "output_type": "stream",
     "text": [
      "Computational slope: 1.999998\n",
      "Theoretical slope: 2.000000\n"
     ]
    }
   ],
   "source": [
    "print(\"Computational slope: %f\" % ((log(error_range[8]) - log(error_range[7]))/(log(h_range[8]) - log(h_range[7]))))\n",
    "print(\"Theoretical slope: %f\" % 2)"
   ]
  },
  {
   "cell_type": "code",
   "execution_count": 123,
   "metadata": {},
   "outputs": [],
   "source": [
    "# (h)\n",
    "a, b = 0, 1\n",
    "\n",
    "def f(x):\n",
    "    return x / sqrt(x**4 + 1)\n",
    "\n",
    "true_integral = log(1 + sqrt(2)) / 2"
   ]
  },
  {
   "cell_type": "code",
   "execution_count": 124,
   "metadata": {
    "scrolled": false
   },
   "outputs": [
    {
     "data": {
      "image/png": "[encoded data removed]",
      "text/plain": [
       "<matplotlib.figure.Figure at 0x289d7413ac8>"
      ]
     },
     "metadata": {},
     "output_type": "display_data"
    }
   ],
   "source": [
    "m_range = np.array([2**i for i in range(9)])\n",
    "h_range = np.array([(b - a)/m for m in m_range])\n",
    "error_range = [abs(true_integral - trapezoid_rule(f, a, b, m)) for m in m_range]\n",
    "\n",
    "plt.plot(h_range, error_range)\n",
    "plt.xlabel(\"h\")\n",
    "plt.ylabel(\"Error\")\n",
    "plt.xscale('log')\n",
    "plt.yscale('log')\n",
    "\n",
    "plt.show()"
   ]
  },
  {
   "cell_type": "code",
   "execution_count": 125,
   "metadata": {},
   "outputs": [
    {
     "name": "stdout",
     "output_type": "stream",
     "text": [
      "Computational slope: 2.000005\n",
      "Theoretical slope: 2.000000\n"
     ]
    }
   ],
   "source": [
    "print(\"Computational slope: %f\" % ((log(error_range[8]) - log(error_range[7]))/(log(h_range[8]) - log(h_range[7]))))\n",
    "print(\"Theoretical slope: %f\" % 2)"
   ]
  },
  {
   "cell_type": "markdown",
   "metadata": {},
   "source": [
    "### Q. 10"
   ]
  },
  {
   "cell_type": "code",
   "execution_count": 126,
   "metadata": {},
   "outputs": [],
   "source": [
    "# (a)\n",
    "a, b = 0, 4\n",
    "\n",
    "def f(x):\n",
    "    return x / sqrt(x**2 + 9)\n",
    "\n",
    "true_integral = 2"
   ]
  },
  {
   "cell_type": "code",
   "execution_count": 127,
   "metadata": {
    "scrolled": true
   },
   "outputs": [
    {
     "data": {
      "image/png": "[encoded data removed]",
      "text/plain": [
       "<matplotlib.figure.Figure at 0x289d74a8518>"
      ]
     },
     "metadata": {},
     "output_type": "display_data"
    }
   ],
   "source": [
    "m_range = np.array([2**i for i in range(9)])\n",
    "h_range = np.array([(b - a)/m for m in m_range])\n",
    "error_range = [abs(true_integral - simpson_rule(f, a, b, m)) for m in m_range]\n",
    "\n",
    "plt.plot(h_range, error_range)\n",
    "plt.xlabel(\"h\")\n",
    "plt.ylabel(\"Error\")\n",
    "plt.xscale('log')\n",
    "plt.yscale('log')\n",
    "\n",
    "plt.show()"
   ]
  },
  {
   "cell_type": "code",
   "execution_count": 128,
   "metadata": {},
   "outputs": [
    {
     "name": "stdout",
     "output_type": "stream",
     "text": [
      "Computational slope: 4.000059\n",
      "Theoretical slope: 4.000000\n"
     ]
    }
   ],
   "source": [
    "print(\"Computational slope: %f\" % ((log(error_range[8]) - log(error_range[7]))/(log(h_range[8]) - log(h_range[7]))))\n",
    "print(\"Theoretical slope: %f\" % 4)"
   ]
  },
  {
   "cell_type": "code",
   "execution_count": 129,
   "metadata": {},
   "outputs": [],
   "source": [
    "# (b)\n",
    "a, b = 0, 1\n",
    "\n",
    "def f(x):\n",
    "    return x**3 / (x**2 + 1)\n",
    "\n",
    "true_integral = (1 - log(2))/2"
   ]
  },
  {
   "cell_type": "code",
   "execution_count": 130,
   "metadata": {
    "scrolled": true
   },
   "outputs": [
    {
     "data": {
      "image/png": "[encoded data removed]",
      "text/plain": [
       "<matplotlib.figure.Figure at 0x289d743ba20>"
      ]
     },
     "metadata": {},
     "output_type": "display_data"
    }
   ],
   "source": [
    "m_range = np.array([2**i for i in range(9)])\n",
    "h_range = np.array([(b - a)/m for m in m_range])\n",
    "error_range = [abs(true_integral - simpson_rule(f, a, b, m)) for m in m_range]\n",
    "\n",
    "plt.plot(h_range, error_range)\n",
    "plt.xlabel(\"h\")\n",
    "plt.ylabel(\"Error\")\n",
    "plt.xscale('log')\n",
    "plt.yscale('log')\n",
    "\n",
    "plt.show()"
   ]
  },
  {
   "cell_type": "code",
   "execution_count": 131,
   "metadata": {},
   "outputs": [
    {
     "name": "stdout",
     "output_type": "stream",
     "text": [
      "Computational slope: 3.999996\n",
      "Theoretical slope: 4.000000\n"
     ]
    }
   ],
   "source": [
    "print(\"Computational slope: %f\" % ((log(error_range[8]) - log(error_range[7]))/(log(h_range[8]) - log(h_range[7]))))\n",
    "print(\"Theoretical slope: %f\" % 4)"
   ]
  },
  {
   "cell_type": "code",
   "execution_count": 132,
   "metadata": {},
   "outputs": [],
   "source": [
    "# (c)\n",
    "a, b = 0, 1\n",
    "\n",
    "def f(x):\n",
    "    return x*exp(x)\n",
    "\n",
    "true_integral = 1"
   ]
  },
  {
   "cell_type": "code",
   "execution_count": 133,
   "metadata": {
    "scrolled": true
   },
   "outputs": [
    {
     "data": {
      "image/png": "[encoded data removed]",
      "text/plain": [
       "<matplotlib.figure.Figure at 0x289d51d1b38>"
      ]
     },
     "metadata": {},
     "output_type": "display_data"
    }
   ],
   "source": [
    "m_range = np.array([2**i for i in range(9)])\n",
    "h_range = np.array([(b - a)/m for m in m_range])\n",
    "error_range = [abs(true_integral - simpson_rule(f, a, b, m)) for m in m_range]\n",
    "\n",
    "plt.plot(h_range, error_range)\n",
    "plt.xlabel(\"h\")\n",
    "plt.ylabel(\"Error\")\n",
    "plt.xscale('log')\n",
    "plt.yscale('log')\n",
    "\n",
    "plt.show()"
   ]
  },
  {
   "cell_type": "code",
   "execution_count": 134,
   "metadata": {},
   "outputs": [
    {
     "name": "stdout",
     "output_type": "stream",
     "text": [
      "Computational slope: 3.999748\n",
      "Theoretical slope: 4.000000\n"
     ]
    }
   ],
   "source": [
    "print(\"Computational slope: %f\" % ((log(error_range[8]) - log(error_range[7]))/(log(h_range[8]) - log(h_range[7]))))\n",
    "print(\"Theoretical slope: %f\" % 4)"
   ]
  },
  {
   "cell_type": "code",
   "execution_count": 135,
   "metadata": {},
   "outputs": [],
   "source": [
    "# (d)\n",
    "a, b = 1, 3\n",
    "\n",
    "def f(x):\n",
    "    return (x**2)*log(x)\n",
    "\n",
    "true_integral = 9*log(3) - 26/9"
   ]
  },
  {
   "cell_type": "code",
   "execution_count": 136,
   "metadata": {
    "scrolled": true
   },
   "outputs": [
    {
     "data": {
      "image/png": "[encoded data removed]",
      "text/plain": [
       "<matplotlib.figure.Figure at 0x289d7524fd0>"
      ]
     },
     "metadata": {},
     "output_type": "display_data"
    }
   ],
   "source": [
    "m_range = np.array([2**i for i in range(9)])\n",
    "h_range = np.array([(b - a)/m for m in m_range])\n",
    "error_range = [abs(true_integral - simpson_rule(f, a, b, m)) for m in m_range]\n",
    "\n",
    "plt.plot(h_range, error_range)\n",
    "plt.xlabel(\"h\")\n",
    "plt.ylabel(\"Error\")\n",
    "plt.xscale('log')\n",
    "plt.yscale('log')\n",
    "\n",
    "plt.show()"
   ]
  },
  {
   "cell_type": "code",
   "execution_count": 137,
   "metadata": {},
   "outputs": [
    {
     "name": "stdout",
     "output_type": "stream",
     "text": [
      "Computational slope: 3.999072\n",
      "Theoretical slope: 4.000000\n"
     ]
    }
   ],
   "source": [
    "print(\"Computational slope: %f\" % ((log(error_range[8]) - log(error_range[7]))/(log(h_range[8]) - log(h_range[7]))))\n",
    "print(\"Theoretical slope: %f\" % 4)"
   ]
  },
  {
   "cell_type": "code",
   "execution_count": 138,
   "metadata": {},
   "outputs": [],
   "source": [
    "# (e)\n",
    "a, b = 0, 1\n",
    "\n",
    "def f(x):\n",
    "    return x*exp(x)\n",
    "\n",
    "true_integral = 1"
   ]
  },
  {
   "cell_type": "code",
   "execution_count": 139,
   "metadata": {
    "scrolled": true
   },
   "outputs": [
    {
     "data": {
      "image/png": "[encoded data removed]",
      "text/plain": [
       "<matplotlib.figure.Figure at 0x289d7524400>"
      ]
     },
     "metadata": {},
     "output_type": "display_data"
    }
   ],
   "source": [
    "m_range = np.array([2**i for i in range(9)])\n",
    "h_range = np.array([(b - a)/m for m in m_range])\n",
    "error_range = [abs(true_integral - simpson_rule(f, a, b, m)) for m in m_range]\n",
    "\n",
    "plt.plot(h_range, error_range)\n",
    "plt.xlabel(\"h\")\n",
    "plt.ylabel(\"Error\")\n",
    "plt.xscale('log')\n",
    "plt.yscale('log')\n",
    "\n",
    "plt.show()"
   ]
  },
  {
   "cell_type": "code",
   "execution_count": 140,
   "metadata": {},
   "outputs": [
    {
     "name": "stdout",
     "output_type": "stream",
     "text": [
      "Computational slope: 3.999748\n",
      "Theoretical slope: 4.000000\n"
     ]
    }
   ],
   "source": [
    "print(\"Computational slope: %f\" % ((log(error_range[8]) - log(error_range[7]))/(log(h_range[8]) - log(h_range[7]))))\n",
    "print(\"Theoretical slope: %f\" % 4)"
   ]
  },
  {
   "cell_type": "code",
   "execution_count": 141,
   "metadata": {},
   "outputs": [],
   "source": [
    "# (f)\n",
    "a, b = 2, 3\n",
    "\n",
    "def f(x):\n",
    "    return x**3 / sqrt(x**4 - 1)\n",
    "\n",
    "true_integral = (sqrt(80) - sqrt(15))/2"
   ]
  },
  {
   "cell_type": "code",
   "execution_count": 142,
   "metadata": {
    "scrolled": true
   },
   "outputs": [
    {
     "data": {
      "image/png": "[encoded data removed]",
      "text/plain": [
       "<matplotlib.figure.Figure at 0x289d7535668>"
      ]
     },
     "metadata": {},
     "output_type": "display_data"
    }
   ],
   "source": [
    "m_range = np.array([2**i for i in range(9)])\n",
    "h_range = np.array([(b - a)/m for m in m_range])\n",
    "error_range = [abs(true_integral - simpson_rule(f, a, b, m)) for m in m_range]\n",
    "\n",
    "plt.plot(h_range, error_range)\n",
    "plt.xlabel(\"h\")\n",
    "plt.ylabel(\"Error\")\n",
    "plt.xscale('log')\n",
    "plt.yscale('log')\n",
    "\n",
    "plt.show()"
   ]
  },
  {
   "cell_type": "code",
   "execution_count": 143,
   "metadata": {},
   "outputs": [
    {
     "name": "stdout",
     "output_type": "stream",
     "text": [
      "Computational slope: 3.995408\n",
      "Theoretical slope: 4.000000\n"
     ]
    }
   ],
   "source": [
    "print(\"Computational slope: %f\" % ((log(error_range[8]) - log(error_range[7]))/(log(h_range[8]) - log(h_range[7]))))\n",
    "print(\"Theoretical slope: %f\" % 4)"
   ]
  },
  {
   "cell_type": "code",
   "execution_count": 144,
   "metadata": {},
   "outputs": [],
   "source": [
    "# (g)\n",
    "a, b = 0, 2*sqrt(3)\n",
    "\n",
    "def f(x):\n",
    "    return 1 / sqrt(x**2 + 4)\n",
    "\n",
    "true_integral = log(2 + sqrt(3))"
   ]
  },
  {
   "cell_type": "code",
   "execution_count": 145,
   "metadata": {
    "scrolled": true
   },
   "outputs": [
    {
     "data": {
      "image/png": "[encoded data removed]",
      "text/plain": [
       "<matplotlib.figure.Figure at 0x289d85c0ac8>"
      ]
     },
     "metadata": {},
     "output_type": "display_data"
    }
   ],
   "source": [
    "m_range = np.array([2**i for i in range(9)])\n",
    "h_range = np.array([(b - a)/m for m in m_range])\n",
    "error_range = [abs(true_integral - simpson_rule(f, a, b, m)) for m in m_range]\n",
    "\n",
    "plt.plot(h_range, error_range)\n",
    "plt.xlabel(\"h\")\n",
    "plt.ylabel(\"Error\")\n",
    "plt.xscale('log')\n",
    "plt.yscale('log')\n",
    "\n",
    "plt.show()"
   ]
  },
  {
   "cell_type": "code",
   "execution_count": 146,
   "metadata": {},
   "outputs": [
    {
     "name": "stdout",
     "output_type": "stream",
     "text": [
      "Computational slope: 4.000226\n",
      "Theoretical slope: 4.000000\n"
     ]
    }
   ],
   "source": [
    "print(\"Computational slope: %f\" % ((log(error_range[8]) - log(error_range[7]))/(log(h_range[8]) - log(h_range[7]))))\n",
    "print(\"Theoretical slope: %f\" % 4)"
   ]
  },
  {
   "cell_type": "code",
   "execution_count": 147,
   "metadata": {},
   "outputs": [],
   "source": [
    "# (h)\n",
    "a, b = 0, 1\n",
    "\n",
    "def f(x):\n",
    "    return x / sqrt(x**4 + 1)\n",
    "\n",
    "true_integral = log(1 + sqrt(2)) / 2"
   ]
  },
  {
   "cell_type": "code",
   "execution_count": 148,
   "metadata": {
    "scrolled": false
   },
   "outputs": [
    {
     "data": {
      "image/png": "[encoded data removed]",
      "text/plain": [
       "<matplotlib.figure.Figure at 0x289d73bbe48>"
      ]
     },
     "metadata": {},
     "output_type": "display_data"
    }
   ],
   "source": [
    "m_range = np.array([2**i for i in range(9)])\n",
    "h_range = np.array([(b - a)/m for m in m_range])\n",
    "error_range = [abs(true_integral - simpson_rule(f, a, b, m)) for m in m_range]\n",
    "\n",
    "plt.plot(h_range, error_range)\n",
    "plt.xlabel(\"h\")\n",
    "plt.ylabel(\"Error\")\n",
    "plt.xscale('log')\n",
    "plt.yscale('log')\n",
    "\n",
    "plt.show()"
   ]
  },
  {
   "cell_type": "code",
   "execution_count": 149,
   "metadata": {
    "scrolled": false
   },
   "outputs": [
    {
     "name": "stdout",
     "output_type": "stream",
     "text": [
      "Computational slope: 3.999548\n",
      "Theoretical slope: 4.000000\n"
     ]
    }
   ],
   "source": [
    "print(\"Computational slope: %f\" % ((log(error_range[8]) - log(error_range[7]))/(log(h_range[8]) - log(h_range[7]))))\n",
    "print(\"Theoretical slope: %f\" % 4)"
   ]
  }
 ],
 "metadata": {
  "kernelspec": {
   "display_name": "Python 3",
   "language": "python",
   "name": "python3"
  },
  "language_info": {
   "codemirror_mode": {
    "name": "ipython",
    "version": 3
   },
   "file_extension": ".py",
   "mimetype": "text/x-python",
   "name": "python",
   "nbconvert_exporter": "python",
   "pygments_lexer": "ipython3",
   "version": "3.6.4"
  }
 },
 "nbformat": 4,
 "nbformat_minor": 2
}

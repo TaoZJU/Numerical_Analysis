{
 "cells": [
  {
   "cell_type": "code",
   "execution_count": 1,
   "metadata": {
    "collapsed": true
   },
   "outputs": [],
   "source": [
    "import numpy as np\n",
    "import matplotlib.pyplot as plt\n",
    "\n",
    "%matplotlib inline"
   ]
  },
  {
   "cell_type": "markdown",
   "metadata": {},
   "source": [
    "# Chapter 2<br>Systems of Equations"
   ]
  },
  {
   "cell_type": "markdown",
   "metadata": {},
   "source": [
    "## 2.6 Methods for symmetric positive-definite matrices"
   ]
  },
  {
   "cell_type": "code",
   "execution_count": 2,
   "metadata": {
    "collapsed": true
   },
   "outputs": [],
   "source": [
    "def conj_grad_method(A, b, initial_guess=0, iter_num=0):\n",
    "    n = len(A)\n",
    "    x = initial_guess * np.ones(n)\n",
    "    r = b - A.dot(x)\n",
    "    d = r\n",
    "    \n",
    "    if iter_num == 0:\n",
    "        iter_num = n\n",
    "\n",
    "    for _ in range(iter_num):\n",
    "        alpha = r.dot(r) / d.dot(A).dot(d)\n",
    "        x = x + alpha*d\n",
    "        beta = np.dot(r - alpha*A.dot(d), r - alpha*A.dot(d)) / r.dot(r)\n",
    "        r = r - alpha*A.dot(d)\n",
    "        d = r + beta*d\n",
    "        \n",
    "        if r.max() == 0:\n",
    "            break\n",
    "    \n",
    "    return x"
   ]
  },
  {
   "cell_type": "code",
   "execution_count": 3,
   "metadata": {
    "collapsed": true
   },
   "outputs": [],
   "source": [
    "def Preconditioned_CGM(A, b, precondition, initial_guess=0, iter_num=0):\n",
    "    n = len(A)\n",
    "    \n",
    "    if precondition == \"Jacobi\":\n",
    "        M = np.diag(A)\n",
    "        M_inv = np.diag(1/M)\n",
    "    \n",
    "    elif precondition == \"Gauss_Seidel\":\n",
    "        D = np.diag(A)\n",
    "        M = (np.tril(A)/D).dot(np.triu(A))\n",
    "        M_inv = np.linalg.inv(M)\n",
    "    \n",
    "    else:\n",
    "        raise ValueError(\"Please give the right preconditioner!\")\n",
    "    \n",
    "    x = initial_guess * np.ones(n)\n",
    "    r = b - A.dot(x)\n",
    "    d = r.dot(M_inv)\n",
    "    z = d\n",
    "    \n",
    "    if iter_num == 0:\n",
    "        iter_num = n\n",
    "    \n",
    "    for _ in range(iter_num):\n",
    "        alpha = r.dot(z) / d.dot(A).dot(d)\n",
    "        x = x + alpha*d\n",
    "        beta = np.dot(r - alpha*A.dot(d), (r - alpha*A.dot(d)).dot(M_inv)) / r.dot(z)\n",
    "        r = r - alpha*A.dot(d)\n",
    "        z = r.dot(M_inv)\n",
    "        d = z + beta*d\n",
    "        \n",
    "        if r.max() == 0:\n",
    "            break    \n",
    "    \n",
    "    return x"
   ]
  },
  {
   "cell_type": "code",
   "execution_count": 4,
   "metadata": {
    "collapsed": true
   },
   "outputs": [],
   "source": [
    "def Hilbert(n):\n",
    "    H = np.zeros((n, n))\n",
    "    for i in range(n):\n",
    "        for j in range(n):\n",
    "            H[i, j] = 1 / (i + j + 1)\n",
    "            \n",
    "    return H"
   ]
  },
  {
   "cell_type": "markdown",
   "metadata": {},
   "source": [
    "### Q. 1"
   ]
  },
  {
   "cell_type": "code",
   "execution_count": 5,
   "metadata": {
    "collapsed": true
   },
   "outputs": [],
   "source": [
    "# (a)\n",
    "A = np.array([[1, 0], [0, 2]])\n",
    "b = np.array([2, 4])"
   ]
  },
  {
   "cell_type": "code",
   "execution_count": 6,
   "metadata": {
    "scrolled": true
   },
   "outputs": [
    {
     "name": "stdout",
     "output_type": "stream",
     "text": [
      "x: [ 2.  2.]\n"
     ]
    }
   ],
   "source": [
    "x = conj_grad_method(A, b)\n",
    "print(\"x:\", x)"
   ]
  },
  {
   "cell_type": "code",
   "execution_count": 7,
   "metadata": {
    "collapsed": true
   },
   "outputs": [],
   "source": [
    "# (b)\n",
    "A = np.array([[1, 2], [2, 5]])\n",
    "b = np.array([1, 1])"
   ]
  },
  {
   "cell_type": "code",
   "execution_count": 8,
   "metadata": {
    "scrolled": true
   },
   "outputs": [
    {
     "name": "stdout",
     "output_type": "stream",
     "text": [
      "x: [ 3. -1.]\n"
     ]
    }
   ],
   "source": [
    "x = conj_grad_method(A, b)\n",
    "print(\"x:\", x)"
   ]
  },
  {
   "cell_type": "markdown",
   "metadata": {},
   "source": [
    "### Q. 2"
   ]
  },
  {
   "cell_type": "code",
   "execution_count": 9,
   "metadata": {
    "collapsed": true
   },
   "outputs": [],
   "source": [
    "# (a)\n",
    "A = np.array([[1, -1, 0], [-1, 2, 1], [0, 1, 2]])\n",
    "b = np.array([0, 2, 3])"
   ]
  },
  {
   "cell_type": "code",
   "execution_count": 10,
   "metadata": {
    "scrolled": true
   },
   "outputs": [
    {
     "name": "stdout",
     "output_type": "stream",
     "text": [
      "x: [ 1.  1.  1.]\n"
     ]
    }
   ],
   "source": [
    "x = conj_grad_method(A, b)\n",
    "print(\"x:\", x)"
   ]
  },
  {
   "cell_type": "code",
   "execution_count": 11,
   "metadata": {
    "collapsed": true
   },
   "outputs": [],
   "source": [
    "# (b)\n",
    "A = np.array([[1, -1, 0], [-1, 2, 1], [0, 1, 5]])\n",
    "b = np.array([3, -3, 4])"
   ]
  },
  {
   "cell_type": "code",
   "execution_count": 12,
   "metadata": {
    "scrolled": true
   },
   "outputs": [
    {
     "name": "stdout",
     "output_type": "stream",
     "text": [
      "x: [ 2. -1.  1.]\n"
     ]
    }
   ],
   "source": [
    "x = conj_grad_method(A, b)\n",
    "print(\"x:\", x)"
   ]
  },
  {
   "cell_type": "markdown",
   "metadata": {},
   "source": [
    "### Q. 3"
   ]
  },
  {
   "cell_type": "code",
   "execution_count": 13,
   "metadata": {
    "collapsed": true
   },
   "outputs": [],
   "source": [
    "# (a)\n",
    "n = 4\n",
    "H = Hilbert(n)\n",
    "b = np.ones(n)"
   ]
  },
  {
   "cell_type": "code",
   "execution_count": 14,
   "metadata": {
    "scrolled": true
   },
   "outputs": [
    {
     "name": "stdout",
     "output_type": "stream",
     "text": [
      "x: [  -4.   60. -180.  140.]\n"
     ]
    }
   ],
   "source": [
    "x = conj_grad_method(H, b)\n",
    "print(\"x:\", x)"
   ]
  },
  {
   "cell_type": "code",
   "execution_count": 15,
   "metadata": {
    "collapsed": true
   },
   "outputs": [],
   "source": [
    "# (b)\n",
    "n = 8\n",
    "H = Hilbert(n)\n",
    "b = np.ones(n)"
   ]
  },
  {
   "cell_type": "code",
   "execution_count": 16,
   "metadata": {
    "scrolled": false
   },
   "outputs": [
    {
     "name": "stdout",
     "output_type": "stream",
     "text": [
      "x: [   -5.64909817   153.38784125  -873.60128304  1378.10832944   335.71351363\n",
      " -1242.26498015 -1156.48028257  1453.93299379]\n"
     ]
    }
   ],
   "source": [
    "x = conj_grad_method(H, b)\n",
    "print(\"x:\", x)"
   ]
  },
  {
   "cell_type": "markdown",
   "metadata": {},
   "source": [
    "### Q. 4"
   ]
  },
  {
   "cell_type": "code",
   "execution_count": 17,
   "metadata": {
    "collapsed": true
   },
   "outputs": [],
   "source": [
    "def A_ij(n):\n",
    "    A = np.zeros((n, n))\n",
    "    for i in range(n):\n",
    "        A[i, n-1-i] = 0.5\n",
    "        A[i, i] = 3\n",
    "        if i > 0:\n",
    "            A[i, i-1] = -1\n",
    "            A[i-1, i] = -1\n",
    "            \n",
    "    return A"
   ]
  },
  {
   "cell_type": "code",
   "execution_count": 18,
   "metadata": {
    "collapsed": true
   },
   "outputs": [],
   "source": [
    "# (a)\n",
    "n = 6\n",
    "A = A_ij(n)\n",
    "b = 1.5 * np.ones(n)\n",
    "b[0], b[-1] = 2.5, 2.5\n",
    "b[n//2], b[n//2 - 1] = 1, 1"
   ]
  },
  {
   "cell_type": "code",
   "execution_count": 19,
   "metadata": {
    "scrolled": false
   },
   "outputs": [
    {
     "name": "stdout",
     "output_type": "stream",
     "text": [
      "x: [ 1.  1.  1.  1.  1.  1.]\n"
     ]
    }
   ],
   "source": [
    "x = conj_grad_method(A, b)\n",
    "print(\"x:\", x)"
   ]
  },
  {
   "cell_type": "code",
   "execution_count": 20,
   "metadata": {
    "collapsed": true
   },
   "outputs": [],
   "source": [
    "# (b)\n",
    "n = 12\n",
    "A = A_ij(n)\n",
    "b = 1.5 * np.ones(n)\n",
    "b[0], b[-1] = 2.5, 2.5\n",
    "b[n//2], b[n//2 - 1] = 1, 1"
   ]
  },
  {
   "cell_type": "code",
   "execution_count": 21,
   "metadata": {
    "scrolled": true
   },
   "outputs": [
    {
     "name": "stdout",
     "output_type": "stream",
     "text": [
      "x: [ 1.  1.  1.  1.  1.  1.  1.  1.  1.  1.  1.  1.]\n"
     ]
    }
   ],
   "source": [
    "x = conj_grad_method(A, b)\n",
    "print(\"x:\", x)"
   ]
  },
  {
   "cell_type": "markdown",
   "metadata": {},
   "source": [
    "### Q. 5"
   ]
  },
  {
   "cell_type": "code",
   "execution_count": 22,
   "metadata": {
    "collapsed": true
   },
   "outputs": [],
   "source": [
    "tol = 1e-10"
   ]
  },
  {
   "cell_type": "code",
   "execution_count": 23,
   "metadata": {},
   "outputs": [
    {
     "name": "stdout",
     "output_type": "stream",
     "text": [
      "n: 100 / Iteration: 44 / Backward Error: 1.24728e-10\n",
      "n: 1000 / Iteration: 44 / Backward Error: 1.10318e-10\n",
      "n: 10000 / Iteration: 44 / Backward Error: 1.08237e-10\n"
     ]
    }
   ],
   "source": [
    "for n in [100, 1000, 10000]:\n",
    "    A = A_ij(n)\n",
    "    b = 1.5 * np.ones(n)\n",
    "    b[0], b[-1] = 2.5, 2.5\n",
    "    b[n//2], b[n//2 - 1] = 1, 1\n",
    "    \n",
    "    true_x = np.ones(n)\n",
    "    x = np.zeros(n)\n",
    "\n",
    "    iter_n = 0\n",
    "    while True:\n",
    "        x = conj_grad_method(A, b, initial_guess=x, iter_num=1)\n",
    "        iter_n += 1\n",
    "        if abs(x - true_x).max() < tol:\n",
    "            break\n",
    "    \n",
    "    residue = abs(A.dot(x) - b)\n",
    "    backward_error = residue.max()\n",
    "    print(\"n: %d / Iteration: %d / Backward Error: %g\" % (n, iter_n, backward_error))"
   ]
  },
  {
   "cell_type": "markdown",
   "metadata": {},
   "source": [
    "### Q. 6"
   ]
  },
  {
   "cell_type": "code",
   "execution_count": 24,
   "metadata": {
    "collapsed": true
   },
   "outputs": [],
   "source": [
    "def A_ij(n):\n",
    "    A = np.zeros((n, n))\n",
    "    for i in range(n - 2):\n",
    "        A[i, i] = i+1\n",
    "        A[i, i+1] = 0.5\n",
    "        A[i+1, i] = 0.5\n",
    "        A[i, i+2] = 0.5\n",
    "        A[i+2, i] = 0.5\n",
    "        \n",
    "    A[-2, -2] = n - 1\n",
    "    A[-1, -1] = n\n",
    "    A[-2, -1] = 0.5\n",
    "    A[-1, -2] = 0.5\n",
    "    \n",
    "    return A\n",
    "\n",
    "n = 1000\n",
    "A = A_ij(n)"
   ]
  },
  {
   "cell_type": "code",
   "execution_count": 25,
   "metadata": {
    "scrolled": true
   },
   "outputs": [
    {
     "data": {
      "image/png": "[encoded data removed]",
      "text/plain": [
       "<matplotlib.figure.Figure at 0x9c895f0>"
      ]
     },
     "metadata": {},
     "output_type": "display_data"
    }
   ],
   "source": [
    "# (a)\n",
    "# Just show the structure when n = 100.\n",
    "plt.matshow(A_ij(100) != 0, cmap='binary')\n",
    "plt.show()"
   ]
  },
  {
   "cell_type": "code",
   "execution_count": 26,
   "metadata": {
    "collapsed": true
   },
   "outputs": [],
   "source": [
    "# (b)\n",
    "x_e = np.ones(n)\n",
    "b = A.dot(x_e)\n",
    "tol = 1e-10"
   ]
  },
  {
   "cell_type": "markdown",
   "metadata": {},
   "source": [
    "Conjugate Gradient Method without preconditioner"
   ]
  },
  {
   "cell_type": "code",
   "execution_count": 27,
   "metadata": {},
   "outputs": [
    {
     "name": "stdout",
     "output_type": "stream",
     "text": [
      "Iter: 15033 / Backward error: 6.66205e-11\n"
     ]
    }
   ],
   "source": [
    "iter_n = 0\n",
    "x = np.zeros(n)\n",
    "\n",
    "while True:\n",
    "    x = conj_grad_method(A, b, initial_guess=x, iter_num=1)\n",
    "    iter_n += 1\n",
    "    if abs(x - x_e).max() < tol:\n",
    "        break\n",
    "        \n",
    "backward_error = (A.dot(x) - b).max()\n",
    "print(\"Iter: %d / Backward error: %g\" % (iter_n, backward_error))"
   ]
  },
  {
   "cell_type": "markdown",
   "metadata": {},
   "source": [
    "Jacobi preconditioner"
   ]
  },
  {
   "cell_type": "code",
   "execution_count": 28,
   "metadata": {},
   "outputs": [
    {
     "name": "stdout",
     "output_type": "stream",
     "text": [
      "Iter: 30 / Backward error: 4.305e-12\n"
     ]
    }
   ],
   "source": [
    "iter_n = 0\n",
    "x = np.zeros(n)\n",
    "\n",
    "while True:\n",
    "    x = Preconditioned_CGM(A, b, \"Jacobi\", initial_guess=x, iter_num=1)\n",
    "    iter_n += 1\n",
    "    if abs(x - x_e).max() < tol:\n",
    "        break\n",
    "        \n",
    "backward_error = (A.dot(x) - b).max()\n",
    "print(\"Iter: %d / Backward error: %g\" % (iter_n, backward_error))"
   ]
  },
  {
   "cell_type": "markdown",
   "metadata": {},
   "source": [
    "Gauss-Seidel preconditioner"
   ]
  },
  {
   "cell_type": "code",
   "execution_count": 29,
   "metadata": {
    "scrolled": true
   },
   "outputs": [
    {
     "name": "stdout",
     "output_type": "stream",
     "text": [
      "Iter: 10 / Backward error: 1.48701e-10\n"
     ]
    }
   ],
   "source": [
    "iter_n = 0\n",
    "x = np.zeros(n)\n",
    "\n",
    "while True:\n",
    "    x = Preconditioned_CGM(A, b, \"Gauss_Seidel\", initial_guess=x, iter_num=1)\n",
    "    iter_n += 1\n",
    "    if abs(x - x_e).max() < tol:\n",
    "        break\n",
    "        \n",
    "backward_error = (A.dot(x) - b).max()\n",
    "print(\"Iter: %d / Backward error: %g\" % (iter_n, backward_error))"
   ]
  },
  {
   "cell_type": "markdown",
   "metadata": {},
   "source": [
    "### Q. 7"
   ]
  },
  {
   "cell_type": "code",
   "execution_count": 30,
   "metadata": {
    "collapsed": true
   },
   "outputs": [],
   "source": [
    "def A_ij(n):\n",
    "    A = np.zeros((n, n))\n",
    "    for i in range(n - 2):\n",
    "        A[i, i] = i+1\n",
    "        A[i, i+1] = 0.5\n",
    "        A[i+1, i] = 0.5\n",
    "        A[i, i+2] = 0.5\n",
    "        A[i+2, i] = 0.5\n",
    "        \n",
    "    A[-2, -2] = n - 1\n",
    "    A[-1, -1] = n\n",
    "    A[-2, -1] = 0.5\n",
    "    A[-1, -2] = 0.5\n",
    "    \n",
    "    for i in range(n//2):\n",
    "        A[i, 2*i + 1] = 0.5\n",
    "        A[2*i + 1, i] = 0.5\n",
    "    \n",
    "    return A\n",
    "\n",
    "n = 1000\n",
    "A = A_ij(n)"
   ]
  },
  {
   "cell_type": "code",
   "execution_count": 31,
   "metadata": {},
   "outputs": [
    {
     "data": {
      "image/png": "[encoded data removed]",
      "text/plain": [
       "<matplotlib.figure.Figure at 0x9daab30>"
      ]
     },
     "metadata": {},
     "output_type": "display_data"
    }
   ],
   "source": [
    "# (a)\n",
    "plt.matshow(A_ij(100) != 0, cmap='binary')\n",
    "plt.show()"
   ]
  },
  {
   "cell_type": "code",
   "execution_count": 32,
   "metadata": {
    "collapsed": true
   },
   "outputs": [],
   "source": [
    "# (b)\n",
    "x_e = np.ones(n)\n",
    "b = A.dot(x_e)\n",
    "tol = 1e-10"
   ]
  },
  {
   "cell_type": "markdown",
   "metadata": {},
   "source": [
    "Conjugate Gradient Method without preconditioner"
   ]
  },
  {
   "cell_type": "code",
   "execution_count": 33,
   "metadata": {},
   "outputs": [
    {
     "name": "stdout",
     "output_type": "stream",
     "text": [
      "Iter: 15042 / Backward error: 2.67804e-11\n"
     ]
    }
   ],
   "source": [
    "iter_n = 0\n",
    "x = np.zeros(n)\n",
    "\n",
    "while True:\n",
    "    x = conj_grad_method(A, b, initial_guess=x, iter_num=1)\n",
    "    iter_n += 1\n",
    "    if abs(x - x_e).max() < tol:\n",
    "        break\n",
    "        \n",
    "backward_error = (A.dot(x) - b).max()\n",
    "print(\"Iter: %d / Backward error: %g\" % (iter_n, backward_error))"
   ]
  },
  {
   "cell_type": "markdown",
   "metadata": {},
   "source": [
    "Jacobi preconditioner"
   ]
  },
  {
   "cell_type": "code",
   "execution_count": 34,
   "metadata": {},
   "outputs": [
    {
     "name": "stdout",
     "output_type": "stream",
     "text": [
      "Iter: 30 / Backward error: 6.27631e-12\n"
     ]
    }
   ],
   "source": [
    "iter_n = 0\n",
    "x = np.zeros(n)\n",
    "\n",
    "while True:\n",
    "    x = Preconditioned_CGM(A, b, \"Jacobi\", initial_guess=x, iter_num=1)\n",
    "    iter_n += 1\n",
    "    if abs(x - x_e).max() < tol:\n",
    "        break\n",
    "        \n",
    "backward_error = (A.dot(x) - b).max()\n",
    "print(\"Iter: %d / Backward error: %g\" % (iter_n, backward_error))"
   ]
  },
  {
   "cell_type": "markdown",
   "metadata": {},
   "source": [
    "Gauss-Seidel preconditioner"
   ]
  },
  {
   "cell_type": "code",
   "execution_count": 35,
   "metadata": {
    "scrolled": true
   },
   "outputs": [
    {
     "name": "stdout",
     "output_type": "stream",
     "text": [
      "Iter: 11 / Backward error: 1.00044e-11\n"
     ]
    }
   ],
   "source": [
    "iter_n = 0\n",
    "x = np.zeros(n)\n",
    "\n",
    "while True:\n",
    "    x = Preconditioned_CGM(A, b, \"Gauss_Seidel\", initial_guess=x, iter_num=1)\n",
    "    iter_n += 1\n",
    "    if abs(x - x_e).max() < tol:\n",
    "        break\n",
    "        \n",
    "backward_error = (A.dot(x) - b).max()\n",
    "print(\"Iter: %d / Backward error: %g\" % (iter_n, backward_error))"
   ]
  },
  {
   "cell_type": "markdown",
   "metadata": {},
   "source": [
    "### Q. 8"
   ]
  },
  {
   "cell_type": "code",
   "execution_count": 36,
   "metadata": {
    "collapsed": true
   },
   "outputs": [],
   "source": [
    "def A_ij(n):\n",
    "    A = np.zeros((n, n))\n",
    "    \n",
    "    for i in range(n):\n",
    "        try:\n",
    "            A[i, i] = 2\n",
    "            A[i, i+2] = 0.5\n",
    "            A[i+2, i] = 0.5\n",
    "            A[i, i+4] = 0.5\n",
    "            A[i+4, i] = 0.5\n",
    "        except:\n",
    "            pass\n",
    "        \n",
    "    for i in range(n-5):\n",
    "        A[-1, i] = -0.1\n",
    "        A[i, -1] = -0.1\n",
    "\n",
    "    return A\n",
    "\n",
    "n = 500\n",
    "A = A_ij(n)"
   ]
  },
  {
   "cell_type": "code",
   "execution_count": 37,
   "metadata": {},
   "outputs": [
    {
     "data": {
      "image/png": "[encoded data removed]",
      "text/plain": [
       "<matplotlib.figure.Figure at 0xa90dd30>"
      ]
     },
     "metadata": {},
     "output_type": "display_data"
    }
   ],
   "source": [
    "# (a)\n",
    "plt.matshow(A_ij(100) != 0, cmap='binary')\n",
    "plt.show()"
   ]
  },
  {
   "cell_type": "code",
   "execution_count": 38,
   "metadata": {
    "collapsed": true
   },
   "outputs": [],
   "source": [
    "# (b)\n",
    "x_e = np.ones(n)\n",
    "b = A.dot(x_e)\n",
    "tol = 1e-10"
   ]
  },
  {
   "cell_type": "markdown",
   "metadata": {},
   "source": [
    "Conjugate Gradient Method without preconditioner"
   ]
  },
  {
   "cell_type": "code",
   "execution_count": 39,
   "metadata": {},
   "outputs": [
    {
     "name": "stdout",
     "output_type": "stream",
     "text": [
      "Iter: 208 / Backward error: 1.39959e-11\n"
     ]
    }
   ],
   "source": [
    "iter_n = 0\n",
    "x = np.zeros(n)\n",
    "\n",
    "while True:\n",
    "    x = conj_grad_method(A, b, initial_guess=x, iter_num=1)\n",
    "    iter_n += 1\n",
    "    if abs(x - x_e).max() < tol:\n",
    "        break\n",
    "        \n",
    "backward_error = (A.dot(x) - b).max()\n",
    "print(\"Iter: %d / Backward error: %g\" % (iter_n, backward_error))"
   ]
  },
  {
   "cell_type": "markdown",
   "metadata": {},
   "source": [
    "Jacobi preconditioner"
   ]
  },
  {
   "cell_type": "code",
   "execution_count": 40,
   "metadata": {},
   "outputs": [
    {
     "name": "stdout",
     "output_type": "stream",
     "text": [
      "Iter: 208 / Backward error: 1.39959e-11\n"
     ]
    }
   ],
   "source": [
    "iter_n = 0\n",
    "x = np.zeros(n)\n",
    "\n",
    "while True:\n",
    "    x = Preconditioned_CGM(A, b, \"Jacobi\", initial_guess=x, iter_num=1)\n",
    "    iter_n += 1\n",
    "    if abs(x - x_e).max() < tol:\n",
    "        break\n",
    "        \n",
    "backward_error = (A.dot(x) - b).max()\n",
    "print(\"Iter: %d / Backward error: %g\" % (iter_n, backward_error))"
   ]
  },
  {
   "cell_type": "markdown",
   "metadata": {},
   "source": [
    "Gauss-Seidel preconditioner"
   ]
  },
  {
   "cell_type": "code",
   "execution_count": 41,
   "metadata": {
    "scrolled": true
   },
   "outputs": [
    {
     "name": "stdout",
     "output_type": "stream",
     "text": [
      "Iter: 38 / Backward error: 4.85443e-11\n"
     ]
    }
   ],
   "source": [
    "iter_n = 0\n",
    "x = np.zeros(n)\n",
    "\n",
    "while True:\n",
    "    x = Preconditioned_CGM(A, b, \"Gauss_Seidel\", initial_guess=x, iter_num=1)\n",
    "    iter_n += 1\n",
    "    if abs(x - x_e).max() < tol:\n",
    "        break\n",
    "        \n",
    "backward_error = (A.dot(x) - b).max()\n",
    "print(\"Iter: %d / Backward error: %g\" % (iter_n, backward_error))"
   ]
  },
  {
   "cell_type": "markdown",
   "metadata": {},
   "source": [
    "### Q. 9"
   ]
  },
  {
   "cell_type": "code",
   "execution_count": 42,
   "metadata": {
    "collapsed": true
   },
   "outputs": [],
   "source": [
    "def A_ij(n):\n",
    "    A = np.zeros((n, n))\n",
    "    \n",
    "    for i in range(n):\n",
    "        try:\n",
    "            A[i, i] = (i+1)**(1/3)\n",
    "            A[i, i+2] = 0.5\n",
    "            A[i+2, i] = 0.5\n",
    "            A[i, i+4] = 0.5\n",
    "            A[i+4, i] = 0.5\n",
    "        except:\n",
    "            pass\n",
    "        \n",
    "    for i in range(n-5):\n",
    "        A[-1, i] = -0.1\n",
    "        A[i, -1] = -0.1\n",
    "\n",
    "    return A\n",
    "\n",
    "n = 500\n",
    "A = A_ij(n)"
   ]
  },
  {
   "cell_type": "code",
   "execution_count": 43,
   "metadata": {},
   "outputs": [
    {
     "data": {
      "image/png": "[encoded data removed]",
      "text/plain": [
       "<matplotlib.figure.Figure at 0xa91d0f0>"
      ]
     },
     "metadata": {},
     "output_type": "display_data"
    }
   ],
   "source": [
    "# (a)\n",
    "plt.matshow(A_ij(100) != 0, cmap='binary')\n",
    "plt.show()"
   ]
  },
  {
   "cell_type": "code",
   "execution_count": 44,
   "metadata": {
    "collapsed": true
   },
   "outputs": [],
   "source": [
    "# (b)\n",
    "x_e = np.ones(n)\n",
    "b = A.dot(x_e)\n",
    "tol = 1e-10"
   ]
  },
  {
   "cell_type": "markdown",
   "metadata": {},
   "source": [
    "Conjugate Gradient Method without preconditioner"
   ]
  },
  {
   "cell_type": "code",
   "execution_count": 45,
   "metadata": {
    "scrolled": true
   },
   "outputs": [
    {
     "name": "stdout",
     "output_type": "stream",
     "text": [
      "Iter: 208 / Backward error: 5.00222e-11\n"
     ]
    }
   ],
   "source": [
    "iter_n = 0\n",
    "x = np.zeros(n)\n",
    "\n",
    "while True:\n",
    "    x = conj_grad_method(A, b, initial_guess=x, iter_num=1)\n",
    "    iter_n += 1\n",
    "    if abs(x - x_e).max() < tol:\n",
    "        break\n",
    "        \n",
    "backward_error = (A.dot(x) - b).max()\n",
    "print(\"Iter: %d / Backward error: %g\" % (iter_n, backward_error))"
   ]
  },
  {
   "cell_type": "markdown",
   "metadata": {},
   "source": [
    "Jacobi preconditioner"
   ]
  },
  {
   "cell_type": "code",
   "execution_count": 46,
   "metadata": {},
   "outputs": [
    {
     "name": "stdout",
     "output_type": "stream",
     "text": [
      "Iter: 53 / Backward error: 5.01581e-11\n"
     ]
    }
   ],
   "source": [
    "iter_n = 0\n",
    "x = np.zeros(n)\n",
    "\n",
    "while True:\n",
    "    x = Preconditioned_CGM(A, b, \"Jacobi\", initial_guess=x, iter_num=1)\n",
    "    iter_n += 1\n",
    "    if abs(x - x_e).max() < tol:\n",
    "        break\n",
    "        \n",
    "backward_error = (A.dot(x) - b).max()\n",
    "print(\"Iter: %d / Backward error: %g\" % (iter_n, backward_error))"
   ]
  },
  {
   "cell_type": "markdown",
   "metadata": {},
   "source": [
    "Gauss-Seidel preconditioner"
   ]
  },
  {
   "cell_type": "code",
   "execution_count": 47,
   "metadata": {
    "scrolled": false
   },
   "outputs": [
    {
     "name": "stdout",
     "output_type": "stream",
     "text": [
      "Iter: 14 / Backward error: 3.85256e-11\n"
     ]
    }
   ],
   "source": [
    "iter_n = 0\n",
    "x = np.zeros(n)\n",
    "\n",
    "while True:\n",
    "    x = Preconditioned_CGM(A, b, \"Gauss_Seidel\", initial_guess=x, iter_num=1)\n",
    "    iter_n += 1\n",
    "    if abs(x - x_e).max() < tol:\n",
    "        break\n",
    "        \n",
    "backward_error = (A.dot(x) - b).max()\n",
    "print(\"Iter: %d / Backward error: %g\" % (iter_n, backward_error))"
   ]
  },
  {
   "cell_type": "markdown",
   "metadata": {},
   "source": [
    "### Q. 10"
   ]
  },
  {
   "cell_type": "code",
   "execution_count": 48,
   "metadata": {
    "collapsed": true
   },
   "outputs": [],
   "source": [
    "def A_ij(n):\n",
    "    A = np.zeros((4*n, 4*n))\n",
    "    C = np.zeros((n, n))\n",
    "    \n",
    "    for i in range(n):\n",
    "        C[i, i] = 2\n",
    "        try:\n",
    "            C[i, i+3] = 0.1\n",
    "            C[i+3, i] = 0.1\n",
    "            C[i, i+39] = 0.5\n",
    "            C[i+39, i] = 0.5\n",
    "            C[i, i+42] = 0.5\n",
    "            C[i+42, i] = 0.5\n",
    "        except:\n",
    "            pass\n",
    "            \n",
    "    for i in range(4):\n",
    "        A[i*n:(i+1)*n, i*n:(i+1)*n] = C\n",
    "        try:\n",
    "            A[(i+1)*n:(i+2)*n, i*n:(i+1)*n] = C/2\n",
    "            A[i*n:(i+1)*n, (i+1)*n:(i+2)*n] = C/2\n",
    "        except:\n",
    "            pass\n",
    "        \n",
    "    return A\n",
    "\n",
    "n = 195\n",
    "A = A_ij(n)"
   ]
  },
  {
   "cell_type": "code",
   "execution_count": 49,
   "metadata": {},
   "outputs": [
    {
     "data": {
      "image/png": "[encoded data removed]",
      "text/plain": [
       "<matplotlib.figure.Figure at 0xaba5170>"
      ]
     },
     "metadata": {},
     "output_type": "display_data"
    }
   ],
   "source": [
    "# (a)\n",
    "plt.matshow(A_ij(25) != 0, cmap='binary')\n",
    "plt.show()"
   ]
  },
  {
   "cell_type": "code",
   "execution_count": 50,
   "metadata": {},
   "outputs": [],
   "source": [
    "# (b)\n",
    "x_e = np.ones(4*n)\n",
    "b = A.dot(x_e)\n",
    "tol = 1e-10"
   ]
  },
  {
   "cell_type": "markdown",
   "metadata": {},
   "source": [
    "Conjugate Gradient Method without preconditioner"
   ]
  },
  {
   "cell_type": "code",
   "execution_count": 51,
   "metadata": {
    "scrolled": true
   },
   "outputs": [
    {
     "name": "stdout",
     "output_type": "stream",
     "text": [
      "Iter: 213 / Backward error: 4.6203e-11\n"
     ]
    }
   ],
   "source": [
    "iter_n = 0\n",
    "x = np.zeros(4*n)\n",
    "\n",
    "while True:\n",
    "    x = conj_grad_method(A, b, initial_guess=x, iter_num=1)\n",
    "    iter_n += 1\n",
    "    if abs(x - x_e).max() < tol:\n",
    "        break\n",
    "        \n",
    "backward_error = (A.dot(x) - b).max()\n",
    "print(\"Iter: %d / Backward error: %g\" % (iter_n, backward_error))"
   ]
  },
  {
   "cell_type": "markdown",
   "metadata": {},
   "source": [
    "Jacobi preconditioner"
   ]
  },
  {
   "cell_type": "code",
   "execution_count": 52,
   "metadata": {},
   "outputs": [
    {
     "name": "stdout",
     "output_type": "stream",
     "text": [
      "Iter: 213 / Backward error: 4.6203e-11\n"
     ]
    }
   ],
   "source": [
    "iter_n = 0\n",
    "x = np.zeros(4*n)\n",
    "\n",
    "while True:\n",
    "    x = Preconditioned_CGM(A, b, \"Jacobi\", initial_guess=x, iter_num=1)\n",
    "    iter_n += 1\n",
    "    if abs(x - x_e).max() < tol:\n",
    "        break\n",
    "        \n",
    "backward_error = (A.dot(x) - b).max()\n",
    "print(\"Iter: %d / Backward error: %g\" % (iter_n, backward_error))"
   ]
  },
  {
   "cell_type": "markdown",
   "metadata": {},
   "source": [
    "Gauss-Seidel preconditioner"
   ]
  },
  {
   "cell_type": "code",
   "execution_count": 53,
   "metadata": {
    "scrolled": false
   },
   "outputs": [
    {
     "name": "stdout",
     "output_type": "stream",
     "text": [
      "Iter: 69 / Backward error: 2.0127e-11\n"
     ]
    }
   ],
   "source": [
    "iter_n = 0\n",
    "x = np.zeros(4*n)\n",
    "\n",
    "while True:\n",
    "    x = Preconditioned_CGM(A, b, \"Gauss_Seidel\", initial_guess=x, iter_num=1)\n",
    "    iter_n += 1\n",
    "    if abs(x - x_e).max() < tol:\n",
    "        break\n",
    "        \n",
    "backward_error = (A.dot(x) - b).max()\n",
    "print(\"Iter: %d / Backward error: %g\" % (iter_n, backward_error))"
   ]
  }
 ],
 "metadata": {
  "kernelspec": {
   "display_name": "Python 3",
   "language": "python",
   "name": "python3"
  },
  "language_info": {
   "codemirror_mode": {
    "name": "ipython",
    "version": 3
   },
   "file_extension": ".py",
   "mimetype": "text/x-python",
   "name": "python",
   "nbconvert_exporter": "python",
   "pygments_lexer": "ipython3",
   "version": "3.6.3"
  }
 },
 "nbformat": 4,
 "nbformat_minor": 2
}

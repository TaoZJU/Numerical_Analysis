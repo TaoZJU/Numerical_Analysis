{
 "cells": [
  {
   "cell_type": "code",
   "execution_count": 1,
   "metadata": {},
   "outputs": [],
   "source": [
    "import numpy as np"
   ]
  },
  {
   "cell_type": "code",
   "execution_count": 2,
   "metadata": {},
   "outputs": [],
   "source": [
    "sqrt = np.sqrt"
   ]
  },
  {
   "cell_type": "markdown",
   "metadata": {},
   "source": [
    "# Chapter 2<br>Systems of Equations"
   ]
  },
  {
   "cell_type": "markdown",
   "metadata": {},
   "source": [
    "## 2.7 Nonlinear Systems of Equations"
   ]
  },
  {
   "cell_type": "code",
   "execution_count": 3,
   "metadata": {},
   "outputs": [],
   "source": [
    "def Gaussian_elimination(equation):\n",
    "    A = equation.copy()\n",
    "    m, n = A.shape\n",
    "\n",
    "    for i in range(m):\n",
    "        A[i] = A[i] / A[i, i]\n",
    "        for j in range(i+1, m):\n",
    "            A[j] -= A[j, i]*A[i]\n",
    "\n",
    "    for i in range(m-1, 0, -1):\n",
    "        for j in range(i):\n",
    "            A[j] -= A[j, i]*A[i]\n",
    "            \n",
    "    return A"
   ]
  },
  {
   "cell_type": "code",
   "execution_count": 4,
   "metadata": {},
   "outputs": [],
   "source": [
    "def Newton_Method(F, DF, x, iter_num=10**4):\n",
    "    for _ in range(iter_num):\n",
    "        s = np.linalg.inv(DF(x)).dot(F(x))\n",
    "#         A = np.insert(np.array(F(x), dtype=float).reshape(-1, 1), [0], DF(x), axis=1)\n",
    "#         s = Gaussian_elimination(A)[:, -1]\n",
    "        \n",
    "        x -= s\n",
    "    \n",
    "    return x"
   ]
  },
  {
   "cell_type": "code",
   "execution_count": 5,
   "metadata": {},
   "outputs": [],
   "source": [
    "def Broyden_Method_I(F, x, A, iter_num=10**4):\n",
    "    x = np.array(x, dtype=float)\n",
    "    n = len(x)\n",
    "    \n",
    "    for _ in range(iter_num):\n",
    "        d_i = -np.linalg.inv(A).dot(F(x))\n",
    "        D_i = F(x + d_i) - F(x)\n",
    "        A += (D_i - A.dot(d_i)).reshape(n, 1).dot(d_i.reshape(1, n)) / d_i.dot(d_i)\n",
    "        x += d_i\n",
    "        \n",
    "    return x   "
   ]
  },
  {
   "cell_type": "code",
   "execution_count": 6,
   "metadata": {},
   "outputs": [],
   "source": [
    "def Broyden_Method_II(F, x, B, iter_num=10**4):\n",
    "    x = np.array(x, dtype=float)\n",
    "    n = len(x)\n",
    "    \n",
    "    for _ in range(iter_num):\n",
    "        d_i = -B.dot(F(x))\n",
    "        D_i = F(x + d_i) - F(x)\n",
    "        B += (d_i - B.dot(D_i)).reshape(n, 1).dot(d_i.reshape(1, n)).dot(B) / d_i.dot(B).dot(D_i)\n",
    "        x += d_i\n",
    "        \n",
    "    return x"
   ]
  },
  {
   "cell_type": "markdown",
   "metadata": {},
   "source": [
    "### Q. 1"
   ]
  },
  {
   "cell_type": "code",
   "execution_count": 7,
   "metadata": {},
   "outputs": [],
   "source": [
    "# (a)\n",
    "def F(x):\n",
    "    u, v = x\n",
    "    f1 = u**2 + v**2 - 1\n",
    "    f2 = (u-1)**2 + v**2 - 1\n",
    "    \n",
    "    return np.array([f1, f2]) \n",
    "\n",
    "def DF(x):\n",
    "    u, v = x\n",
    "    df1 = (2*u, 2*v)\n",
    "    df2 = (2*u - 2, 2*v)\n",
    "    \n",
    "    return np.array([df1, df2])\n",
    "\n",
    "x_true = [(0.5, sqrt(3)/2), (0.5, -sqrt(3)/2)]"
   ]
  },
  {
   "cell_type": "code",
   "execution_count": 8,
   "metadata": {},
   "outputs": [
    {
     "name": "stdout",
     "output_type": "stream",
     "text": [
      "(u, v): (0.5, 0.8660254037844387) Ans: (0.5, 0.8660254037844386)\n",
      "(u, v): (0.5, -0.8660254037844387) Ans: (0.5, -0.8660254037844386)\n"
     ]
    }
   ],
   "source": [
    "starting_points = [(0, 1), (0, -1)]\n",
    "\n",
    "for i, x_0 in enumerate(starting_points):\n",
    "    x = Newton_Method(F, DF, x_0)\n",
    "    print(\"(u, v):\", tuple(x), \"Ans:\", tuple(x_true[i]))"
   ]
  },
  {
   "cell_type": "code",
   "execution_count": 9,
   "metadata": {},
   "outputs": [],
   "source": [
    "# (b)\n",
    "def F(x):\n",
    "    u, v = x\n",
    "    f1 = u**2 + 4*v**2 - 4\n",
    "    f2 = 4*u**2 + v**2 - 4\n",
    "    \n",
    "    return np.array([f1, f2])\n",
    "\n",
    "def DF(x):\n",
    "    u, v = x\n",
    "    df1 = (2*u, 8*v)\n",
    "    df2 = (8*u, 2*v)\n",
    "    \n",
    "    return np.array([df1, df2])\n",
    "\n",
    "x_true = [(2/sqrt(5), 2/sqrt(5)), (2/sqrt(5), -2/sqrt(5)),\n",
    "         (-2/sqrt(5), 2/sqrt(5)), (-2/sqrt(5), -2/sqrt(5))]"
   ]
  },
  {
   "cell_type": "code",
   "execution_count": 10,
   "metadata": {},
   "outputs": [
    {
     "name": "stdout",
     "output_type": "stream",
     "text": [
      "(u, v): (0.8944271909999159, 0.8944271909999159) Ans: (0.8944271909999159, 0.8944271909999159)\n",
      "(u, v): (0.8944271909999159, -0.8944271909999159) Ans: (0.8944271909999159, -0.8944271909999159)\n",
      "(u, v): (-0.8944271909999159, 0.8944271909999159) Ans: (-0.8944271909999159, 0.8944271909999159)\n",
      "(u, v): (-0.8944271909999159, -0.8944271909999159) Ans: (-0.8944271909999159, -0.8944271909999159)\n"
     ]
    }
   ],
   "source": [
    "starting_points = [(1, 1), (1, -1), (-1, 1), (-1, -1)]\n",
    "\n",
    "for i, x_0 in enumerate(starting_points):\n",
    "    x = Newton_Method(F, DF, x_0)\n",
    "    print(\"(u, v):\", tuple(x), \"Ans:\", x_true[i])"
   ]
  },
  {
   "cell_type": "code",
   "execution_count": 11,
   "metadata": {
    "scrolled": true
   },
   "outputs": [],
   "source": [
    "# (c)\n",
    "def F(x):\n",
    "    u, v = x\n",
    "    f1 = u**2 - 4*v**2 - 4\n",
    "    f2 = (u-1)**2 + v**2 - 4\n",
    "    \n",
    "    return np.array([f1, f2])\n",
    "\n",
    "def DF(x):\n",
    "    u, v = x\n",
    "    df1 = (2*u, -8*v)\n",
    "    df2 = (2*u - 2, 2*v)\n",
    "    \n",
    "    return np.array([df1, df2])\n",
    "\n",
    "x_true = [((4 + 4*sqrt(6))/5, sqrt(3 + 8*sqrt(6))/5), ((4 + 4*sqrt(6))/5, -sqrt(3 + 8*sqrt(6))/5)]"
   ]
  },
  {
   "cell_type": "code",
   "execution_count": 12,
   "metadata": {
    "scrolled": true
   },
   "outputs": [
    {
     "name": "stdout",
     "output_type": "stream",
     "text": [
      "(u, v): (2.7595917942265427, 0.9507032753128691) Ans: (2.759591794226542, 0.950703275312869)\n",
      "(u, v): (2.7595917942265427, -0.9507032753128691) Ans: (2.759591794226542, -0.950703275312869)\n"
     ]
    }
   ],
   "source": [
    "starting_points = [(1, 1), (1, -1)]\n",
    "\n",
    "for i, x_0 in enumerate(starting_points):\n",
    "    x = Newton_Method(F, DF, x_0)\n",
    "    print(\"(u, v):\", tuple(x), \"Ans:\", x_true[i])"
   ]
  },
  {
   "cell_type": "markdown",
   "metadata": {},
   "source": [
    "### Q. 2"
   ]
  },
  {
   "cell_type": "code",
   "execution_count": 13,
   "metadata": {},
   "outputs": [],
   "source": [
    "# The question was meant to refer to the example 2.33\n",
    "def F(x):\n",
    "    u, v = x\n",
    "    f1 = 6*u**3 + u*v - 3*v**3 - 4\n",
    "    f2 = u**2 - 18*u*v**2 + 16*v**3 + 1\n",
    "    \n",
    "    return np.array([f1, f2])\n",
    "\n",
    "def DF(x):\n",
    "    u, v = x\n",
    "    df1 = (18*u**2 + v, u - 9*v**2)\n",
    "    df2 = (2*u - 18*v**2, -36*u*v + 48*v**2)\n",
    "    \n",
    "    return np.array([df1, df2])"
   ]
  },
  {
   "cell_type": "code",
   "execution_count": 14,
   "metadata": {},
   "outputs": [
    {
     "name": "stdout",
     "output_type": "stream",
     "text": [
      "(u, v): (1.0, 1.0)\n",
      "(u, v): (0.8868094164160325, -0.29400704390184035)\n",
      "(u, v): (0.8659389188736499, 0.46216792132821477)\n",
      "(u, v): (0.8868094164160325, -0.29400704390184035)\n"
     ]
    }
   ],
   "source": [
    "starting_points = [(1, 1), (1, -1), (-1, 1), (-1, -1)]\n",
    "\n",
    "for x_0 in starting_points:\n",
    "    x = Newton_Method(F, DF, x_0)\n",
    "    print(\"(u, v):\", tuple(x))"
   ]
  },
  {
   "cell_type": "markdown",
   "metadata": {},
   "source": [
    "### Q. 3"
   ]
  },
  {
   "cell_type": "code",
   "execution_count": 15,
   "metadata": {},
   "outputs": [],
   "source": [
    "def F(x):\n",
    "    u, v = x\n",
    "    f1 = u**3 - v**3 + u\n",
    "    f2 = u**2 + v**2 - 1\n",
    "    \n",
    "    return np.array([f1, f2])\n",
    "\n",
    "def DF(x):\n",
    "    u, v = x\n",
    "    df1 = (3*u**2 + 1, -3*v**2)\n",
    "    df2 = (2*u, 2*v)\n",
    "    \n",
    "    return np.array([df1, df2])"
   ]
  },
  {
   "cell_type": "code",
   "execution_count": 16,
   "metadata": {},
   "outputs": [
    {
     "name": "stdout",
     "output_type": "stream",
     "text": [
      "(u, v): (0.507992000407952, 0.8613617866619853)\n",
      "(u, v): (-0.5079920004079519, -0.8613617866619853)\n",
      "(u, v): (0.5079920004079519, 0.8613617866619853)\n",
      "(u, v): (-0.507992000407952, -0.8613617866619853)\n"
     ]
    }
   ],
   "source": [
    "starting_points = [(1, 1), (1, -1), (-1, 1), (-1, -1)]\n",
    "\n",
    "for x_0 in starting_points:\n",
    "    x = Newton_Method(F, DF, x_0)\n",
    "    print(\"(u, v):\", tuple(x))"
   ]
  },
  {
   "cell_type": "markdown",
   "metadata": {},
   "source": [
    "### Q. 4"
   ]
  },
  {
   "cell_type": "code",
   "execution_count": 17,
   "metadata": {},
   "outputs": [],
   "source": [
    "def F(x):\n",
    "    u, v, w = x\n",
    "    f1 = 2*u**2 - 4*u + v**2 + 3*w**2 + 6*w + 2\n",
    "    f2 = u**2 + v**2 - 2*v + 2*w**2 - 5\n",
    "    f3 = 3*u**2 - 12*u + v**2 + 3*w**2 + 8\n",
    "    \n",
    "    return np.array([f1, f2, f3])\n",
    "\n",
    "def DF(x):\n",
    "    u, v, w = x\n",
    "    df1 = (4*u - 4, 2*v, 6*w + 6)\n",
    "    df2 = (2*u, 2*v - 2, 4*w)\n",
    "    df3 = (6*u - 12, 2*v, 6*w)\n",
    "    \n",
    "    return np.array([df1, df2, df3])"
   ]
  },
  {
   "cell_type": "code",
   "execution_count": 18,
   "metadata": {},
   "outputs": [
    {
     "name": "stdout",
     "output_type": "stream",
     "text": [
      "(u, v, w): (1.096017841000413, -1.1592471842105878, -0.2611479367020165)\n",
      "(u, v, w): (2.0, 0.9999999999999999, -0.9999999999999999)\n",
      "(u, v, w): (1.096017841000413, -1.1592471842105878, -0.2611479367020165)\n",
      "(u, v, w): (1.0960178410004133, -1.1592471842105876, -0.26114793670201647)\n",
      "(u, v, w): (1.096017841000413, -1.1592471842105878, -0.2611479367020165)\n",
      "(u, v, w): (2.0, 1.0000000000000002, -1.0)\n",
      "(u, v, w): (1.0960178410004133, -1.1592471842105876, -0.26114793670201647)\n",
      "(u, v, w): (1.0960178410004133, -1.1592471842105876, -0.26114793670201647)\n"
     ]
    }
   ],
   "source": [
    "starting_points = [(1, 1, 1), (1, 1, -1), (1, -1, 1), (1, -1, -1), \n",
    "                   (-1, 1, 1), (-1, 1, -1), (-1, -1, 1), (-1, -1, -1)]\n",
    "\n",
    "for x_0 in starting_points:\n",
    "    x = Newton_Method(F, DF, x_0)\n",
    "    print(\"(u, v, w):\", tuple(x))"
   ]
  },
  {
   "cell_type": "markdown",
   "metadata": {},
   "source": [
    "### Q. 5"
   ]
  },
  {
   "cell_type": "code",
   "execution_count": 19,
   "metadata": {},
   "outputs": [],
   "source": [
    "# (a)\n",
    "def F(x):\n",
    "    u, v, w = x\n",
    "    f1 = (u-1)**2 + (v-1)**2 + w**2 - 1\n",
    "    f2 = (u-1)**2 + v**2 + (w-1)**2 - 1\n",
    "    f3 = u**2 + (v-1)**2 + (w-1)**2 - 1\n",
    "    \n",
    "    return np.array([f1, f2, f3])\n",
    "\n",
    "def DF(x):\n",
    "    u, v, w = x\n",
    "    df1 = (2*u - 2, 2*v - 2, 2*w)\n",
    "    df2 = (2*u - 2, 2*v, 2*w - 2)\n",
    "    df3 = (2*u, 2*v - 2, 2*w - 2)\n",
    "    \n",
    "    return np.array([df1, df2, df3])"
   ]
  },
  {
   "cell_type": "code",
   "execution_count": 20,
   "metadata": {},
   "outputs": [
    {
     "name": "stdout",
     "output_type": "stream",
     "text": [
      "(u, v, w): (1.0, 1.0, 1.0)\n",
      "(u, v, w): (0.3333333333333333, 0.3333333333333333, 0.3333333333333332)\n",
      "(u, v, w): (0.3333333333333333, 0.3333333333333333, 0.3333333333333332)\n",
      "(u, v, w): (0.3333333333333333, 0.3333333333333333, 0.3333333333333332)\n",
      "(u, v, w): (0.3333333333333333, 0.3333333333333333, 0.3333333333333332)\n",
      "(u, v, w): (0.33333333333333337, 0.33333333333333337, 0.33333333333333337)\n",
      "(u, v, w): (0.33333333333333337, 0.33333333333333337, 0.33333333333333337)\n",
      "(u, v, w): (0.3333333333333333, 0.3333333333333333, 0.3333333333333332)\n"
     ]
    }
   ],
   "source": [
    "starting_points = [(1, 1, 1), (1, 1, -1), (1, -1, 1), (1, -1, -1), \n",
    "                   (-1, 1, 1), (-1, 1, -1), (-1, -1, 1), (-1, -1, -1)]\n",
    "\n",
    "for x_0 in starting_points:\n",
    "    x = Newton_Method(F, DF, x_0)\n",
    "    print(\"(u, v, w):\", tuple(x))"
   ]
  },
  {
   "cell_type": "code",
   "execution_count": 21,
   "metadata": {},
   "outputs": [],
   "source": [
    "# (b)\n",
    "def F(x):\n",
    "    u, v, w = x\n",
    "    f1 = (u-1)**2 + (v+2)**2 + w**2 - 25\n",
    "    f2 = (u+2)**2 + (v-2)**2 + (w+1)**2 - 25\n",
    "    f3 = (u-4)**2 + (v+2)**2 + (w-3)**2 - 25\n",
    "    \n",
    "    return np.array([f1, f2, f3])\n",
    "\n",
    "def DF(x):\n",
    "    u, v, w = x\n",
    "    df1 = (2*u - 2, 2*v + 4, 2*w)\n",
    "    df2 = (2*u + 4, 2*v - 4, 2*w + 2)\n",
    "    df3 = (2*u - 8, 2*v + 4, 2*w - 6)\n",
    "    \n",
    "    return np.array([df1, df2, df3])"
   ]
  },
  {
   "cell_type": "code",
   "execution_count": 22,
   "metadata": {
    "scrolled": true
   },
   "outputs": [
    {
     "name": "stdout",
     "output_type": "stream",
     "text": [
      "(u, v, w): (1.8888888888888902, 2.4444444444444446, 2.11111111111111)\n",
      "(u, v, w): (1.88888888888889, 2.444444444444445, 2.11111111111111)\n",
      "(u, v, w): (1.0000000000000009, 2.000000000000001, 2.999999999999999)\n",
      "(u, v, w): (1.8888888888888897, 2.4444444444444446, 2.1111111111111103)\n",
      "(u, v, w): (1.0000000000000027, 2.0000000000000018, 2.999999999999998)\n",
      "(u, v, w): (1.8888888888888895, 2.444444444444445, 2.1111111111111103)\n",
      "(u, v, w): (0.999999999999999, 1.9999999999999993, 3.000000000000001)\n",
      "(u, v, w): (1.0000000000000007, 2.000000000000001, 2.999999999999999)\n"
     ]
    }
   ],
   "source": [
    "starting_points = [(1, 1, 1), (1, 1, -1), (1, -1, 1), (1, -1, -1), \n",
    "                   (-1, 1, 1), (-1, 1, -1), (-1, -1, 1), (-1, -1, -1)]\n",
    "\n",
    "for x_0 in starting_points:\n",
    "    x = Newton_Method(F, DF, x_0)\n",
    "    print(\"(u, v, w):\", tuple(x))"
   ]
  },
  {
   "cell_type": "markdown",
   "metadata": {},
   "source": [
    "### Q. 6"
   ]
  },
  {
   "cell_type": "code",
   "execution_count": 23,
   "metadata": {},
   "outputs": [],
   "source": [
    "def F(x):\n",
    "    u, v, w = x\n",
    "    f1 = (u-1)**2 + v**2 + (w-1)**2 - 8\n",
    "    f2 = u**2 + (v-2)**2 + (w-2)**2 - 2\n",
    "    f3 = u**2 + (v-3)**2 + (w-3)**2 - 2\n",
    "    \n",
    "    return np.array([f1, f2, f3])\n",
    "\n",
    "def DF(x):\n",
    "    u, v, w = x\n",
    "    df1 = (2*u - 2, 2*v, 2*w - 2)\n",
    "    df2 = (2*u, 2*v - 4, 2*w - 4)\n",
    "    df3 = (2*u, 2*v - 6, 2*w - 6)\n",
    "    \n",
    "    return np.array([df1, df2, df3])"
   ]
  },
  {
   "cell_type": "code",
   "execution_count": 24,
   "metadata": {},
   "outputs": [
    {
     "name": "stdout",
     "output_type": "stream",
     "text": [
      "(u, v, w): (1.000000012345515, 2.0000000123455153, 2.9999999876544847)\n",
      "(u, v, w): (1.0000000078038922, 2.000000007803892, 2.999999992196108)\n",
      "(u, v, w): (0.9999999799927836, 1.9999999799927841, 3.000000020007216)\n",
      "(u, v, w): (1.0000000066934143, 2.0000000066934143, 2.9999999933065857)\n",
      "(u, v, w): (0.999999987629457, 1.9999999876294572, 3.000000012370543)\n",
      "(u, v, w): (1.0000000154674602, 2.0000000154674606, 2.9999999845325394)\n",
      "(u, v, w): (0.9999999918520664, 1.9999999918520666, 3.0000000081479334)\n",
      "(u, v, w): (0.9999999878264226, 1.9999999878264227, 3.0000000121735773)\n"
     ]
    }
   ],
   "source": [
    "starting_points = [(1, 1, 1), (1, 1, -1), (1, -1, 1), (1, -1, -1), \n",
    "                   (-1, 1, 1), (-1, 1, -1), (-1, -1, 1), (-1, -1, -1)]\n",
    "\n",
    "for x_0 in starting_points:\n",
    "    x = Newton_Method(F, DF, x_0)\n",
    "    print(\"(u, v, w):\", tuple(x))"
   ]
  },
  {
   "cell_type": "markdown",
   "metadata": {},
   "source": [
    "The iteration does not converge quadratically."
   ]
  },
  {
   "cell_type": "markdown",
   "metadata": {},
   "source": [
    "### Q. 7"
   ]
  },
  {
   "cell_type": "code",
   "execution_count": 25,
   "metadata": {},
   "outputs": [],
   "source": [
    "def F(x):\n",
    "    u, v = x\n",
    "    f1 = u**3 - v**3 + u\n",
    "    f2 = u**2 + v**2 - 1\n",
    "    \n",
    "    return np.array([f1, f2])"
   ]
  },
  {
   "cell_type": "code",
   "execution_count": 26,
   "metadata": {},
   "outputs": [
    {
     "name": "stdout",
     "output_type": "stream",
     "text": [
      "Step: 67 / (u, v): (0.5079920004079519, 0.8613617866619853)\n"
     ]
    }
   ],
   "source": [
    "x_0 = (1, 1)\n",
    "A = np.identity(2)\n",
    "\n",
    "required_step = 67\n",
    "x = Broyden_Method_I(F, x_0, A, required_step)\n",
    "print(\"Step: %d / (u, v):\" % required_step, tuple(x))"
   ]
  },
  {
   "cell_type": "markdown",
   "metadata": {},
   "source": [
    "### Q. 8"
   ]
  },
  {
   "cell_type": "code",
   "execution_count": 27,
   "metadata": {},
   "outputs": [],
   "source": [
    "def F(x):\n",
    "    u, v = x\n",
    "    f1 = u**3 - v**3 + u\n",
    "    f2 = u**2 + v**2 - 1\n",
    "    \n",
    "    return np.array([f1, f2])"
   ]
  },
  {
   "cell_type": "code",
   "execution_count": 28,
   "metadata": {
    "scrolled": true
   },
   "outputs": [
    {
     "name": "stdout",
     "output_type": "stream",
     "text": [
      "Step: 13 / (u, v): (0.507992000407952, 0.8613617866619853)\n"
     ]
    }
   ],
   "source": [
    "x_0 = (1, 1)\n",
    "B = np.identity(2)\n",
    "\n",
    "required_step = 13\n",
    "x = Broyden_Method_II(F, x_0, B, required_step)\n",
    "print(\"Step: %d / (u, v):\" % required_step, tuple(x))"
   ]
  },
  {
   "cell_type": "markdown",
   "metadata": {},
   "source": [
    "### Q. 9"
   ]
  },
  {
   "cell_type": "code",
   "execution_count": 29,
   "metadata": {},
   "outputs": [],
   "source": [
    "# (a)\n",
    "def F(x):\n",
    "    u, v, w = x\n",
    "    f1 = (u-1)**2 + (v-1)**2 + w**2 - 1\n",
    "    f2 = (u-1)**2 + v**2 + (w-1)**2 - 1\n",
    "    f3 = u**2 + (v-1)**2 + (w-1)**2 - 1\n",
    "    \n",
    "    return np.array([f1, f2, f3])"
   ]
  },
  {
   "cell_type": "code",
   "execution_count": 30,
   "metadata": {},
   "outputs": [
    {
     "name": "stdout",
     "output_type": "stream",
     "text": [
      "(u, v, w): (nan, nan, nan)\n",
      "(u, v, w): (0.33524142813670843, 0.33410387428267685, 0.3354162658401394)\n",
      "(u, v, w): (0.3333333333322386, 0.3333333333333353, 0.33333333333443216)\n",
      "(u, v, w): (0.3333330748493395, 0.3333330687839443, 0.33333307709030124)\n",
      "(u, v, w): (0.3354162658348616, 0.3341038742776292, 0.33524142813145863)\n",
      "(u, v, w): (0.3333333333333333, 0.3333333333333333, 0.3333333333333333)\n",
      "(u, v, w): (0.33333307709030124, 0.3333330687839443, 0.3333330748493395)\n",
      "(u, v, w): (nan, nan, nan)\n"
     ]
    },
    {
     "name": "stderr",
     "output_type": "stream",
     "text": [
      "C:\\Users\\snuist\\Anaconda3\\lib\\site-packages\\ipykernel_launcher.py:8: RuntimeWarning: invalid value encountered in true_divide\n",
      "  \n"
     ]
    }
   ],
   "source": [
    "starting_points = [(1, 1, 1), (1, 1, -1), (1, -1, 1), (1, -1, -1), \n",
    "                   (-1, 1, 1), (-1, 1, -1), (-1, -1, 1), (-1, -1, -1)]\n",
    "\n",
    "for i, x_0 in enumerate(starting_points):\n",
    "    A = np.identity(3)\n",
    "    x = Broyden_Method_I(F, x_0, A, 20)\n",
    "    print(\"(u, v, w):\", tuple(x))"
   ]
  },
  {
   "cell_type": "code",
   "execution_count": 31,
   "metadata": {},
   "outputs": [],
   "source": [
    "# (b)\n",
    "def F(x):\n",
    "    u, v, w = x\n",
    "    f1 = (u-1)**2 + (v+2)**2 + w**2 - 25\n",
    "    f2 = (u+2)**2 + (v-2)**2 + (w+1)**2 - 25\n",
    "    f3 = (u-4)**2 + (v+2)**2 + (w-3)**2 - 25\n",
    "    \n",
    "    return np.array([f1, f2, f3])"
   ]
  },
  {
   "cell_type": "code",
   "execution_count": 32,
   "metadata": {
    "scrolled": true
   },
   "outputs": [
    {
     "name": "stdout",
     "output_type": "stream",
     "text": [
      "(u, v, w): (1.8888888888887956, 2.4444444444444016, 2.1111111111112035)\n",
      "(u, v, w): (1.8888888888888886, 2.4444444444444438, 2.1111111111111116)\n",
      "(u, v, w): (1.8888888888930018, 2.4444444444465323, 2.1111111111070153)\n",
      "(u, v, w): (1.8888888888867532, 2.444444444443375, 2.111111111113244)\n",
      "(u, v, w): (0.9999999999999893, 1.9999999999999947, 3.0000000000000107)\n",
      "(u, v, w): (1.8888888888888904, 2.444444444444445, 2.1111111111111094)\n",
      "(u, v, w): (1.0000000000004665, 2.0000000000002327, 2.9999999999995337)\n",
      "(u, v, w): (1.888888888888895, 2.4444444444444473, 2.111111111111105)\n"
     ]
    },
    {
     "name": "stderr",
     "output_type": "stream",
     "text": [
      "C:\\Users\\snuist\\Anaconda3\\lib\\site-packages\\ipykernel_launcher.py:8: RuntimeWarning: invalid value encountered in true_divide\n",
      "  \n"
     ]
    }
   ],
   "source": [
    "starting_points = [(1, 1, 1), (1, 1, -1), (1, -1, 1), (1, -1, -1), \n",
    "                   (-1, 1, 1), (-1, 1, -1), (-1, -1, 1), (-1, -1, -1)]\n",
    "\n",
    "for x_0 in starting_points:\n",
    "    A = np.identity(3)\n",
    "    x = Broyden_Method_I(F, x_0, A, 28)\n",
    "    print(\"(u, v, w):\", tuple(x))"
   ]
  },
  {
   "cell_type": "markdown",
   "metadata": {},
   "source": [
    "### Q. 10"
   ]
  },
  {
   "cell_type": "code",
   "execution_count": 33,
   "metadata": {},
   "outputs": [],
   "source": [
    "def F(x):\n",
    "    u, v, w = x\n",
    "    f1 = (u-1)**2 + v**2 + (w-1)**2 - 8\n",
    "    f2 = u**2 + (v-2)**2 + (w-2)**2 - 2\n",
    "    f3 = u**2 + (v-3)**2 + (w-3)**2 - 2\n",
    "    \n",
    "    return np.array([f1, f2, f3])"
   ]
  },
  {
   "cell_type": "code",
   "execution_count": 34,
   "metadata": {
    "scrolled": false
   },
   "outputs": [
    {
     "name": "stdout",
     "output_type": "stream",
     "text": [
      "(u, v, w): (1.0000025946658384, 2.000002594665859, 2.999997405334141)\n",
      "(u, v, w): (0.999983118772993, 1.9999831187729933, 3.0000168812270065)\n",
      "(u, v, w): (0.9999986157486179, 1.9999986157486145, 3.000001384251386)\n",
      "(u, v, w): (1.0000050445765947, 2.000005044576596, 2.9999949554234044)\n",
      "(u, v, w): (1.000005242933653, 2.0000052429336526, 2.9999947570663474)\n",
      "(u, v, w): (1.0000000266555993, 2.0000000266555986, 2.999999973344402)\n",
      "(u, v, w): (0.9999988369809253, 1.9999988369809265, 3.0000011630190735)\n",
      "(u, v, w): (0.9999999646310582, 1.999999964631058, 3.000000035368942)\n"
     ]
    }
   ],
   "source": [
    "starting_points = [(1, 1, 1), (1, 1, -1), (1, -1, 1), (1, -1, -1), \n",
    "                   (-1, 1, 1), (-1, 1, -1), (-1, -1, 1), (-1, -1, -1)]\n",
    "\n",
    "for x_0 in starting_points:\n",
    "    A = np.identity(3)\n",
    "    x = Broyden_Method_I(F, x_0, A, 48)\n",
    "    print(\"(u, v, w):\", tuple(x))"
   ]
  },
  {
   "cell_type": "markdown",
   "metadata": {},
   "source": [
    "### Q. 11"
   ]
  },
  {
   "cell_type": "code",
   "execution_count": 35,
   "metadata": {},
   "outputs": [],
   "source": [
    "# (a)\n",
    "def F(x):\n",
    "    u, v, w = x\n",
    "    f1 = (u-1)**2 + (v-1)**2 + w**2 - 1\n",
    "    f2 = (u-1)**2 + v**2 + (w-1)**2 - 1\n",
    "    f3 = u**2 + (v-1)**2 + (w-1)**2 - 1\n",
    "    \n",
    "    return np.array([f1, f2, f3])"
   ]
  },
  {
   "cell_type": "code",
   "execution_count": 36,
   "metadata": {},
   "outputs": [
    {
     "name": "stdout",
     "output_type": "stream",
     "text": [
      "(u, v, w): (nan, nan, nan)\n",
      "(u, v, w): (0.33524142809960555, 0.33410387424698323, 0.3354162658028217)\n",
      "(u, v, w): (0.33333333333330323, 0.33333333333333265, 0.333333333333362)\n",
      "(u, v, w): (0.3333330748493391, 0.333333068783944, 0.333333077090301)\n",
      "(u, v, w): (0.3354162658320563, 0.33410387427494426, 0.33524142812867086)\n",
      "(u, v, w): (0.33333333333333337, 0.3333333333333333, 0.33333333333333337)\n",
      "(u, v, w): (0.3333330770903015, 0.3333330687839446, 0.3333330748493399)\n",
      "(u, v, w): (nan, nan, nan)\n"
     ]
    },
    {
     "name": "stderr",
     "output_type": "stream",
     "text": [
      "C:\\Users\\snuist\\Anaconda3\\lib\\site-packages\\ipykernel_launcher.py:8: RuntimeWarning: invalid value encountered in true_divide\n",
      "  \n"
     ]
    }
   ],
   "source": [
    "starting_points = [(1, 1, 1), (1, 1, -1), (1, -1, 1), (1, -1, -1), \n",
    "                   (-1, 1, 1), (-1, 1, -1), (-1, -1, 1), (-1, -1, -1)]\n",
    "\n",
    "for i, x_0 in enumerate(starting_points):\n",
    "    B = np.identity(3)\n",
    "    x = Broyden_Method_II(F, x_0, B, 20)\n",
    "    print(\"(u, v, w):\", tuple(x))"
   ]
  },
  {
   "cell_type": "code",
   "execution_count": 37,
   "metadata": {},
   "outputs": [],
   "source": [
    "# (b)\n",
    "def F(x):\n",
    "    u, v, w = x\n",
    "    f1 = (u-1)**2 + (v+2)**2 + w**2 - 25\n",
    "    f2 = (u+2)**2 + (v-2)**2 + (w+1)**2 - 25\n",
    "    f3 = (u-4)**2 + (v+2)**2 + (w-3)**2 - 25\n",
    "    \n",
    "    return np.array([f1, f2, f3])"
   ]
  },
  {
   "cell_type": "code",
   "execution_count": 38,
   "metadata": {
    "scrolled": true
   },
   "outputs": [
    {
     "name": "stdout",
     "output_type": "stream",
     "text": [
      "(u, v, w): (1.8888888888888955, 2.444444444444447, 2.111111111111103)\n",
      "(u, v, w): (1.8888888888888757, 2.4444444444444384, 2.1111111111111245)\n",
      "(u, v, w): (1.8888888888929614, 2.4444444444465123, 2.1111111111070553)\n",
      "(u, v, w): (1.8888888888870101, 2.4444444444435027, 2.111111111112987)\n",
      "(u, v, w): (nan, nan, nan)\n",
      "(u, v, w): (1.8888888888886974, 2.4444444444443487, 2.1111111111113017)\n",
      "(u, v, w): (0.999999999999757, 1.999999999999878, 3.0000000000002434)\n",
      "(u, v, w): (1.8888888888888833, 2.444444444444442, 2.1111111111111165)\n"
     ]
    },
    {
     "name": "stderr",
     "output_type": "stream",
     "text": [
      "C:\\Users\\snuist\\Anaconda3\\lib\\site-packages\\ipykernel_launcher.py:8: RuntimeWarning: invalid value encountered in true_divide\n",
      "  \n"
     ]
    }
   ],
   "source": [
    "starting_points = [(1, 1, 1), (1, 1, -1), (1, -1, 1), (1, -1, -1), \n",
    "                   (-1, 1, 1), (-1, 1, -1), (-1, -1, 1), (-1, -1, -1)]\n",
    "\n",
    "for x_0 in starting_points:\n",
    "    B = np.identity(3)\n",
    "    x = Broyden_Method_II(F, x_0, B, 28)\n",
    "    print(\"(u, v, w):\", tuple(x))"
   ]
  },
  {
   "cell_type": "markdown",
   "metadata": {},
   "source": [
    "### Q. 12"
   ]
  },
  {
   "cell_type": "code",
   "execution_count": 39,
   "metadata": {},
   "outputs": [],
   "source": [
    "def F(x):\n",
    "    u, v, w = x\n",
    "    f1 = (u-1)**2 + v**2 + (w-1)**2 - 8\n",
    "    f2 = u**2 + (v-2)**2 + (w-2)**2 - 2\n",
    "    f3 = u**2 + (v-3)**2 + (w-3)**2 - 2\n",
    "    \n",
    "    return np.array([f1, f2, f3])"
   ]
  },
  {
   "cell_type": "code",
   "execution_count": 40,
   "metadata": {
    "scrolled": false
   },
   "outputs": [
    {
     "name": "stdout",
     "output_type": "stream",
     "text": [
      "(u, v, w): (1.0000001505928608, 2.0000001505928617, 2.9999998494071383)\n",
      "(u, v, w): (0.9999993720401117, 1.9999993720401112, 3.0000006279598894)\n",
      "(u, v, w): (0.9999998147449323, 1.9999998147449338, 3.0000001852550664)\n",
      "(u, v, w): (1.000000193609215, 2.0000001936092144, 2.9999998063907856)\n",
      "(u, v, w): (1.0000072034822085, 2.0000072034822, 2.9999927965178057)\n",
      "(u, v, w): (1.0000000226234689, 2.000000022623469, 2.999999977376531)\n",
      "(u, v, w): (0.9999997633438066, 1.9999997633438076, 3.0000002366561924)\n",
      "(u, v, w): (1.0000000160979983, 2.0000000160979985, 2.9999999839020015)\n"
     ]
    }
   ],
   "source": [
    "starting_points = [(1, 1, 1), (1, 1, -1), (1, -1, 1), (1, -1, -1), \n",
    "                   (-1, 1, 1), (-1, 1, -1), (-1, -1, 1), (-1, -1, -1)]\n",
    "\n",
    "for x_0 in starting_points:\n",
    "    B = np.identity(3)\n",
    "    x = Broyden_Method_II(F, x_0, B, 55)\n",
    "    print(\"(u, v, w):\", tuple(x))"
   ]
  }
 ],
 "metadata": {
  "kernelspec": {
   "display_name": "Python 3",
   "language": "python",
   "name": "python3"
  },
  "language_info": {
   "codemirror_mode": {
    "name": "ipython",
    "version": 3
   },
   "file_extension": ".py",
   "mimetype": "text/x-python",
   "name": "python",
   "nbconvert_exporter": "python",
   "pygments_lexer": "ipython3",
   "version": "3.6.4"
  }
 },
 "nbformat": 4,
 "nbformat_minor": 2
}

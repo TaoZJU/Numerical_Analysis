{
 "cells": [
  {
   "cell_type": "code",
   "execution_count": 1,
   "metadata": {},
   "outputs": [],
   "source": [
    "import numpy as np\n",
    "import matplotlib.pyplot as plt\n",
    "\n",
    "%matplotlib inline"
   ]
  },
  {
   "cell_type": "code",
   "execution_count": 2,
   "metadata": {},
   "outputs": [],
   "source": [
    "pi = np.pi"
   ]
  },
  {
   "cell_type": "markdown",
   "metadata": {},
   "source": [
    "# Chapter 2<br>Systems of Equations"
   ]
  },
  {
   "cell_type": "markdown",
   "metadata": {},
   "source": [
    "## 2.1 Gaussian Elimination"
   ]
  },
  {
   "cell_type": "markdown",
   "metadata": {},
   "source": [
    "### Q. 1"
   ]
  },
  {
   "cell_type": "code",
   "execution_count": 3,
   "metadata": {},
   "outputs": [],
   "source": [
    "def Gaussian_elimination(equation):\n",
    "    A = equation.copy()\n",
    "    m, n = A.shape\n",
    "\n",
    "    for i in range(m):\n",
    "        A[i] = A[i] / A[i, i]\n",
    "        for j in range(i+1, m):\n",
    "            A[j] -= A[j, i]*A[i]\n",
    "\n",
    "    for i in range(m-1, 0, -1):\n",
    "        for j in range(i):\n",
    "            A[j] -= A[j, i]*A[i]\n",
    "            \n",
    "    return A"
   ]
  },
  {
   "cell_type": "code",
   "execution_count": 4,
   "metadata": {},
   "outputs": [
    {
     "name": "stdout",
     "output_type": "stream",
     "text": [
      "x, y, z = [1. 1. 2.]\n"
     ]
    }
   ],
   "source": [
    "# (a)\n",
    "A = np.array([[2, -2, -1, -2], [4, 1, -2, 1], [-2, 1, -1, -3]], dtype=float)\n",
    "\n",
    "print(\"x, y, z =\", Gaussian_elimination(A)[:, -1])"
   ]
  },
  {
   "cell_type": "code",
   "execution_count": 5,
   "metadata": {},
   "outputs": [
    {
     "name": "stdout",
     "output_type": "stream",
     "text": [
      "x, y, z = [1. 1. 1.]\n"
     ]
    }
   ],
   "source": [
    "# (b)\n",
    "A = np.array([[1, 2, -1, 2], [0, 3, 1, 4], [2, -1, 1, 2]], dtype=float)\n",
    "\n",
    "print(\"x, y, z =\", Gaussian_elimination(A)[:, -1])"
   ]
  },
  {
   "cell_type": "code",
   "execution_count": 6,
   "metadata": {},
   "outputs": [
    {
     "name": "stdout",
     "output_type": "stream",
     "text": [
      "x, y, z = [-1.  3.  2.]\n"
     ]
    }
   ],
   "source": [
    "# (c)\n",
    "A = np.array([[2, 1, -4, -7], [1, -1, 1, -2], [-1, 3, -2, 6]], dtype=float)\n",
    "\n",
    "print(\"x, y, z =\", Gaussian_elimination(A)[:, -1])"
   ]
  },
  {
   "cell_type": "markdown",
   "metadata": {},
   "source": [
    "### Q. 2"
   ]
  },
  {
   "cell_type": "code",
   "execution_count": 7,
   "metadata": {},
   "outputs": [],
   "source": [
    "def Hilbert(n):\n",
    "    H = np.ones((n, n))\n",
    "    for i in range(n):\n",
    "        for j in range(n):\n",
    "            H[i, j] /= (i+j+1)\n",
    "    \n",
    "    return H"
   ]
  },
  {
   "cell_type": "code",
   "execution_count": 8,
   "metadata": {},
   "outputs": [
    {
     "name": "stdout",
     "output_type": "stream",
     "text": [
      "x = [-2.  6.]\n",
      "Ax = [1. 1.]\n"
     ]
    }
   ],
   "source": [
    "# (a)\n",
    "\n",
    "n = 2\n",
    "A = np.concatenate((Hilbert(n), np.ones((n, 1))), axis=1)\n",
    "x = Gaussian_elimination(A)[:, -1]\n",
    "\n",
    "print(\"x =\", x)\n",
    "print(\"Ax =\", np.dot(Hilbert(n), x))"
   ]
  },
  {
   "cell_type": "code",
   "execution_count": 9,
   "metadata": {},
   "outputs": [
    {
     "name": "stdout",
     "output_type": "stream",
     "text": [
      "x = [    5.  -120.   630. -1120.   630.]\n",
      "Ax = [1. 1. 1. 1. 1.]\n"
     ]
    }
   ],
   "source": [
    "# (b)\n",
    "\n",
    "n = 5\n",
    "A = np.concatenate((Hilbert(n), np.ones((n, 1))), axis=1)\n",
    "x = Gaussian_elimination(A)[:, -1]\n",
    "\n",
    "print(\"x =\", x)\n",
    "print(\"Ax =\", np.dot(Hilbert(n), x))"
   ]
  },
  {
   "cell_type": "code",
   "execution_count": 10,
   "metadata": {},
   "outputs": [
    {
     "name": "stdout",
     "output_type": "stream",
     "text": [
      "x = [-9.99737067e+00  9.89772237e+02 -2.37551401e+04  2.40195762e+05\n",
      " -1.26104879e+06  3.78319896e+06 -6.72576616e+06  7.00035782e+06\n",
      " -3.93773570e+06  9.23673464e+05]\n",
      "Ax = [1. 1. 1. 1. 1. 1. 1. 1. 1. 1.]\n"
     ]
    }
   ],
   "source": [
    "# (c)\n",
    "\n",
    "n = 10\n",
    "A = np.concatenate((Hilbert(n), np.ones((n, 1))), axis=1)\n",
    "x = Gaussian_elimination(A)[:, -1]\n",
    "\n",
    "print(\"x =\", x)\n",
    "print(\"Ax =\", np.dot(Hilbert(n), x))"
   ]
  }
 ],
 "metadata": {
  "kernelspec": {
   "display_name": "Python 3",
   "language": "python",
   "name": "python3"
  },
  "language_info": {
   "codemirror_mode": {
    "name": "ipython",
    "version": 3
   },
   "file_extension": ".py",
   "mimetype": "text/x-python",
   "name": "python",
   "nbconvert_exporter": "python",
   "pygments_lexer": "ipython3",
   "version": "3.6.4"
  }
 },
 "nbformat": 4,
 "nbformat_minor": 2
}

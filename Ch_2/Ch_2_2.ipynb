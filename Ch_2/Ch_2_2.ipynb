{
 "cells": [
  {
   "cell_type": "code",
   "execution_count": 1,
   "metadata": {},
   "outputs": [],
   "source": [
    "import numpy as np"
   ]
  },
  {
   "cell_type": "markdown",
   "metadata": {},
   "source": [
    "# Chapter 2<br>Systems of Equations"
   ]
  },
  {
   "cell_type": "markdown",
   "metadata": {},
   "source": [
    "## 2.2 The LU Factorization"
   ]
  },
  {
   "cell_type": "markdown",
   "metadata": {},
   "source": [
    "### Q. 1"
   ]
  },
  {
   "cell_type": "code",
   "execution_count": 2,
   "metadata": {},
   "outputs": [],
   "source": [
    "def LU(A):\n",
    "    m = A.shape[0]\n",
    "    L = np.identity(m)\n",
    "    U = A.copy()\n",
    "\n",
    "    for i in range(m):\n",
    "        for j in range(i+1, m):\n",
    "            a = U[j, i] / U[i, i]\n",
    "            L[j, i] = a\n",
    "            U[j] -= a * U[i]\n",
    "    \n",
    "    return L, U"
   ]
  },
  {
   "cell_type": "code",
   "execution_count": 3,
   "metadata": {},
   "outputs": [
    {
     "name": "stdout",
     "output_type": "stream",
     "text": [
      "L:\n",
      " [[1. 0.]\n",
      " [3. 1.]]\n",
      "U:\n",
      " [[ 1.  2.]\n",
      " [ 0. -2.]]\n",
      "LU =\n",
      " [[1. 2.]\n",
      " [3. 4.]]\n",
      "A == LU: True\n"
     ]
    }
   ],
   "source": [
    "# (a)\n",
    "A = np.array([[1, 2], [3, 4]], dtype=float)\n",
    "L, U = LU(A)\n",
    "\n",
    "print(\"L:\\n\", L)\n",
    "print(\"U:\\n\", U)\n",
    "print(\"LU =\\n\", np.dot(L, U))\n",
    "print(\"A == LU:\", (np.dot(L, U) == A).all())"
   ]
  },
  {
   "cell_type": "code",
   "execution_count": 4,
   "metadata": {},
   "outputs": [
    {
     "name": "stdout",
     "output_type": "stream",
     "text": [
      "L:\n",
      " [[1. 0.]\n",
      " [2. 1.]]\n",
      "U:\n",
      " [[ 1.  3.]\n",
      " [ 0. -4.]]\n",
      "LU =\n",
      " [[1. 3.]\n",
      " [2. 2.]]\n",
      "A == LU: True\n"
     ]
    }
   ],
   "source": [
    "# (b)\n",
    "A = np.array([[1, 3], [2, 2]], dtype=float)\n",
    "L, U = LU(A)\n",
    "\n",
    "print(\"L:\\n\", L)\n",
    "print(\"U:\\n\", U)\n",
    "print(\"LU =\\n\", np.dot(L, U))\n",
    "print(\"A == LU:\", (np.dot(L, U) == A).all())"
   ]
  },
  {
   "cell_type": "code",
   "execution_count": 5,
   "metadata": {},
   "outputs": [
    {
     "name": "stdout",
     "output_type": "stream",
     "text": [
      "L:\n",
      " [[ 1.          0.        ]\n",
      " [-1.66666667  1.        ]]\n",
      "U:\n",
      " [[ 3.         -4.        ]\n",
      " [ 0.         -4.66666667]]\n",
      "LU =\n",
      " [[ 3. -4.]\n",
      " [-5.  2.]]\n",
      "A == LU: True\n"
     ]
    }
   ],
   "source": [
    "# (c)\n",
    "A = np.array([[3, -4], [-5, 2]], dtype=float)\n",
    "L, U = LU(A)\n",
    "\n",
    "print(\"L:\\n\", L)\n",
    "print(\"U:\\n\", U)\n",
    "print(\"LU =\\n\", np.dot(L, U))\n",
    "print(\"A == LU:\", (np.dot(L, U) == A).all())"
   ]
  },
  {
   "cell_type": "markdown",
   "metadata": {},
   "source": [
    "### Q. 2"
   ]
  },
  {
   "cell_type": "code",
   "execution_count": 6,
   "metadata": {},
   "outputs": [
    {
     "name": "stdout",
     "output_type": "stream",
     "text": [
      "L:\n",
      " [[1. 0. 0.]\n",
      " [2. 1. 0.]\n",
      " [1. 0. 1.]]\n",
      "U:\n",
      " [[3. 1. 2.]\n",
      " [0. 1. 0.]\n",
      " [0. 0. 3.]]\n",
      "LU =\n",
      " [[3. 1. 2.]\n",
      " [6. 3. 4.]\n",
      " [3. 1. 5.]]\n",
      "A == LU: True\n"
     ]
    }
   ],
   "source": [
    "# (a)\n",
    "A = np.array([[3, 1, 2], [6, 3, 4], [3, 1, 5]], dtype=float)\n",
    "L, U = LU(A)\n",
    "\n",
    "print(\"L:\\n\", L)\n",
    "print(\"U:\\n\", U)\n",
    "print(\"LU =\\n\", np.dot(L, U))\n",
    "print(\"A == LU:\", (np.dot(L, U) == A).all())"
   ]
  },
  {
   "cell_type": "code",
   "execution_count": 7,
   "metadata": {},
   "outputs": [
    {
     "name": "stdout",
     "output_type": "stream",
     "text": [
      "L:\n",
      " [[1.  0.  0. ]\n",
      " [1.  1.  0. ]\n",
      " [0.5 0.5 1. ]]\n",
      "U:\n",
      " [[4. 2. 0.]\n",
      " [0. 2. 2.]\n",
      " [0. 0. 2.]]\n",
      "LU =\n",
      " [[4. 2. 0.]\n",
      " [4. 4. 2.]\n",
      " [2. 2. 3.]]\n",
      "A == LU: True\n"
     ]
    }
   ],
   "source": [
    "# (a)\n",
    "A = np.array([[4, 2, 0], [4, 4, 2], [2, 2, 3]], dtype=float)\n",
    "L, U = LU(A)\n",
    "\n",
    "print(\"L:\\n\", L)\n",
    "print(\"U:\\n\", U)\n",
    "print(\"LU =\\n\", np.dot(L, U))\n",
    "print(\"A == LU:\", (np.dot(L, U) == A).all())"
   ]
  },
  {
   "cell_type": "code",
   "execution_count": 8,
   "metadata": {},
   "outputs": [
    {
     "name": "stdout",
     "output_type": "stream",
     "text": [
      "L:\n",
      " [[1. 0. 0. 0.]\n",
      " [0. 1. 0. 0.]\n",
      " [1. 2. 1. 0.]\n",
      " [0. 1. 0. 1.]]\n",
      "U:\n",
      " [[ 1. -1.  1.  2.]\n",
      " [ 0.  2.  1.  0.]\n",
      " [ 0.  0.  1.  2.]\n",
      " [ 0.  0.  0. -1.]]\n",
      "LU =\n",
      " [[ 1. -1.  1.  2.]\n",
      " [ 0.  2.  1.  0.]\n",
      " [ 1.  3.  4.  4.]\n",
      " [ 0.  2.  1. -1.]]\n",
      "A == LU: True\n"
     ]
    }
   ],
   "source": [
    "# (c)\n",
    "A = np.array([[1, -1, 1, 2], [0, 2, 1, 0], [1, 3, 4, 4], [0, 2, 1, -1]], dtype=float)\n",
    "L, U = LU(A)\n",
    "\n",
    "print(\"L:\\n\", L)\n",
    "print(\"U:\\n\", U)\n",
    "print(\"LU =\\n\", np.dot(L, U))\n",
    "print(\"A == LU:\", (np.dot(L, U) == A).all())"
   ]
  },
  {
   "cell_type": "markdown",
   "metadata": {},
   "source": [
    "### Q. 3"
   ]
  },
  {
   "cell_type": "code",
   "execution_count": 9,
   "metadata": {},
   "outputs": [],
   "source": [
    "# (a)\n",
    "A = np.array([[3, 7], [6, 1]], dtype=float)\n",
    "b = np.array([1, -11])\n",
    "m = A.shape[0]\n",
    "\n",
    "L, U = LU(A)"
   ]
  },
  {
   "cell_type": "code",
   "execution_count": 10,
   "metadata": {},
   "outputs": [
    {
     "name": "stdout",
     "output_type": "stream",
     "text": [
      "x: [-2  1]\n",
      "Ax =  [  1. -11.]\n"
     ]
    }
   ],
   "source": [
    "c = b.copy()\n",
    "for i in range(m):\n",
    "    for j in range(i+1, m):\n",
    "        c[j] -= L[j, i]*c[i]\n",
    "\n",
    "x = c.copy()\n",
    "for i in range(m-1, -1, -1):\n",
    "    x[i] /= U[i, i]\n",
    "    for j in range(i):\n",
    "        x[j] -= U[j, i]*x[i]\n",
    "\n",
    "print(\"x:\", x)\n",
    "print(\"Ax = \", np.dot(A, x))"
   ]
  },
  {
   "cell_type": "code",
   "execution_count": 11,
   "metadata": {},
   "outputs": [],
   "source": [
    "# (b)\n",
    "A = np.array([[2, 3], [4, 7]], dtype=float)\n",
    "b = np.array([1, 3])\n",
    "m = A.shape[0]\n",
    "\n",
    "L, U = LU(A)"
   ]
  },
  {
   "cell_type": "code",
   "execution_count": 12,
   "metadata": {},
   "outputs": [
    {
     "name": "stdout",
     "output_type": "stream",
     "text": [
      "x: [-1  1]\n",
      "Ax =  [1. 3.]\n"
     ]
    }
   ],
   "source": [
    "c = b.copy()\n",
    "for i in range(m):\n",
    "    for j in range(i+1, m):\n",
    "        c[j] -= L[j, i]*c[i]\n",
    "\n",
    "x = c.copy()\n",
    "for i in range(m-1, -1, -1):\n",
    "    x[i] /= U[i, i]\n",
    "    for j in range(i):\n",
    "        x[j] -= U[j, i]*x[i]\n",
    "\n",
    "print(\"x:\", x)\n",
    "print(\"Ax = \", np.dot(A, x))"
   ]
  },
  {
   "cell_type": "markdown",
   "metadata": {},
   "source": [
    "### Q. 4"
   ]
  },
  {
   "cell_type": "code",
   "execution_count": 13,
   "metadata": {},
   "outputs": [],
   "source": [
    "# (a)\n",
    "A = np.array([[3, 1, 2], [6, 3, 4], [3, 1, 5]], dtype=float)\n",
    "b = np.array([0, 1, 3])\n",
    "m = A.shape[0]\n",
    "\n",
    "L, U = LU(A)"
   ]
  },
  {
   "cell_type": "code",
   "execution_count": 14,
   "metadata": {},
   "outputs": [
    {
     "name": "stdout",
     "output_type": "stream",
     "text": [
      "x: [-1  1  1]\n",
      "Ax =  [0. 1. 3.]\n"
     ]
    }
   ],
   "source": [
    "c = b.copy()\n",
    "for i in range(m):\n",
    "    for j in range(i+1, m):\n",
    "        c[j] -= L[j, i]*c[i]\n",
    "\n",
    "x = c.copy()\n",
    "for i in range(m-1, -1, -1):\n",
    "    x[i] /= U[i, i]\n",
    "    for j in range(i):\n",
    "        x[j] -= U[j, i]*x[i]\n",
    "\n",
    "print(\"x:\", x)\n",
    "print(\"Ax = \", np.dot(A, x))"
   ]
  },
  {
   "cell_type": "code",
   "execution_count": 15,
   "metadata": {},
   "outputs": [],
   "source": [
    "# (b)\n",
    "A = np.array([[4, 2, 0], [4, 4, 2], [2, 2, 3]], dtype=float)\n",
    "b = np.array([2, 4, 6])\n",
    "m = A.shape[0]\n",
    "\n",
    "L, U = LU(A)"
   ]
  },
  {
   "cell_type": "code",
   "execution_count": 16,
   "metadata": {},
   "outputs": [
    {
     "name": "stdout",
     "output_type": "stream",
     "text": [
      "x: [ 1 -1  2]\n",
      "Ax =  [2. 4. 6.]\n"
     ]
    }
   ],
   "source": [
    "c = b.copy()\n",
    "for i in range(m):\n",
    "    for j in range(i+1, m):\n",
    "        c[j] -= L[j, i]*c[i]\n",
    "\n",
    "x = c.copy()\n",
    "for i in range(m-1, -1, -1):\n",
    "    x[i] /= U[i, i]\n",
    "    for j in range(i):\n",
    "        x[j] -= U[j, i]*x[i]\n",
    "\n",
    "print(\"x:\", x)\n",
    "print(\"Ax = \", np.dot(A, x))"
   ]
  },
  {
   "cell_type": "markdown",
   "metadata": {},
   "source": [
    "### Q. 5"
   ]
  },
  {
   "cell_type": "code",
   "execution_count": 17,
   "metadata": {},
   "outputs": [],
   "source": [
    "L = np.array([[1, 0, 0, 0], [0, 1, 0, 0], [1, 3, 1, 0], [4, 1, 2, 1]], dtype=float)\n",
    "U = np.array([[2, 1, 0, 0], [0, 1, 2, 0], [0, 0, -1, 1], [0, 0, 0, 1]], dtype=float)\n",
    "b = np.array([1, 1, 2, 0])\n",
    "m = 4"
   ]
  },
  {
   "cell_type": "code",
   "execution_count": 18,
   "metadata": {},
   "outputs": [
    {
     "name": "stdout",
     "output_type": "stream",
     "text": [
      "x: [ 1 -1  1 -1]\n",
      "Ax =  [1. 1. 2. 0.]\n"
     ]
    }
   ],
   "source": [
    "c = b.copy()\n",
    "for i in range(m):\n",
    "    for j in range(i+1, m):\n",
    "        c[j] -= L[j, i]*c[i]\n",
    "\n",
    "x = c.copy()\n",
    "for i in range(m-1, -1, -1):\n",
    "    x[i] /= U[i, i]\n",
    "    for j in range(i):\n",
    "        x[j] -= U[j, i]*x[i]\n",
    "\n",
    "print(\"x:\", x)\n",
    "print(\"Ax = \", L.dot(U).dot(x))"
   ]
  },
  {
   "cell_type": "markdown",
   "metadata": {},
   "source": [
    "### Q. 6"
   ]
  },
  {
   "cell_type": "code",
   "execution_count": null,
   "metadata": {},
   "outputs": [],
   "source": []
  },
  {
   "cell_type": "markdown",
   "metadata": {},
   "source": [
    "### Q. 7"
   ]
  },
  {
   "cell_type": "code",
   "execution_count": null,
   "metadata": {},
   "outputs": [],
   "source": []
  },
  {
   "cell_type": "markdown",
   "metadata": {},
   "source": [
    "### Q. 8"
   ]
  },
  {
   "cell_type": "code",
   "execution_count": null,
   "metadata": {},
   "outputs": [],
   "source": []
  },
  {
   "cell_type": "markdown",
   "metadata": {},
   "source": [
    "### Q. 9"
   ]
  },
  {
   "cell_type": "code",
   "execution_count": null,
   "metadata": {},
   "outputs": [],
   "source": []
  }
 ],
 "metadata": {
  "kernelspec": {
   "display_name": "Python 3",
   "language": "python",
   "name": "python3"
  },
  "language_info": {
   "codemirror_mode": {
    "name": "ipython",
    "version": 3
   },
   "file_extension": ".py",
   "mimetype": "text/x-python",
   "name": "python",
   "nbconvert_exporter": "python",
   "pygments_lexer": "ipython3",
   "version": "3.6.4"
  }
 },
 "nbformat": 4,
 "nbformat_minor": 2
}

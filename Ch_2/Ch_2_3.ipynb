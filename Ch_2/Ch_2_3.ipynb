{
 "cells": [
  {
   "cell_type": "code",
   "execution_count": 1,
   "metadata": {},
   "outputs": [],
   "source": [
    "import numpy as np"
   ]
  },
  {
   "cell_type": "markdown",
   "metadata": {},
   "source": [
    "# Chapter 2<br>Systems of Equations"
   ]
  },
  {
   "cell_type": "markdown",
   "metadata": {},
   "source": [
    "## 2.3 Sources of Error"
   ]
  },
  {
   "cell_type": "code",
   "execution_count": 2,
   "metadata": {},
   "outputs": [],
   "source": [
    "def cond(A):\n",
    "    return abs(A).sum(axis=1).max() * abs(np.linalg.inv(A)).sum(axis=1).max()"
   ]
  },
  {
   "cell_type": "markdown",
   "metadata": {},
   "source": [
    "### Q. 1"
   ]
  },
  {
   "cell_type": "code",
   "execution_count": 3,
   "metadata": {},
   "outputs": [],
   "source": [
    "def A_ij(n):\n",
    "    matrix = np.zeros((n, n))\n",
    "    for i in range(n):\n",
    "        for j in range(n):\n",
    "            matrix[i, j] = 5/(i + 2*j + 2)\n",
    "    return matrix"
   ]
  },
  {
   "cell_type": "code",
   "execution_count": 4,
   "metadata": {},
   "outputs": [],
   "source": [
    "# (a)\n",
    "n = 6\n",
    "\n",
    "A = A_ij(n)\n",
    "x = np.ones(n)\n",
    "b = np.dot(A, x)\n",
    "\n",
    "x_c = np.linalg.inv(A).dot(b)"
   ]
  },
  {
   "cell_type": "code",
   "execution_count": 5,
   "metadata": {},
   "outputs": [],
   "source": [
    "forward_error = abs(x_c - x).max()\n",
    "backward_error = abs(A.dot(x_c) - b).max()\n",
    "error_mag_factor = (forward_error/abs(x).max()) / (backward_error/abs(b).max())"
   ]
  },
  {
   "cell_type": "code",
   "execution_count": 6,
   "metadata": {},
   "outputs": [
    {
     "name": "stdout",
     "output_type": "stream",
     "text": [
      "Forward error: 0.000000\n",
      "Error magnification factor: 39.357182\n",
      "Condition number of A: 70342013.949083\n"
     ]
    }
   ],
   "source": [
    "print(\"Forward error: %f\" % forward_error)\n",
    "print(\"Error magnification factor: %f\" % error_mag_factor)\n",
    "print(\"Condition number of A: %f\" % cond(A))"
   ]
  },
  {
   "cell_type": "code",
   "execution_count": 7,
   "metadata": {},
   "outputs": [],
   "source": [
    "# (b)\n",
    "n = 10\n",
    "\n",
    "A = A_ij(n)\n",
    "x = np.ones(n)\n",
    "b = np.dot(A, x)\n",
    "\n",
    "x_c = np.linalg.inv(A).dot(b)"
   ]
  },
  {
   "cell_type": "code",
   "execution_count": 8,
   "metadata": {},
   "outputs": [],
   "source": [
    "forward_error = abs(x_c - x).max()\n",
    "backward_error = abs(A.dot(x_c) - b).max()\n",
    "error_mag_factor = (forward_error/abs(x).max()) / (backward_error/abs(b).max())"
   ]
  },
  {
   "cell_type": "code",
   "execution_count": 9,
   "metadata": {
    "scrolled": false
   },
   "outputs": [
    {
     "name": "stdout",
     "output_type": "stream",
     "text": [
      "Forward error: 0.015717\n",
      "Error magnification factor: 228.970404\n",
      "Condition number of A: 131370135425813.031250\n"
     ]
    }
   ],
   "source": [
    "print(\"Forward error: %f\" % forward_error)\n",
    "print(\"Error magnification factor: %f\" % error_mag_factor)\n",
    "print(\"Condition number of A: %f\" % cond(A))"
   ]
  },
  {
   "cell_type": "markdown",
   "metadata": {},
   "source": [
    "### Q. 2"
   ]
  },
  {
   "cell_type": "code",
   "execution_count": 10,
   "metadata": {},
   "outputs": [],
   "source": [
    "def A_ij(n):\n",
    "    matrix = np.zeros((n, n))\n",
    "    for i in range(n):\n",
    "        for j in range(n):\n",
    "            matrix[i, j] = 1/(abs(i-j) + 1)\n",
    "    return matrix"
   ]
  },
  {
   "cell_type": "code",
   "execution_count": 11,
   "metadata": {},
   "outputs": [],
   "source": [
    "# (a)\n",
    "n = 6\n",
    "\n",
    "A = A_ij(n)\n",
    "x = np.ones(n)\n",
    "b = np.dot(A, x)\n",
    "\n",
    "x_c = np.linalg.inv(A).dot(b)"
   ]
  },
  {
   "cell_type": "code",
   "execution_count": 12,
   "metadata": {},
   "outputs": [],
   "source": [
    "forward_error = abs(x_c - x).max()\n",
    "backward_error = abs(A.dot(x_c) - b).max()\n",
    "error_mag_factor = (forward_error/abs(x).max()) / (backward_error/abs(b).max())"
   ]
  },
  {
   "cell_type": "code",
   "execution_count": 13,
   "metadata": {},
   "outputs": [
    {
     "name": "stdout",
     "output_type": "stream",
     "text": [
      "Forward error: 0.000000\n",
      "Error magnification factor: 2.916667\n",
      "Condition number of A: 8.611677\n"
     ]
    }
   ],
   "source": [
    "print(\"Forward error: %f\" % forward_error)\n",
    "print(\"Error magnification factor: %f\" % error_mag_factor)\n",
    "print(\"Condition number of A: %f\" % cond(A))"
   ]
  },
  {
   "cell_type": "code",
   "execution_count": 14,
   "metadata": {},
   "outputs": [],
   "source": [
    "# (b)\n",
    "n = 10\n",
    "\n",
    "A = A_ij(n)\n",
    "x = np.ones(n)\n",
    "b = np.dot(A, x)\n",
    "\n",
    "x_c = np.linalg.inv(A).dot(b)"
   ]
  },
  {
   "cell_type": "code",
   "execution_count": 15,
   "metadata": {},
   "outputs": [],
   "source": [
    "forward_error = abs(x_c - x).max()\n",
    "backward_error = abs(A.dot(x_c) - b).max()\n",
    "error_mag_factor = (forward_error/abs(x).max()) / (backward_error/abs(b).max())"
   ]
  },
  {
   "cell_type": "code",
   "execution_count": 16,
   "metadata": {
    "scrolled": true
   },
   "outputs": [
    {
     "name": "stdout",
     "output_type": "stream",
     "text": [
      "Forward error: 0.000000\n",
      "Error magnification factor: 5.133333\n",
      "Condition number of A: 11.261167\n"
     ]
    }
   ],
   "source": [
    "print(\"Forward error: %f\" % forward_error)\n",
    "print(\"Error magnification factor: %f\" % error_mag_factor)\n",
    "print(\"Condition number of A: %f\" % cond(A))"
   ]
  },
  {
   "cell_type": "markdown",
   "metadata": {},
   "source": [
    "### Q. 3"
   ]
  },
  {
   "cell_type": "code",
   "execution_count": 17,
   "metadata": {},
   "outputs": [],
   "source": [
    "def A_ij(n):\n",
    "    matrix = np.zeros((n, n))\n",
    "    for i in range(n):\n",
    "        for j in range(n):\n",
    "            matrix[i, j] = abs(i-j) + 1\n",
    "    return matrix"
   ]
  },
  {
   "cell_type": "code",
   "execution_count": 18,
   "metadata": {},
   "outputs": [
    {
     "name": "stdout",
     "output_type": "stream",
     "text": [
      "n: 100\n",
      "Forward error: 0.000000\n",
      "Error magnification factor: 3858.529946\n",
      "Condition number of A: 10100.000000\n",
      "\n",
      "n: 200\n",
      "Forward error: 0.000000\n",
      "Error magnification factor: 9190.038314\n",
      "Condition number of A: 40200.000000\n",
      "\n",
      "n: 300\n",
      "Forward error: 0.000000\n",
      "Error magnification factor: 21818.334871\n",
      "Condition number of A: 90300.000001\n",
      "\n",
      "n: 400\n",
      "Forward error: 0.000000\n",
      "Error magnification factor: 19806.948349\n",
      "Condition number of A: 160400.000004\n",
      "\n",
      "n: 500\n",
      "Forward error: 0.000000\n",
      "Error magnification factor: 89999.863114\n",
      "Condition number of A: 250500.000011\n",
      "\n"
     ]
    }
   ],
   "source": [
    "for n in range(100, 501, 100):\n",
    "    A = A_ij(n)\n",
    "    x = np.ones(n)\n",
    "    b = np.dot(A, x)\n",
    "\n",
    "    x_c = np.linalg.inv(A).dot(b)\n",
    "\n",
    "    forward_error = abs(x_c - x).max()\n",
    "    backward_error = abs(A.dot(x_c) - b).max()\n",
    "    error_mag_factor = (forward_error/abs(x).max()) / (backward_error/abs(b).max())\n",
    "\n",
    "    print(\"n: %d\" % n)\n",
    "    print(\"Forward error: %f\" % forward_error)\n",
    "    print(\"Error magnification factor: %f\" % error_mag_factor)\n",
    "    print(\"Condition number of A: %f\\n\" % cond(A))"
   ]
  },
  {
   "cell_type": "markdown",
   "metadata": {},
   "source": [
    "\n",
    "### Q. 4"
   ]
  },
  {
   "cell_type": "code",
   "execution_count": 19,
   "metadata": {},
   "outputs": [],
   "source": [
    "def A_ij(n):\n",
    "    matrix = np.zeros((n, n))\n",
    "    for i in range(n):\n",
    "        for j in range(n):\n",
    "            matrix[i, j] = np.sqrt((i-j)**2 + n/10)\n",
    "    return matrix"
   ]
  },
  {
   "cell_type": "code",
   "execution_count": 20,
   "metadata": {
    "scrolled": true
   },
   "outputs": [
    {
     "name": "stdout",
     "output_type": "stream",
     "text": [
      "n: 100\n",
      "Forward error: 0.000035\n",
      "Error magnification factor: 69559.619727\n",
      "Condition number of A: 61843077.585326\n",
      "\n",
      "n: 200\n",
      "Forward error: 0.634976\n",
      "Error magnification factor: 8594052.687108\n",
      "Condition number of A: 12906622013.245913\n",
      "\n",
      "n: 300\n",
      "Forward error: 965.765747\n",
      "Error magnification factor: 875228502.173950\n",
      "Condition number of A: 620392433505.416260\n",
      "\n",
      "n: 400\n",
      "Forward error: 163856.897461\n",
      "Error magnification factor: 2951874692.992279\n",
      "Condition number of A: 14753725994212.501953\n",
      "\n",
      "n: 500\n",
      "Forward error: 42967469.812500\n",
      "Error magnification factor: 20261133885.881592\n",
      "Condition number of A: 228913233562526.000000\n",
      "\n"
     ]
    }
   ],
   "source": [
    "for n in range(100, 501, 100):\n",
    "    A = A_ij(n)\n",
    "    x = np.ones(n)\n",
    "    b = np.dot(A, x)\n",
    "\n",
    "    x_c = np.linalg.inv(A).dot(b)\n",
    "\n",
    "    forward_error = abs(x_c - x).max()\n",
    "    backward_error = abs(A.dot(x_c) - b).max()\n",
    "    error_mag_factor = (forward_error/abs(x).max()) / (backward_error/abs(b).max())\n",
    "\n",
    "    print(\"n: %d\" % n)\n",
    "    print(\"Forward error: %f\" % forward_error)\n",
    "    print(\"Error magnification factor: %f\" % error_mag_factor)\n",
    "    print(\"Condition number of A: %f\\n\" % cond(A))"
   ]
  },
  {
   "cell_type": "markdown",
   "metadata": {},
   "source": [
    "### Q. 5"
   ]
  },
  {
   "cell_type": "code",
   "execution_count": 21,
   "metadata": {},
   "outputs": [],
   "source": [
    "e_mach = 2.220446049250313e-16"
   ]
  },
  {
   "cell_type": "code",
   "execution_count": 22,
   "metadata": {},
   "outputs": [],
   "source": [
    "def A_ij(n):\n",
    "    matrix = np.zeros((n, n))\n",
    "    for i in range(n):\n",
    "        for j in range(n):\n",
    "            matrix[i, j] = 5/(i + 2*j + 2)\n",
    "    return matrix"
   ]
  },
  {
   "cell_type": "code",
   "execution_count": 23,
   "metadata": {},
   "outputs": [],
   "source": [
    "n = 1\n",
    "while True:\n",
    "    cond_num = int(np.log10(cond(A_ij(n))))\n",
    "    if cond_num >= 16:\n",
    "        break\n",
    "    n += 1"
   ]
  },
  {
   "cell_type": "code",
   "execution_count": 24,
   "metadata": {},
   "outputs": [
    {
     "name": "stdout",
     "output_type": "stream",
     "text": [
      "If n is larger than 12, the solution has no correct significant digits.\n"
     ]
    }
   ],
   "source": [
    "print(\"If n is larger than %d, the solution has no correct significant digits.\" % n)"
   ]
  },
  {
   "cell_type": "markdown",
   "metadata": {},
   "source": [
    "### Q. 6"
   ]
  },
  {
   "cell_type": "code",
   "execution_count": 25,
   "metadata": {},
   "outputs": [],
   "source": [
    "A = np.array([[1e-20, 1], [1, 2]])\n",
    "b = np.array([1, 4])\n",
    "x = np.array([2e+20/(1e+20 - 2), (4 - 1e+20)/(2 - 1e+20)])"
   ]
  },
  {
   "cell_type": "code",
   "execution_count": 26,
   "metadata": {},
   "outputs": [],
   "source": [
    "# Version 2\n",
    "Ab = np.concatenate((A, b.reshape(-1, 1)), 1)\n",
    "Ab[1] -= Ab[0] * Ab[1, 0]/Ab[0, 0]\n",
    "Ab[1] /= Ab[1, 1]\n",
    "Ab[0] -= Ab[0, 1]*Ab[1]\n",
    "Ab[0] /= Ab[0, 0]\n",
    "\n",
    "x_c = Ab[:, 2]"
   ]
  },
  {
   "cell_type": "code",
   "execution_count": 27,
   "metadata": {},
   "outputs": [
    {
     "name": "stdout",
     "output_type": "stream",
     "text": [
      "True x: [2. 1.]\n",
      "x_c: [0. 1.]\n",
      "Forward error: 2.000000\n"
     ]
    }
   ],
   "source": [
    "print(\"True x:\", x)\n",
    "print(\"x_c:\", x_c)\n",
    "print(\"Forward error: %f\" % abs(x - x_c).max())"
   ]
  },
  {
   "cell_type": "code",
   "execution_count": 28,
   "metadata": {},
   "outputs": [],
   "source": [
    "# Version 3\n",
    "Ab = np.concatenate((A[::-1], b[::-1].reshape(-1, 1)), 1)\n",
    "Ab[1] -= Ab[0] * Ab[1, 0]/Ab[0, 0]\n",
    "Ab[1] /= Ab[1, 1]\n",
    "Ab[0] -= Ab[0, 1]*Ab[1]\n",
    "Ab[0] /= Ab[0, 0]\n",
    "\n",
    "x_c = Ab[:, 2]"
   ]
  },
  {
   "cell_type": "code",
   "execution_count": 29,
   "metadata": {},
   "outputs": [
    {
     "name": "stdout",
     "output_type": "stream",
     "text": [
      "True x: [2. 1.]\n",
      "x_c: [2. 1.]\n",
      "Forward error: 0.000000\n"
     ]
    }
   ],
   "source": [
    "print(\"True x:\", x)\n",
    "print(\"x_c:\", x_c)\n",
    "print(\"Forward error: %f\" % abs(x - x_c).max())"
   ]
  }
 ],
 "metadata": {
  "kernelspec": {
   "display_name": "Python 3",
   "language": "python",
   "name": "python3"
  },
  "language_info": {
   "codemirror_mode": {
    "name": "ipython",
    "version": 3
   },
   "file_extension": ".py",
   "mimetype": "text/x-python",
   "name": "python",
   "nbconvert_exporter": "python",
   "pygments_lexer": "ipython3",
   "version": "3.6.4"
  }
 },
 "nbformat": 4,
 "nbformat_minor": 2
}

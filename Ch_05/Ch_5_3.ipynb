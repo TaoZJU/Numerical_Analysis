{
 "cells": [
  {
   "cell_type": "code",
   "execution_count": 1,
   "metadata": {},
   "outputs": [],
   "source": [
    "import numpy as np\n",
    "import matplotlib.pyplot as plt\n",
    "\n",
    "%matplotlib inline"
   ]
  },
  {
   "cell_type": "code",
   "execution_count": 2,
   "metadata": {},
   "outputs": [],
   "source": [
    "pi = np.pi\n",
    "exp = np.exp\n",
    "log = np.log\n",
    "sqrt = np.sqrt\n",
    "sin = np.sin\n",
    "cos = np.cos"
   ]
  },
  {
   "cell_type": "markdown",
   "metadata": {},
   "source": [
    "# Chapter 5<br>Numerical Differentiation and Integration"
   ]
  },
  {
   "cell_type": "markdown",
   "metadata": {},
   "source": [
    "## 5.3 Romberg Integration"
   ]
  },
  {
   "cell_type": "code",
   "execution_count": 3,
   "metadata": {},
   "outputs": [],
   "source": [
    "def romberg(f, a, b, n):\n",
    "    h = b - a\n",
    "    R = np.zeros((n, n))\n",
    "    R[0, 0] = (f(a) + f(b))*h/2\n",
    "    \n",
    "    for j in range(1, n):\n",
    "        h /= 2\n",
    "        R[j, 0] = R[j-1, 0]/2 + sum([f(a + (2*k+1)*h) for k in range(2**(j-1))])*h\n",
    "        for k in range(0, j):\n",
    "            R[j, k+1] = ((4**(k+1)*R[j, k] - R[j-1, k])) / (4**(k+1) - 1)\n",
    "    \n",
    "    return R"
   ]
  },
  {
   "cell_type": "markdown",
   "metadata": {},
   "source": [
    "### Q. 1"
   ]
  },
  {
   "cell_type": "code",
   "execution_count": 4,
   "metadata": {},
   "outputs": [],
   "source": [
    "# (a)\n",
    "a, b = 0, 4\n",
    "\n",
    "def f(x):\n",
    "    return x / sqrt(x**2 + 9)\n",
    "\n",
    "true_integral = 2\n",
    "romberg_integral = romberg(f, a, b, 5)[-1, -1]\n",
    "error = abs(true_integral - romberg_integral)"
   ]
  },
  {
   "cell_type": "code",
   "execution_count": 5,
   "metadata": {},
   "outputs": [
    {
     "name": "stdout",
     "output_type": "stream",
     "text": [
      "Romberg integration: 2.000000\n",
      "Error: 0.000000\n"
     ]
    }
   ],
   "source": [
    "print(\"Romberg integration: %f\" % romberg_integral)\n",
    "print(\"Error: %f\" % error)"
   ]
  },
  {
   "cell_type": "code",
   "execution_count": 6,
   "metadata": {},
   "outputs": [],
   "source": [
    "# (b)\n",
    "a, b = 0, 1\n",
    "\n",
    "def f(x):\n",
    "    return x**3 / (x**2 + 1)\n",
    "\n",
    "true_integral = (1 - log(2))/2\n",
    "romberg_integral = romberg(f, a, b, 5)[-1, -1]\n",
    "error = abs(true_integral - romberg_integral)"
   ]
  },
  {
   "cell_type": "code",
   "execution_count": 7,
   "metadata": {},
   "outputs": [
    {
     "name": "stdout",
     "output_type": "stream",
     "text": [
      "Romberg integration: 0.153426\n",
      "Error: 0.000000\n"
     ]
    }
   ],
   "source": [
    "print(\"Romberg integration: %f\" % romberg_integral)\n",
    "print(\"Error: %f\" % error)"
   ]
  },
  {
   "cell_type": "code",
   "execution_count": 8,
   "metadata": {},
   "outputs": [],
   "source": [
    "# (c)\n",
    "a, b = 0, 1\n",
    "\n",
    "def f(x):\n",
    "    return x*exp(x)\n",
    "\n",
    "true_integral = 1\n",
    "romberg_integral = romberg(f, a, b, 5)[-1, -1]\n",
    "error = abs(true_integral - romberg_integral)"
   ]
  },
  {
   "cell_type": "code",
   "execution_count": 9,
   "metadata": {},
   "outputs": [
    {
     "name": "stdout",
     "output_type": "stream",
     "text": [
      "Romberg integration: 1.000000\n",
      "Error: 0.000000\n"
     ]
    }
   ],
   "source": [
    "print(\"Romberg integration: %f\" % romberg_integral)\n",
    "print(\"Error: %f\" % error)"
   ]
  },
  {
   "cell_type": "code",
   "execution_count": 10,
   "metadata": {},
   "outputs": [],
   "source": [
    "# (d)\n",
    "a, b = 1, 3\n",
    "\n",
    "def f(x):\n",
    "    return (x**2)*log(x)\n",
    "\n",
    "true_integral = 9*log(3) - 26/9\n",
    "romberg_integral = romberg(f, a, b, 5)[-1, -1]\n",
    "error = abs(true_integral - romberg_integral)"
   ]
  },
  {
   "cell_type": "code",
   "execution_count": 11,
   "metadata": {
    "scrolled": true
   },
   "outputs": [
    {
     "name": "stdout",
     "output_type": "stream",
     "text": [
      "Romberg integration: 6.998622\n",
      "Error: 0.000000\n"
     ]
    }
   ],
   "source": [
    "print(\"Romberg integration: %f\" % romberg_integral)\n",
    "print(\"Error: %f\" % error)"
   ]
  },
  {
   "cell_type": "code",
   "execution_count": 12,
   "metadata": {},
   "outputs": [],
   "source": [
    "# (e)\n",
    "a, b = 0, pi\n",
    "\n",
    "def f(x):\n",
    "    return (x**2)*sin(x)\n",
    "\n",
    "true_integral = pi**2 - 4\n",
    "romberg_integral = romberg(f, a, b, 5)[-1, -1]\n",
    "error = abs(true_integral - romberg_integral)"
   ]
  },
  {
   "cell_type": "code",
   "execution_count": 13,
   "metadata": {},
   "outputs": [
    {
     "name": "stdout",
     "output_type": "stream",
     "text": [
      "Romberg integration: 5.869605\n",
      "Error: 0.000000\n"
     ]
    }
   ],
   "source": [
    "print(\"Romberg integration: %f\" % romberg_integral)\n",
    "print(\"Error: %f\" % error)"
   ]
  },
  {
   "cell_type": "code",
   "execution_count": 14,
   "metadata": {},
   "outputs": [],
   "source": [
    "# (f)\n",
    "a, b = 2, 3\n",
    "\n",
    "def f(x):\n",
    "    return x**3 / sqrt(x**4 - 1)\n",
    "\n",
    "true_integral = (sqrt(80) - sqrt(15))/2\n",
    "romberg_integral = romberg(f, a, b, 5)[-1, -1]\n",
    "error = abs(true_integral - romberg_integral)"
   ]
  },
  {
   "cell_type": "code",
   "execution_count": 15,
   "metadata": {
    "scrolled": true
   },
   "outputs": [
    {
     "name": "stdout",
     "output_type": "stream",
     "text": [
      "Romberg integration: 2.535644\n",
      "Error: 0.000000\n"
     ]
    }
   ],
   "source": [
    "print(\"Romberg integration: %f\" % romberg_integral)\n",
    "print(\"Error: %f\" % error)"
   ]
  },
  {
   "cell_type": "code",
   "execution_count": 16,
   "metadata": {},
   "outputs": [],
   "source": [
    "# (g)\n",
    "a, b = 0, 2*sqrt(3)\n",
    "\n",
    "def f(x):\n",
    "    return 1 / sqrt(x**2 + 4)\n",
    "\n",
    "true_integral = log(2 + sqrt(3))\n",
    "romberg_integral = romberg(f, a, b, 5)[-1, -1]\n",
    "error = abs(true_integral - romberg_integral)"
   ]
  },
  {
   "cell_type": "code",
   "execution_count": 17,
   "metadata": {
    "scrolled": true
   },
   "outputs": [
    {
     "name": "stdout",
     "output_type": "stream",
     "text": [
      "Romberg integration: 1.316958\n",
      "Error: 0.000000\n"
     ]
    }
   ],
   "source": [
    "print(\"Romberg integration: %f\" % romberg_integral)\n",
    "print(\"Error: %f\" % error)"
   ]
  },
  {
   "cell_type": "code",
   "execution_count": 18,
   "metadata": {},
   "outputs": [],
   "source": [
    "# (h)\n",
    "a, b = 0, 1\n",
    "\n",
    "def f(x):\n",
    "    return x / sqrt(x**4 + 1)\n",
    "\n",
    "true_integral = log(1 + sqrt(2)) / 2\n",
    "romberg_integral = romberg(f, a, b, 5)[-1, -1]\n",
    "error = abs(true_integral - romberg_integral)"
   ]
  },
  {
   "cell_type": "code",
   "execution_count": 19,
   "metadata": {
    "scrolled": true
   },
   "outputs": [
    {
     "name": "stdout",
     "output_type": "stream",
     "text": [
      "Romberg integration: 0.440687\n",
      "Error: 0.000000\n"
     ]
    }
   ],
   "source": [
    "print(\"Romberg integration: %f\" % romberg_integral)\n",
    "print(\"Error: %f\" % error)"
   ]
  },
  {
   "cell_type": "markdown",
   "metadata": {},
   "source": [
    "### Q. 2"
   ]
  },
  {
   "cell_type": "code",
   "execution_count": 20,
   "metadata": {},
   "outputs": [],
   "source": [
    "# (a)\n",
    "a, b = 0, 1\n",
    "\n",
    "def f(x):\n",
    "    return exp(x**2)"
   ]
  },
  {
   "cell_type": "code",
   "execution_count": 21,
   "metadata": {},
   "outputs": [
    {
     "name": "stdout",
     "output_type": "stream",
     "text": [
      "n: 6 / Romberg integration: 1.462652\n"
     ]
    }
   ],
   "source": [
    "n = 5\n",
    "while True:\n",
    "    R = romberg(f, a, b, n)\n",
    "    if abs(R[-2, -2] - R[-1, -1]) < 5 * 10**(-9):\n",
    "        break\n",
    "    n += 1\n",
    "\n",
    "print(\"n: %d / Romberg integration: %f\" % (n, R[-1, -1]))"
   ]
  },
  {
   "cell_type": "code",
   "execution_count": 22,
   "metadata": {},
   "outputs": [],
   "source": [
    "# (b)\n",
    "a, b = 0, sqrt(pi)\n",
    "\n",
    "def f(x):\n",
    "    return sin(x**2)"
   ]
  },
  {
   "cell_type": "code",
   "execution_count": 23,
   "metadata": {},
   "outputs": [
    {
     "name": "stdout",
     "output_type": "stream",
     "text": [
      "n: 7 / Romberg integration: 0.894831\n"
     ]
    }
   ],
   "source": [
    "n = 5\n",
    "while True:\n",
    "    R = romberg(f, a, b, n)\n",
    "    if abs(R[-2, -2] - R[-1, -1]) < 5 * 10**(-9):\n",
    "        break\n",
    "    n += 1\n",
    "\n",
    "print(\"n: %d / Romberg integration: %f\" % (n, R[-1, -1]))"
   ]
  },
  {
   "cell_type": "code",
   "execution_count": 24,
   "metadata": {},
   "outputs": [],
   "source": [
    "# (c)\n",
    "a, b = 0, pi\n",
    "\n",
    "def f(x):\n",
    "    return exp(cos(x))"
   ]
  },
  {
   "cell_type": "code",
   "execution_count": 25,
   "metadata": {},
   "outputs": [
    {
     "name": "stdout",
     "output_type": "stream",
     "text": [
      "n: 8 / Romberg integration: 3.977463\n"
     ]
    }
   ],
   "source": [
    "n = 5\n",
    "while True:\n",
    "    R = romberg(f, a, b, n)\n",
    "    if abs(R[-2, -2] - R[-1, -1]) < 5 * 10**(-9):\n",
    "        break\n",
    "    n += 1\n",
    "\n",
    "print(\"n: %d / Romberg integration: %f\" % (n, R[-1, -1]))"
   ]
  },
  {
   "cell_type": "code",
   "execution_count": 26,
   "metadata": {},
   "outputs": [],
   "source": [
    "# (d)\n",
    "a, b = 0, 1\n",
    "\n",
    "def f(x):\n",
    "    return log(x**2 + 1)"
   ]
  },
  {
   "cell_type": "code",
   "execution_count": 27,
   "metadata": {},
   "outputs": [
    {
     "name": "stdout",
     "output_type": "stream",
     "text": [
      "n: 6 / Romberg integration: 0.263944\n"
     ]
    }
   ],
   "source": [
    "n = 5\n",
    "while True:\n",
    "    R = romberg(f, a, b, n)\n",
    "    if abs(R[-2, -2] - R[-1, -1]) < 5 * 10**(-9):\n",
    "        break\n",
    "    n += 1\n",
    "\n",
    "print(\"n: %d / Romberg integration: %f\" % (n, R[-1, -1]))"
   ]
  },
  {
   "cell_type": "code",
   "execution_count": 28,
   "metadata": {},
   "outputs": [],
   "source": [
    "# (e)\n",
    "a, b = 0, 1\n",
    "\n",
    "def f(x):\n",
    "    return x / (2*exp(x) - exp(-x))"
   ]
  },
  {
   "cell_type": "code",
   "execution_count": 29,
   "metadata": {},
   "outputs": [
    {
     "name": "stdout",
     "output_type": "stream",
     "text": [
      "n: 7 / Romberg integration: 0.161020\n"
     ]
    }
   ],
   "source": [
    "n = 5\n",
    "while True:\n",
    "    R = romberg(f, a, b, n)\n",
    "    if abs(R[-2, -2] - R[-1, -1]) < 5 * 10**(-9):\n",
    "        break\n",
    "    n += 1\n",
    "\n",
    "print(\"n: %d / Romberg integration: %f\" % (n, R[-1, -1]))"
   ]
  },
  {
   "cell_type": "code",
   "execution_count": 30,
   "metadata": {},
   "outputs": [],
   "source": [
    "# (f)\n",
    "a, b = 0, pi\n",
    "\n",
    "def f(x):\n",
    "    return cos(exp(x))"
   ]
  },
  {
   "cell_type": "code",
   "execution_count": 31,
   "metadata": {},
   "outputs": [
    {
     "name": "stdout",
     "output_type": "stream",
     "text": [
      "n: 11 / Romberg integration: -0.375940\n"
     ]
    }
   ],
   "source": [
    "n = 5\n",
    "while True:\n",
    "    R = romberg(f, a, b, n)\n",
    "    if abs(R[-2, -2] - R[-1, -1]) < 5 * 10**(-9):\n",
    "        break\n",
    "    n += 1\n",
    "\n",
    "print(\"n: %d / Romberg integration: %f\" % (n, R[-1, -1]))"
   ]
  },
  {
   "cell_type": "code",
   "execution_count": 32,
   "metadata": {},
   "outputs": [],
   "source": [
    "# (g)\n",
    "a, b = 0, 1\n",
    "\n",
    "def f(x):\n",
    "    return x**x"
   ]
  },
  {
   "cell_type": "code",
   "execution_count": 33,
   "metadata": {},
   "outputs": [
    {
     "name": "stdout",
     "output_type": "stream",
     "text": [
      "n: 14 / Romberg integration: 0.783431\n"
     ]
    }
   ],
   "source": [
    "n = 5\n",
    "while True:\n",
    "    R = romberg(f, a, b, n)\n",
    "    if abs(R[-2, -2] - R[-1, -1]) < 5 * 10**(-9):\n",
    "        break\n",
    "    n += 1\n",
    "\n",
    "print(\"n: %d / Romberg integration: %f\" % (n, R[-1, -1]))"
   ]
  },
  {
   "cell_type": "code",
   "execution_count": 34,
   "metadata": {},
   "outputs": [],
   "source": [
    "# (h)\n",
    "a, b = 0, pi/2\n",
    "\n",
    "def f(x):\n",
    "    return log(cos(x) + sin(x))"
   ]
  },
  {
   "cell_type": "code",
   "execution_count": 35,
   "metadata": {},
   "outputs": [
    {
     "name": "stdout",
     "output_type": "stream",
     "text": [
      "n: 7 / Romberg integration: 0.371569\n"
     ]
    }
   ],
   "source": [
    "n = 5\n",
    "while True:\n",
    "    R = romberg(f, a, b, n)\n",
    "    if abs(R[-2, -2] - R[-1, -1]) < 5 * 10**(-9):\n",
    "        break\n",
    "    n += 1\n",
    "\n",
    "print(\"n: %d / Romberg integration: %f\" % (n, R[-1, -1]))"
   ]
  },
  {
   "cell_type": "markdown",
   "metadata": {},
   "source": [
    "### Q. 3"
   ]
  },
  {
   "cell_type": "code",
   "execution_count": 36,
   "metadata": {},
   "outputs": [],
   "source": [
    "a, b = 1, 2\n",
    "f = log\n",
    "true_integral = 2*log(2) - 1"
   ]
  },
  {
   "cell_type": "code",
   "execution_count": 37,
   "metadata": {},
   "outputs": [],
   "source": [
    "# (a)\n",
    "h_range = np.array([(b - a)/2**i for i in range(10)])\n",
    "second_column = romberg(log, a, b, 10)[:, 1]\n",
    "error_range = abs(true_integral - second_column)"
   ]
  },
  {
   "cell_type": "code",
   "execution_count": 38,
   "metadata": {},
   "outputs": [
    {
     "data": {
      "image/png": "[encoded data removed]",
      "text/plain": [
       "<matplotlib.figure.Figure at 0x13f5024d588>"
      ]
     },
     "metadata": {},
     "output_type": "display_data"
    }
   ],
   "source": [
    "plt.plot(h_range, error_range)\n",
    "plt.xscale(\"log\")\n",
    "plt.yscale(\"log\")\n",
    "\n",
    "plt.show()"
   ]
  },
  {
   "cell_type": "code",
   "execution_count": 39,
   "metadata": {},
   "outputs": [
    {
     "name": "stdout",
     "output_type": "stream",
     "text": [
      "Computational slope: 3.999682\n",
      "Theoretical slope: 4.000000\n"
     ]
    }
   ],
   "source": [
    "print(\"Computational slope: %f\" % ((log(error_range[-1]) - log(error_range[-2]))/(log(h_range[-1]) - log(h_range[-2]))))\n",
    "print(\"Theoretical slope: %f\" % 4)"
   ]
  },
  {
   "cell_type": "code",
   "execution_count": 40,
   "metadata": {},
   "outputs": [],
   "source": [
    "# (b)\n",
    "h_range = np.array([(b - a)/2**i for i in range(10)])\n",
    "third_column = romberg(log, a, b, 10)[:, 2]\n",
    "error_range = abs(true_integral - third_column)"
   ]
  },
  {
   "cell_type": "code",
   "execution_count": 41,
   "metadata": {
    "scrolled": true
   },
   "outputs": [
    {
     "data": {
      "image/png": "[encoded data removed]",
      "text/plain": [
       "<matplotlib.figure.Figure at 0x13f522ee6d8>"
      ]
     },
     "metadata": {},
     "output_type": "display_data"
    }
   ],
   "source": [
    "plt.plot(h_range, error_range)\n",
    "plt.xscale(\"log\")\n",
    "plt.yscale(\"log\")\n",
    "\n",
    "plt.show()"
   ]
  },
  {
   "cell_type": "code",
   "execution_count": 42,
   "metadata": {},
   "outputs": [
    {
     "name": "stdout",
     "output_type": "stream",
     "text": [
      "Computational slope: 5.991045\n",
      "Theoretical slope: 6.000000\n"
     ]
    }
   ],
   "source": [
    "print(\"Computational slope: %f\" % ((log(error_range[-3]) - log(error_range[-4]))/(log(h_range[-3]) - log(h_range[-4]))))\n",
    "print(\"Theoretical slope: %f\" % 6)"
   ]
  }
 ],
 "metadata": {
  "kernelspec": {
   "display_name": "Python 3",
   "language": "python",
   "name": "python3"
  },
  "language_info": {
   "codemirror_mode": {
    "name": "ipython",
    "version": 3
   },
   "file_extension": ".py",
   "mimetype": "text/x-python",
   "name": "python",
   "nbconvert_exporter": "python",
   "pygments_lexer": "ipython3",
   "version": "3.6.4"
  }
 },
 "nbformat": 4,
 "nbformat_minor": 2
}

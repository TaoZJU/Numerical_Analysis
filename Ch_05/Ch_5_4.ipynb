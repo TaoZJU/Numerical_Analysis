{
 "cells": [
  {
   "cell_type": "code",
   "execution_count": 1,
   "metadata": {},
   "outputs": [],
   "source": [
    "import numpy as np\n",
    "from scipy.special import erf"
   ]
  },
  {
   "cell_type": "code",
   "execution_count": 2,
   "metadata": {},
   "outputs": [],
   "source": [
    "pi = np.pi\n",
    "exp = np.exp\n",
    "log = np.log\n",
    "sqrt = np.sqrt\n",
    "sin = np.sin\n",
    "cos = np.cos"
   ]
  },
  {
   "cell_type": "markdown",
   "metadata": {},
   "source": [
    "# Chapter 5<br>Numerical Differentiation and Integration"
   ]
  },
  {
   "cell_type": "markdown",
   "metadata": {},
   "source": [
    "## 5.4 Adaptive Quadrature"
   ]
  },
  {
   "cell_type": "code",
   "execution_count": 3,
   "metadata": {},
   "outputs": [],
   "source": [
    "def Adapt_quad(f, interval, tol, Method):\n",
    "    interval_list = [interval]\n",
    "    A, B = interval\n",
    "    S, criterion = Method\n",
    "    \n",
    "    area = 0\n",
    "    num = 1\n",
    "        \n",
    "    while len(interval_list) > 0:\n",
    "        interval = interval_list.pop(0)\n",
    "        a, b = interval\n",
    "        c = (a + b)/2\n",
    "        num += 1\n",
    "\n",
    "        S_ab, S_ac, S_cb = S(f, [a, b]), S(f, [a, c]), S(f, [c, b])\n",
    "        error = abs(S_ab - S_ac - S_cb)\n",
    "\n",
    "        if error < criterion*tol*(b - a)/(B - A):\n",
    "            area += S_ac + S_cb\n",
    "        else:\n",
    "            interval_list += [[a, c], [c, b]]\n",
    "            \n",
    "    return area, num"
   ]
  },
  {
   "cell_type": "code",
   "execution_count": 4,
   "metadata": {},
   "outputs": [],
   "source": [
    "def S_trapezoid(f, interval):\n",
    "    a, b = interval\n",
    "    return (b - a)*(f(a) + f(b))/2\n",
    "crit_trapezoid = 3\n",
    "\n",
    "trapezoid = (S_trapezoid, crit_trapezoid)"
   ]
  },
  {
   "cell_type": "code",
   "execution_count": 5,
   "metadata": {},
   "outputs": [],
   "source": [
    "def S_Simpson(f, interval):\n",
    "    a, b = interval\n",
    "    c = (a + b)/2\n",
    "    return (b - a)*(f(a) + 4*f(c) + f(b))/6\n",
    "crit_Simpson = 10\n",
    "\n",
    "Simpson = (S_Simpson, crit_Simpson)"
   ]
  },
  {
   "cell_type": "code",
   "execution_count": 6,
   "metadata": {},
   "outputs": [],
   "source": [
    "def S_midpoint(f, interval):\n",
    "    a, b = interval\n",
    "    c = (a + b)/2\n",
    "    return (b - a)*f(c)\n",
    "crit_midpoint = 3\n",
    "\n",
    "midpoint = (S_midpoint, crit_midpoint)"
   ]
  },
  {
   "cell_type": "markdown",
   "metadata": {},
   "source": [
    "### Q. 1"
   ]
  },
  {
   "cell_type": "code",
   "execution_count": 7,
   "metadata": {},
   "outputs": [],
   "source": [
    "tol = 5e-9"
   ]
  },
  {
   "cell_type": "code",
   "execution_count": 8,
   "metadata": {},
   "outputs": [
    {
     "name": "stdout",
     "output_type": "stream",
     "text": [
      "Area: 2.00000000 / Number of subintervals: 12606\n"
     ]
    }
   ],
   "source": [
    "# (a)\n",
    "def f(x):\n",
    "    return x / sqrt(x**2 + 9)\n",
    "\n",
    "interval = [0, 4]\n",
    "\n",
    "area, num = Adapt_quad(f, interval, tol, trapezoid)\n",
    "\n",
    "print(\"Area: %.8f / Number of subintervals: %d\" % (area, num))"
   ]
  },
  {
   "cell_type": "code",
   "execution_count": 9,
   "metadata": {},
   "outputs": [
    {
     "name": "stdout",
     "output_type": "stream",
     "text": [
      "Area: 0.15342641 / Number of subintervals: 6204\n"
     ]
    }
   ],
   "source": [
    "# (b)\n",
    "def f(x):\n",
    "    return x**3 / (x**2 + 1)\n",
    "\n",
    "interval = [0, 1]\n",
    "\n",
    "area, num = Adapt_quad(f, interval, tol, trapezoid)\n",
    "\n",
    "print(\"Area: %.8f / Number of subintervals: %d\" % (area, num))"
   ]
  },
  {
   "cell_type": "code",
   "execution_count": 10,
   "metadata": {},
   "outputs": [
    {
     "name": "stdout",
     "output_type": "stream",
     "text": [
      "Area: 1.00000000 / Number of subintervals: 12424\n"
     ]
    }
   ],
   "source": [
    "# (c)\n",
    "def f(x):\n",
    "    return x*exp(x)\n",
    "\n",
    "interval = [0, 1]\n",
    "\n",
    "area, num = Adapt_quad(f, interval, tol, trapezoid)\n",
    "\n",
    "print(\"Area: %.8f / Number of subintervals: %d\" % (area, num))"
   ]
  },
  {
   "cell_type": "code",
   "execution_count": 11,
   "metadata": {},
   "outputs": [
    {
     "name": "stdout",
     "output_type": "stream",
     "text": [
      "Area: 6.99862171 / Number of subintervals: 32768\n"
     ]
    }
   ],
   "source": [
    "# (d)\n",
    "def f(x):\n",
    "    return x**2 * log(x)\n",
    "\n",
    "interval = [1, 3]\n",
    "\n",
    "area, num = Adapt_quad(f, interval, tol, trapezoid)\n",
    "\n",
    "print(\"Area: %.8f / Number of subintervals: %d\" % (area, num))"
   ]
  },
  {
   "cell_type": "code",
   "execution_count": 12,
   "metadata": {},
   "outputs": [
    {
     "name": "stdout",
     "output_type": "stream",
     "text": [
      "Area: 5.86960440 / Number of subintervals: 73322\n"
     ]
    }
   ],
   "source": [
    "# (e)\n",
    "def f(x):\n",
    "    return x**2 * sin(x)\n",
    "\n",
    "interval = [0, pi]\n",
    "\n",
    "area, num = Adapt_quad(f, interval, tol, trapezoid)\n",
    "\n",
    "print(\"Area: %.8f / Number of subintervals: %d\" % (area, num))"
   ]
  },
  {
   "cell_type": "code",
   "execution_count": 13,
   "metadata": {},
   "outputs": [
    {
     "name": "stdout",
     "output_type": "stream",
     "text": [
      "Area: 2.53564428 / Number of subintervals: 1568\n"
     ]
    }
   ],
   "source": [
    "# (f)\n",
    "def f(x):\n",
    "    return x**3 / sqrt(x**4 - 1)\n",
    "\n",
    "interval = [2, 3]\n",
    "\n",
    "area, num = Adapt_quad(f, interval, tol, trapezoid)\n",
    "\n",
    "print(\"Area: %.8f / Number of subintervals: %d\" % (area, num))"
   ]
  },
  {
   "cell_type": "code",
   "execution_count": 14,
   "metadata": {},
   "outputs": [
    {
     "name": "stdout",
     "output_type": "stream",
     "text": [
      "Area: 1.31695790 / Number of subintervals: 7146\n"
     ]
    }
   ],
   "source": [
    "# (g)\n",
    "def f(x):\n",
    "    return 1 / sqrt(x**2 + 4)\n",
    "\n",
    "interval = [0, 2*sqrt(3)]\n",
    "\n",
    "area, num = Adapt_quad(f, interval, tol, trapezoid)\n",
    "\n",
    "print(\"Area: %.8f / Number of subintervals: %d\" % (area, num))"
   ]
  },
  {
   "cell_type": "code",
   "execution_count": 15,
   "metadata": {
    "scrolled": true
   },
   "outputs": [
    {
     "name": "stdout",
     "output_type": "stream",
     "text": [
      "Area: 0.44068679 / Number of subintervals: 5308\n"
     ]
    }
   ],
   "source": [
    "# (h)\n",
    "def f(x):\n",
    "    return x / sqrt(x**4 + 1)\n",
    "\n",
    "interval = [0, 1]\n",
    "\n",
    "area, num = Adapt_quad(f, interval, tol, trapezoid)\n",
    "\n",
    "print(\"Area: %.8f / Number of subintervals: %d\" % (area, num))"
   ]
  },
  {
   "cell_type": "markdown",
   "metadata": {},
   "source": [
    "### Q. 2"
   ]
  },
  {
   "cell_type": "code",
   "execution_count": 16,
   "metadata": {},
   "outputs": [
    {
     "name": "stdout",
     "output_type": "stream",
     "text": [
      "Area: 2.500282 / Number of subintervals: 20\n"
     ]
    }
   ],
   "source": [
    "def f(x):\n",
    "    return 1 + sin(exp(3*x))\n",
    "\n",
    "interval = [-1, 1]\n",
    "tol = 5e-3\n",
    "\n",
    "area, num = Adapt_quad(f, interval, tol, Simpson)\n",
    "\n",
    "print(\"Area: %f / Number of subintervals: %d\" % (area, num))"
   ]
  },
  {
   "cell_type": "markdown",
   "metadata": {},
   "source": [
    "### Q. 3"
   ]
  },
  {
   "cell_type": "code",
   "execution_count": 17,
   "metadata": {},
   "outputs": [],
   "source": [
    "tol = 5e-9"
   ]
  },
  {
   "cell_type": "code",
   "execution_count": 18,
   "metadata": {
    "scrolled": true
   },
   "outputs": [
    {
     "name": "stdout",
     "output_type": "stream",
     "text": [
      "Area: 2.00000000 / Number of subintervals: 56\n"
     ]
    }
   ],
   "source": [
    "# (a)\n",
    "def f(x):\n",
    "    return x / sqrt(x**2 + 9)\n",
    "\n",
    "interval = [0, 4]\n",
    "\n",
    "area, num = Adapt_quad(f, interval, tol, Simpson)\n",
    "\n",
    "print(\"Area: %.8f / Number of subintervals: %d\" % (area, num))"
   ]
  },
  {
   "cell_type": "code",
   "execution_count": 19,
   "metadata": {},
   "outputs": [
    {
     "name": "stdout",
     "output_type": "stream",
     "text": [
      "Area: 0.15342641 / Number of subintervals: 46\n"
     ]
    }
   ],
   "source": [
    "# (b)\n",
    "def f(x):\n",
    "    return x**3 / (x**2 + 1)\n",
    "\n",
    "interval = [0, 1]\n",
    "\n",
    "area, num = Adapt_quad(f, interval, tol, Simpson)\n",
    "\n",
    "print(\"Area: %.8f / Number of subintervals: %d\" % (area, num))"
   ]
  },
  {
   "cell_type": "code",
   "execution_count": 20,
   "metadata": {},
   "outputs": [
    {
     "name": "stdout",
     "output_type": "stream",
     "text": [
      "Area: 1.00000000 / Number of subintervals: 40\n"
     ]
    }
   ],
   "source": [
    "# (c)\n",
    "def f(x):\n",
    "    return x*exp(x)\n",
    "\n",
    "interval = [0, 1]\n",
    "\n",
    "area, num = Adapt_quad(f, interval, tol, Simpson)\n",
    "\n",
    "print(\"Area: %.8f / Number of subintervals: %d\" % (area, num))"
   ]
  },
  {
   "cell_type": "code",
   "execution_count": 21,
   "metadata": {},
   "outputs": [
    {
     "name": "stdout",
     "output_type": "stream",
     "text": [
      "Area: 6.99862171 / Number of subintervals: 56\n"
     ]
    }
   ],
   "source": [
    "# (d)\n",
    "def f(x):\n",
    "    return x**2 * log(x)\n",
    "\n",
    "interval = [1, 3]\n",
    "\n",
    "area, num = Adapt_quad(f, interval, tol, Simpson)\n",
    "\n",
    "print(\"Area: %.8f / Number of subintervals: %d\" % (area, num))"
   ]
  },
  {
   "cell_type": "code",
   "execution_count": 22,
   "metadata": {},
   "outputs": [
    {
     "name": "stdout",
     "output_type": "stream",
     "text": [
      "Area: 5.86960440 / Number of subintervals: 206\n"
     ]
    }
   ],
   "source": [
    "# (e)\n",
    "def f(x):\n",
    "    return x**2 * sin(x)\n",
    "\n",
    "interval = [0, pi]\n",
    "\n",
    "area, num = Adapt_quad(f, interval, tol, Simpson)\n",
    "\n",
    "print(\"Area: %.8f / Number of subintervals: %d\" % (area, num))"
   ]
  },
  {
   "cell_type": "code",
   "execution_count": 23,
   "metadata": {},
   "outputs": [
    {
     "name": "stdout",
     "output_type": "stream",
     "text": [
      "Area: 2.53564428 / Number of subintervals: 22\n"
     ]
    }
   ],
   "source": [
    "# (f)\n",
    "def f(x):\n",
    "    return x**3 / sqrt(x**4 - 1)\n",
    "\n",
    "interval = [2, 3]\n",
    "\n",
    "area, num = Adapt_quad(f, interval, tol, Simpson)\n",
    "\n",
    "print(\"Area: %.8f / Number of subintervals: %d\" % (area, num))"
   ]
  },
  {
   "cell_type": "code",
   "execution_count": 24,
   "metadata": {},
   "outputs": [
    {
     "name": "stdout",
     "output_type": "stream",
     "text": [
      "Area: 1.31695790 / Number of subintervals: 54\n"
     ]
    }
   ],
   "source": [
    "# (g)\n",
    "def f(x):\n",
    "    return 1 / sqrt(x**2 + 4)\n",
    "\n",
    "interval = [0, 2*sqrt(3)]\n",
    "\n",
    "area, num = Adapt_quad(f, interval, tol, Simpson)\n",
    "\n",
    "print(\"Area: %.8f / Number of subintervals: %d\" % (area, num))"
   ]
  },
  {
   "cell_type": "code",
   "execution_count": 25,
   "metadata": {
    "scrolled": false
   },
   "outputs": [
    {
     "name": "stdout",
     "output_type": "stream",
     "text": [
      "Area: 0.44068679 / Number of subintervals: 52\n"
     ]
    }
   ],
   "source": [
    "# (h)\n",
    "def f(x):\n",
    "    return x / sqrt(x**4 + 1)\n",
    "\n",
    "interval = [0, 1]\n",
    "\n",
    "area, num = Adapt_quad(f, interval, tol, Simpson)\n",
    "\n",
    "print(\"Area: %.8f / Number of subintervals: %d\" % (area, num))"
   ]
  },
  {
   "cell_type": "markdown",
   "metadata": {},
   "source": [
    "### Q. 4"
   ]
  },
  {
   "cell_type": "code",
   "execution_count": 26,
   "metadata": {},
   "outputs": [],
   "source": [
    "tol = 5e-9"
   ]
  },
  {
   "cell_type": "code",
   "execution_count": 27,
   "metadata": {},
   "outputs": [
    {
     "name": "stdout",
     "output_type": "stream",
     "text": [
      "Area: 2.00000000 / Number of subintervals: 7856\n"
     ]
    }
   ],
   "source": [
    "# (a)\n",
    "def f(x):\n",
    "    return x / sqrt(x**2 + 9)\n",
    "\n",
    "interval = [0, 4]\n",
    "\n",
    "area, num = Adapt_quad(f, interval, tol, midpoint)\n",
    "\n",
    "print(\"Area: %.8f / Number of subintervals: %d\" % (area, num))"
   ]
  },
  {
   "cell_type": "code",
   "execution_count": 28,
   "metadata": {},
   "outputs": [
    {
     "name": "stdout",
     "output_type": "stream",
     "text": [
      "Area: 0.15342641 / Number of subintervals: 3892\n"
     ]
    }
   ],
   "source": [
    "# (b)\n",
    "def f(x):\n",
    "    return x**3 / (x**2 + 1)\n",
    "\n",
    "interval = [0, 1]\n",
    "\n",
    "area, num = Adapt_quad(f, interval, tol, midpoint)\n",
    "\n",
    "print(\"Area: %.8f / Number of subintervals: %d\" % (area, num))"
   ]
  },
  {
   "cell_type": "code",
   "execution_count": 29,
   "metadata": {},
   "outputs": [
    {
     "name": "stdout",
     "output_type": "stream",
     "text": [
      "Area: 1.00000000 / Number of subintervals: 8252\n"
     ]
    }
   ],
   "source": [
    "# (c)\n",
    "def f(x):\n",
    "    return x*exp(x)\n",
    "\n",
    "interval = [0, 1]\n",
    "\n",
    "area, num = Adapt_quad(f, interval, tol, midpoint)\n",
    "\n",
    "print(\"Area: %.8f / Number of subintervals: %d\" % (area, num))"
   ]
  },
  {
   "cell_type": "code",
   "execution_count": 30,
   "metadata": {},
   "outputs": [
    {
     "name": "stdout",
     "output_type": "stream",
     "text": [
      "Area: 6.99862171 / Number of subintervals: 27274\n"
     ]
    }
   ],
   "source": [
    "# (d)\n",
    "def f(x):\n",
    "    return x**2 * log(x)\n",
    "\n",
    "interval = [1, 3]\n",
    "\n",
    "area, num = Adapt_quad(f, interval, tol, midpoint)\n",
    "\n",
    "print(\"Area: %.8f / Number of subintervals: %d\" % (area, num))"
   ]
  },
  {
   "cell_type": "code",
   "execution_count": 31,
   "metadata": {},
   "outputs": [
    {
     "name": "stdout",
     "output_type": "stream",
     "text": [
      "Area: 5.86960440 / Number of subintervals: 43108\n"
     ]
    }
   ],
   "source": [
    "# (e)\n",
    "def f(x):\n",
    "    return x**2 * sin(x)\n",
    "\n",
    "interval = [0, pi]\n",
    "\n",
    "area, num = Adapt_quad(f, interval, tol, midpoint)\n",
    "\n",
    "print(\"Area: %.8f / Number of subintervals: %d\" % (area, num))"
   ]
  },
  {
   "cell_type": "code",
   "execution_count": 32,
   "metadata": {},
   "outputs": [
    {
     "name": "stdout",
     "output_type": "stream",
     "text": [
      "Area: 2.53564428 / Number of subintervals: 1200\n"
     ]
    }
   ],
   "source": [
    "# (f)\n",
    "def f(x):\n",
    "    return x**3 / sqrt(x**4 - 1)\n",
    "\n",
    "interval = [2, 3]\n",
    "\n",
    "area, num = Adapt_quad(f, interval, tol, midpoint)\n",
    "\n",
    "print(\"Area: %.8f / Number of subintervals: %d\" % (area, num))"
   ]
  },
  {
   "cell_type": "code",
   "execution_count": 33,
   "metadata": {},
   "outputs": [
    {
     "name": "stdout",
     "output_type": "stream",
     "text": [
      "Area: 1.31695790 / Number of subintervals: 4880\n"
     ]
    }
   ],
   "source": [
    "# (g)\n",
    "def f(x):\n",
    "    return 1 / sqrt(x**2 + 4)\n",
    "\n",
    "interval = [0, 2*sqrt(3)]\n",
    "\n",
    "area, num = Adapt_quad(f, interval, tol, midpoint)\n",
    "\n",
    "print(\"Area: %.8f / Number of subintervals: %d\" % (area, num))"
   ]
  },
  {
   "cell_type": "code",
   "execution_count": 34,
   "metadata": {
    "scrolled": false
   },
   "outputs": [
    {
     "name": "stdout",
     "output_type": "stream",
     "text": [
      "Area: 0.44068680 / Number of subintervals: 2978\n"
     ]
    }
   ],
   "source": [
    "# (h)\n",
    "def f(x):\n",
    "    return x / sqrt(x**4 + 1)\n",
    "\n",
    "interval = [0, 1]\n",
    "\n",
    "area, num = Adapt_quad(f, interval, tol, midpoint)\n",
    "\n",
    "print(\"Area: %.8f / Number of subintervals: %d\" % (area, num))"
   ]
  },
  {
   "cell_type": "markdown",
   "metadata": {},
   "source": [
    "### Q. 5"
   ]
  },
  {
   "cell_type": "code",
   "execution_count": 35,
   "metadata": {},
   "outputs": [],
   "source": [
    "def S_Q5(f, interval):\n",
    "    x_0, x_1, x_2, x_3, x_4 = np.linspace(*interval, 5)\n",
    "    return (x_4 - x_0)*(2*f(x_1) - f(x_2) + 2*f(x_3))/3\n",
    "crit_Q5 = 10\n",
    "\n",
    "Q_5 = (S_Q5, crit_Q5)"
   ]
  },
  {
   "cell_type": "code",
   "execution_count": 36,
   "metadata": {},
   "outputs": [],
   "source": [
    "tol = 5e-9"
   ]
  },
  {
   "cell_type": "code",
   "execution_count": 37,
   "metadata": {},
   "outputs": [
    {
     "name": "stdout",
     "output_type": "stream",
     "text": [
      "Area: 2.00000000 / Number of subintervals: 50\n"
     ]
    }
   ],
   "source": [
    "# (a)\n",
    "def f(x):\n",
    "    return x / sqrt(x**2 + 9)\n",
    "\n",
    "interval = [0, 4]\n",
    "\n",
    "area, num = Adapt_quad(f, interval, tol, Q_5)\n",
    "\n",
    "print(\"Area: %.8f / Number of subintervals: %d\" % (area, num))"
   ]
  },
  {
   "cell_type": "code",
   "execution_count": 38,
   "metadata": {},
   "outputs": [
    {
     "name": "stdout",
     "output_type": "stream",
     "text": [
      "Area: 0.15342641 / Number of subintervals: 44\n"
     ]
    }
   ],
   "source": [
    "# (b)\n",
    "def f(x):\n",
    "    return x**3 / (x**2 + 1)\n",
    "\n",
    "interval = [0, 1]\n",
    "\n",
    "area, num = Adapt_quad(f, interval, tol, Q_5)\n",
    "\n",
    "print(\"Area: %.8f / Number of subintervals: %d\" % (area, num))"
   ]
  },
  {
   "cell_type": "code",
   "execution_count": 39,
   "metadata": {},
   "outputs": [
    {
     "name": "stdout",
     "output_type": "stream",
     "text": [
      "Area: 1.00000000 / Number of subintervals: 36\n"
     ]
    }
   ],
   "source": [
    "# (c)\n",
    "def f(x):\n",
    "    return x*exp(x)\n",
    "\n",
    "interval = [0, 1]\n",
    "\n",
    "area, num = Adapt_quad(f, interval, tol, Q_5)\n",
    "\n",
    "print(\"Area: %.8f / Number of subintervals: %d\" % (area, num))"
   ]
  },
  {
   "cell_type": "code",
   "execution_count": 40,
   "metadata": {},
   "outputs": [
    {
     "name": "stdout",
     "output_type": "stream",
     "text": [
      "Area: 6.99862171 / Number of subintervals: 54\n"
     ]
    }
   ],
   "source": [
    "# (d)\n",
    "def f(x):\n",
    "    return x**2 * log(x)\n",
    "\n",
    "interval = [1, 3]\n",
    "\n",
    "area, num = Adapt_quad(f, interval, tol, Q_5)\n",
    "\n",
    "print(\"Area: %.8f / Number of subintervals: %d\" % (area, num))"
   ]
  },
  {
   "cell_type": "code",
   "execution_count": 41,
   "metadata": {},
   "outputs": [
    {
     "name": "stdout",
     "output_type": "stream",
     "text": [
      "Area: 5.86960440 / Number of subintervals: 198\n"
     ]
    }
   ],
   "source": [
    "# (e)\n",
    "def f(x):\n",
    "    return x**2 * sin(x)\n",
    "\n",
    "interval = [0, pi]\n",
    "\n",
    "area, num = Adapt_quad(f, interval, tol, Q_5)\n",
    "\n",
    "print(\"Area: %.8f / Number of subintervals: %d\" % (area, num))"
   ]
  },
  {
   "cell_type": "code",
   "execution_count": 42,
   "metadata": {},
   "outputs": [
    {
     "name": "stdout",
     "output_type": "stream",
     "text": [
      "Area: 2.53564428 / Number of subintervals: 22\n"
     ]
    }
   ],
   "source": [
    "# (f)\n",
    "def f(x):\n",
    "    return x**3 / sqrt(x**4 - 1)\n",
    "\n",
    "interval = [2, 3]\n",
    "\n",
    "area, num = Adapt_quad(f, interval, tol, Q_5)\n",
    "\n",
    "print(\"Area: %.8f / Number of subintervals: %d\" % (area, num))"
   ]
  },
  {
   "cell_type": "code",
   "execution_count": 43,
   "metadata": {},
   "outputs": [
    {
     "name": "stdout",
     "output_type": "stream",
     "text": [
      "Area: 1.31695790 / Number of subintervals: 50\n"
     ]
    }
   ],
   "source": [
    "# (g)\n",
    "def f(x):\n",
    "    return 1 / sqrt(x**2 + 4)\n",
    "\n",
    "interval = [0, 2*sqrt(3)]\n",
    "\n",
    "area, num = Adapt_quad(f, interval, tol, Q_5)\n",
    "\n",
    "print(\"Area: %.8f / Number of subintervals: %d\" % (area, num))"
   ]
  },
  {
   "cell_type": "code",
   "execution_count": 44,
   "metadata": {
    "scrolled": false
   },
   "outputs": [
    {
     "name": "stdout",
     "output_type": "stream",
     "text": [
      "Area: 0.44068679 / Number of subintervals: 52\n"
     ]
    }
   ],
   "source": [
    "# (h)\n",
    "def f(x):\n",
    "    return x / sqrt(x**4 + 1)\n",
    "\n",
    "interval = [0, 1]\n",
    "\n",
    "area, num = Adapt_quad(f, interval, tol, Q_5)\n",
    "\n",
    "print(\"Area: %.8f / Number of subintervals: %d\" % (area, num))"
   ]
  },
  {
   "cell_type": "markdown",
   "metadata": {},
   "source": [
    "### Q. 6"
   ]
  },
  {
   "cell_type": "code",
   "execution_count": 45,
   "metadata": {},
   "outputs": [],
   "source": [
    "tol = 5e-9"
   ]
  },
  {
   "cell_type": "code",
   "execution_count": 46,
   "metadata": {},
   "outputs": [
    {
     "name": "stdout",
     "output_type": "stream",
     "text": [
      "Area: 1.462652\n"
     ]
    }
   ],
   "source": [
    "# (a)\n",
    "def f(x):\n",
    "    return exp(x**2)\n",
    "\n",
    "interval = [0, 1]\n",
    "\n",
    "area, num = Adapt_quad(f, interval, tol, trapezoid)\n",
    "\n",
    "print(\"Area: %f\" % area)"
   ]
  },
  {
   "cell_type": "code",
   "execution_count": 47,
   "metadata": {},
   "outputs": [
    {
     "name": "stdout",
     "output_type": "stream",
     "text": [
      "Area: 0.894831\n"
     ]
    }
   ],
   "source": [
    "# (b)\n",
    "def f(x):\n",
    "    return sin(x**2)\n",
    "\n",
    "interval = [0, sqrt(pi)]\n",
    "\n",
    "area, num = Adapt_quad(f, interval, tol, trapezoid)\n",
    "\n",
    "print(\"Area: %f\" % area)"
   ]
  },
  {
   "cell_type": "code",
   "execution_count": 48,
   "metadata": {},
   "outputs": [
    {
     "name": "stdout",
     "output_type": "stream",
     "text": [
      "Area: 3.977463\n"
     ]
    }
   ],
   "source": [
    "# (c)\n",
    "def f(x):\n",
    "    return exp(cos(x))\n",
    "\n",
    "interval = [0, pi]\n",
    "\n",
    "area, num = Adapt_quad(f, interval, tol, trapezoid)\n",
    "\n",
    "print(\"Area: %f\" % area)"
   ]
  },
  {
   "cell_type": "code",
   "execution_count": 49,
   "metadata": {},
   "outputs": [
    {
     "name": "stdout",
     "output_type": "stream",
     "text": [
      "Area: 0.263944\n"
     ]
    }
   ],
   "source": [
    "# (d)\n",
    "def f(x):\n",
    "    return log(x**2 + 1)\n",
    "\n",
    "interval = [0, 1]\n",
    "\n",
    "area, num = Adapt_quad(f, interval, tol, trapezoid)\n",
    "\n",
    "print(\"Area: %f\" % area)"
   ]
  },
  {
   "cell_type": "code",
   "execution_count": 50,
   "metadata": {},
   "outputs": [
    {
     "name": "stdout",
     "output_type": "stream",
     "text": [
      "Area: 0.161020\n"
     ]
    }
   ],
   "source": [
    "# (e)\n",
    "def f(x):\n",
    "    return x / (2*exp(x) - exp(-x))\n",
    "\n",
    "interval = [0, 1]\n",
    "\n",
    "area, num = Adapt_quad(f, interval, tol, trapezoid)\n",
    "\n",
    "print(\"Area: %f\" % area)"
   ]
  },
  {
   "cell_type": "code",
   "execution_count": 51,
   "metadata": {},
   "outputs": [
    {
     "name": "stdout",
     "output_type": "stream",
     "text": [
      "Area: -0.375940\n"
     ]
    }
   ],
   "source": [
    "# (f)\n",
    "def f(x):\n",
    "    return cos(exp(x))\n",
    "\n",
    "interval = [0, pi]\n",
    "\n",
    "area, num = Adapt_quad(f, interval, tol, trapezoid)\n",
    "\n",
    "print(\"Area: %f\" % area)"
   ]
  },
  {
   "cell_type": "code",
   "execution_count": 52,
   "metadata": {},
   "outputs": [
    {
     "name": "stdout",
     "output_type": "stream",
     "text": [
      "Area: 0.783431\n"
     ]
    }
   ],
   "source": [
    "# (g)\n",
    "def f(x):\n",
    "    return x**x\n",
    "\n",
    "interval = [0, 1]\n",
    "\n",
    "area, num = Adapt_quad(f, interval, tol, trapezoid)\n",
    "\n",
    "print(\"Area: %f\" % area)"
   ]
  },
  {
   "cell_type": "code",
   "execution_count": 53,
   "metadata": {
    "scrolled": false
   },
   "outputs": [
    {
     "name": "stdout",
     "output_type": "stream",
     "text": [
      "Area: 0.371569\n"
     ]
    }
   ],
   "source": [
    "# (h)\n",
    "def f(x):\n",
    "    return log(cos(x) + sin(x))\n",
    "\n",
    "interval = [0, pi/2]\n",
    "\n",
    "area, num = Adapt_quad(f, interval, tol, trapezoid)\n",
    "\n",
    "print(\"Area: %f\" % area)"
   ]
  },
  {
   "cell_type": "markdown",
   "metadata": {},
   "source": [
    "### Q. 7"
   ]
  },
  {
   "cell_type": "code",
   "execution_count": 54,
   "metadata": {},
   "outputs": [],
   "source": [
    "tol = 5e-9"
   ]
  },
  {
   "cell_type": "code",
   "execution_count": 55,
   "metadata": {},
   "outputs": [
    {
     "name": "stdout",
     "output_type": "stream",
     "text": [
      "Area: 1.462652\n"
     ]
    }
   ],
   "source": [
    "# (a)\n",
    "def f(x):\n",
    "    return exp(x**2)\n",
    "\n",
    "interval = [0, 1]\n",
    "\n",
    "area, num = Adapt_quad(f, interval, tol, Simpson)\n",
    "\n",
    "print(\"Area: %f\" % area)"
   ]
  },
  {
   "cell_type": "code",
   "execution_count": 56,
   "metadata": {},
   "outputs": [
    {
     "name": "stdout",
     "output_type": "stream",
     "text": [
      "Area: 0.894831\n"
     ]
    }
   ],
   "source": [
    "# (b)\n",
    "def f(x):\n",
    "    return sin(x**2)\n",
    "\n",
    "interval = [0, sqrt(pi)]\n",
    "\n",
    "area, num = Adapt_quad(f, interval, tol, Simpson)\n",
    "\n",
    "print(\"Area: %f\" % area)"
   ]
  },
  {
   "cell_type": "code",
   "execution_count": 57,
   "metadata": {},
   "outputs": [
    {
     "name": "stdout",
     "output_type": "stream",
     "text": [
      "Area: 3.977463\n"
     ]
    }
   ],
   "source": [
    "# (c)\n",
    "def f(x):\n",
    "    return exp(cos(x))\n",
    "\n",
    "interval = [0, pi]\n",
    "\n",
    "area, num = Adapt_quad(f, interval, tol, Simpson)\n",
    "\n",
    "print(\"Area: %f\" % area)"
   ]
  },
  {
   "cell_type": "code",
   "execution_count": 58,
   "metadata": {},
   "outputs": [
    {
     "name": "stdout",
     "output_type": "stream",
     "text": [
      "Area: 0.263944\n"
     ]
    }
   ],
   "source": [
    "# (d)\n",
    "def f(x):\n",
    "    return log(x**2 + 1)\n",
    "\n",
    "interval = [0, 1]\n",
    "\n",
    "area, num = Adapt_quad(f, interval, tol, Simpson)\n",
    "\n",
    "print(\"Area: %f\" % area)"
   ]
  },
  {
   "cell_type": "code",
   "execution_count": 59,
   "metadata": {},
   "outputs": [
    {
     "name": "stdout",
     "output_type": "stream",
     "text": [
      "Area: 0.161020\n"
     ]
    }
   ],
   "source": [
    "# (e)\n",
    "def f(x):\n",
    "    return x / (2*exp(x) - exp(-x))\n",
    "\n",
    "interval = [0, 1]\n",
    "\n",
    "area, num = Adapt_quad(f, interval, tol, Simpson)\n",
    "\n",
    "print(\"Area: %f\" % area)"
   ]
  },
  {
   "cell_type": "code",
   "execution_count": 60,
   "metadata": {},
   "outputs": [
    {
     "name": "stdout",
     "output_type": "stream",
     "text": [
      "Area: -0.375940\n"
     ]
    }
   ],
   "source": [
    "# (f)\n",
    "def f(x):\n",
    "    return cos(exp(x))\n",
    "\n",
    "interval = [0, pi]\n",
    "\n",
    "area, num = Adapt_quad(f, interval, tol, Simpson)\n",
    "\n",
    "print(\"Area: %f\" % area)"
   ]
  },
  {
   "cell_type": "code",
   "execution_count": 61,
   "metadata": {},
   "outputs": [
    {
     "name": "stdout",
     "output_type": "stream",
     "text": [
      "Area: 0.783431\n"
     ]
    }
   ],
   "source": [
    "# (g)\n",
    "def f(x):\n",
    "    return x**x\n",
    "\n",
    "interval = [0, 1]\n",
    "\n",
    "area, num = Adapt_quad(f, interval, tol, Simpson)\n",
    "\n",
    "print(\"Area: %f\" % area)"
   ]
  },
  {
   "cell_type": "code",
   "execution_count": 62,
   "metadata": {
    "scrolled": false
   },
   "outputs": [
    {
     "name": "stdout",
     "output_type": "stream",
     "text": [
      "Area: 0.371569\n"
     ]
    }
   ],
   "source": [
    "# (h)\n",
    "def f(x):\n",
    "    return log(cos(x) + sin(x))\n",
    "\n",
    "interval = [0, pi/2]\n",
    "\n",
    "area, num = Adapt_quad(f, interval, tol, Simpson)\n",
    "\n",
    "print(\"Area: %f\" % area)"
   ]
  },
  {
   "cell_type": "markdown",
   "metadata": {},
   "source": [
    "### Q. 8"
   ]
  },
  {
   "cell_type": "code",
   "execution_count": 63,
   "metadata": {},
   "outputs": [],
   "source": [
    "def f(x):\n",
    "    return exp(-x**2 / 2) / sqrt(2*pi)\n",
    "\n",
    "tol = 5e-9"
   ]
  },
  {
   "cell_type": "code",
   "execution_count": 64,
   "metadata": {},
   "outputs": [
    {
     "name": "stdout",
     "output_type": "stream",
     "text": [
      "Probability: 0.68268949\n"
     ]
    }
   ],
   "source": [
    "# (a)\n",
    "sigma = 1\n",
    "interval = [-sigma, sigma]\n",
    "\n",
    "prob, num = Adapt_quad(f, interval, tol, Simpson)\n",
    "\n",
    "print(\"Probability: %.8f\" % prob)"
   ]
  },
  {
   "cell_type": "code",
   "execution_count": 65,
   "metadata": {},
   "outputs": [
    {
     "name": "stdout",
     "output_type": "stream",
     "text": [
      "Probability: 0.95449974\n"
     ]
    }
   ],
   "source": [
    "# (b)\n",
    "sigma = 2\n",
    "interval = [-sigma, sigma]\n",
    "\n",
    "prob, num = Adapt_quad(f, interval, tol, Simpson)\n",
    "\n",
    "print(\"Probability: %.8f\" % prob)"
   ]
  },
  {
   "cell_type": "code",
   "execution_count": 66,
   "metadata": {},
   "outputs": [
    {
     "name": "stdout",
     "output_type": "stream",
     "text": [
      "Probability: 0.99730020\n"
     ]
    }
   ],
   "source": [
    "# (c)\n",
    "sigma = 3\n",
    "interval = [-sigma, sigma]\n",
    "\n",
    "prob, num = Adapt_quad(f, interval, tol, Simpson)\n",
    "\n",
    "print(\"Probability: %.8f\" % prob)"
   ]
  },
  {
   "cell_type": "markdown",
   "metadata": {},
   "source": [
    "### Q. 9"
   ]
  },
  {
   "cell_type": "code",
   "execution_count": 67,
   "metadata": {},
   "outputs": [],
   "source": [
    "tol = 5e-9\n",
    "\n",
    "def my_erf(x):\n",
    "    interval = [0, x]\n",
    "    def f(x):\n",
    "        return exp(-x**2) * 2/sqrt(pi)\n",
    "    ans, _ = Adapt_quad(f, interval, tol, Simpson)\n",
    "    \n",
    "    return ans"
   ]
  },
  {
   "cell_type": "code",
   "execution_count": 68,
   "metadata": {
    "scrolled": true
   },
   "outputs": [
    {
     "name": "stdout",
     "output_type": "stream",
     "text": [
      "Adaptive Simpson result: 0.84270079 / Scipy erf result: 0.84270079\n"
     ]
    }
   ],
   "source": [
    "x = 1\n",
    "\n",
    "print(\"Adaptive Simpson result: %.8f / Scipy erf result: %.8f\" % (my_erf(x), erf(x)))"
   ]
  },
  {
   "cell_type": "code",
   "execution_count": 69,
   "metadata": {
    "scrolled": true
   },
   "outputs": [
    {
     "name": "stdout",
     "output_type": "stream",
     "text": [
      "Adaptive Simpson result: 0.99997791 / Scipy erf result: 0.99997791\n"
     ]
    }
   ],
   "source": [
    "x = 3\n",
    "\n",
    "print(\"Adaptive Simpson result: %.8f / Scipy erf result: %.8f\" % (my_erf(x), erf(x)))"
   ]
  }
 ],
 "metadata": {
  "kernelspec": {
   "display_name": "Python 3",
   "language": "python",
   "name": "python3"
  },
  "language_info": {
   "codemirror_mode": {
    "name": "ipython",
    "version": 3
   },
   "file_extension": ".py",
   "mimetype": "text/x-python",
   "name": "python",
   "nbconvert_exporter": "python",
   "pygments_lexer": "ipython3",
   "version": "3.6.4"
  }
 },
 "nbformat": 4,
 "nbformat_minor": 2
}

{
 "cells": [
  {
   "cell_type": "code",
   "execution_count": 1,
   "metadata": {},
   "outputs": [],
   "source": [
    "import numpy as np\n",
    "import matplotlib.pyplot as plt\n",
    "from mpl_toolkits.mplot3d import Axes3D\n",
    "\n",
    "%matplotlib inline"
   ]
  },
  {
   "cell_type": "code",
   "execution_count": 2,
   "metadata": {},
   "outputs": [],
   "source": [
    "sqrt = np.sqrt\n",
    "log = np.log\n",
    "exp = np.exp\n",
    "sin = np.sin\n",
    "cos = np.cos"
   ]
  },
  {
   "cell_type": "markdown",
   "metadata": {},
   "source": [
    "# Chapter 4<br>Least Squares"
   ]
  },
  {
   "cell_type": "markdown",
   "metadata": {},
   "source": [
    "## 4.5 Nonlinear Least Squares"
   ]
  },
  {
   "cell_type": "code",
   "execution_count": 3,
   "metadata": {},
   "outputs": [],
   "source": [
    "def Newton_Method(F, DF, x, iter_num=10**4):\n",
    "    for _ in range(iter_num):\n",
    "        s = np.linalg.inv(DF(x)).dot(F(x))        \n",
    "        x -= s\n",
    "    \n",
    "    return x"
   ]
  },
  {
   "cell_type": "code",
   "execution_count": 4,
   "metadata": {},
   "outputs": [],
   "source": [
    "def Gauss_Newton(r, Dr, x, iter_num=10**4):\n",
    "    for _ in range(iter_num):\n",
    "        A = Dr(x)\n",
    "        v = -np.linalg.inv(A.T.dot(A)).dot(A.T).dot(r(x))\n",
    "        x += v\n",
    "    \n",
    "    return x"
   ]
  },
  {
   "cell_type": "code",
   "execution_count": 5,
   "metadata": {},
   "outputs": [],
   "source": [
    "def Levenberg_Marquardt(r, Dr, x, lamb=1, iter_num=10**4):\n",
    "    for _ in range(iter_num):\n",
    "        A = Dr(x)\n",
    "        ATA = A.T.dot(A)\n",
    "        v = -np.linalg.inv(ATA + lamb*np.diag(np.diag(ATA))).dot(A.T).dot(r(x))\n",
    "        x += v\n",
    "    \n",
    "    return x"
   ]
  },
  {
   "cell_type": "markdown",
   "metadata": {},
   "source": [
    "### Q. 1"
   ]
  },
  {
   "cell_type": "code",
   "execution_count": 6,
   "metadata": {},
   "outputs": [],
   "source": [
    "# (a)\n",
    "def r(x):\n",
    "    c1, c2, c3 = ((0, 1), (1, 1), (0, -1))\n",
    "    \n",
    "    r1 = sqrt(np.sum((c1 - x)**2)) - 1\n",
    "    r2 = sqrt(np.sum((c2 - x)**2)) - 1\n",
    "    r3 = sqrt(np.sum((c3 - x)**2)) - 1\n",
    "    \n",
    "    return np.array([r1, r2, r3])\n",
    "        \n",
    "def Dr(x):    \n",
    "    c1, c2, c3 = ((0, 1), (1, 1), (0, -1))\n",
    "\n",
    "    dr1 = (x - c1) / sqrt(np.sum((c1 - x)**2))\n",
    "    dr2 = (x - c2) / sqrt(np.sum((c2 - x)**2))\n",
    "    dr3 = (x - c3) / sqrt(np.sum((c3 - x)**2))\n",
    "    \n",
    "    return np.array([dr1, dr2, dr3])"
   ]
  },
  {
   "cell_type": "code",
   "execution_count": 7,
   "metadata": {},
   "outputs": [
    {
     "name": "stdout",
     "output_type": "stream",
     "text": [
      "(x, y): (0.410623, 0.055501)\n"
     ]
    }
   ],
   "source": [
    "initial_guess = np.zeros(2, dtype=float)\n",
    "(x, y) = Gauss_Newton(r, Dr, initial_guess)\n",
    "\n",
    "print(\"(x, y): (%.6f, %.6f)\" % (x, y))"
   ]
  },
  {
   "cell_type": "code",
   "execution_count": 8,
   "metadata": {},
   "outputs": [],
   "source": [
    "# (b)\n",
    "def r(x):\n",
    "    c1, c2, c3 = ((-1, 0), (1, 1), (1, -1))\n",
    "    \n",
    "    r1 = sqrt(np.sum((c1 - x)**2)) - 1\n",
    "    r2 = sqrt(np.sum((c2 - x)**2)) - 1\n",
    "    r3 = sqrt(np.sum((c3 - x)**2)) - 1\n",
    "    \n",
    "    return np.array([r1, r2, r3])\n",
    "        \n",
    "def Dr(x):    \n",
    "    c1, c2, c3 = ((-1, 0), (1, 1), (1, -1))\n",
    "    \n",
    "    dr1 = (x - c1) / sqrt(np.sum((c1 - x)**2))\n",
    "    dr2 = (x - c2) / sqrt(np.sum((c2 - x)**2))\n",
    "    dr3 = (x - c3) / sqrt(np.sum((c3 - x)**2))\n",
    "    \n",
    "    return np.array([dr1, dr2, dr3])"
   ]
  },
  {
   "cell_type": "code",
   "execution_count": 9,
   "metadata": {},
   "outputs": [
    {
     "name": "stdout",
     "output_type": "stream",
     "text": [
      "(x, y): (0.275549, 0.000000)\n"
     ]
    }
   ],
   "source": [
    "initial_guess = np.zeros(2, dtype=float)\n",
    "(x, y) = Gauss_Newton(r, Dr, initial_guess)\n",
    "\n",
    "print(\"(x, y): (%.6f, %.6f)\" % (x, y))"
   ]
  },
  {
   "cell_type": "markdown",
   "metadata": {},
   "source": [
    "### Q. 2"
   ]
  },
  {
   "cell_type": "code",
   "execution_count": 10,
   "metadata": {},
   "outputs": [],
   "source": [
    "# (a)\n",
    "def F(X):\n",
    "    x = X[:2]\n",
    "    K = X[2]\n",
    "    \n",
    "    c1, c2, c3 = ((0, 1), (1, 1), (0, -1))\n",
    "    \n",
    "    f1 = sqrt(np.sum((c1 - x)**2)) - (1 + K)\n",
    "    f2 = sqrt(np.sum((c2 - x)**2)) - (1 + K)\n",
    "    f3 = sqrt(np.sum((c3 - x)**2)) - (1 + K)\n",
    "    \n",
    "    return np.array([f1, f2, f3])\n",
    "        \n",
    "def DF(X):\n",
    "    x = X[:2]\n",
    "    \n",
    "    c1, c2, c3 = ((0, 1), (1, 1), (0, -1))\n",
    "    n = 3\n",
    "\n",
    "    dr1 = (x - c1) / sqrt(np.sum((c1 - x)**2))\n",
    "    dr2 = (x - c2) / sqrt(np.sum((c2 - x)**2))\n",
    "    dr3 = (x - c3) / sqrt(np.sum((c3 - x)**2))\n",
    "    \n",
    "    df = np.array([dr1, dr2, dr3])\n",
    "    \n",
    "    return np.concatenate((df, -np.ones((n, 1))), axis=1)"
   ]
  },
  {
   "cell_type": "code",
   "execution_count": 11,
   "metadata": {},
   "outputs": [
    {
     "name": "stdout",
     "output_type": "stream",
     "text": [
      "(x, y, K): (0.500000, 0.000000, 0.118034)\n"
     ]
    }
   ],
   "source": [
    "initial_guess = np.zeros(3, dtype=float)\n",
    "(x, y, K) = Newton_Method(F, DF, initial_guess)\n",
    "\n",
    "print(\"(x, y, K): (%.6f, %.6f, %.6f)\" % (x, y, K))"
   ]
  },
  {
   "cell_type": "code",
   "execution_count": 12,
   "metadata": {},
   "outputs": [],
   "source": [
    "# (b)\n",
    "def F(X):\n",
    "    x = X[:2]\n",
    "    K = X[2]\n",
    "    \n",
    "    c1, c2, c3 = ((-1, 0), (1, 1), (1, -1))\n",
    "    \n",
    "    f1 = sqrt(np.sum((c1 - x)**2)) - (1 + K)\n",
    "    f2 = sqrt(np.sum((c2 - x)**2)) - (1 + K)\n",
    "    f3 = sqrt(np.sum((c3 - x)**2)) - (1 + K)\n",
    "    \n",
    "    return np.array([f1, f2, f3])\n",
    "        \n",
    "def DF(X):\n",
    "    x = X[:2]\n",
    "    \n",
    "    c1, c2, c3 = ((-1, 0), (1, 1), (1, -1))\n",
    "    n = 3\n",
    "\n",
    "    dr1 = (x - c1) / sqrt(np.sum((c1 - x)**2))\n",
    "    dr2 = (x - c2) / sqrt(np.sum((c2 - x)**2))\n",
    "    dr3 = (x - c3) / sqrt(np.sum((c3 - x)**2))\n",
    "    \n",
    "    df = np.array([dr1, dr2, dr3])\n",
    "    \n",
    "    return np.concatenate((df, -np.ones((n, 1))), axis=1)"
   ]
  },
  {
   "cell_type": "code",
   "execution_count": 13,
   "metadata": {},
   "outputs": [
    {
     "name": "stdout",
     "output_type": "stream",
     "text": [
      "(x, y, K): (0.250000, 0.000000, 0.250000)\n"
     ]
    }
   ],
   "source": [
    "initial_guess = np.zeros(3, dtype=float)\n",
    "(x, y, K) = Newton_Method(F, DF, initial_guess)\n",
    "\n",
    "print(\"(x, y, K): (%.6f, %.6f, %.6f)\" % (x, y, K))"
   ]
  },
  {
   "cell_type": "markdown",
   "metadata": {},
   "source": [
    "### Q. 3"
   ]
  },
  {
   "cell_type": "code",
   "execution_count": 14,
   "metadata": {},
   "outputs": [],
   "source": [
    "# (a)\n",
    "def r(X):\n",
    "    x = X[:2]\n",
    "    K = X[2]\n",
    "    \n",
    "    c1, c2, c3, c4 = ((-1, 0), (1, 0), (0, 1), (0, -2))\n",
    "    \n",
    "    r1 = sqrt(np.sum((c1 - x)**2)) - (1 + K)\n",
    "    r2 = sqrt(np.sum((c2 - x)**2)) - (1 + K)\n",
    "    r3 = sqrt(np.sum((c3 - x)**2)) - (1 + K)\n",
    "    r4 = sqrt(np.sum((c4 - x)**2)) - (1 + K)\n",
    "    \n",
    "    return np.array([r1, r2, r3, r4])\n",
    "        \n",
    "def Dr(X):\n",
    "    x = X[:2]\n",
    "    \n",
    "    c1, c2, c3, c4 = ((-1, 0), (1, 0), (0, 1), (0, -2))\n",
    "    n = 4\n",
    "\n",
    "    dr1 = (x - c1) / sqrt(np.sum((c1 - x)**2))\n",
    "    dr2 = (x - c2) / sqrt(np.sum((c2 - x)**2))\n",
    "    dr3 = (x - c3) / sqrt(np.sum((c3 - x)**2))\n",
    "    dr4 = (x - c4) / sqrt(np.sum((c4 - x)**2))\n",
    "    \n",
    "    dr = np.array([dr1, dr2, dr3, dr4])\n",
    "    \n",
    "    return np.concatenate((dr, -np.ones((n, 1))), axis=1)"
   ]
  },
  {
   "cell_type": "code",
   "execution_count": 15,
   "metadata": {},
   "outputs": [
    {
     "name": "stdout",
     "output_type": "stream",
     "text": [
      "(x, y, K): (0.000000, -0.586187, 0.329572)\n"
     ]
    }
   ],
   "source": [
    "initial_guess = np.zeros(3, dtype=float)\n",
    "(x, y, K) = Gauss_Newton(r, Dr, initial_guess)\n",
    "\n",
    "print(\"(x, y, K): (%.6f, %.6f, %.6f)\" % (x, y, K))"
   ]
  },
  {
   "cell_type": "code",
   "execution_count": 16,
   "metadata": {},
   "outputs": [],
   "source": [
    "# (b)\n",
    "def r(X):\n",
    "    x = X[:2]\n",
    "    K = X[2]\n",
    "    \n",
    "    c1, c2, c3, c4 = ((-2, 0), (3, 0), (0, 2), (0, -2))\n",
    "    \n",
    "    r1 = sqrt(np.sum((c1 - x)**2)) - (1 + K)\n",
    "    r2 = sqrt(np.sum((c2 - x)**2)) - (1 + K)\n",
    "    r3 = sqrt(np.sum((c3 - x)**2)) - (1 + K)\n",
    "    r4 = sqrt(np.sum((c4 - x)**2)) - (1 + K)\n",
    "    \n",
    "    return np.array([r1, r2, r3, r4])\n",
    "        \n",
    "def Dr(X):\n",
    "    x = X[:2]\n",
    "    \n",
    "    c1, c2, c3, c4 = ((-2, 0), (3, 0), (0, 2), (0, -2))\n",
    "    n = 4\n",
    "\n",
    "    dr1 = (x - c1) / sqrt(np.sum((c1 - x)**2))\n",
    "    dr2 = (x - c2) / sqrt(np.sum((c2 - x)**2))\n",
    "    dr3 = (x - c3) / sqrt(np.sum((c3 - x)**2))\n",
    "    dr4 = (x - c4) / sqrt(np.sum((c4 - x)**2))\n",
    "    \n",
    "    dr = np.array([dr1, dr2, dr3, dr4])\n",
    "    \n",
    "    return np.concatenate((dr, -np.ones((n, 1))), axis=1)"
   ]
  },
  {
   "cell_type": "code",
   "execution_count": 17,
   "metadata": {},
   "outputs": [
    {
     "name": "stdout",
     "output_type": "stream",
     "text": [
      "(x, y, K): (0.556854, 0.000000, 1.288037)\n"
     ]
    }
   ],
   "source": [
    "initial_guess = np.zeros(3, dtype=float)\n",
    "(x, y, K) = Gauss_Newton(r, Dr, initial_guess)\n",
    "\n",
    "print(\"(x, y, K): (%.6f, %.6f, %.6f)\" % (x, y, K))"
   ]
  },
  {
   "cell_type": "markdown",
   "metadata": {},
   "source": [
    "### Q. 4"
   ]
  },
  {
   "cell_type": "code",
   "execution_count": 18,
   "metadata": {},
   "outputs": [],
   "source": [
    "# (a)\n",
    "def r(X):\n",
    "    x = X[:2]\n",
    "    K = X[2]\n",
    "    \n",
    "    c1, c2, c3, c4, c5 = ((-2, 0), (2, 0), (0, 2), (0, -2), (2, 2))\n",
    "    \n",
    "    r1 = sqrt(np.sum((c1 - x)**2)) - (1 + K)\n",
    "    r2 = sqrt(np.sum((c2 - x)**2)) - (1 + K)\n",
    "    r3 = sqrt(np.sum((c3 - x)**2)) - (1 + K)\n",
    "    r4 = sqrt(np.sum((c4 - x)**2)) - (1 + K)\n",
    "    r5 = sqrt(np.sum((c5 - x)**2)) - (2 + K)\n",
    "    \n",
    "    return np.array([r1, r2, r3, r4, r5])\n",
    "        \n",
    "def Dr(X):\n",
    "    x = X[:2]\n",
    "    \n",
    "    c1, c2, c3, c4, c5 = ((-2, 0), (2, 0), (0, 2), (0, -2), (2, 2))\n",
    "    n = 5\n",
    "\n",
    "    dr1 = (x - c1) / sqrt(np.sum((c1 - x)**2))\n",
    "    dr2 = (x - c2) / sqrt(np.sum((c2 - x)**2))\n",
    "    dr3 = (x - c3) / sqrt(np.sum((c3 - x)**2))\n",
    "    dr4 = (x - c4) / sqrt(np.sum((c4 - x)**2))\n",
    "    dr5 = (x - c5) / sqrt(np.sum((c5 - x)**2))\n",
    "    \n",
    "    dr = np.array([dr1, dr2, dr3, dr4, dr5])\n",
    "    \n",
    "    return np.concatenate((dr, -np.ones((n, 1))), axis=1)"
   ]
  },
  {
   "cell_type": "code",
   "execution_count": 19,
   "metadata": {},
   "outputs": [
    {
     "name": "stdout",
     "output_type": "stream",
     "text": [
      "(x, y, K): (-0.034434, -0.034434, 0.975662)\n"
     ]
    }
   ],
   "source": [
    "initial_guess = np.zeros(3, dtype=float)\n",
    "(x, y, K) = Gauss_Newton(r, Dr, initial_guess)\n",
    "\n",
    "print(\"(x, y, K): (%.6f, %.6f, %.6f)\" % (x, y, K))"
   ]
  },
  {
   "cell_type": "code",
   "execution_count": 20,
   "metadata": {},
   "outputs": [],
   "source": [
    "# (b)\n",
    "def r(X):\n",
    "    x = X[:2]\n",
    "    K = X[2]\n",
    "    \n",
    "    c1, c2, c3, c4, c5 = ((1, 1), (1, -1), (-1, 1), (-1, -1), (2, 0))\n",
    "    \n",
    "    r1 = sqrt(np.sum((c1 - x)**2)) - (1 + K)\n",
    "    r2 = sqrt(np.sum((c2 - x)**2)) - (1 + K)\n",
    "    r3 = sqrt(np.sum((c3 - x)**2)) - (1 + K)\n",
    "    r4 = sqrt(np.sum((c4 - x)**2)) - (1 + K)\n",
    "    r5 = sqrt(np.sum((c5 - x)**2)) - (1 + K)\n",
    "    \n",
    "    return np.array([r1, r2, r3, r4, r5])\n",
    "        \n",
    "def Dr(X):\n",
    "    x = X[:2]\n",
    "    \n",
    "    c1, c2, c3, c4, c5 = ((1, 1), (1, -1), (-1, 1), (-1, -1), (2, 0))\n",
    "    n = 5\n",
    "\n",
    "    dr1 = (x - c1) / sqrt(np.sum((c1 - x)**2))\n",
    "    dr2 = (x - c2) / sqrt(np.sum((c2 - x)**2))\n",
    "    dr3 = (x - c3) / sqrt(np.sum((c3 - x)**2))\n",
    "    dr4 = (x - c4) / sqrt(np.sum((c4 - x)**2))\n",
    "    dr5 = (x - c5) / sqrt(np.sum((c5 - x)**2))\n",
    "    \n",
    "    dr = np.array([dr1, dr2, dr3, dr4, dr5])\n",
    "    \n",
    "    return np.concatenate((dr, -np.ones((n, 1))), axis=1)"
   ]
  },
  {
   "cell_type": "code",
   "execution_count": 21,
   "metadata": {},
   "outputs": [
    {
     "name": "stdout",
     "output_type": "stream",
     "text": [
      "(x, y, K): (0.174972, -0.000000, 0.500731)\n"
     ]
    }
   ],
   "source": [
    "initial_guess = np.zeros(3, dtype=float)\n",
    "(x, y, K) = Gauss_Newton(r, Dr, initial_guess)\n",
    "\n",
    "print(\"(x, y, K): (%.6f, %.6f, %.6f)\" % (x, y, K))"
   ]
  },
  {
   "cell_type": "markdown",
   "metadata": {},
   "source": [
    "### Q. 5"
   ]
  },
  {
   "cell_type": "code",
   "execution_count": 22,
   "metadata": {},
   "outputs": [],
   "source": [
    "height = np.array([0.9120, 0.9860, 1.0600, 1.1300, 1.1900, 1.2600, 1.3200, 1.3800, 1.4100, 1.4900])\n",
    "weight = np.array([13.7, 15.9, 18.5, 21.3, 23.5, 27.2, 32.7, 36.0, 38.6, 43.7])"
   ]
  },
  {
   "cell_type": "code",
   "execution_count": 23,
   "metadata": {},
   "outputs": [],
   "source": [
    "def model(c1, c2):\n",
    "    return c1*height**c2\n",
    "\n",
    "def r(X):\n",
    "    x, y = X\n",
    "    return model(x, y) - weight\n",
    "\n",
    "def Dr(X):\n",
    "    x, y = X\n",
    "    \n",
    "    dr1 = height**y\n",
    "    dr2 = x*height**y*log(height)\n",
    "    \n",
    "    return np.array([dr1, dr2]).T"
   ]
  },
  {
   "cell_type": "code",
   "execution_count": 24,
   "metadata": {},
   "outputs": [
    {
     "name": "stdout",
     "output_type": "stream",
     "text": [
      "(c1, c2): (15.885374, 2.533593)\n",
      "RMSE: 0.754702\n"
     ]
    }
   ],
   "source": [
    "initial_guess = np.array((10, 1), dtype=float) # (16.3, 2.42)\n",
    "c1, c2 = Gauss_Newton(r, Dr, initial_guess, iter_num=10**4)\n",
    "RMSE = sqrt(np.mean((model(c1, c2) - weight)**2))\n",
    "\n",
    "print(\"(c1, c2): (%.6f, %.6f)\" % (c1, c2))\n",
    "print(\"RMSE: %f\" % RMSE)"
   ]
  },
  {
   "cell_type": "markdown",
   "metadata": {},
   "source": [
    "### Q. 6"
   ]
  },
  {
   "cell_type": "code",
   "execution_count": 25,
   "metadata": {},
   "outputs": [],
   "source": [
    "hour = np.arange(1, 9)\n",
    "concentration = np.array([8.0, 12.3, 15.5, 16.8, 17.1, 15.8, 15.2, 14.0])"
   ]
  },
  {
   "cell_type": "code",
   "execution_count": 26,
   "metadata": {},
   "outputs": [],
   "source": [
    "def model(c1, c2):\n",
    "    return c1*hour*exp(c2*hour)\n",
    "\n",
    "def r(X):\n",
    "    x, y = X\n",
    "    return model(x, y) - concentration\n",
    "\n",
    "def Dr(X):\n",
    "    x, y = X\n",
    "    \n",
    "    dr1 = hour*exp(y*hour)\n",
    "    dr2 = c1*hour**2*exp(y*hour)\n",
    "    \n",
    "    return np.array([dr1, dr2]).T"
   ]
  },
  {
   "cell_type": "code",
   "execution_count": 27,
   "metadata": {},
   "outputs": [
    {
     "name": "stdout",
     "output_type": "stream",
     "text": [
      "(c1, c2): (9.796928, -0.215087)\n"
     ]
    }
   ],
   "source": [
    "initial_guess = np.array((1, 0), dtype=float) \n",
    "c1, c2 = Gauss_Newton(r, Dr, initial_guess, iter_num=10**4)\n",
    "\n",
    "print(\"(c1, c2): (%.6f, %.6f)\" % (c1, c2))"
   ]
  },
  {
   "cell_type": "markdown",
   "metadata": {},
   "source": [
    "### Q. 7"
   ]
  },
  {
   "cell_type": "code",
   "execution_count": 28,
   "metadata": {},
   "outputs": [],
   "source": [
    "height = np.array([0.9120, 0.9860, 1.0600, 1.1300, 1.1900, 1.2600, 1.3200, 1.3800, 1.4100, 1.4900])\n",
    "weight = np.array([13.7, 15.9, 18.5, 21.3, 23.5, 27.2, 32.7, 36.0, 38.6, 43.7])"
   ]
  },
  {
   "cell_type": "code",
   "execution_count": 29,
   "metadata": {},
   "outputs": [],
   "source": [
    "def model(c1, c2):\n",
    "    return c1*height**c2\n",
    "\n",
    "def r(X):\n",
    "    x, y = X\n",
    "    return model(x, y) - weight\n",
    "\n",
    "def Dr(X):\n",
    "    x, y = X\n",
    "    \n",
    "    dr1 = height**y\n",
    "    dr2 = x*height**y*log(height)\n",
    "    \n",
    "    return np.array([dr1, dr2]).T"
   ]
  },
  {
   "cell_type": "code",
   "execution_count": 30,
   "metadata": {},
   "outputs": [
    {
     "name": "stdout",
     "output_type": "stream",
     "text": [
      "(c1, c2): (15.885374, 2.533593)\n",
      "RMSE: 0.754702\n"
     ]
    }
   ],
   "source": [
    "initial_guess = np.array((10, 1), dtype=float) # (16.3, 2.42)\n",
    "lamb = 1\n",
    "c1, c2 = Levenberg_Marquardt(r, Dr, initial_guess, lamb)\n",
    "RMSE = sqrt(np.mean((model(c1, c2) - weight)**2))\n",
    "\n",
    "print(\"(c1, c2): (%.6f, %.6f)\" % (c1, c2))\n",
    "print(\"RMSE: %f\" % RMSE)"
   ]
  },
  {
   "cell_type": "markdown",
   "metadata": {},
   "source": [
    "### Q. 8"
   ]
  },
  {
   "cell_type": "code",
   "execution_count": 31,
   "metadata": {},
   "outputs": [],
   "source": [
    "hour = np.arange(1, 9)\n",
    "concentration = np.array([8.0, 12.3, 15.5, 16.8, 17.1, 15.8, 15.2, 14.0])"
   ]
  },
  {
   "cell_type": "code",
   "execution_count": 32,
   "metadata": {},
   "outputs": [],
   "source": [
    "def model(c1, c2):\n",
    "    return c1*hour*exp(c2*hour)\n",
    "\n",
    "def r(X):\n",
    "    x, y = X\n",
    "    return model(x, y) - concentration\n",
    "\n",
    "def Dr(X):\n",
    "    x, y = X\n",
    "    \n",
    "    dr1 = hour*exp(y*hour)\n",
    "    dr2 = c1*hour**2*exp(y*hour)\n",
    "    \n",
    "    return np.array([dr1, dr2]).T"
   ]
  },
  {
   "cell_type": "code",
   "execution_count": 33,
   "metadata": {},
   "outputs": [
    {
     "name": "stdout",
     "output_type": "stream",
     "text": [
      "(c1, c2): (9.796928, -0.215087)\n"
     ]
    }
   ],
   "source": [
    "initial_guess = np.array((1, 0), dtype=float) \n",
    "lamb = 1\n",
    "c1, c2 = Levenberg_Marquardt(r, Dr, initial_guess, lamb)\n",
    "\n",
    "print(\"(c1, c2): (%.6f, %.6f)\" % (c1, c2))"
   ]
  },
  {
   "cell_type": "markdown",
   "metadata": {},
   "source": [
    "### Q. 9"
   ]
  },
  {
   "cell_type": "code",
   "execution_count": 34,
   "metadata": {},
   "outputs": [],
   "source": [
    "def model(c1, c2, c3):\n",
    "    return c1*exp(-c2*(t_i-c3)**2)\n",
    "\n",
    "def r(X):\n",
    "    x, y, z = X\n",
    "    return model(x, y, z) - y_i\n",
    "\n",
    "def Dr(X):\n",
    "    x, y, z = X\n",
    "    \n",
    "    dr1 = exp(-y*(t_i-z)**2)\n",
    "    dr2 = x*exp(-y*(t_i-z)**2) * (-(t_i-z)**2)\n",
    "    dr3 = x*exp(-y*(t_i-z)**2) * 2*y*(t_i-z)\n",
    "    \n",
    "    return np.array([dr1, dr2, dr3]).T"
   ]
  },
  {
   "cell_type": "code",
   "execution_count": 35,
   "metadata": {},
   "outputs": [],
   "source": [
    "# (a)\n",
    "t_i = np.array([-1, 0, 1, 3, 6])\n",
    "y_i = np.array([1, 5, 10, 8, 1])"
   ]
  },
  {
   "cell_type": "code",
   "execution_count": 36,
   "metadata": {
    "scrolled": false
   },
   "outputs": [
    {
     "name": "stdout",
     "output_type": "stream",
     "text": [
      "Initial guess: (1, 1, 1)\n",
      "lambda: 50\n",
      "RMSE: 0.441305\n"
     ]
    }
   ],
   "source": [
    "initial_guess = np.array((1, 1, 1), dtype=float) \n",
    "lamb = 50\n",
    "c1, c2, c3 = Levenberg_Marquardt(r, Dr, initial_guess, lamb)\n",
    "RMSE = sqrt(np.mean((model(c1, c2, c3) - y_i)**2))\n",
    "\n",
    "print(\"Initial guess: (1, 1, 1)\")\n",
    "print(\"lambda: %d\" % lamb)\n",
    "print(\"RMSE: %f\" % RMSE)"
   ]
  },
  {
   "cell_type": "code",
   "execution_count": 37,
   "metadata": {},
   "outputs": [
    {
     "data": {
      "image/png": "[encoded data removed]",
      "text/plain": [
       "<matplotlib.figure.Figure at 0x1fa118a9c50>"
      ]
     },
     "metadata": {},
     "output_type": "display_data"
    }
   ],
   "source": [
    "x = np.linspace(-1, 6, 100)\n",
    "plt.scatter(t_i, y_i, label=\"Original data\")\n",
    "plt.plot(x, c1*exp(-c2*(x-c3)**2), label=\"Model\", c='orange')\n",
    "plt.legend()\n",
    "\n",
    "plt.show()"
   ]
  },
  {
   "cell_type": "code",
   "execution_count": 38,
   "metadata": {},
   "outputs": [],
   "source": [
    "# (b)\n",
    "t_i = np.array([1, 2, 4, 5, 6, 8, 9, 11])\n",
    "y_i = np.array([1, 3, 7, 12, 13, 5, 2, 1])"
   ]
  },
  {
   "cell_type": "code",
   "execution_count": 39,
   "metadata": {
    "scrolled": false
   },
   "outputs": [
    {
     "name": "stdout",
     "output_type": "stream",
     "text": [
      "Initial guess: (1, 1, 1)\n",
      "lambda: 50\n",
      "RMSE: 0.802834\n"
     ]
    }
   ],
   "source": [
    "initial_guess = np.array((1, 1, 1), dtype=float) \n",
    "lamb = 50\n",
    "c1, c2, c3 = Levenberg_Marquardt(r, Dr, initial_guess, lamb)\n",
    "RMSE = sqrt(np.mean((model(c1, c2, c3) - y_i)**2))\n",
    "\n",
    "print(\"Initial guess: (1, 1, 1)\")\n",
    "print(\"lambda: %d\" % lamb)\n",
    "print(\"RMSE: %f\" % RMSE)"
   ]
  },
  {
   "cell_type": "code",
   "execution_count": 40,
   "metadata": {},
   "outputs": [
    {
     "data": {
      "image/png": "[encoded data removed]",
      "text/plain": [
       "<matplotlib.figure.Figure at 0x1fa118a99e8>"
      ]
     },
     "metadata": {},
     "output_type": "display_data"
    }
   ],
   "source": [
    "x = np.linspace(1, 11, 100)\n",
    "plt.scatter(t_i, y_i, label=\"Original data\")\n",
    "plt.plot(x, c1*exp(-c2*(x-c3)**2), label=\"Model\", c='orange')\n",
    "plt.legend()\n",
    "\n",
    "plt.show()"
   ]
  },
  {
   "cell_type": "markdown",
   "metadata": {},
   "source": [
    "### Q. 10"
   ]
  },
  {
   "cell_type": "code",
   "execution_count": 41,
   "metadata": {},
   "outputs": [],
   "source": [
    "t_i = np.array([1, 2, 2, 3, 4])\n",
    "y_i = np.array([3, 5, 7, 5, 1])\n",
    "\n",
    "def model(c1, c2, c3):\n",
    "    return c1*exp(-c2*(t_i-c3)**2)\n",
    "\n",
    "def r(X):\n",
    "    x, y, z = X\n",
    "    return model(x, y, z) - y_i\n",
    "\n",
    "def Dr(X):\n",
    "    x, y, z = X\n",
    "    \n",
    "    dr1 = exp(-y*(t_i-z)**2)\n",
    "    dr2 = x*exp(-y*(t_i-z)**2) * (-(t_i-z)**2)\n",
    "    dr3 = x*exp(-y*(t_i-z)**2) * 2*y*(t_i-z)\n",
    "    \n",
    "    return np.array([dr1, dr2, dr3]).T\n",
    "\n",
    "conv = np.array([6.301, 0.5088, 2.249])"
   ]
  },
  {
   "cell_type": "code",
   "execution_count": 42,
   "metadata": {
    "scrolled": false
   },
   "outputs": [
    {
     "data": {
      "image/png": "[encoded data removed]",
      "text/plain": [
       "<matplotlib.figure.Figure at 0x1fa13961c50>"
      ]
     },
     "metadata": {},
     "output_type": "display_data"
    },
    {
     "data": {
      "image/png": "[encoded data removed]",
      "text/plain": [
       "<matplotlib.figure.Figure at 0x1fa13b3ef28>"
      ]
     },
     "metadata": {},
     "output_type": "display_data"
    },
    {
     "data": {
      "image/png": "[encoded data removed]",
      "text/plain": [
       "<matplotlib.figure.Figure at 0x1fa13b84da0>"
      ]
     },
     "metadata": {},
     "output_type": "display_data"
    }
   ],
   "source": [
    "for lamb_init in [50, 1, 0]:\n",
    "    fig = plt.figure()\n",
    "    ax = fig.add_subplot(111, projection='3d')\n",
    "\n",
    "    for c1_init in range(11):\n",
    "        for c2_init in np.arange(0, 1.1, 0.1):\n",
    "            try:\n",
    "                initial_guess = np.array((c1_init, c2_init, 1), dtype=float) \n",
    "\n",
    "                c_guess = Levenberg_Marquardt(r, Dr, initial_guess, lamb)\n",
    "                test = int(abs(np.mean(c_guess - conv)) < 1e-3)\n",
    "\n",
    "                ax.scatter(c1_init, c2_init, test, c='blue')\n",
    "            except:\n",
    "                ax.scatter(c1_init, c2_init, 0, c='blue')\n",
    "\n",
    "    ax.view_init(13.5, 20)        \n",
    "    plt.title(\"Lambda: %d\" % lamb_init)\n",
    "    plt.show()"
   ]
  },
  {
   "cell_type": "markdown",
   "metadata": {},
   "source": [
    "### Q. 11"
   ]
  },
  {
   "cell_type": "code",
   "execution_count": 43,
   "metadata": {},
   "outputs": [],
   "source": [
    "def model(c1, c2, c3, c4):\n",
    "    return c1*exp(-c2*t_i)*cos(c3*t_i+c4)\n",
    "\n",
    "def r(X):\n",
    "    x, y, z, w = X\n",
    "    return model(x, y, z, w) - y_i\n",
    "\n",
    "def Dr(X):\n",
    "    x, y, z, w = X\n",
    "    \n",
    "    dr1 = exp(-y*t_i)*cos(z*t_i+w)\n",
    "    dr2 = x*exp(-y*t_i)*cos(z*t_i+w) * (-t_i)\n",
    "    dr3 = x*exp(-y*t_i) * (-sin(z*t_i+w)*t_i)\n",
    "    dr4 = x*exp(-y*t_i) * (-sin(z*t_i+w))\n",
    "    \n",
    "    return np.array([dr1, dr2, dr3, dr4]).T"
   ]
  },
  {
   "cell_type": "code",
   "execution_count": 44,
   "metadata": {},
   "outputs": [],
   "source": [
    "# (a)\n",
    "t_i = np.array([0, 2, 3, 5, 6, 8, 10])\n",
    "y_i = np.array([3, -5, -2, 2, 1, -1, 0])"
   ]
  },
  {
   "cell_type": "code",
   "execution_count": 45,
   "metadata": {
    "scrolled": false
   },
   "outputs": [
    {
     "name": "stdout",
     "output_type": "stream",
     "text": [
      "Initial guess: (1, 1, 1, 1)\n",
      "lambda: 50\n",
      "RMSE: 0.077845\n"
     ]
    }
   ],
   "source": [
    "initial_guess = np.array((1, 1, 1, 1), dtype=float) \n",
    "lamb = 50\n",
    "c1, c2, c3, c4 = Levenberg_Marquardt(r, Dr, initial_guess, lamb)\n",
    "RMSE = sqrt(np.mean((model(c1, c2, c3, c4) - y_i)**2))\n",
    "\n",
    "print(\"Initial guess: (1, 1, 1, 1)\")\n",
    "print(\"lambda: %d\" % lamb)\n",
    "print(\"RMSE: %f\" % RMSE)"
   ]
  },
  {
   "cell_type": "code",
   "execution_count": 46,
   "metadata": {},
   "outputs": [
    {
     "data": {
      "image/png": "[encoded data removed]",
      "text/plain": [
       "<matplotlib.figure.Figure at 0x1fa139d99e8>"
      ]
     },
     "metadata": {},
     "output_type": "display_data"
    }
   ],
   "source": [
    "x = np.linspace(0, 10, 100)\n",
    "plt.scatter(t_i, y_i, label=\"Original data\")\n",
    "plt.plot(x, c1*exp(-c2*x)*cos(c3*x+c4), label=\"Model\", c='orange')\n",
    "plt.legend()\n",
    "\n",
    "plt.show()"
   ]
  },
  {
   "cell_type": "code",
   "execution_count": 47,
   "metadata": {},
   "outputs": [],
   "source": [
    "# (b)\n",
    "t_i = np.array([1, 3, 4, 5, 6, 8])\n",
    "y_i = np.array([2, 6, 4, 2, -1, -3])"
   ]
  },
  {
   "cell_type": "code",
   "execution_count": 48,
   "metadata": {
    "scrolled": false
   },
   "outputs": [
    {
     "name": "stdout",
     "output_type": "stream",
     "text": [
      "Initial guess: (2, 1, 1, 2)\n",
      "lambda: 50\n",
      "RMSE: 0.199645\n"
     ]
    }
   ],
   "source": [
    "initial_guess = np.array((2, 1, 1, 2), dtype=float) \n",
    "lamb = 50\n",
    "c1, c2, c3, c4 = Levenberg_Marquardt(r, Dr, initial_guess, lamb)\n",
    "RMSE = sqrt(np.mean((model(c1, c2, c3, c4) - y_i)**2))\n",
    "\n",
    "print(\"Initial guess: (2, 1, 1, 2)\")\n",
    "print(\"lambda: %d\" % lamb)\n",
    "print(\"RMSE: %f\" % RMSE)"
   ]
  },
  {
   "cell_type": "code",
   "execution_count": 49,
   "metadata": {},
   "outputs": [
    {
     "data": {
      "image/png": "[encoded data removed]",
      "text/plain": [
       "<matplotlib.figure.Figure at 0x1fa139eaf98>"
      ]
     },
     "metadata": {},
     "output_type": "display_data"
    }
   ],
   "source": [
    "x = np.linspace(1, 8, 100)\n",
    "plt.scatter(t_i, y_i, label=\"Original data\")\n",
    "plt.plot(x, c1*exp(-c2*x)*cos(c3*x+c4), label=\"Model\", c='orange')\n",
    "plt.legend()\n",
    "\n",
    "plt.show()"
   ]
  }
 ],
 "metadata": {
  "kernelspec": {
   "display_name": "Python 3",
   "language": "python",
   "name": "python3"
  },
  "language_info": {
   "codemirror_mode": {
    "name": "ipython",
    "version": 3
   },
   "file_extension": ".py",
   "mimetype": "text/x-python",
   "name": "python",
   "nbconvert_exporter": "python",
   "pygments_lexer": "ipython3",
   "version": "3.6.4"
  }
 },
 "nbformat": 4,
 "nbformat_minor": 2
}

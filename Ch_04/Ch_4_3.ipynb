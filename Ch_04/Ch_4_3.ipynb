{
 "cells": [
  {
   "cell_type": "code",
   "execution_count": 1,
   "metadata": {},
   "outputs": [],
   "source": [
    "import numpy as np"
   ]
  },
  {
   "cell_type": "markdown",
   "metadata": {},
   "source": [
    "# Chapter 4<br>Least Squares"
   ]
  },
  {
   "cell_type": "markdown",
   "metadata": {},
   "source": [
    "## 4.3 QR Factorization"
   ]
  },
  {
   "cell_type": "code",
   "execution_count": 2,
   "metadata": {},
   "outputs": [],
   "source": [
    "def norm(x):\n",
    "    return np.sqrt(sum(x**2))"
   ]
  },
  {
   "cell_type": "markdown",
   "metadata": {},
   "source": [
    "### Q. 1"
   ]
  },
  {
   "cell_type": "code",
   "execution_count": 3,
   "metadata": {},
   "outputs": [],
   "source": [
    "def QR_classical(A, reduced=False):\n",
    "    m, n = A.shape\n",
    "\n",
    "    if not reduced:\n",
    "        Q = np.zeros((m, m))\n",
    "        R = np.zeros((m, n))\n",
    "        while True:\n",
    "            A_new = np.concatenate((A, np.random.randn(m, m-n)), axis=1)\n",
    "            if np.linalg.det(A_new) != 0:\n",
    "                A = A_new\n",
    "                k = m\n",
    "                break\n",
    "    else:\n",
    "        Q = np.zeros((m, n))\n",
    "        R = np.zeros((n, n))\n",
    "        k = n\n",
    "\n",
    "    r = norm(A[:, 0])\n",
    "    Q[:, 0] = A[:, 0] / r\n",
    "    R[0, 0] = r\n",
    "\n",
    "    for i in range(1, k):\n",
    "        y = A[:, i]\n",
    "        for j in range(i):\n",
    "            r = np.dot(Q[:, j], A[:, i])\n",
    "            y = y - r*Q[:, j]\n",
    "            try:\n",
    "                R[j, i] = r\n",
    "            except:\n",
    "                pass\n",
    "        r = norm(y)\n",
    "        Q[:, i] = y / r\n",
    "        try:\n",
    "            R[i, i] = r\n",
    "        except:\n",
    "            pass\n",
    "        \n",
    "    return Q, R"
   ]
  },
  {
   "cell_type": "code",
   "execution_count": 4,
   "metadata": {},
   "outputs": [
    {
     "name": "stdout",
     "output_type": "stream",
     "text": [
      "Q:\n",
      " [[ 0.8 -0.6]\n",
      " [ 0.6  0.8]]\n",
      "R:\n",
      " [[5.  0.6]\n",
      " [0.  0.8]]\n"
     ]
    }
   ],
   "source": [
    "# (a)\n",
    "A = np.array([[4, 0], [3, 1]])\n",
    "Q, R = QR_classical(A, reduced=True)\n",
    "print(\"Q:\\n\", Q)\n",
    "print(\"R:\\n\", R)"
   ]
  },
  {
   "cell_type": "code",
   "execution_count": 5,
   "metadata": {},
   "outputs": [
    {
     "name": "stdout",
     "output_type": "stream",
     "text": [
      "Q:\n",
      " [[ 0.70710678  0.70710678]\n",
      " [ 0.70710678 -0.70710678]]\n",
      "R:\n",
      " [[1.41421356 2.12132034]\n",
      " [0.         0.70710678]]\n"
     ]
    }
   ],
   "source": [
    "# (b)\n",
    "A = np.array([[1, 2], [1, 1]])\n",
    "Q, R = QR_classical(A, reduced=True)\n",
    "print(\"Q:\\n\", Q)\n",
    "print(\"R:\\n\", R)"
   ]
  },
  {
   "cell_type": "code",
   "execution_count": 6,
   "metadata": {},
   "outputs": [
    {
     "name": "stdout",
     "output_type": "stream",
     "text": [
      "Q:\n",
      " [[ 0.66666667  0.23570226]\n",
      " [ 0.33333333 -0.94280904]\n",
      " [ 0.66666667  0.23570226]]\n",
      "R:\n",
      " [[3.         1.        ]\n",
      " [0.         1.41421356]]\n"
     ]
    }
   ],
   "source": [
    "# (c)\n",
    "A = np.array([[2, 1], [1, -1], [2, 1]])\n",
    "Q, R = QR_classical(A, reduced=True)\n",
    "print(\"Q:\\n\", Q)\n",
    "print(\"R:\\n\", R)"
   ]
  },
  {
   "cell_type": "code",
   "execution_count": 7,
   "metadata": {
    "scrolled": true
   },
   "outputs": [
    {
     "name": "stdout",
     "output_type": "stream",
     "text": [
      "Q:\n",
      " [[ 0.8  0.  -0.6]\n",
      " [ 0.   1.   0. ]\n",
      " [ 0.6  0.   0.8]]\n",
      "R:\n",
      " [[ 5. 10.  5.]\n",
      " [ 0.  2. -2.]\n",
      " [ 0.  0.  5.]]\n"
     ]
    }
   ],
   "source": [
    "# (d)\n",
    "A = np.array([[4, 8, 1], [0, 2, -2], [3, 6, 7]])\n",
    "Q, R = QR_classical(A, reduced=True)\n",
    "print(\"Q:\\n\", Q)\n",
    "print(\"R:\\n\", R)"
   ]
  },
  {
   "cell_type": "markdown",
   "metadata": {},
   "source": [
    "### Q. 2"
   ]
  },
  {
   "cell_type": "code",
   "execution_count": 8,
   "metadata": {},
   "outputs": [],
   "source": [
    "def QR_modified(A, reduced=False):\n",
    "    m, n = A.shape\n",
    "\n",
    "    if not reduced:\n",
    "        Q = np.zeros((m, m))\n",
    "        R = np.zeros((m, n))\n",
    "        while True:\n",
    "            A_new = np.concatenate((A, np.random.randn(m, m-n)), axis=1)\n",
    "            if np.linalg.det(A_new) != 0:\n",
    "                A = A_new\n",
    "                k = m\n",
    "                break\n",
    "    else:\n",
    "        Q = np.zeros((m, n))\n",
    "        R = np.zeros((n, n))\n",
    "        k = n\n",
    "\n",
    "    r = norm(A[:, 0])\n",
    "    Q[:, 0] = A[:, 0] / r\n",
    "    R[0, 0] = r\n",
    "\n",
    "    for i in range(1, k):\n",
    "        y = A[:, i]\n",
    "        for j in range(i):\n",
    "            r = np.dot(Q[:, j], y)\n",
    "            y = y - r*Q[:, j]\n",
    "            try:\n",
    "                R[j, i] = r\n",
    "            except:\n",
    "                pass\n",
    "        r = norm(y)\n",
    "        Q[:, i] = y / r\n",
    "        try:\n",
    "            R[i, i] = r\n",
    "        except:\n",
    "            pass\n",
    "\n",
    "    return Q, R"
   ]
  },
  {
   "cell_type": "code",
   "execution_count": 9,
   "metadata": {},
   "outputs": [
    {
     "name": "stdout",
     "output_type": "stream",
     "text": [
      "Q:\n",
      " [[ 0.8 -0.6]\n",
      " [ 0.6  0.8]]\n",
      "R:\n",
      " [[5.  0.6]\n",
      " [0.  0.8]]\n"
     ]
    }
   ],
   "source": [
    "# (a)\n",
    "A = np.array([[4, 0], [3, 1]])\n",
    "Q, R = QR_modified(A, reduced=True)\n",
    "print(\"Q:\\n\", Q)\n",
    "print(\"R:\\n\", R)"
   ]
  },
  {
   "cell_type": "code",
   "execution_count": 10,
   "metadata": {},
   "outputs": [
    {
     "name": "stdout",
     "output_type": "stream",
     "text": [
      "Q:\n",
      " [[ 0.70710678  0.70710678]\n",
      " [ 0.70710678 -0.70710678]]\n",
      "R:\n",
      " [[1.41421356 2.12132034]\n",
      " [0.         0.70710678]]\n"
     ]
    }
   ],
   "source": [
    "# (b)\n",
    "A = np.array([[1, 2], [1, 1]])\n",
    "Q, R = QR_modified(A, reduced=True)\n",
    "print(\"Q:\\n\", Q)\n",
    "print(\"R:\\n\", R)"
   ]
  },
  {
   "cell_type": "code",
   "execution_count": 11,
   "metadata": {},
   "outputs": [
    {
     "name": "stdout",
     "output_type": "stream",
     "text": [
      "Q:\n",
      " [[ 0.66666667  0.23570226]\n",
      " [ 0.33333333 -0.94280904]\n",
      " [ 0.66666667  0.23570226]]\n",
      "R:\n",
      " [[3.         1.        ]\n",
      " [0.         1.41421356]]\n"
     ]
    }
   ],
   "source": [
    "# (c)\n",
    "A = np.array([[2, 1], [1, -1], [2, 1]])\n",
    "Q, R = QR_modified(A, reduced=True)\n",
    "print(\"Q:\\n\", Q)\n",
    "print(\"R:\\n\", R)"
   ]
  },
  {
   "cell_type": "code",
   "execution_count": 12,
   "metadata": {
    "scrolled": true
   },
   "outputs": [
    {
     "name": "stdout",
     "output_type": "stream",
     "text": [
      "Q:\n",
      " [[ 0.8  0.  -0.6]\n",
      " [ 0.   1.   0. ]\n",
      " [ 0.6  0.   0.8]]\n",
      "R:\n",
      " [[ 5. 10.  5.]\n",
      " [ 0.  2. -2.]\n",
      " [ 0.  0.  5.]]\n"
     ]
    }
   ],
   "source": [
    "# (d)\n",
    "A = np.array([[4, 8, 1], [0, 2, -2], [3, 6, 7]])\n",
    "Q, R = QR_modified(A, reduced=True)\n",
    "print(\"Q:\\n\", Q)\n",
    "print(\"R:\\n\", R)"
   ]
  },
  {
   "cell_type": "markdown",
   "metadata": {},
   "source": [
    "### Q. 3"
   ]
  },
  {
   "cell_type": "code",
   "execution_count": 13,
   "metadata": {},
   "outputs": [],
   "source": [
    "def QR_Householder(A, reduced=False):\n",
    "    m, n = np.shape(A)\n",
    "    H = np.tile(np.identity(m), (n, 1, 1))\n",
    "    R = A.copy()\n",
    "\n",
    "    for i in range(n):\n",
    "        A_i = R[i:, i]\n",
    "        w = np.zeros(m - i)\n",
    "        w[0] = norm(A_i) * (2*(A_i[0] < 0) - 1)\n",
    "\n",
    "        v = (A_i - w).reshape(-1, 1)\n",
    "        P = np.dot(v, v.T) / norm(v)**2\n",
    "\n",
    "        H[i, i:, i:] -= 2*P\n",
    "        R = np.dot(H[i], R)\n",
    "    Q = np.linalg.multi_dot(H)\n",
    "    \n",
    "    if reduced:\n",
    "        return Q[:, :n], R[:n, :n]\n",
    "    \n",
    "    return Q, R"
   ]
  },
  {
   "cell_type": "code",
   "execution_count": 14,
   "metadata": {
    "scrolled": true
   },
   "outputs": [
    {
     "name": "stdout",
     "output_type": "stream",
     "text": [
      "Q:\n",
      " [[-0.8  0.6]\n",
      " [-0.6 -0.8]]\n",
      "R:\n",
      " [[-5.  -0.6]\n",
      " [-0.  -0.8]]\n"
     ]
    }
   ],
   "source": [
    "# (a)\n",
    "A = np.array([[4, 0], [3, 1]])\n",
    "Q, R = QR_Householder(A, reduced=True)\n",
    "print(\"Q:\\n\", Q.round(10))\n",
    "print(\"R:\\n\", R.round(10))"
   ]
  },
  {
   "cell_type": "code",
   "execution_count": 15,
   "metadata": {},
   "outputs": [
    {
     "name": "stdout",
     "output_type": "stream",
     "text": [
      "Q:\n",
      " [[-0.70710678  0.70710678]\n",
      " [-0.70710678 -0.70710678]]\n",
      "R:\n",
      " [[-1.41421356 -2.12132034]\n",
      " [-0.          0.70710678]]\n"
     ]
    }
   ],
   "source": [
    "# (b)\n",
    "A = np.array([[1, 2], [1, 1]])\n",
    "Q, R = QR_Householder(A, reduced=True)\n",
    "print(\"Q:\\n\", Q.round(10))\n",
    "print(\"R:\\n\", R.round(10))"
   ]
  },
  {
   "cell_type": "code",
   "execution_count": 16,
   "metadata": {},
   "outputs": [
    {
     "name": "stdout",
     "output_type": "stream",
     "text": [
      "Q:\n",
      " [[-0.66666667  0.23570226]\n",
      " [-0.33333333 -0.94280904]\n",
      " [-0.66666667  0.23570226]]\n",
      "R:\n",
      " [[-3.         -1.        ]\n",
      " [-0.          1.41421356]]\n"
     ]
    }
   ],
   "source": [
    "# (c)\n",
    "A = np.array([[2, 1], [1, -1], [2, 1]])\n",
    "Q, R = QR_Householder(A, reduced=True)\n",
    "print(\"Q:\\n\", Q.round(10))\n",
    "print(\"R:\\n\", R.round(10))"
   ]
  },
  {
   "cell_type": "code",
   "execution_count": 17,
   "metadata": {
    "scrolled": true
   },
   "outputs": [
    {
     "name": "stdout",
     "output_type": "stream",
     "text": [
      "Q:\n",
      " [[-0.8  0.   0.6]\n",
      " [ 0.  -1.   0. ]\n",
      " [-0.6 -0.  -0.8]]\n",
      "R:\n",
      " [[ -5. -10.  -5.]\n",
      " [ -0.  -2.   2.]\n",
      " [ -0.   0.  -5.]]\n"
     ]
    }
   ],
   "source": [
    "# (d)\n",
    "A = np.array([[4, 8, 1], [0, 2, -2], [3, 6, 7]])\n",
    "Q, R = QR_Householder(A, reduced=True)\n",
    "print(\"Q:\\n\", Q.round(10))\n",
    "print(\"R:\\n\", R.round(10))"
   ]
  },
  {
   "cell_type": "markdown",
   "metadata": {},
   "source": [
    "### Q. 4"
   ]
  },
  {
   "cell_type": "code",
   "execution_count": 18,
   "metadata": {},
   "outputs": [],
   "source": [
    "# (a)"
   ]
  },
  {
   "cell_type": "markdown",
   "metadata": {},
   "source": [
    "Classcal QR Decomposition<br>(1)"
   ]
  },
  {
   "cell_type": "code",
   "execution_count": 19,
   "metadata": {},
   "outputs": [
    {
     "name": "stdout",
     "output_type": "stream",
     "text": [
      "Classcal method.\n",
      "Q:\n",
      " [[ 0.8 -0.6]\n",
      " [ 0.6  0.8]]\n",
      "R:\n",
      " [[5.  0.6]\n",
      " [0.  0.8]] \n",
      "\n",
      "Numpy function.\n",
      "Q:\n",
      " [[-0.8 -0.6]\n",
      " [-0.6  0.8]]\n",
      "R:\n",
      " [[-5.  -0.6]\n",
      " [ 0.   0.8]]\n"
     ]
    }
   ],
   "source": [
    "A = np.array([[4, 0], [3, 1]])\n",
    "\n",
    "Q, R = QR_classical(A)\n",
    "print(\"Classcal method.\")\n",
    "print(\"Q:\\n\", Q)\n",
    "print(\"R:\\n\", R, \"\\n\")\n",
    "\n",
    "Q, R = np.linalg.qr(A, 'complete')\n",
    "print(\"Numpy function.\")\n",
    "print(\"Q:\\n\", Q)\n",
    "print(\"R:\\n\", R)"
   ]
  },
  {
   "cell_type": "markdown",
   "metadata": {},
   "source": [
    "(2)"
   ]
  },
  {
   "cell_type": "code",
   "execution_count": 20,
   "metadata": {},
   "outputs": [
    {
     "name": "stdout",
     "output_type": "stream",
     "text": [
      "Classcal method.\n",
      "Q:\n",
      " [[ 0.70710678  0.70710678]\n",
      " [ 0.70710678 -0.70710678]]\n",
      "R:\n",
      " [[1.41421356 2.12132034]\n",
      " [0.         0.70710678]] \n",
      "\n",
      "Numpy function.\n",
      "Q:\n",
      " [[-0.70710678 -0.70710678]\n",
      " [-0.70710678  0.70710678]]\n",
      "R:\n",
      " [[-1.41421356 -2.12132034]\n",
      " [ 0.         -0.70710678]]\n"
     ]
    }
   ],
   "source": [
    "A = np.array([[1, 2], [1, 1]])\n",
    "\n",
    "Q, R = QR_classical(A)\n",
    "print(\"Classcal method.\")\n",
    "print(\"Q:\\n\", Q)\n",
    "print(\"R:\\n\", R, \"\\n\")\n",
    "\n",
    "Q, R = np.linalg.qr(A, 'complete')\n",
    "print(\"Numpy function.\")\n",
    "print(\"Q:\\n\", Q)\n",
    "print(\"R:\\n\", R)"
   ]
  },
  {
   "cell_type": "markdown",
   "metadata": {},
   "source": [
    "(3)"
   ]
  },
  {
   "cell_type": "code",
   "execution_count": 21,
   "metadata": {},
   "outputs": [
    {
     "name": "stdout",
     "output_type": "stream",
     "text": [
      "Classcal method.\n",
      "Q:\n",
      " [[ 6.66666667e-01  2.35702260e-01  7.07106781e-01]\n",
      " [ 3.33333333e-01 -9.42809042e-01 -2.10153194e-16]\n",
      " [ 6.66666667e-01  2.35702260e-01 -7.07106781e-01]]\n",
      "R:\n",
      " [[3.         1.        ]\n",
      " [0.         1.41421356]\n",
      " [0.         0.        ]] \n",
      "\n",
      "Numpy function.\n",
      "Q:\n",
      " [[-6.66666667e-01  2.35702260e-01 -7.07106781e-01]\n",
      " [-3.33333333e-01 -9.42809042e-01 -2.49800181e-16]\n",
      " [-6.66666667e-01  2.35702260e-01  7.07106781e-01]]\n",
      "R:\n",
      " [[-3.         -1.        ]\n",
      " [ 0.          1.41421356]\n",
      " [ 0.          0.        ]]\n"
     ]
    }
   ],
   "source": [
    "A = np.array([[2, 1], [1, -1], [2, 1]])\n",
    "\n",
    "Q, R = QR_classical(A)\n",
    "print(\"Classcal method.\")\n",
    "print(\"Q:\\n\", Q)\n",
    "print(\"R:\\n\", R, \"\\n\")\n",
    "\n",
    "Q, R = np.linalg.qr(A, 'complete')\n",
    "print(\"Numpy function.\")\n",
    "print(\"Q:\\n\", Q)\n",
    "print(\"R:\\n\", R)"
   ]
  },
  {
   "cell_type": "markdown",
   "metadata": {},
   "source": [
    "(4)"
   ]
  },
  {
   "cell_type": "code",
   "execution_count": 22,
   "metadata": {
    "scrolled": false
   },
   "outputs": [
    {
     "name": "stdout",
     "output_type": "stream",
     "text": [
      "Classcal method.\n",
      "Q:\n",
      " [[ 0.8  0.  -0.6]\n",
      " [ 0.   1.   0. ]\n",
      " [ 0.6  0.   0.8]]\n",
      "R:\n",
      " [[ 5. 10.  5.]\n",
      " [ 0.  2. -2.]\n",
      " [ 0.  0.  5.]] \n",
      "\n",
      "Numpy function.\n",
      "Q:\n",
      " [[-0.8  0.  -0.6]\n",
      " [-0.   1.   0. ]\n",
      " [-0.6  0.   0.8]]\n",
      "R:\n",
      " [[ -5. -10.  -5.]\n",
      " [  0.   2.  -2.]\n",
      " [  0.   0.   5.]]\n"
     ]
    }
   ],
   "source": [
    "A = np.array([[4, 8, 1], [0, 2, -2], [3, 6, 7]])\n",
    "\n",
    "Q, R = QR_classical(A)\n",
    "print(\"Classcal method.\")\n",
    "print(\"Q:\\n\", Q)\n",
    "print(\"R:\\n\", R, \"\\n\")\n",
    "\n",
    "Q, R = np.linalg.qr(A, 'complete')\n",
    "print(\"Numpy function.\")\n",
    "print(\"Q:\\n\", Q)\n",
    "print(\"R:\\n\", R)"
   ]
  },
  {
   "cell_type": "code",
   "execution_count": 23,
   "metadata": {},
   "outputs": [],
   "source": [
    "# (b)"
   ]
  },
  {
   "cell_type": "markdown",
   "metadata": {},
   "source": [
    "Modified QR Decomposition<br>(1)"
   ]
  },
  {
   "cell_type": "code",
   "execution_count": 24,
   "metadata": {},
   "outputs": [
    {
     "name": "stdout",
     "output_type": "stream",
     "text": [
      "Classcal method.\n",
      "Q:\n",
      " [[ 0.8 -0.6]\n",
      " [ 0.6  0.8]]\n",
      "R:\n",
      " [[5.  0.6]\n",
      " [0.  0.8]] \n",
      "\n",
      "Numpy function.\n",
      "Q:\n",
      " [[-0.8 -0.6]\n",
      " [-0.6  0.8]]\n",
      "R:\n",
      " [[-5.  -0.6]\n",
      " [ 0.   0.8]]\n"
     ]
    }
   ],
   "source": [
    "A = np.array([[4, 0], [3, 1]])\n",
    "\n",
    "Q, R = QR_modified(A)\n",
    "print(\"Classcal method.\")\n",
    "print(\"Q:\\n\", Q)\n",
    "print(\"R:\\n\", R, \"\\n\")\n",
    "\n",
    "Q, R = np.linalg.qr(A, 'complete')\n",
    "print(\"Numpy function.\")\n",
    "print(\"Q:\\n\", Q)\n",
    "print(\"R:\\n\", R)"
   ]
  },
  {
   "cell_type": "markdown",
   "metadata": {},
   "source": [
    "(2)"
   ]
  },
  {
   "cell_type": "code",
   "execution_count": 25,
   "metadata": {},
   "outputs": [
    {
     "name": "stdout",
     "output_type": "stream",
     "text": [
      "Classcal method.\n",
      "Q:\n",
      " [[ 0.70710678  0.70710678]\n",
      " [ 0.70710678 -0.70710678]]\n",
      "R:\n",
      " [[1.41421356 2.12132034]\n",
      " [0.         0.70710678]] \n",
      "\n",
      "Numpy function.\n",
      "Q:\n",
      " [[-0.70710678 -0.70710678]\n",
      " [-0.70710678  0.70710678]]\n",
      "R:\n",
      " [[-1.41421356 -2.12132034]\n",
      " [ 0.         -0.70710678]]\n"
     ]
    }
   ],
   "source": [
    "A = np.array([[1, 2], [1, 1]])\n",
    "\n",
    "Q, R = QR_modified(A)\n",
    "print(\"Classcal method.\")\n",
    "print(\"Q:\\n\", Q)\n",
    "print(\"R:\\n\", R, \"\\n\")\n",
    "\n",
    "Q, R = np.linalg.qr(A, 'complete')\n",
    "print(\"Numpy function.\")\n",
    "print(\"Q:\\n\", Q)\n",
    "print(\"R:\\n\", R)"
   ]
  },
  {
   "cell_type": "markdown",
   "metadata": {},
   "source": [
    "(3)"
   ]
  },
  {
   "cell_type": "code",
   "execution_count": 26,
   "metadata": {},
   "outputs": [
    {
     "name": "stdout",
     "output_type": "stream",
     "text": [
      "Classcal method.\n",
      "Q:\n",
      " [[ 6.66666667e-01  2.35702260e-01 -7.07106781e-01]\n",
      " [ 3.33333333e-01 -9.42809042e-01  8.50529726e-17]\n",
      " [ 6.66666667e-01  2.35702260e-01  7.07106781e-01]]\n",
      "R:\n",
      " [[3.         1.        ]\n",
      " [0.         1.41421356]\n",
      " [0.         0.        ]] \n",
      "\n",
      "Numpy function.\n",
      "Q:\n",
      " [[-6.66666667e-01  2.35702260e-01 -7.07106781e-01]\n",
      " [-3.33333333e-01 -9.42809042e-01 -2.49800181e-16]\n",
      " [-6.66666667e-01  2.35702260e-01  7.07106781e-01]]\n",
      "R:\n",
      " [[-3.         -1.        ]\n",
      " [ 0.          1.41421356]\n",
      " [ 0.          0.        ]]\n"
     ]
    }
   ],
   "source": [
    "A = np.array([[2, 1], [1, -1], [2, 1]])\n",
    "\n",
    "Q, R = QR_modified(A)\n",
    "print(\"Classcal method.\")\n",
    "print(\"Q:\\n\", Q)\n",
    "print(\"R:\\n\", R, \"\\n\")\n",
    "\n",
    "Q, R = np.linalg.qr(A, 'complete')\n",
    "print(\"Numpy function.\")\n",
    "print(\"Q:\\n\", Q)\n",
    "print(\"R:\\n\", R)"
   ]
  },
  {
   "cell_type": "markdown",
   "metadata": {},
   "source": [
    "(4)"
   ]
  },
  {
   "cell_type": "code",
   "execution_count": 27,
   "metadata": {
    "scrolled": true
   },
   "outputs": [
    {
     "name": "stdout",
     "output_type": "stream",
     "text": [
      "Classcal method.\n",
      "Q:\n",
      " [[ 0.8  0.  -0.6]\n",
      " [ 0.   1.   0. ]\n",
      " [ 0.6  0.   0.8]]\n",
      "R:\n",
      " [[ 5. 10.  5.]\n",
      " [ 0.  2. -2.]\n",
      " [ 0.  0.  5.]] \n",
      "\n",
      "Numpy function.\n",
      "Q:\n",
      " [[-0.8  0.  -0.6]\n",
      " [-0.   1.   0. ]\n",
      " [-0.6  0.   0.8]]\n",
      "R:\n",
      " [[ -5. -10.  -5.]\n",
      " [  0.   2.  -2.]\n",
      " [  0.   0.   5.]]\n"
     ]
    }
   ],
   "source": [
    "A = np.array([[4, 8, 1], [0, 2, -2], [3, 6, 7]])\n",
    "\n",
    "Q, R = QR_modified(A)\n",
    "print(\"Classcal method.\")\n",
    "print(\"Q:\\n\", Q)\n",
    "print(\"R:\\n\", R, \"\\n\")\n",
    "\n",
    "Q, R = np.linalg.qr(A, 'complete')\n",
    "print(\"Numpy function.\")\n",
    "print(\"Q:\\n\", Q)\n",
    "print(\"R:\\n\", R)"
   ]
  },
  {
   "cell_type": "markdown",
   "metadata": {},
   "source": [
    "### Q. 5"
   ]
  },
  {
   "cell_type": "code",
   "execution_count": 28,
   "metadata": {},
   "outputs": [],
   "source": [
    "# (a)\n",
    "A = np.array([[1, 1], [2, 1], [1, 2], [0, 3]])\n",
    "b = np.array([3, 5, 5, 5])\n",
    "m, n = A.shape\n",
    "\n",
    "Q, R = np.linalg.qr(A, 'complete')"
   ]
  },
  {
   "cell_type": "code",
   "execution_count": 29,
   "metadata": {},
   "outputs": [
    {
     "name": "stdout",
     "output_type": "stream",
     "text": [
      "x: [1.61538462 1.66153846]\n",
      "RMSE: 0.151911\n"
     ]
    }
   ],
   "source": [
    "d = np.dot(Q.T, b)\n",
    "\n",
    "x = np.linalg.inv(R[:n]).dot(d[:n])\n",
    "error = np.sqrt(sum(d[n:]**2) / m)\n",
    "\n",
    "print(\"x:\", x)\n",
    "print(\"RMSE: %f\" % error)"
   ]
  },
  {
   "cell_type": "code",
   "execution_count": 30,
   "metadata": {},
   "outputs": [],
   "source": [
    "# (b)\n",
    "A = np.array([[1, 2, 2], [2, -1, 2], [3, 1, 1], [1, 1, -1]])\n",
    "b = np.array([10, 5, 10, 3])\n",
    "m, n = A.shape\n",
    "\n",
    "Q, R = np.linalg.qr(A, 'complete')"
   ]
  },
  {
   "cell_type": "code",
   "execution_count": 31,
   "metadata": {},
   "outputs": [
    {
     "name": "stdout",
     "output_type": "stream",
     "text": [
      "x: [2.05882353 2.37254902 1.57843137]\n",
      "RMSE: 0.110702\n"
     ]
    }
   ],
   "source": [
    "d = np.dot(Q.T, b)\n",
    "\n",
    "x = np.linalg.inv(R[:n]).dot(d[:n])\n",
    "error = np.sqrt(sum(d[n:]**2) / m)\n",
    "\n",
    "print(\"x:\", x)\n",
    "print(\"RMSE: %f\" % error)"
   ]
  },
  {
   "cell_type": "markdown",
   "metadata": {},
   "source": [
    "### Q. 6"
   ]
  },
  {
   "cell_type": "code",
   "execution_count": 32,
   "metadata": {},
   "outputs": [],
   "source": [
    "# (a)\n",
    "A = np.array([[3, -1, 2], [4, 1, 0], [-3, 2, 1], [1, 1, 5], [-2, 0, 3]])\n",
    "b = np.array([10, 10, -5, 15, 0])\n",
    "m, n = A.shape\n",
    "\n",
    "Q, R = np.linalg.qr(A, 'complete')"
   ]
  },
  {
   "cell_type": "code",
   "execution_count": 33,
   "metadata": {},
   "outputs": [
    {
     "name": "stdout",
     "output_type": "stream",
     "text": [
      "x: [2.5246085  0.66163311 2.09340045]\n",
      "RMSE: 1.079346\n"
     ]
    }
   ],
   "source": [
    "d = np.dot(Q.T, b)\n",
    "\n",
    "x = np.linalg.inv(R[:n]).dot(d[:n])\n",
    "error = np.sqrt(sum(d[n:]**2) / m)\n",
    "\n",
    "print(\"x:\", x)\n",
    "print(\"RMSE: %f\" % error)"
   ]
  },
  {
   "cell_type": "code",
   "execution_count": 34,
   "metadata": {},
   "outputs": [],
   "source": [
    "# (b)\n",
    "A = np.array([[4, 2, 3, 0], [-2, 3, -1, 1], [1, 3, -4, 2], [1, 0, 1, -1], [3, 1, 3, -2]])\n",
    "b = np.array([10, 0, 2, 0, 5])\n",
    "m, n = A.shape\n",
    "\n",
    "Q, R = np.linalg.qr(A, 'complete')"
   ]
  },
  {
   "cell_type": "code",
   "execution_count": 35,
   "metadata": {},
   "outputs": [
    {
     "name": "stdout",
     "output_type": "stream",
     "text": [
      "x: [1.27389608 0.6885086  1.21244902 1.74968966]\n",
      "RMSE: 0.369237\n"
     ]
    }
   ],
   "source": [
    "d = np.dot(Q.T, b)\n",
    "\n",
    "x = np.linalg.inv(R[:n]).dot(d[:n])\n",
    "error = np.sqrt(sum(d[n:]**2) / m)\n",
    "\n",
    "print(\"x:\", x)\n",
    "print(\"RMSE: %f\" % error)"
   ]
  },
  {
   "cell_type": "markdown",
   "metadata": {},
   "source": [
    "### Q. 7"
   ]
  },
  {
   "cell_type": "code",
   "execution_count": 36,
   "metadata": {},
   "outputs": [],
   "source": [
    "# (a)\n",
    "n = 6\n",
    "\n",
    "hilbert = np.ones((10, 10))\n",
    "for i in range(10):\n",
    "    for j in range(10):\n",
    "        hilbert[i, j] /= (1 + i + j)\n",
    "        \n",
    "A = hilbert[:, :n]\n",
    "c = np.ones(n)\n",
    "b = np.dot(A, c)"
   ]
  },
  {
   "cell_type": "code",
   "execution_count": 37,
   "metadata": {},
   "outputs": [
    {
     "name": "stdout",
     "output_type": "stream",
     "text": [
      "x: [1. 1. 1. 1. 1. 1.]\n",
      "Error: 0.0000000000\n"
     ]
    }
   ],
   "source": [
    "Q, R = np.linalg.qr(A, 'complete')\n",
    "d = np.dot(Q.T, b)\n",
    "\n",
    "x = np.linalg.inv(R[:n]).dot(d[:n])\n",
    "error = np.sqrt(sum((x - c)**2) / n)\n",
    "\n",
    "print(\"x:\", x)\n",
    "print(\"Error: %.10f\" % error)"
   ]
  },
  {
   "cell_type": "code",
   "execution_count": 38,
   "metadata": {},
   "outputs": [],
   "source": [
    "# (b)\n",
    "n = 8\n",
    "\n",
    "hilbert = np.ones((10, 10))\n",
    "for i in range(10):\n",
    "    for j in range(10):\n",
    "        hilbert[i, j] /= (1 + i + j)\n",
    "        \n",
    "A = hilbert[:, :n]\n",
    "c = np.ones(n)\n",
    "b = np.dot(A, c)"
   ]
  },
  {
   "cell_type": "code",
   "execution_count": 39,
   "metadata": {},
   "outputs": [
    {
     "name": "stdout",
     "output_type": "stream",
     "text": [
      "x: [1.         1.         0.99999999 1.00000005 0.99999988 1.00000016\n",
      " 0.99999989 1.00000003]\n",
      "Error: 0.0000000832\n"
     ]
    }
   ],
   "source": [
    "Q, R = np.linalg.qr(A, 'complete')\n",
    "d = np.dot(Q.T, b)\n",
    "\n",
    "x = np.linalg.inv(R[:n]).dot(d[:n])\n",
    "error = np.sqrt(sum((x - c)**2) / n)\n",
    "\n",
    "print(\"x:\", x)\n",
    "print(\"Error: %.10f\" % error)"
   ]
  },
  {
   "cell_type": "markdown",
   "metadata": {},
   "source": [
    "### Q . 8"
   ]
  },
  {
   "cell_type": "code",
   "execution_count": 40,
   "metadata": {},
   "outputs": [],
   "source": [
    "# (a)\n",
    "d = 5\n",
    "\n",
    "x_i = np.linspace(2, 4, 11)\n",
    "A = np.ones((d+1, 11))\n",
    "for i in range(1, d+1):\n",
    "    A[i] = x_i**i\n",
    "A = A.T\n",
    "b = np.sum(A, axis=1)"
   ]
  },
  {
   "cell_type": "code",
   "execution_count": 41,
   "metadata": {},
   "outputs": [
    {
     "name": "stdout",
     "output_type": "stream",
     "text": [
      "x: [1. 1. 1. 1. 1. 1.]\n",
      "Error: 0.0000000003\n",
      "Problem 4.1.9 Error: 0.0003735141\n"
     ]
    }
   ],
   "source": [
    "Q, R = np.linalg.qr(A, 'complete')\n",
    "d_i = np.dot(Q.T, b)\n",
    "\n",
    "x = np.linalg.inv(R[:d+1]).dot(d_i[:d+1])\n",
    "error = np.sqrt(sum((x - np.ones(d+1))**2) / (d+1))\n",
    "\n",
    "print(\"x:\", x)\n",
    "print(\"Error: %.10f\" % error)\n",
    "print(\"Problem 4.1.9 Error: %.10f\" % 0.0003735141150385977)"
   ]
  },
  {
   "cell_type": "code",
   "execution_count": 42,
   "metadata": {},
   "outputs": [],
   "source": [
    "# (b)\n",
    "d = 6\n",
    "\n",
    "x_i = np.linspace(2, 4, 11)\n",
    "A = np.ones((d+1, 11))\n",
    "for i in range(1, d+1):\n",
    "    A[i] = x_i**i\n",
    "A = A.T\n",
    "b = np.sum(A, axis=1)"
   ]
  },
  {
   "cell_type": "code",
   "execution_count": 43,
   "metadata": {},
   "outputs": [
    {
     "name": "stdout",
     "output_type": "stream",
     "text": [
      "x: [1. 1. 1. 1. 1. 1. 1.]\n",
      "Error: 0.0000000013\n",
      "Problem 4.1.9 Error: 0.3977554581\n"
     ]
    }
   ],
   "source": [
    "Q, R = np.linalg.qr(A, 'complete')\n",
    "d_i = np.dot(Q.T, b)\n",
    "\n",
    "x = np.linalg.inv(R[:d+1]).dot(d_i[:d+1])\n",
    "error = np.sqrt(sum((x - np.ones(d+1))**2) / (d+1))\n",
    "\n",
    "print(\"x:\", x)\n",
    "print(\"Error: %.10f\" % error)\n",
    "print(\"Problem 4.1.9 Error: %.10f\" % 0.3977554581037068)"
   ]
  },
  {
   "cell_type": "code",
   "execution_count": 44,
   "metadata": {},
   "outputs": [],
   "source": [
    "# (c)\n",
    "d = 8\n",
    "\n",
    "x_i = np.linspace(2, 4, 11)\n",
    "A = np.ones((d+1, 11))\n",
    "for i in range(1, d+1):\n",
    "    A[i] = x_i**i\n",
    "A = A.T\n",
    "b = np.sum(A, axis=1)"
   ]
  },
  {
   "cell_type": "code",
   "execution_count": 45,
   "metadata": {},
   "outputs": [
    {
     "name": "stdout",
     "output_type": "stream",
     "text": [
      "x: [0.9999988  1.00000368 0.99999511 1.00000367 0.9999983  1.0000005\n",
      " 0.99999991 1.00000001 1.        ]\n",
      "Error: 0.0000024831\n",
      "Problem 4.1.9 Error: 48391.9658412549\n"
     ]
    }
   ],
   "source": [
    "Q, R = np.linalg.qr(A, 'complete')\n",
    "d_i = np.dot(Q.T, b)\n",
    "\n",
    "x = np.linalg.inv(R[:d+1]).dot(d_i[:d+1])\n",
    "error = np.sqrt(sum((x - np.ones(d+1))**2) / (d+1))\n",
    "\n",
    "print(\"x:\", x)\n",
    "print(\"Error: %.10f\" % error)\n",
    "print(\"Problem 4.1.9 Error: %.10f\" % 48391.96584125488)"
   ]
  }
 ],
 "metadata": {
  "kernelspec": {
   "display_name": "Python 3",
   "language": "python",
   "name": "python3"
  },
  "language_info": {
   "codemirror_mode": {
    "name": "ipython",
    "version": 3
   },
   "file_extension": ".py",
   "mimetype": "text/x-python",
   "name": "python",
   "nbconvert_exporter": "python",
   "pygments_lexer": "ipython3",
   "version": "3.6.4"
  }
 },
 "nbformat": 4,
 "nbformat_minor": 2
}

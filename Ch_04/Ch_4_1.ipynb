{
 "cells": [
  {
   "cell_type": "code",
   "execution_count": 1,
   "metadata": {},
   "outputs": [],
   "source": [
    "import numpy as np\n",
    "import matplotlib.pyplot as plt\n",
    "\n",
    "%matplotlib inline"
   ]
  },
  {
   "cell_type": "markdown",
   "metadata": {},
   "source": [
    "# Chapter 4<br>Least Squares"
   ]
  },
  {
   "cell_type": "markdown",
   "metadata": {},
   "source": [
    "## 4.1 Least Squares and the Normal Equations"
   ]
  },
  {
   "cell_type": "code",
   "execution_count": 2,
   "metadata": {},
   "outputs": [],
   "source": [
    "def ls(A, b):\n",
    "    return np.linalg.inv(np.dot(A.T, A)).dot(A.T).dot(b)"
   ]
  },
  {
   "cell_type": "code",
   "execution_count": 3,
   "metadata": {},
   "outputs": [],
   "source": [
    "def coef(x_i, y_i, degree):\n",
    "    n = len(x_i)\n",
    "    \n",
    "    A = np.zeros((degree, n), dtype=x_i.dtype)\n",
    "    for i in range(degree):\n",
    "        A[i] = x_i**i\n",
    "    A = A.T\n",
    "    b = y_i\n",
    "    \n",
    "    return ls(A, b)"
   ]
  },
  {
   "cell_type": "code",
   "execution_count": 4,
   "metadata": {},
   "outputs": [],
   "source": [
    "def fit(x_i, y_i, degree):\n",
    "    c = coef(x_i, y_i, degree)\n",
    "\n",
    "    def f(x):\n",
    "        ans = 0\n",
    "        for i in range(degree):\n",
    "            ans += c[i] * (x**i)\n",
    "        return ans\n",
    "    \n",
    "    return f"
   ]
  },
  {
   "cell_type": "markdown",
   "metadata": {},
   "source": [
    "### Q. 1"
   ]
  },
  {
   "cell_type": "code",
   "execution_count": 5,
   "metadata": {},
   "outputs": [
    {
     "name": "stdout",
     "output_type": "stream",
     "text": [
      "x: [2.5246085  0.66163311 2.09340045]\n",
      "2-norm error: 2.413492\n"
     ]
    }
   ],
   "source": [
    "# (a)\n",
    "A = np.array([[3, -1, 2], [4, 1, 0], [-3, 2, 1], [1, 1, 5], [-2, 0, 3]])\n",
    "b = np.array([10, 10, -5, 15, 0])\n",
    "\n",
    "x = ls(A, b)\n",
    "error = np.sqrt(sum((b - np.dot(A, x))**2))\n",
    "\n",
    "print(\"x:\", x)\n",
    "print(\"2-norm error: %f\" % error)"
   ]
  },
  {
   "cell_type": "code",
   "execution_count": 6,
   "metadata": {},
   "outputs": [
    {
     "name": "stdout",
     "output_type": "stream",
     "text": [
      "x: [1.27389608 0.6885086  1.21244902 1.74968966]\n",
      "2-norm error: 0.825640\n"
     ]
    }
   ],
   "source": [
    "# (b)\n",
    "A = np.array([[4, 2, 3, 0], [-2, 3, -1, 1], [1, 3, -4, 2], [1, 0, 1, -1], [3, 1, 3, -2]])\n",
    "b = np.array([10, 0, 2, 0, 5])\n",
    "\n",
    "x = ls(A, b)\n",
    "error = np.sqrt(sum((b - np.dot(A, x))**2))\n",
    "\n",
    "print(\"x:\", x)\n",
    "print(\"2-norm error: %f\" % error)"
   ]
  },
  {
   "cell_type": "markdown",
   "metadata": {},
   "source": [
    "### Q. 2"
   ]
  },
  {
   "cell_type": "code",
   "execution_count": 7,
   "metadata": {},
   "outputs": [],
   "source": [
    "year = np.arange(1994, 2004, dtype=np.int64)\n",
    "oil = np.array([67.052, 68.008, 69.803, 72.024, 73.400, 72.063, 74.669, 74.487, 74.065, 76.777])\n",
    "n = len(year)"
   ]
  },
  {
   "cell_type": "code",
   "execution_count": 8,
   "metadata": {},
   "outputs": [
    {
     "data": {
      "image/png": "[encoded data removed]",
      "text/plain": [
       "<matplotlib.figure.Figure at 0x1a26f3622b0>"
      ]
     },
     "metadata": {},
     "output_type": "display_data"
    }
   ],
   "source": [
    "# (a)\n",
    "f = fit(year, oil, 2) # line\n",
    "\n",
    "x_range = np.linspace(1994, 2003, 1000)\n",
    "\n",
    "plt.scatter(year, oil)\n",
    "plt.plot(x_range, f(x_range), c='g')\n",
    "plt.show()"
   ]
  },
  {
   "cell_type": "code",
   "execution_count": 9,
   "metadata": {},
   "outputs": [
    {
     "name": "stdout",
     "output_type": "stream",
     "text": [
      "RMSE: 0.976318\n",
      "Estimate in 2010: 83.382273\n"
     ]
    }
   ],
   "source": [
    "error = np.sqrt(sum((oil - f(year))**2) / n)\n",
    "estimate = f(2010)\n",
    "\n",
    "print(\"RMSE: %f\" % error)\n",
    "print(\"Estimate in 2010: %f\" % estimate)"
   ]
  },
  {
   "cell_type": "code",
   "execution_count": 10,
   "metadata": {},
   "outputs": [
    {
     "data": {
      "image/png": "[encoded data removed]",
      "text/plain": [
       "<matplotlib.figure.Figure at 0x1a271396ef0>"
      ]
     },
     "metadata": {},
     "output_type": "display_data"
    }
   ],
   "source": [
    "# (b)\n",
    "f = fit(year, oil, 3) # Parabola\n",
    "\n",
    "x_range = np.linspace(1994, 2003, 1000)\n",
    "\n",
    "plt.scatter(year, oil)\n",
    "plt.plot(x_range, f(x_range), c='g')\n",
    "plt.show()"
   ]
  },
  {
   "cell_type": "code",
   "execution_count": 11,
   "metadata": {},
   "outputs": [
    {
     "name": "stdout",
     "output_type": "stream",
     "text": [
      "RMSE: 0.822680\n",
      "Estimate in 2010: 74.409104\n"
     ]
    }
   ],
   "source": [
    "error = np.sqrt(sum((oil - f(year))**2) / n)\n",
    "estimate = f(2010)\n",
    "\n",
    "print(\"RMSE: %f\" % error)\n",
    "print(\"Estimate in 2010: %f\" % estimate)"
   ]
  },
  {
   "cell_type": "code",
   "execution_count": 12,
   "metadata": {},
   "outputs": [
    {
     "data": {
      "image/png": "[encoded data removed]",
      "text/plain": [
       "<matplotlib.figure.Figure at 0x1a271468048>"
      ]
     },
     "metadata": {},
     "output_type": "display_data"
    }
   ],
   "source": [
    "# (c)\n",
    "f = fit(year, oil, 4) # Cubic curve\n",
    "\n",
    "x_range = np.linspace(1994, 2003, 1000)\n",
    "\n",
    "plt.scatter(year, oil)\n",
    "plt.plot(x_range, f(x_range), c='g')\n",
    "plt.show()"
   ]
  },
  {
   "cell_type": "code",
   "execution_count": 13,
   "metadata": {},
   "outputs": [
    {
     "name": "stdout",
     "output_type": "stream",
     "text": [
      "RMSE: 0.822687\n",
      "Estimate in 2010: 74.416673\n"
     ]
    }
   ],
   "source": [
    "error = np.sqrt(sum((oil - f(year))**2) / n)\n",
    "estimate = f(2010)\n",
    "\n",
    "print(\"RMSE: %f\" % error)\n",
    "print(\"Estimate in 2010: %f\" % estimate)"
   ]
  },
  {
   "cell_type": "markdown",
   "metadata": {},
   "source": [
    "Paraboic estimation fits the best in terms of RMSE."
   ]
  },
  {
   "cell_type": "markdown",
   "metadata": {},
   "source": [
    "### Q. 3"
   ]
  },
  {
   "cell_type": "code",
   "execution_count": 14,
   "metadata": {},
   "outputs": [],
   "source": [
    "year = np.array([1960, 1970, 1990, 2000], dtype=np.int64)\n",
    "population = np.array([3039585530, 3707475887, 5281653820, 6079603571])\n",
    "n = len(year)\n",
    "\n",
    "pop_1980 = 4452584592"
   ]
  },
  {
   "cell_type": "code",
   "execution_count": 15,
   "metadata": {},
   "outputs": [
    {
     "data": {
      "image/png": "[encoded data removed]",
      "text/plain": [
       "<matplotlib.figure.Figure at 0x1a2714986a0>"
      ]
     },
     "metadata": {},
     "output_type": "display_data"
    }
   ],
   "source": [
    "# (a)\n",
    "f = fit(year, population, 2) # line\n",
    "\n",
    "x_range = np.linspace(1960, 2000, 1000)\n",
    "\n",
    "plt.scatter(year, population)\n",
    "plt.plot(x_range, f(x_range), c='g')\n",
    "plt.show()"
   ]
  },
  {
   "cell_type": "code",
   "execution_count": 16,
   "metadata": {},
   "outputs": [
    {
     "name": "stdout",
     "output_type": "stream",
     "text": [
      "RMSE: 36751088.162408\n",
      "Estimate in 1980: 4527079701.995331\n",
      "Error in 1980: 74495109.995331\n"
     ]
    }
   ],
   "source": [
    "error = np.sqrt(sum((population - f(year))**2) / n)\n",
    "estimate = f(1980)\n",
    "\n",
    "print(\"RMSE: %f\" % error)\n",
    "print(\"Estimate in 1980: %f\" % estimate)\n",
    "print(\"Error in 1980: %f\" % (abs(pop_1980 - estimate)))"
   ]
  },
  {
   "cell_type": "code",
   "execution_count": 17,
   "metadata": {},
   "outputs": [
    {
     "data": {
      "image/png": "[encoded data removed]",
      "text/plain": [
       "<matplotlib.figure.Figure at 0x1a271548e10>"
      ]
     },
     "metadata": {},
     "output_type": "display_data"
    }
   ],
   "source": [
    "# (b)\n",
    "f = fit(year, population, 3) # Parabol\n",
    "\n",
    "x_range = np.linspace(1960, 2000, 1000)\n",
    "\n",
    "plt.scatter(year, population)\n",
    "plt.plot(x_range, f(x_range), c='g')\n",
    "plt.show()"
   ]
  },
  {
   "cell_type": "code",
   "execution_count": 18,
   "metadata": {},
   "outputs": [
    {
     "name": "stdout",
     "output_type": "stream",
     "text": [
      "RMSE: 17129714.190228\n",
      "Estimate in 1980: 4472888594.651489\n",
      "Error in 1980: 20304002.651489\n"
     ]
    }
   ],
   "source": [
    "error = np.sqrt(sum((population - f(year))**2) / n)\n",
    "estimate = f(1980)\n",
    "\n",
    "print(\"RMSE: %f\" % error)\n",
    "print(\"Estimate in 1980: %f\" % estimate)\n",
    "print(\"Error in 1980: %f\" % (abs(pop_1980 - estimate)))"
   ]
  },
  {
   "cell_type": "markdown",
   "metadata": {},
   "source": [
    "Parabolic estimation provides better accuracy."
   ]
  },
  {
   "cell_type": "markdown",
   "metadata": {},
   "source": [
    "### Q. 4"
   ]
  },
  {
   "cell_type": "code",
   "execution_count": 19,
   "metadata": {},
   "outputs": [],
   "source": [
    "# I think the question indicates the data of exercise 3.1.17.\n",
    "year = np.array([1800, 1850, 1900, 2000], dtype=np.int64)\n",
    "co2 = np.array([280, 283, 391, 370])\n",
    "n = len(year)"
   ]
  },
  {
   "cell_type": "code",
   "execution_count": 20,
   "metadata": {},
   "outputs": [
    {
     "data": {
      "image/png": "[encoded data removed]",
      "text/plain": [
       "<matplotlib.figure.Figure at 0x1a2715af908>"
      ]
     },
     "metadata": {},
     "output_type": "display_data"
    }
   ],
   "source": [
    "# (a)\n",
    "f = fit(year, co2, 2) # line\n",
    "\n",
    "x_range = np.linspace(1800, 2000, 1000)\n",
    "\n",
    "plt.scatter(year, co2)\n",
    "plt.plot(x_range, f(x_range), c='g')\n",
    "plt.show()"
   ]
  },
  {
   "cell_type": "code",
   "execution_count": 21,
   "metadata": {},
   "outputs": [
    {
     "name": "stdout",
     "output_type": "stream",
     "text": [
      "RMSE: 31.956891\n",
      "Estimate in 1950: 363.571429\n"
     ]
    }
   ],
   "source": [
    "error = np.sqrt(sum((co2 - f(year))**2) / n)\n",
    "estimate = f(1950)\n",
    "\n",
    "print(\"RMSE: %f\" % error)\n",
    "print(\"Estimate in 1950: %f\" % estimate)"
   ]
  },
  {
   "cell_type": "code",
   "execution_count": 22,
   "metadata": {},
   "outputs": [
    {
     "data": {
      "image/png": "[encoded data removed]",
      "text/plain": [
       "<matplotlib.figure.Figure at 0x1a27161b908>"
      ]
     },
     "metadata": {},
     "output_type": "display_data"
    }
   ],
   "source": [
    "# (b)\n",
    "f = fit(year, co2, 3) # Parabola\n",
    "\n",
    "x_range = np.linspace(1800, 2000, 1000)\n",
    "\n",
    "plt.scatter(year, co2)\n",
    "plt.plot(x_range, f(x_range), c='g')\n",
    "plt.show()"
   ]
  },
  {
   "cell_type": "code",
   "execution_count": 23,
   "metadata": {},
   "outputs": [
    {
     "name": "stdout",
     "output_type": "stream",
     "text": [
      "RMSE: 26.315567\n",
      "Estimate in 1950: 378.181818\n"
     ]
    }
   ],
   "source": [
    "error = np.sqrt(sum((co2 - f(year))**2) / n)\n",
    "estimate = f(1950)\n",
    "\n",
    "print(\"RMSE: %f\" % error)\n",
    "print(\"Estimate in 1950: %f\" % estimate)"
   ]
  },
  {
   "cell_type": "code",
   "execution_count": 24,
   "metadata": {},
   "outputs": [
    {
     "data": {
      "image/png": "[encoded data removed]",
      "text/plain": [
       "<matplotlib.figure.Figure at 0x1a2715b5828>"
      ]
     },
     "metadata": {},
     "output_type": "display_data"
    }
   ],
   "source": [
    "# (c)\n",
    "f = fit(year, co2, 4) # Cubic curve\n",
    "\n",
    "x_range = np.linspace(1800, 2000, 1000)\n",
    "\n",
    "plt.scatter(year, co2)\n",
    "plt.plot(x_range, f(x_range), c='g')\n",
    "plt.show()"
   ]
  },
  {
   "cell_type": "code",
   "execution_count": 25,
   "metadata": {},
   "outputs": [
    {
     "name": "stdout",
     "output_type": "stream",
     "text": [
      "RMSE: 26.315567\n",
      "Estimate in 1950: 378.181818\n"
     ]
    }
   ],
   "source": [
    "error = np.sqrt(sum((co2 - f(year))**2) / n)\n",
    "estimate = f(1950)\n",
    "\n",
    "print(\"RMSE: %f\" % error)\n",
    "print(\"Estimate in 1950: %f\" % estimate)"
   ]
  },
  {
   "cell_type": "markdown",
   "metadata": {},
   "source": [
    "### Q. 5"
   ]
  },
  {
   "cell_type": "code",
   "execution_count": 26,
   "metadata": {},
   "outputs": [],
   "source": [
    "price = np.array([0.59, 0.80, 0.95, 0.45, 0.79, 0.99, 0.90, 0.65, 0.79, 0.69, 0.79, 0.49, 1.09, 0.95, 0.79, 0.65, 0.45, 0.60, 0.89, 0.79, 0.99, 0.85])\n",
    "sales = np.array([3980, 2200, 1850, 6100, 2100, 1700, 2000, 4200, 2440, 3300, 2300, 6000, 1190, 1960, 2760, 4330, 6960, 4160, 1990, 2860, 1920, 2160])\n",
    "n = len(price)"
   ]
  },
  {
   "cell_type": "code",
   "execution_count": 27,
   "metadata": {},
   "outputs": [
    {
     "name": "stdout",
     "output_type": "stream",
     "text": [
      "S = -8314.364476P + 9510.099572\n",
      "Normal equation: (A.T)*A*c = (A.T)*b\n"
     ]
    }
   ],
   "source": [
    "# (a)\n",
    "c = coef(price, sales, 2) # line\n",
    "\n",
    "print(\"S = %fP + %f\" % (c[1], c[0]))\n",
    "print(\"Normal equation: (A.T)*A*c = (A.T)*b\")"
   ]
  },
  {
   "cell_type": "code",
   "execution_count": 28,
   "metadata": {
    "scrolled": true
   },
   "outputs": [
    {
     "data": {
      "image/png": "[encoded data removed]",
      "text/plain": [
       "<matplotlib.figure.Figure at 0x1a2715ef240>"
      ]
     },
     "metadata": {},
     "output_type": "display_data"
    }
   ],
   "source": [
    "f = fit(price, sales, 2) # line\n",
    "\n",
    "x_range = np.linspace(price.min(), price.max(), 1000)\n",
    "\n",
    "plt.scatter(price, sales)\n",
    "plt.plot(x_range, f(x_range), c='g')\n",
    "plt.show()"
   ]
  },
  {
   "cell_type": "code",
   "execution_count": 29,
   "metadata": {},
   "outputs": [
    {
     "name": "stdout",
     "output_type": "stream",
     "text": [
      "RMSE: 518.305884\n"
     ]
    }
   ],
   "source": [
    "error = np.sqrt(sum((sales - f(price))**2) / n)\n",
    "print(\"RMSE: %f\" % error)"
   ]
  },
  {
   "cell_type": "code",
   "execution_count": 30,
   "metadata": {},
   "outputs": [
    {
     "data": {
      "image/png": "[encoded data removed]",
      "text/plain": [
       "<matplotlib.figure.Figure at 0x1a2713a0278>"
      ]
     },
     "metadata": {},
     "output_type": "display_data"
    },
    {
     "name": "stdout",
     "output_type": "stream",
     "text": [
      "Best price: 0.686908\n",
      "Maximum profit: 1735.746018\n"
     ]
    }
   ],
   "source": [
    "# (b)\n",
    "# Total profit = S(P - 0.23) = (c[0] + c[1]P)(P - 0.23)\n",
    "# => c[1](P - 0.23) + (c[0] + c[1]P) = 0\n",
    "# => P = (0.23*c[1] - c[0])/(2*c[1])\n",
    "\n",
    "P = (0.23 - c[0]/c[1])/2\n",
    "profit = f(P)*(P - 0.23)\n",
    "\n",
    "plt.plot(x_range, f(x_range)*(x_range - 0.23))\n",
    "plt.scatter(P, profit, c='g')\n",
    "plt.show()\n",
    "\n",
    "print(\"Best price: %f\" % P)\n",
    "print(\"Maximum profit: %f\" % profit)"
   ]
  },
  {
   "cell_type": "markdown",
   "metadata": {},
   "source": [
    "### Q. 6"
   ]
  },
  {
   "cell_type": "code",
   "execution_count": 31,
   "metadata": {},
   "outputs": [
    {
     "data": {
      "image/png": "[encoded data removed]",
      "text/plain": [
       "<matplotlib.figure.Figure at 0x1a2715f0cc0>"
      ]
     },
     "metadata": {},
     "output_type": "display_data"
    }
   ],
   "source": [
    "# (a)\n",
    "n = 10\n",
    "x_i = np.linspace(0, 1, n)\n",
    "\n",
    "c = coef(x_i, x_i**2, 2)\n",
    "f = fit(x_i, x_i**2, 2)\n",
    "\n",
    "x_range = np.linspace(0, 1, 1000)\n",
    "\n",
    "plt.plot(x_range, x_range**2, label=\"Parabola\")\n",
    "plt.plot(x_range, f(x_range), label=\"y = %f + %fx\" % (c[0], c[1]))\n",
    "plt.legend()\n",
    "plt.title(\"n = %d\" % n)\n",
    "\n",
    "plt.show()"
   ]
  },
  {
   "cell_type": "code",
   "execution_count": 32,
   "metadata": {},
   "outputs": [
    {
     "data": {
      "image/png": "[encoded data removed]",
      "text/plain": [
       "<matplotlib.figure.Figure at 0x1a26f362a58>"
      ]
     },
     "metadata": {},
     "output_type": "display_data"
    }
   ],
   "source": [
    "# (b)\n",
    "n = 20\n",
    "x_i = np.linspace(0, 1, n)\n",
    "\n",
    "c = coef(x_i, x_i**2, 2)\n",
    "f = fit(x_i, x_i**2, 2)\n",
    "\n",
    "x_range = np.linspace(0, 1, 1000)\n",
    "\n",
    "plt.plot(x_range, x_range**2, label=\"Parabola\")\n",
    "plt.plot(x_range, f(x_range), label=\"y = %f + %fx\" % (c[0], c[1]))\n",
    "plt.legend()\n",
    "plt.title(\"n = %d\" % n)\n",
    "\n",
    "plt.show()"
   ]
  },
  {
   "cell_type": "markdown",
   "metadata": {},
   "source": [
    "c_1 is a constant number of value 1, and c_0 tends to -1/6."
   ]
  },
  {
   "cell_type": "code",
   "execution_count": 33,
   "metadata": {},
   "outputs": [
    {
     "name": "stdout",
     "output_type": "stream",
     "text": [
      "MSE: 0.005633\n",
      "The minimum value of F(c1,c2): 0.005556\n"
     ]
    }
   ],
   "source": [
    "# (c)\n",
    "# Put c_1 = -1/6 and c_2 = 1, by which F(c1, c2) attains its minimum value.\n",
    "# F(c1, c2) calculates the mean-squared-error in terms of an integration for given linear function y = c1 + c2*x.\n",
    "\n",
    "n = 10**5\n",
    "x_i = np.linspace(0, 1, n)\n",
    "error = sum((x_i**2 - f(x_i))**2) / n\n",
    "\n",
    "print(\"MSE: %f\" % error)\n",
    "print(\"The minimum value of F(c1,c2): %f\" % (1/180))"
   ]
  },
  {
   "cell_type": "markdown",
   "metadata": {},
   "source": [
    "### Q. 7"
   ]
  },
  {
   "cell_type": "code",
   "execution_count": 34,
   "metadata": {},
   "outputs": [],
   "source": [
    "x_i = np.linspace(-3, 3, 13)\n",
    "y_i = np.zeros(13)\n",
    "y_i[6] = 1\n",
    "n = 13"
   ]
  },
  {
   "cell_type": "code",
   "execution_count": 35,
   "metadata": {},
   "outputs": [
    {
     "data": {
      "image/png": "[encoded data removed]",
      "text/plain": [
       "<matplotlib.figure.Figure at 0x1a271398eb8>"
      ]
     },
     "metadata": {},
     "output_type": "display_data"
    }
   ],
   "source": [
    "# (a)\n",
    "c = coef(x_i, y_i, 2) # line\n",
    "f = fit(x_i, y_i, 2)\n",
    "\n",
    "x_range = np.linspace(-3, 3, 1000)\n",
    "\n",
    "plt.scatter(x_i, y_i)\n",
    "plt.plot(x_range, f(x_range), c='g', label=\"y = %.4f + %.4fx\" % (c[0], c[1]))\n",
    "plt.legend()\n",
    "plt.show()"
   ]
  },
  {
   "cell_type": "code",
   "execution_count": 36,
   "metadata": {},
   "outputs": [
    {
     "name": "stdout",
     "output_type": "stream",
     "text": [
      "RMSE: 0.266469\n"
     ]
    }
   ],
   "source": [
    "error = np.sqrt(sum((y_i - f(x_i))**2) / n)\n",
    "print(\"RMSE: %f\" % error)"
   ]
  },
  {
   "cell_type": "code",
   "execution_count": 37,
   "metadata": {},
   "outputs": [
    {
     "data": {
      "image/png": "[encoded data removed]",
      "text/plain": [
       "<matplotlib.figure.Figure at 0x1a271686f28>"
      ]
     },
     "metadata": {},
     "output_type": "display_data"
    }
   ],
   "source": [
    "# (b)\n",
    "c = coef(x_i, y_i, 3) # Parabola\n",
    "f = fit(x_i, y_i, 3)\n",
    "\n",
    "x_range = np.linspace(-3, 3, 1000)\n",
    "\n",
    "plt.scatter(x_i, y_i)\n",
    "plt.plot(x_range, f(x_range), c='g', label=\"y = %.4f + %.4fx + %.4fx**2\" % (c[0], c[1], c[2]))\n",
    "plt.legend()\n",
    "plt.show()"
   ]
  },
  {
   "cell_type": "code",
   "execution_count": 38,
   "metadata": {},
   "outputs": [
    {
     "name": "stdout",
     "output_type": "stream",
     "text": [
      "RMSE: 0.251942\n"
     ]
    }
   ],
   "source": [
    "error = np.sqrt(sum((y_i - f(x_i))**2) / n)\n",
    "print(\"RMSE: %f\" % error)"
   ]
  },
  {
   "cell_type": "markdown",
   "metadata": {},
   "source": [
    "### Q. 8"
   ]
  },
  {
   "cell_type": "code",
   "execution_count": 39,
   "metadata": {},
   "outputs": [],
   "source": [
    "def A(n):\n",
    "    hilbert = np.zeros((10, 10))\n",
    "    for i in range(10):\n",
    "        for j in range(10):\n",
    "            hilbert[i, j] = 1/(i+j+1)\n",
    "    return hilbert[:, :n]\n",
    "\n",
    "def c(n):\n",
    "    return np.ones(n)\n",
    "\n",
    "def b(n):\n",
    "    return np.dot(A(n), c(n))"
   ]
  },
  {
   "cell_type": "code",
   "execution_count": 40,
   "metadata": {},
   "outputs": [
    {
     "name": "stdout",
     "output_type": "stream",
     "text": [
      "Ans: [1.0003 0.9993 1.0003 1.0002 0.9996 1.0001]\n",
      "Error: [-0.0003  0.0007 -0.0003 -0.0002  0.0004 -0.0001]\n",
      "Condition number: 6.00484e+12\n"
     ]
    }
   ],
   "source": [
    "# (a)\n",
    "n = 6\n",
    "ans = ls(A(n), b(n))\n",
    "print(\"Ans:\", np.round(ans, 4))\n",
    "print(\"Error:\", np.round(c(n) - ans, 4))\n",
    "print(\"Condition number: %g\" % np.linalg.cond(A(n).T.dot(A(n))))"
   ]
  },
  {
   "cell_type": "code",
   "execution_count": 41,
   "metadata": {},
   "outputs": [
    {
     "name": "stdout",
     "output_type": "stream",
     "text": [
      "Ans: [ 17.9172 -82.4377 151.756  -86.0919 -10.0644  24.8695   1.3728  -3.7132]\n",
      "Error: [ -16.9172   83.4377 -150.756    87.0919   11.0644  -23.8695   -0.3728\n",
      "    4.7132]\n",
      "Condition number: 3.81982e+18\n"
     ]
    }
   ],
   "source": [
    "# (b)\n",
    "n = 8\n",
    "ans = ls(A(n), b(n))\n",
    "print(\"Ans:\", np.round(ans, 4))\n",
    "print(\"Error:\", np.round(c(n) - ans, 4))\n",
    "print(\"Condition number: %g\" % np.linalg.cond(A(n).T.dot(A(n))))"
   ]
  },
  {
   "cell_type": "markdown",
   "metadata": {},
   "source": [
    "### Q. 9"
   ]
  },
  {
   "cell_type": "code",
   "execution_count": 42,
   "metadata": {},
   "outputs": [],
   "source": [
    "x_i = np.linspace(2, 4, 11)"
   ]
  },
  {
   "cell_type": "code",
   "execution_count": 43,
   "metadata": {},
   "outputs": [
    {
     "name": "stdout",
     "output_type": "stream",
     "text": [
      "Ans: [1.00070383 0.99941765 1.00003424 1.00003694 0.99999537 1.00000003]\n",
      "Error: [-7.03833415e-04  5.82354493e-04 -3.42440908e-05 -3.69377667e-05\n",
      "  4.63420292e-06 -3.17859303e-08]\n",
      "Condition number: 2.72427e+13\n"
     ]
    }
   ],
   "source": [
    "# (a)\n",
    "d = 5\n",
    "\n",
    "c = np.ones(d+1) # True value\n",
    "A = np.zeros((d+1, 11))\n",
    "y_i = np.zeros_like(x_i)\n",
    "for i in range(d+1):\n",
    "    y_i += x_i**i\n",
    "    A[i] = x_i**i\n",
    "A = A.T\n",
    "\n",
    "ans = coef(x_i, y_i, d+1)\n",
    "print(\"Ans:\", ans)\n",
    "print(\"Error:\", c - ans)\n",
    "print(\"Condition number: %g\" % np.linalg.cond(A.T.dot(A)))"
   ]
  },
  {
   "cell_type": "code",
   "execution_count": 44,
   "metadata": {},
   "outputs": [
    {
     "name": "stdout",
     "output_type": "stream",
     "text": [
      "Ans: [0.1623305  1.62534039 0.88058878 0.98011266 1.00835583 0.99917589\n",
      " 1.00004143]\n",
      "Error: [ 8.37669495e-01 -6.25340389e-01  1.19411218e-01  1.98873435e-02\n",
      " -8.35583021e-03  8.24111630e-04 -4.14318001e-05]\n",
      "Condition number: 2.53858e+16\n"
     ]
    }
   ],
   "source": [
    "# (b)\n",
    "d = 6\n",
    "\n",
    "c = np.ones(d+1) # True value\n",
    "A = np.zeros((d+1, 11))\n",
    "y_i = np.zeros_like(x_i)\n",
    "for i in range(d+1):\n",
    "    y_i += x_i**i\n",
    "    A[i] = x_i**i\n",
    "A = A.T\n",
    "\n",
    "ans = coef(x_i, y_i, d+1)\n",
    "print(\"Ans:\", ans)\n",
    "print(\"Error:\", c - ans)\n",
    "print(\"Condition number: %g\" % np.linalg.cond(A.T.dot(A)))"
   ]
  },
  {
   "cell_type": "code",
   "execution_count": 45,
   "metadata": {},
   "outputs": [
    {
     "name": "stdout",
     "output_type": "stream",
     "text": [
      "Ans: [ 1.42830156e+05 -2.02866128e+04 -1.57564657e+04  3.98983010e+03\n",
      "  1.67495704e+02 -2.16971947e+02  5.03519966e+01 -4.09293533e+00\n",
      "  1.18848592e+00]\n",
      "Error: [-1.42829156e+05  2.02876128e+04  1.57574657e+04 -3.98883010e+03\n",
      " -1.66495704e+02  2.17971947e+02 -4.93519966e+01  5.09293533e+00\n",
      " -1.88485922e-01]\n",
      "Condition number: 1.41537e+19\n"
     ]
    }
   ],
   "source": [
    "# (c)\n",
    "d = 8\n",
    "\n",
    "c = np.ones(d+1) # True value\n",
    "A = np.zeros((d+1, 11))\n",
    "y_i = np.zeros_like(x_i)\n",
    "for i in range(d+1):\n",
    "    y_i += x_i**i\n",
    "    A[i] = x_i**i\n",
    "A = A.T\n",
    "\n",
    "ans = coef(x_i, y_i, d+1)\n",
    "print(\"Ans:\", ans)\n",
    "print(\"Error:\", c - ans)\n",
    "print(\"Condition number: %g\" % np.linalg.cond(A.T.dot(A)))"
   ]
  },
  {
   "cell_type": "markdown",
   "metadata": {},
   "source": [
    "### Q. 10"
   ]
  },
  {
   "cell_type": "code",
   "execution_count": 46,
   "metadata": {},
   "outputs": [],
   "source": [
    "income = np.array([1.49, 3.03, 0.57, 5.74, 3.51, 3.73, 2.98, -0.18, 6.23, 3.38, 2.15, 2.10, 3.93, 2.47, -0.41])\n",
    "vote = np.array([44.6, 57.8, 49.9, 61.3, 49.6, 61.8, 49.0, 44.7, 59.2, 53.9, 46.5, 54.7, 50.3, 51.2, 45.7])"
   ]
  },
  {
   "cell_type": "code",
   "execution_count": 47,
   "metadata": {
    "scrolled": true
   },
   "outputs": [
    {
     "data": {
      "image/png": "[encoded data removed]",
      "text/plain": [
       "<matplotlib.figure.Figure at 0x1a272725208>"
      ]
     },
     "metadata": {},
     "output_type": "display_data"
    }
   ],
   "source": [
    "f = fit(income, vote, 2)\n",
    "c = coef(income, vote, 2)\n",
    "\n",
    "x_range = np.linspace(income.min(), income.max(), 1000)\n",
    "\n",
    "plt.scatter(income, vote)\n",
    "plt.plot(x_range, f(x_range), c='g', label=\"%.4f + %.4fx\" % (c[0], c[1]))\n",
    "plt.legend()\n",
    "plt.show()"
   ]
  },
  {
   "cell_type": "markdown",
   "metadata": {},
   "source": [
    "Incumbent party may expect 2.34% points of additional vote as personal income increases 1%."
   ]
  }
 ],
 "metadata": {
  "kernelspec": {
   "display_name": "Python 3",
   "language": "python",
   "name": "python3"
  },
  "language_info": {
   "codemirror_mode": {
    "name": "ipython",
    "version": 3
   },
   "file_extension": ".py",
   "mimetype": "text/x-python",
   "name": "python",
   "nbconvert_exporter": "python",
   "pygments_lexer": "ipython3",
   "version": "3.6.4"
  }
 },
 "nbformat": 4,
 "nbformat_minor": 2
}

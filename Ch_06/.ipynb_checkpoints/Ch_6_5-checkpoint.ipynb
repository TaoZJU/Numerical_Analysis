{
 "cells": [
  {
   "cell_type": "code",
   "execution_count": 1,
   "metadata": {},
   "outputs": [],
   "source": [
    "import numpy as np\n",
    "from numpy import pi, log, exp, sqrt, sin, arcsin, sinh, cos, tan, arctan, tanh, arctanh\n",
    "import matplotlib.pyplot as plt\n",
    "from pandas import DataFrame as DF\n",
    "\n",
    "%matplotlib inline"
   ]
  },
  {
   "cell_type": "markdown",
   "metadata": {},
   "source": [
    "# Chapter 6<br>Ordinary Differential Equations"
   ]
  },
  {
   "cell_type": "markdown",
   "metadata": {},
   "source": [
    "## 6.5 Variable Step-Size Methods"
   ]
  },
  {
   "cell_type": "code",
   "execution_count": 2,
   "metadata": {},
   "outputs": [],
   "source": [
    "def RK23(f, a, b, tol, y_0):\n",
    "    p = 4\n",
    "    h = b - a\n",
    "    \n",
    "    t_i = a\n",
    "    w_i = np.array(y_0)\n",
    "    t = [t_i]\n",
    "    w = [w_i]\n",
    "        \n",
    "    while t_i < b:\n",
    "        s_1 = f(t_i, w_i)\n",
    "        s_2 = f(t_i + h, w_i + h*s_1)\n",
    "        s_3 = f(t_i + h/2, w_i + h*(s_1 + s_2)/4)\n",
    "\n",
    "        w_ii = w_i + h*(s_1 + s_2)/2\n",
    "        z_ii = w_i + h*(s_1 + 4*s_3 + s_2)/6\n",
    "        e_i = abs(w_ii - z_ii)\n",
    "        \n",
    "        rel_error = abs(np.max(e_i / w_ii))\n",
    "        if rel_error > tol:\n",
    "            h = 0.8*pow(tol / rel_error, 1/(p+1)) * h\n",
    "            continue\n",
    "        elif t_i + h > b:\n",
    "            h = b - t_i\n",
    "            continue\n",
    "        elif (rel_error < tol/10) & (t_i + h < b):\n",
    "            h *= 2\n",
    "            continue\n",
    "\n",
    "        t_i += h\n",
    "        w_i = z_ii\n",
    "        t.append(t_i)\n",
    "        w.append(w_i)\n",
    "    \n",
    "    return t, np.array(w).T"
   ]
  },
  {
   "cell_type": "code",
   "execution_count": 3,
   "metadata": {},
   "outputs": [],
   "source": [
    "def RKF45(f, a, b, tol, y_0):\n",
    "    h = b - a\n",
    "    \n",
    "    t_i = a\n",
    "    w_i = np.array(y_0)\n",
    "    t = [t_i]\n",
    "    w = [w_i]\n",
    "    doubled = False\n",
    "        \n",
    "    while t_i < b:\n",
    "        s_1 = f(t_i, w_i)\n",
    "        s_2 = f(t_i + h/4, w_i + h*s_1/4)\n",
    "        s_3 = f(t_i + h*3/8, w_i + h*s_1*3/32 + h*s_2*9/32)\n",
    "        s_4 = f(t_i + h*12/13, w_i + h*s_1*1932/2197 - h*s_2*7200/2197 + \n",
    "                h*s_3*7296/2197)\n",
    "        s_5 = f(t_i + h, w_i + h*s_1*439/216 - h*s_2*8 + h*s_3*3680/513 -\n",
    "               h*s_4*845/4104)\n",
    "        s_6 = f(t_i + h/2, w_i - h*s_1*8/27 + h*s_2*2 - h*s_3*3544/2565 + \n",
    "               h*s_4*1859/4104 - h*s_5*11/40)\n",
    "\n",
    "        w_ii = w_i + h*(s_1*25/216 + s_3*1408/2565 + s_4*2197/4104 - s_5/5)\n",
    "        z_ii = w_i + h*(s_1*16/135 + s_3*6656/12825 + s_4*28561/56430 -\n",
    "                        s_5*9/50 + s_6*2/55)\n",
    "        e_ii = abs(w_ii - z_ii)\n",
    "        \n",
    "        rel_error = abs(np.max(e_ii / w_ii))\n",
    "        if doubled:\n",
    "            doubled = False\n",
    "            pass\n",
    "        elif rel_error > tol:\n",
    "            h *= 0.8 * pow(tol / rel_error, 1/5)\n",
    "            continue\n",
    "        elif t_i + h > b:\n",
    "            h = b - t_i\n",
    "            continue\n",
    "\n",
    "        t_i += h\n",
    "        w_i = z_ii\n",
    "        t.append(t_i)\n",
    "        w.append(w_i)\n",
    "        \n",
    "        if (rel_error < tol/10) & (t_i + h < b):\n",
    "            h *= 2\n",
    "            doubled = True\n",
    "    \n",
    "    return t, np.array(w).T"
   ]
  },
  {
   "cell_type": "markdown",
   "metadata": {},
   "source": [
    "### Q. 1"
   ]
  },
  {
   "cell_type": "code",
   "execution_count": 4,
   "metadata": {},
   "outputs": [],
   "source": [
    "tol = 1e-8\n",
    "a, b = 0, 1\n",
    "y_0 = 0\n",
    "\n",
    "t_list = np.linspace(0, 1, 101)"
   ]
  },
  {
   "cell_type": "code",
   "execution_count": 5,
   "metadata": {},
   "outputs": [],
   "source": [
    "# (a)\n",
    "def f(t, y):\n",
    "    return t + y\n",
    "\n",
    "def exact_sol(t):\n",
    "    return exp(t) - t - 1"
   ]
  },
  {
   "cell_type": "code",
   "execution_count": 6,
   "metadata": {
    "scrolled": false
   },
   "outputs": [
    {
     "data": {
      "image/png": "[encoded data removed]",
      "text/plain": [
       "<Figure size 432x288 with 1 Axes>"
      ]
     },
     "metadata": {},
     "output_type": "display_data"
    }
   ],
   "source": [
    "plt.figure()\n",
    "\n",
    "true_value = exact_sol(t_list)\n",
    "plt.plot(t_list, true_value, label='$e^t - t - 1$')\n",
    "\n",
    "t, w = RK23(f, a, b, tol , y_0)\n",
    "plt.plot(t, w, label=\"RK23\")\n",
    "    \n",
    "plt.legend()\n",
    "plt.show()"
   ]
  },
  {
   "cell_type": "code",
   "execution_count": 7,
   "metadata": {},
   "outputs": [
    {
     "name": "stdout",
     "output_type": "stream",
     "text": [
      "Number of steps needed: 1559\n",
      "Maximum step size used: 0.001775\n"
     ]
    }
   ],
   "source": [
    "t = np.array(t)\n",
    "max_step_size = max(t[1:] - t[:-1])\n",
    "\n",
    "print(\"Number of steps needed: %d\" % len(t))\n",
    "print(\"Maximum step size used: %f\" % max_step_size)"
   ]
  },
  {
   "cell_type": "code",
   "execution_count": 8,
   "metadata": {},
   "outputs": [],
   "source": [
    "# (b)\n",
    "def f(t, y):\n",
    "    return t - y\n",
    "\n",
    "def exact_sol(t):\n",
    "    return exp(-t) + t - 1"
   ]
  },
  {
   "cell_type": "code",
   "execution_count": 9,
   "metadata": {
    "scrolled": false
   },
   "outputs": [
    {
     "data": {
      "image/png": "[encoded data removed]",
      "text/plain": [
       "<Figure size 432x288 with 1 Axes>"
      ]
     },
     "metadata": {},
     "output_type": "display_data"
    }
   ],
   "source": [
    "plt.figure()\n",
    "\n",
    "true_value = exact_sol(t_list)\n",
    "plt.plot(t_list, true_value, label='$exp(-t) + t - 1$')\n",
    "\n",
    "t, w = RK23(f, a, b, tol , y_0)\n",
    "plt.plot(t, w, label=\"RK23\")\n",
    "    \n",
    "plt.legend()\n",
    "plt.show()"
   ]
  },
  {
   "cell_type": "code",
   "execution_count": 10,
   "metadata": {},
   "outputs": [
    {
     "name": "stdout",
     "output_type": "stream",
     "text": [
      "Number of steps needed: 1431\n",
      "Maximum step size used: 0.003551\n"
     ]
    }
   ],
   "source": [
    "t = np.array(t)\n",
    "max_step_size = max(t[1:] - t[:-1])\n",
    "\n",
    "print(\"Number of steps needed: %d\" % len(t))\n",
    "print(\"Maximum step size used: %f\" % max_step_size)"
   ]
  },
  {
   "cell_type": "code",
   "execution_count": 11,
   "metadata": {},
   "outputs": [],
   "source": [
    "# (c)\n",
    "def f(t, y):\n",
    "    return 4*t - 2*y\n",
    "\n",
    "def exact_sol(t):\n",
    "    return exp(-2*t) + 2*t - 1"
   ]
  },
  {
   "cell_type": "code",
   "execution_count": 12,
   "metadata": {
    "scrolled": false
   },
   "outputs": [
    {
     "data": {
      "image/png": "[encoded data removed]",
      "text/plain": [
       "<Figure size 432x288 with 1 Axes>"
      ]
     },
     "metadata": {},
     "output_type": "display_data"
    }
   ],
   "source": [
    "plt.figure()\n",
    "\n",
    "true_value = exact_sol(t_list)\n",
    "plt.plot(t_list, true_value, label='$exp(-2t) + 2t - 1$')\n",
    "\n",
    "t, w = RK23(f, a, b, tol , y_0)\n",
    "plt.plot(t, w, label=\"RK23\")\n",
    "    \n",
    "plt.legend()\n",
    "plt.show()"
   ]
  },
  {
   "cell_type": "code",
   "execution_count": 13,
   "metadata": {},
   "outputs": [
    {
     "name": "stdout",
     "output_type": "stream",
     "text": [
      "Number of steps needed: 1705\n",
      "Maximum step size used: 0.001844\n"
     ]
    }
   ],
   "source": [
    "t = np.array(t)\n",
    "max_step_size = max(t[1:] - t[:-1])\n",
    "\n",
    "print(\"Number of steps needed: %d\" % len(t))\n",
    "print(\"Maximum step size used: %f\" % max_step_size)"
   ]
  },
  {
   "cell_type": "markdown",
   "metadata": {},
   "source": [
    "### Q. 2"
   ]
  },
  {
   "cell_type": "code",
   "execution_count": 14,
   "metadata": {},
   "outputs": [],
   "source": [
    "# Omit."
   ]
  },
  {
   "cell_type": "markdown",
   "metadata": {},
   "source": [
    "### Q. 3"
   ]
  },
  {
   "cell_type": "code",
   "execution_count": 15,
   "metadata": {},
   "outputs": [],
   "source": [
    "tol = 1e-8\n",
    "a, b = 0, 1\n",
    "y_0 = 0\n",
    "\n",
    "t_list = np.linspace(0, 1, 101)"
   ]
  },
  {
   "cell_type": "code",
   "execution_count": 16,
   "metadata": {},
   "outputs": [],
   "source": [
    "# (a)\n",
    "def f(t, y):\n",
    "    return t + y\n",
    "\n",
    "def exact_sol(t):\n",
    "    return exp(t) - t - 1"
   ]
  },
  {
   "cell_type": "code",
   "execution_count": 17,
   "metadata": {
    "scrolled": false
   },
   "outputs": [
    {
     "data": {
      "image/png": "[encoded data removed]",
      "text/plain": [
       "<Figure size 432x288 with 1 Axes>"
      ]
     },
     "metadata": {},
     "output_type": "display_data"
    }
   ],
   "source": [
    "plt.figure()\n",
    "\n",
    "true_value = exact_sol(t_list)\n",
    "plt.plot(t_list, true_value, label='$e^t - t - 1$')\n",
    "\n",
    "t, w = RKF45(f, a, b, tol , y_0)\n",
    "plt.plot(t, w, label=\"RKF45\")\n",
    "    \n",
    "plt.legend()\n",
    "plt.show()"
   ]
  },
  {
   "cell_type": "code",
   "execution_count": 18,
   "metadata": {},
   "outputs": [
    {
     "name": "stdout",
     "output_type": "stream",
     "text": [
      "Number of steps needed: 27\n",
      "Maximum step size used: 0.089024\n"
     ]
    }
   ],
   "source": [
    "t = np.array(t)\n",
    "max_step_size = max(t[1:] - t[:-1])\n",
    "\n",
    "print(\"Number of steps needed: %d\" % len(t))\n",
    "print(\"Maximum step size used: %f\" % max_step_size)"
   ]
  },
  {
   "cell_type": "code",
   "execution_count": 19,
   "metadata": {},
   "outputs": [],
   "source": [
    "# (b)\n",
    "def f(t, y):\n",
    "    return t - y\n",
    "\n",
    "def exact_sol(t):\n",
    "    return exp(-t) + t - 1"
   ]
  },
  {
   "cell_type": "code",
   "execution_count": 20,
   "metadata": {
    "scrolled": false
   },
   "outputs": [
    {
     "data": {
      "image/png": "[encoded data removed]",
      "text/plain": [
       "<Figure size 432x288 with 1 Axes>"
      ]
     },
     "metadata": {},
     "output_type": "display_data"
    }
   ],
   "source": [
    "plt.figure()\n",
    "\n",
    "true_value = exact_sol(t_list)\n",
    "plt.plot(t_list, true_value, label='$exp(-t) + t - 1$')\n",
    "\n",
    "t, w = RKF45(f, a, b, tol , y_0)\n",
    "plt.plot(t, w, label=\"RKF45\")\n",
    "    \n",
    "plt.legend()\n",
    "plt.show()"
   ]
  },
  {
   "cell_type": "code",
   "execution_count": 21,
   "metadata": {},
   "outputs": [
    {
     "name": "stdout",
     "output_type": "stream",
     "text": [
      "Number of steps needed: 25\n",
      "Maximum step size used: 0.086944\n"
     ]
    }
   ],
   "source": [
    "t = np.array(t)\n",
    "max_step_size = max(t[1:] - t[:-1])\n",
    "\n",
    "print(\"Number of steps needed: %d\" % len(t))\n",
    "print(\"Maximum step size used: %f\" % max_step_size)"
   ]
  },
  {
   "cell_type": "code",
   "execution_count": 22,
   "metadata": {},
   "outputs": [],
   "source": [
    "# (c)\n",
    "def f(t, y):\n",
    "    return 4*t - 2*y\n",
    "\n",
    "def exact_sol(t):\n",
    "    return exp(-2*t) + 2*t - 1"
   ]
  },
  {
   "cell_type": "code",
   "execution_count": 23,
   "metadata": {
    "scrolled": false
   },
   "outputs": [
    {
     "data": {
      "image/png": "[encoded data removed]",
      "text/plain": [
       "<Figure size 432x288 with 1 Axes>"
      ]
     },
     "metadata": {},
     "output_type": "display_data"
    }
   ],
   "source": [
    "plt.figure()\n",
    "\n",
    "true_value = exact_sol(t_list)\n",
    "plt.plot(t_list, true_value, label='$exp(-2t) + 2t - 1$')\n",
    "\n",
    "t, w = RKF45(f, a, b, tol , y_0)\n",
    "plt.plot(t, w, label=\"RKF45\")\n",
    "    \n",
    "plt.legend()\n",
    "plt.show()"
   ]
  },
  {
   "cell_type": "code",
   "execution_count": 24,
   "metadata": {
    "scrolled": true
   },
   "outputs": [
    {
     "name": "stdout",
     "output_type": "stream",
     "text": [
      "Number of steps needed: 36\n",
      "Maximum step size used: 0.064268\n"
     ]
    }
   ],
   "source": [
    "t = np.array(t)\n",
    "max_step_size = max(t[1:] - t[:-1])\n",
    "\n",
    "print(\"Number of steps needed: %d\" % len(t))\n",
    "print(\"Maximum step size used: %f\" % max_step_size)"
   ]
  },
  {
   "cell_type": "markdown",
   "metadata": {},
   "source": [
    "### Q. 4"
   ]
  },
  {
   "cell_type": "code",
   "execution_count": 25,
   "metadata": {},
   "outputs": [],
   "source": [
    "# Omit."
   ]
  },
  {
   "cell_type": "markdown",
   "metadata": {},
   "source": [
    "### Q. 5"
   ]
  },
  {
   "cell_type": "code",
   "execution_count": 26,
   "metadata": {},
   "outputs": [],
   "source": [
    "tol = 1e-6\n",
    "a, b = 0, 1\n",
    "\n",
    "t_list = np.linspace(0, 1, 101)"
   ]
  },
  {
   "cell_type": "code",
   "execution_count": 27,
   "metadata": {},
   "outputs": [],
   "source": [
    "# (a)\n",
    "y_0 = (1, 0)\n",
    "\n",
    "def f(t, y):\n",
    "    y1, y2 = y\n",
    "    return np.array([y1 + y2, -y1 + y2])\n",
    "\n",
    "def exact_sol(t):\n",
    "    return np.array([exp(t)*cos(t), -exp(t)*sin(t)])"
   ]
  },
  {
   "cell_type": "code",
   "execution_count": 28,
   "metadata": {},
   "outputs": [
    {
     "data": {
      "image/png": "[encoded data removed]",
      "text/plain": [
       "<Figure size 432x288 with 1 Axes>"
      ]
     },
     "metadata": {},
     "output_type": "display_data"
    }
   ],
   "source": [
    "t, y = RKF45(f, a, b, tol, y_0)\n",
    "\n",
    "plt.plot(t, y[0], label=\"RKF45\")\n",
    "plt.plot(t, y[1], label=\"RKF45\")\n",
    "plt.plot(t_list, exact_sol(t_list)[0], label=\"Exact $y_1$\")\n",
    "plt.plot(t_list, exact_sol(t_list)[1], label=\"Exact $y_2$\")\n",
    "plt.legend()\n",
    "\n",
    "plt.show()"
   ]
  },
  {
   "cell_type": "code",
   "execution_count": 29,
   "metadata": {},
   "outputs": [
    {
     "name": "stdout",
     "output_type": "stream",
     "text": [
      "Number of steps needed: 8\n",
      "Maximum step size used: 0.156336\n"
     ]
    }
   ],
   "source": [
    "t = np.array(t)\n",
    "max_step_size = max(t[1:] - t[:-1])\n",
    "\n",
    "print(\"Number of steps needed: %d\" % len(t))\n",
    "print(\"Maximum step size used: %f\" % max_step_size)"
   ]
  },
  {
   "cell_type": "code",
   "execution_count": 30,
   "metadata": {},
   "outputs": [],
   "source": [
    "# (b)\n",
    "y_0 = (1, 0)\n",
    "\n",
    "def f(t, y):\n",
    "    y1, y2 = y\n",
    "    return np.array([-y1 - y2, y1 - y2])\n",
    "\n",
    "def exact_sol(t):\n",
    "    return np.array([exp(-t)*cos(t), exp(-t)*sin(t)])"
   ]
  },
  {
   "cell_type": "code",
   "execution_count": 31,
   "metadata": {},
   "outputs": [
    {
     "data": {
      "image/png": "[encoded data removed]",
      "text/plain": [
       "<Figure size 432x288 with 1 Axes>"
      ]
     },
     "metadata": {},
     "output_type": "display_data"
    }
   ],
   "source": [
    "t, y = RKF45(f, a, b, tol, y_0)\n",
    "\n",
    "plt.plot(t, y[0], label=\"RKF45\")\n",
    "plt.plot(t, y[1], label=\"RKF45\")\n",
    "plt.plot(t_list, exact_sol(t_list)[0], label=\"Exact $y_1$\")\n",
    "plt.plot(t_list, exact_sol(t_list)[1], label=\"Exact $y_2$\")\n",
    "plt.legend()\n",
    "\n",
    "plt.show()"
   ]
  },
  {
   "cell_type": "code",
   "execution_count": 32,
   "metadata": {},
   "outputs": [
    {
     "name": "stdout",
     "output_type": "stream",
     "text": [
      "Number of steps needed: 10\n",
      "Maximum step size used: 0.202977\n"
     ]
    }
   ],
   "source": [
    "t = np.array(t)\n",
    "max_step_size = max(t[1:] - t[:-1])\n",
    "\n",
    "print(\"Number of steps needed: %d\" % len(t))\n",
    "print(\"Maximum step size used: %f\" % max_step_size)"
   ]
  },
  {
   "cell_type": "code",
   "execution_count": 33,
   "metadata": {},
   "outputs": [],
   "source": [
    "# (c)\n",
    "y_0 = (1, 0)\n",
    "\n",
    "def f(t, y):\n",
    "    y1, y2 = y\n",
    "    return np.array([-y2, y1])\n",
    "\n",
    "def exact_sol(t):\n",
    "    return np.array([cos(t), sin(t)])"
   ]
  },
  {
   "cell_type": "code",
   "execution_count": 34,
   "metadata": {},
   "outputs": [
    {
     "data": {
      "image/png": "[encoded data removed]",
      "text/plain": [
       "<Figure size 432x288 with 1 Axes>"
      ]
     },
     "metadata": {},
     "output_type": "display_data"
    }
   ],
   "source": [
    "t, y = RKF45(f, a, b, tol, y_0)\n",
    "\n",
    "plt.plot(t, y[0], label=\"RKF45\")\n",
    "plt.plot(t, y[1], label=\"RKF45\")\n",
    "plt.plot(t_list, exact_sol(t_list)[0], label=\"Exact $y_1$\")\n",
    "plt.plot(t_list, exact_sol(t_list)[1], label=\"Exact $y_2$\")\n",
    "plt.legend()\n",
    "\n",
    "plt.show()"
   ]
  },
  {
   "cell_type": "code",
   "execution_count": 35,
   "metadata": {},
   "outputs": [
    {
     "name": "stdout",
     "output_type": "stream",
     "text": [
      "Number of steps needed: 8\n",
      "Maximum step size used: 0.272507\n"
     ]
    }
   ],
   "source": [
    "t = np.array(t)\n",
    "max_step_size = max(t[1:] - t[:-1])\n",
    "\n",
    "print(\"Number of steps needed: %d\" % len(t))\n",
    "print(\"Maximum step size used: %f\" % max_step_size)"
   ]
  },
  {
   "cell_type": "code",
   "execution_count": 36,
   "metadata": {},
   "outputs": [],
   "source": [
    "# (d)\n",
    "y_0 = (5, 0)\n",
    "\n",
    "def f(t, y):\n",
    "    y1, y2 = y\n",
    "    return np.array([y1 + 3*y2, 2*y1 + 2*y2])\n",
    "\n",
    "def exact_sol(t):\n",
    "    return np.array([3*exp(-t) + 2*exp(4*t), -2*exp(-t) + 2*exp(4*t)])"
   ]
  },
  {
   "cell_type": "code",
   "execution_count": 37,
   "metadata": {
    "scrolled": true
   },
   "outputs": [
    {
     "data": {
      "image/png": "[encoded data removed]",
      "text/plain": [
       "<Figure size 432x288 with 1 Axes>"
      ]
     },
     "metadata": {},
     "output_type": "display_data"
    }
   ],
   "source": [
    "t, y = RKF45(f, a, b, tol, y_0)\n",
    "\n",
    "plt.plot(t, y[0], label=\"RKF45\")\n",
    "plt.plot(t, y[1], label=\"RKF45\")\n",
    "plt.plot(t_list, exact_sol(t_list)[0], label=\"Exact $y_1$\")\n",
    "plt.plot(t_list, exact_sol(t_list)[1], label=\"Exact $y_2$\")\n",
    "plt.legend()\n",
    "\n",
    "plt.show()"
   ]
  },
  {
   "cell_type": "code",
   "execution_count": 38,
   "metadata": {},
   "outputs": [
    {
     "name": "stdout",
     "output_type": "stream",
     "text": [
      "Number of steps needed: 23\n",
      "Maximum step size used: 0.073430\n"
     ]
    }
   ],
   "source": [
    "t = np.array(t)\n",
    "max_step_size = max(t[1:] - t[:-1])\n",
    "\n",
    "print(\"Number of steps needed: %d\" % len(t))\n",
    "print(\"Maximum step size used: %f\" % max_step_size)"
   ]
  }
 ],
 "metadata": {
  "kernelspec": {
   "display_name": "Python 3",
   "language": "python",
   "name": "python3"
  },
  "language_info": {
   "codemirror_mode": {
    "name": "ipython",
    "version": 3
   },
   "file_extension": ".py",
   "mimetype": "text/x-python",
   "name": "python",
   "nbconvert_exporter": "python",
   "pygments_lexer": "ipython3",
   "version": "3.6.5"
  }
 },
 "nbformat": 4,
 "nbformat_minor": 2
}
